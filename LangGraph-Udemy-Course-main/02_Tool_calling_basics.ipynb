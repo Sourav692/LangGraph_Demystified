{
 "cells": [
  {
   "cell_type": "code",
   "execution_count": 1,
   "metadata": {},
   "outputs": [
    {
     "data": {
      "text/plain": [
       "True"
      ]
     },
     "execution_count": 1,
     "metadata": {},
     "output_type": "execute_result"
    }
   ],
   "source": [
    "from dotenv import load_dotenv, find_dotenv\n",
    "\n",
    "load_dotenv(find_dotenv())"
   ]
  },
  {
   "cell_type": "code",
   "execution_count": 2,
   "metadata": {},
   "outputs": [],
   "source": [
    "from langchain_openai import ChatOpenAI\n",
    "\n",
    "llm = ChatOpenAI()"
   ]
  },
  {
   "cell_type": "code",
   "execution_count": 3,
   "metadata": {},
   "outputs": [
    {
     "data": {
      "text/plain": [
       "AIMessage(content=\"I'm sorry, I am not able to provide real-time weather information. I recommend checking a reliable weather website or app for up-to-date weather information for Munich.\", additional_kwargs={'refusal': None}, response_metadata={'token_usage': {'completion_tokens': 33, 'prompt_tokens': 17, 'total_tokens': 50, 'completion_tokens_details': {'accepted_prediction_tokens': 0, 'audio_tokens': 0, 'reasoning_tokens': 0, 'rejected_prediction_tokens': 0}, 'prompt_tokens_details': {'audio_tokens': 0, 'cached_tokens': 0}}, 'model_name': 'gpt-3.5-turbo-0125', 'system_fingerprint': None, 'id': 'chatcmpl-C0V8nw4qsWuI8KgGY86u06AVnAQEr', 'service_tier': 'default', 'finish_reason': 'stop', 'logprobs': None}, id='run--6ca766d7-aa84-43f4-8645-b2ea8b3a984e-0', usage_metadata={'input_tokens': 17, 'output_tokens': 33, 'total_tokens': 50, 'input_token_details': {'audio': 0, 'cache_read': 0}, 'output_token_details': {'audio': 0, 'reasoning': 0}})"
      ]
     },
     "execution_count": 3,
     "metadata": {},
     "output_type": "execute_result"
    }
   ],
   "source": [
    "llm.invoke(\"How will the weather be in munich today?\")"
   ]
  },
  {
   "cell_type": "code",
   "execution_count": 4,
   "metadata": {},
   "outputs": [],
   "source": [
    "from langchain_core.tools import tool\n",
    "\n",
    "\n",
    "@tool\n",
    "def get_weather(location: str):\n",
    "    \"\"\"Call to get the current weather.\"\"\"\n",
    "    if location.lower() in [\"munich\"]:\n",
    "        return \"It's 15 degrees Celsius and cloudy.\"\n",
    "    else:\n",
    "        return \"It's 32 degrees Celsius and sunny.\"\n",
    "\n",
    "\n",
    "@tool\n",
    "def check_seating_availability(location: str, seating_type: str):\n",
    "    \"\"\"Call to check seating availability.\"\"\"\n",
    "    if location.lower() == \"munich\" and seating_type.lower() == \"outdoor\":\n",
    "        return \"Yes, we still have seats available outdoors.\"\n",
    "    elif location.lower() == \"munich\" and seating_type.lower() == \"indoor\":\n",
    "        return \"Yes, we have indoor seating available.\"\n",
    "    else:\n",
    "        return \"Sorry, seating information for this location is unavailable.\"\n",
    "\n",
    "\n",
    "tools = [get_weather, check_seating_availability]"
   ]
  },
  {
   "cell_type": "code",
   "execution_count": 5,
   "metadata": {},
   "outputs": [],
   "source": [
    "llm_with_tools = llm.bind_tools(tools)"
   ]
  },
  {
   "cell_type": "code",
   "execution_count": 6,
   "metadata": {},
   "outputs": [
    {
     "data": {
      "text/plain": [
       "AIMessage(content='', additional_kwargs={'tool_calls': [{'id': 'call_mG5qGlssAcevim7OBTYcecHn', 'function': {'arguments': '{\"location\":\"munich\"}', 'name': 'get_weather'}, 'type': 'function'}], 'refusal': None}, response_metadata={'token_usage': {'completion_tokens': 15, 'prompt_tokens': 84, 'total_tokens': 99, 'completion_tokens_details': {'accepted_prediction_tokens': 0, 'audio_tokens': 0, 'reasoning_tokens': 0, 'rejected_prediction_tokens': 0}, 'prompt_tokens_details': {'audio_tokens': 0, 'cached_tokens': 0}}, 'model_name': 'gpt-3.5-turbo-0125', 'system_fingerprint': None, 'id': 'chatcmpl-C0V8vSad3eLfWVPzvYAWE7NIgkE8D', 'service_tier': 'default', 'finish_reason': 'tool_calls', 'logprobs': None}, id='run--2ec066fe-d9a3-4980-a446-f6c7c222c5f5-0', tool_calls=[{'name': 'get_weather', 'args': {'location': 'munich'}, 'id': 'call_mG5qGlssAcevim7OBTYcecHn', 'type': 'tool_call'}], usage_metadata={'input_tokens': 84, 'output_tokens': 15, 'total_tokens': 99, 'input_token_details': {'audio': 0, 'cache_read': 0}, 'output_token_details': {'audio': 0, 'reasoning': 0}})"
      ]
     },
     "execution_count": 6,
     "metadata": {},
     "output_type": "execute_result"
    }
   ],
   "source": [
    "result = llm_with_tools.invoke(\"How will the weather be in munich today?\")\n",
    "result"
   ]
  },
  {
   "cell_type": "code",
   "execution_count": 7,
   "metadata": {},
   "outputs": [
    {
     "data": {
      "text/plain": [
       "[{'name': 'get_weather',\n",
       "  'args': {'location': 'munich'},\n",
       "  'id': 'call_mG5qGlssAcevim7OBTYcecHn',\n",
       "  'type': 'tool_call'}]"
      ]
     },
     "execution_count": 7,
     "metadata": {},
     "output_type": "execute_result"
    }
   ],
   "source": [
    "result.tool_calls"
   ]
  },
  {
   "cell_type": "code",
   "execution_count": 8,
   "metadata": {},
   "outputs": [
    {
     "data": {
      "text/plain": [
       "AIMessage(content='', additional_kwargs={'tool_calls': [{'id': 'call_tkPgTIMpnA375S6MFJ5DAf7P', 'function': {'arguments': '{\"location\": \"munich\"}', 'name': 'get_weather'}, 'type': 'function'}, {'id': 'call_SYT8YsA91xVA10Z9RG7pbJlc', 'function': {'arguments': '{\"location\": \"munich\", \"seating_type\": \"outdoor\"}', 'name': 'check_seating_availability'}, 'type': 'function'}], 'refusal': None}, response_metadata={'token_usage': {'completion_tokens': 55, 'prompt_tokens': 92, 'total_tokens': 147, 'completion_tokens_details': {'accepted_prediction_tokens': 0, 'audio_tokens': 0, 'reasoning_tokens': 0, 'rejected_prediction_tokens': 0}, 'prompt_tokens_details': {'audio_tokens': 0, 'cached_tokens': 0}}, 'model_name': 'gpt-3.5-turbo-0125', 'system_fingerprint': None, 'id': 'chatcmpl-C0V8yLmsesaUHogUj7CpSVmUFfwKO', 'service_tier': 'default', 'finish_reason': 'tool_calls', 'logprobs': None}, id='run--93d5ca4c-f049-44e4-99a9-0e6d495718d7-0', tool_calls=[{'name': 'get_weather', 'args': {'location': 'munich'}, 'id': 'call_tkPgTIMpnA375S6MFJ5DAf7P', 'type': 'tool_call'}, {'name': 'check_seating_availability', 'args': {'location': 'munich', 'seating_type': 'outdoor'}, 'id': 'call_SYT8YsA91xVA10Z9RG7pbJlc', 'type': 'tool_call'}], usage_metadata={'input_tokens': 92, 'output_tokens': 55, 'total_tokens': 147, 'input_token_details': {'audio': 0, 'cache_read': 0}, 'output_token_details': {'audio': 0, 'reasoning': 0}})"
      ]
     },
     "execution_count": 8,
     "metadata": {},
     "output_type": "execute_result"
    }
   ],
   "source": [
    "result = llm_with_tools.invoke(\n",
    "    \"How will the weather be in munich today? Do you still have seats outdoor available?\"\n",
    ")\n",
    "result"
   ]
  },
  {
   "cell_type": "code",
   "execution_count": 9,
   "metadata": {},
   "outputs": [
    {
     "data": {
      "text/plain": [
       "[{'name': 'get_weather',\n",
       "  'args': {'location': 'munich'},\n",
       "  'id': 'call_tkPgTIMpnA375S6MFJ5DAf7P',\n",
       "  'type': 'tool_call'},\n",
       " {'name': 'check_seating_availability',\n",
       "  'args': {'location': 'munich', 'seating_type': 'outdoor'},\n",
       "  'id': 'call_SYT8YsA91xVA10Z9RG7pbJlc',\n",
       "  'type': 'tool_call'}]"
      ]
     },
     "execution_count": 9,
     "metadata": {},
     "output_type": "execute_result"
    }
   ],
   "source": [
    "result.tool_calls"
   ]
  },
  {
   "cell_type": "code",
   "execution_count": 10,
   "metadata": {},
   "outputs": [],
   "source": [
    "from langchain_core.messages import HumanMessage, ToolMessage\n",
    "\n",
    "messages = [\n",
    "    HumanMessage(\n",
    "        \"How will the weather be in munich today? Do you still have seats outdoor available?\"\n",
    "    )\n",
    "]\n",
    "llm_output = llm_with_tools.invoke(messages)\n",
    "messages.append(llm_output)"
   ]
  },
  {
   "cell_type": "code",
   "execution_count": 11,
   "metadata": {},
   "outputs": [
    {
     "data": {
      "text/plain": [
       "[HumanMessage(content='How will the weather be in munich today? Do you still have seats outdoor available?', additional_kwargs={}, response_metadata={}),\n",
       " AIMessage(content='', additional_kwargs={'tool_calls': [{'id': 'call_n36znu5J5fnI3yvldWK6S6pF', 'function': {'arguments': '{\"location\": \"munich\"}', 'name': 'get_weather'}, 'type': 'function'}, {'id': 'call_EgIN4vdI8NDiAaGnLPbBEHHI', 'function': {'arguments': '{\"location\": \"munich\", \"seating_type\": \"outdoor\"}', 'name': 'check_seating_availability'}, 'type': 'function'}], 'refusal': None}, response_metadata={'token_usage': {'completion_tokens': 55, 'prompt_tokens': 92, 'total_tokens': 147, 'completion_tokens_details': {'accepted_prediction_tokens': 0, 'audio_tokens': 0, 'reasoning_tokens': 0, 'rejected_prediction_tokens': 0}, 'prompt_tokens_details': {'audio_tokens': 0, 'cached_tokens': 0}}, 'model_name': 'gpt-3.5-turbo-0125', 'system_fingerprint': None, 'id': 'chatcmpl-C0V9PhATj63j1KQ0H75b06yb4PBXI', 'service_tier': 'default', 'finish_reason': 'tool_calls', 'logprobs': None}, id='run--5d04117f-4341-48f1-9187-8f313e6cc295-0', tool_calls=[{'name': 'get_weather', 'args': {'location': 'munich'}, 'id': 'call_n36znu5J5fnI3yvldWK6S6pF', 'type': 'tool_call'}, {'name': 'check_seating_availability', 'args': {'location': 'munich', 'seating_type': 'outdoor'}, 'id': 'call_EgIN4vdI8NDiAaGnLPbBEHHI', 'type': 'tool_call'}], usage_metadata={'input_tokens': 92, 'output_tokens': 55, 'total_tokens': 147, 'input_token_details': {'audio': 0, 'cache_read': 0}, 'output_token_details': {'audio': 0, 'reasoning': 0}})]"
      ]
     },
     "execution_count": 11,
     "metadata": {},
     "output_type": "execute_result"
    }
   ],
   "source": [
    "messages"
   ]
  },
  {
   "cell_type": "code",
   "execution_count": 12,
   "metadata": {},
   "outputs": [],
   "source": [
    "tool_mapping = {\n",
    "    \"get_weather\": get_weather,\n",
    "    \"check_seating_availability\": check_seating_availability,\n",
    "}"
   ]
  },
  {
   "cell_type": "code",
   "execution_count": 13,
   "metadata": {},
   "outputs": [
    {
     "data": {
      "text/plain": [
       "[{'name': 'get_weather',\n",
       "  'args': {'location': 'munich'},\n",
       "  'id': 'call_n36znu5J5fnI3yvldWK6S6pF',\n",
       "  'type': 'tool_call'},\n",
       " {'name': 'check_seating_availability',\n",
       "  'args': {'location': 'munich', 'seating_type': 'outdoor'},\n",
       "  'id': 'call_EgIN4vdI8NDiAaGnLPbBEHHI',\n",
       "  'type': 'tool_call'}]"
      ]
     },
     "execution_count": 13,
     "metadata": {},
     "output_type": "execute_result"
    }
   ],
   "source": [
    "llm_output.tool_calls"
   ]
  },
  {
   "cell_type": "code",
   "execution_count": 14,
   "metadata": {},
   "outputs": [],
   "source": [
    "for tool_call in llm_output.tool_calls:\n",
    "    tool = tool_mapping[tool_call[\"name\"].lower()]\n",
    "    tool_output = tool.invoke(tool_call[\"args\"])\n",
    "    messages.append(ToolMessage(tool_output, tool_call_id=tool_call[\"id\"]))"
   ]
  },
  {
   "cell_type": "code",
   "execution_count": 15,
   "metadata": {},
   "outputs": [
    {
     "data": {
      "text/plain": [
       "[HumanMessage(content='How will the weather be in munich today? Do you still have seats outdoor available?', additional_kwargs={}, response_metadata={}),\n",
       " AIMessage(content='', additional_kwargs={'tool_calls': [{'id': 'call_n36znu5J5fnI3yvldWK6S6pF', 'function': {'arguments': '{\"location\": \"munich\"}', 'name': 'get_weather'}, 'type': 'function'}, {'id': 'call_EgIN4vdI8NDiAaGnLPbBEHHI', 'function': {'arguments': '{\"location\": \"munich\", \"seating_type\": \"outdoor\"}', 'name': 'check_seating_availability'}, 'type': 'function'}], 'refusal': None}, response_metadata={'token_usage': {'completion_tokens': 55, 'prompt_tokens': 92, 'total_tokens': 147, 'completion_tokens_details': {'accepted_prediction_tokens': 0, 'audio_tokens': 0, 'reasoning_tokens': 0, 'rejected_prediction_tokens': 0}, 'prompt_tokens_details': {'audio_tokens': 0, 'cached_tokens': 0}}, 'model_name': 'gpt-3.5-turbo-0125', 'system_fingerprint': None, 'id': 'chatcmpl-C0V9PhATj63j1KQ0H75b06yb4PBXI', 'service_tier': 'default', 'finish_reason': 'tool_calls', 'logprobs': None}, id='run--5d04117f-4341-48f1-9187-8f313e6cc295-0', tool_calls=[{'name': 'get_weather', 'args': {'location': 'munich'}, 'id': 'call_n36znu5J5fnI3yvldWK6S6pF', 'type': 'tool_call'}, {'name': 'check_seating_availability', 'args': {'location': 'munich', 'seating_type': 'outdoor'}, 'id': 'call_EgIN4vdI8NDiAaGnLPbBEHHI', 'type': 'tool_call'}], usage_metadata={'input_tokens': 92, 'output_tokens': 55, 'total_tokens': 147, 'input_token_details': {'audio': 0, 'cache_read': 0}, 'output_token_details': {'audio': 0, 'reasoning': 0}}),\n",
       " ToolMessage(content=\"It's 15 degrees Celsius and cloudy.\", tool_call_id='call_n36znu5J5fnI3yvldWK6S6pF'),\n",
       " ToolMessage(content='Yes, we still have seats available outdoors.', tool_call_id='call_EgIN4vdI8NDiAaGnLPbBEHHI')]"
      ]
     },
     "execution_count": 15,
     "metadata": {},
     "output_type": "execute_result"
    }
   ],
   "source": [
    "messages"
   ]
  },
  {
   "cell_type": "code",
   "execution_count": 16,
   "metadata": {},
   "outputs": [
    {
     "data": {
      "text/plain": [
       "AIMessage(content='The weather in Munich today is 15 degrees Celsius and cloudy. And yes, we still have seats available outdoors.', additional_kwargs={'refusal': None}, response_metadata={'token_usage': {'completion_tokens': 24, 'prompt_tokens': 177, 'total_tokens': 201, 'completion_tokens_details': {'accepted_prediction_tokens': 0, 'audio_tokens': 0, 'reasoning_tokens': 0, 'rejected_prediction_tokens': 0}, 'prompt_tokens_details': {'audio_tokens': 0, 'cached_tokens': 0}}, 'model_name': 'gpt-3.5-turbo-0125', 'system_fingerprint': None, 'id': 'chatcmpl-C0V9zyVXEcLDGqXFXS2tJIRFjnHmM', 'service_tier': 'default', 'finish_reason': 'stop', 'logprobs': None}, id='run--05c74a1d-b72a-444c-afc8-270970143f95-0', usage_metadata={'input_tokens': 177, 'output_tokens': 24, 'total_tokens': 201, 'input_token_details': {'audio': 0, 'cache_read': 0}, 'output_token_details': {'audio': 0, 'reasoning': 0}})"
      ]
     },
     "execution_count": 16,
     "metadata": {},
     "output_type": "execute_result"
    }
   ],
   "source": [
    "llm_with_tools.invoke(messages)"
   ]
  },
  {
   "cell_type": "code",
   "execution_count": null,
   "metadata": {},
   "outputs": [],
   "source": []
  },
  {
   "cell_type": "code",
   "execution_count": null,
   "metadata": {},
   "outputs": [],
   "source": []
  }
 ],
 "metadata": {
  "kernelspec": {
   "display_name": ".venv",
   "language": "python",
   "name": "python3"
  },
  "language_info": {
   "codemirror_mode": {
    "name": "ipython",
    "version": 3
   },
   "file_extension": ".py",
   "mimetype": "text/x-python",
   "name": "python",
   "nbconvert_exporter": "python",
   "pygments_lexer": "ipython3",
   "version": "3.12.10"
  }
 },
 "nbformat": 4,
 "nbformat_minor": 2
}
