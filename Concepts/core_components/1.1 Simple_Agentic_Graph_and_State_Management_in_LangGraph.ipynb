{
  "cells": [
    {
      "cell_type": "markdown",
      "id": "50fa7f8a-8764-4bb9-9968-48b681a0e4f1",
      "metadata": {
        "id": "50fa7f8a-8764-4bb9-9968-48b681a0e4f1"
      },
      "source": [
        "# Building a Simple Agent Graph and Managing States\n",
        "\n",
        "In this hands-on demo we will understand how states work in an agentic graph and also how to build a simple agentic graph just like the one shown below.\n",
        "\n",
        "![](https://i.imgur.com/ILcvB2y.png)"
      ]
    },
    {
      "cell_type": "markdown",
      "id": "tIiCs9qKEddB",
      "metadata": {
        "id": "tIiCs9qKEddB"
      },
      "source": [
        "## Install Dependencies"
      ]
    },
    {
      "cell_type": "code",
      "execution_count": 2,
      "id": "ff151ef1-fa30-482a-94da-8f49964afbc3",
      "metadata": {
        "colab": {
          "base_uri": "https://localhost:8080/"
        },
        "id": "ff151ef1-fa30-482a-94da-8f49964afbc3",
        "outputId": "ea6ee65f-f197-4fb8-a0b1-58e2a6363b4f"
      },
      "outputs": [],
      "source": [
        "!pip install -qq langchain==0.3.14\n",
        "!pip install -qq langgraph==0.2.66"
      ]
    },
    {
      "cell_type": "markdown",
      "id": "5999f8d0-989f-4638-8ade-5c257cbadfe8",
      "metadata": {
        "id": "5999f8d0-989f-4638-8ade-5c257cbadfe8"
      },
      "source": [
        "## State\n",
        "\n",
        "First, define the [State](https://langchain-ai.github.io/langgraph/concepts/low_level/#state) of the graph.\n",
        "\n",
        "The State schema serves as the input schema for all Nodes and Edges in the graph. This is basically the schema of the shared context or data messages passes throughout the graph across all the nodes and edges.\n",
        "\n",
        "Let's use the `TypedDict` class from python's `typing` module as our schema, which provides type hints for the keys."
      ]
    },
    {
      "cell_type": "code",
      "execution_count": 3,
      "id": "6a90709b-ddfa-4671-8acc-c59969a29991",
      "metadata": {
        "id": "6a90709b-ddfa-4671-8acc-c59969a29991"
      },
      "outputs": [],
      "source": [
        "from typing_extensions import TypedDict\n",
        "\n",
        "class State(TypedDict):\n",
        "    messages: str"
      ]
    },
    {
      "cell_type": "markdown",
      "id": "888509e1-cbde-4c03-99a0-2560dd2e262d",
      "metadata": {
        "id": "888509e1-cbde-4c03-99a0-2560dd2e262d"
      },
      "source": [
        "## Nodes\n",
        "\n",
        "[Nodes](https://langchain-ai.github.io/langgraph/concepts/low_level/#nodes) are just python functions where we implement some custom logic, call some tools, LLMs etc.\n",
        "\n",
        "The first positional argument is the state, as defined above. This gives the node the current state of the agent including the latest output messages, previous inputs etc.\n",
        "\n",
        "Because the state is a `TypedDict` with schema as defined above, each node can access the key, `messages`, with `state['messages']`.\n",
        "\n",
        "Each node returns a new value of the state key `messages`.\n",
        "  \n",
        "By default, the new value returned by each node [will overwrite](https://langchain-ai.github.io/langgraph/concepts/low_level/#reducers) the prior state value. (We will show shortly how to update new values to the state instead of overwriting)"
      ]
    },
    {
      "cell_type": "code",
      "execution_count": 4,
      "id": "e8aabcb7-494c-4d35-be08-f81c76d75a6b",
      "metadata": {
        "id": "e8aabcb7-494c-4d35-be08-f81c76d75a6b"
      },
      "outputs": [],
      "source": [
        "def node_1(state: State) -> State:\n",
        "    print(\"---Node 1---\")\n",
        "    state = state['messages']\n",
        "    return {\"messages\": \"Hello this is node 1\"} # agent state gets written with a new updated value"
      ]
    },
    {
      "cell_type": "markdown",
      "id": "u1O6ubxEGshx",
      "metadata": {
        "id": "u1O6ubxEGshx"
      },
      "source": [
        "## Edges\n",
        "\n",
        "[Edges](https://langchain-ai.github.io/langgraph/concepts/low_level/#edges) connect the nodes.\n",
        "\n",
        "Normal Edges are used if you want to *always* go from, for example, `node_1` to `node_2`."
      ]
    },
    {
      "cell_type": "markdown",
      "id": "5o5AFN75G1ib",
      "metadata": {
        "id": "5o5AFN75G1ib"
      },
      "source": [
        "## Build the Graph with Nodes and Edges and the State"
      ]
    },
    {
      "cell_type": "code",
      "execution_count": 5,
      "id": "IJvHs_Py3uCV",
      "metadata": {
        "colab": {
          "base_uri": "https://localhost:8080/",
          "height": 251
        },
        "id": "IJvHs_Py3uCV",
        "outputId": "a27e789e-603b-450e-bf14-41b0f61ffaa4"
      },
      "outputs": [
        {
          "data": {
            "image/png": "[encoded data removed]",
            "text/plain": [
              "<IPython.core.display.Image object>"
            ]
          },
          "metadata": {},
          "output_type": "display_data"
        }
      ],
      "source": [
        "from langgraph.graph import StateGraph, START, END\n",
        "from IPython.display import Image, display\n",
        "\n",
        "# Build graph\n",
        "builder = StateGraph(State)\n",
        "builder.add_node(\"node_1\", node_1)\n",
        "\n",
        "# Logic\n",
        "builder.add_edge(START, \"node_1\")\n",
        "builder.add_edge(\"node_1\", END)\n",
        "\n",
        "# Add\n",
        "graph = builder.compile()\n",
        "\n",
        "# View\n",
        "display(Image(graph.get_graph().draw_mermaid_png()))"
      ]
    },
    {
      "cell_type": "markdown",
      "id": "tAt1hK2AG6Bk",
      "metadata": {
        "id": "tAt1hK2AG6Bk"
      },
      "source": [
        "## Test the Graph"
      ]
    },
    {
      "cell_type": "code",
      "execution_count": 6,
      "id": "JR2L3D5Y3uH9",
      "metadata": {
        "colab": {
          "base_uri": "https://localhost:8080/"
        },
        "id": "JR2L3D5Y3uH9",
        "outputId": "3598968d-46be-4c82-df62-651022cb810a"
      },
      "outputs": [
        {
          "name": "stdout",
          "output_type": "stream",
          "text": [
            "---Node 1---\n"
          ]
        },
        {
          "data": {
            "text/plain": [
              "{'messages': 'Hello this is node 1'}"
            ]
          },
          "execution_count": 6,
          "metadata": {},
          "output_type": "execute_result"
        }
      ],
      "source": [
        "graph.invoke({\"messages\": \"Hi, how are you?.\"})"
      ]
    },
    {
      "cell_type": "markdown",
      "id": "iFOUd7RLHBwg",
      "metadata": {
        "id": "iFOUd7RLHBwg"
      },
      "source": [
        "## Graph with custom State Schema\n",
        "\n",
        "You can define your own state schema with multiple fields and manipulate them inside the graph as shown below"
      ]
    },
    {
      "cell_type": "code",
      "execution_count": 8,
      "id": "Pp5IhgSF3uKA",
      "metadata": {
        "id": "Pp5IhgSF3uKA"
      },
      "outputs": [],
      "source": [
        "from langgraph.graph import StateGraph, START, END\n",
        "\n",
        "# Define the state structure\n",
        "class State(TypedDict):\n",
        "    data: str\n",
        "    counter: int\n",
        "\n",
        "# Initialize the StateGraph with the state schema\n",
        "graph_builder = StateGraph(State)\n",
        "\n",
        "# Add nodes and edges to your graph\n",
        "# Define a node that processes the state\n",
        "def process_state(state: State) -> State:\n",
        "    print(f\"Current data: {state['data']}, Counter: {state['counter']}\")\n",
        "    return {\"data\": state[\"data\"].upper(), \"counter\": state[\"counter\"] + 1}\n",
        "\n",
        "# Add the node AND edges to the graph\n",
        "graph_builder.add_node(\"process_state\", process_state)\n",
        "graph_builder.add_edge(START, \"process_state\")\n",
        "graph_builder.add_edge(\"process_state\", END)\n",
        "\n",
        "# Compile the graph\n",
        "graph = graph_builder.compile()"
      ]
    },
    {
      "cell_type": "code",
      "execution_count": 9,
      "id": "gEji1u3MX9OR",
      "metadata": {
        "colab": {
          "base_uri": "https://localhost:8080/",
          "height": 251
        },
        "id": "gEji1u3MX9OR",
        "outputId": "9d14d738-0f14-4c10-fdf6-deef266f2cb0"
      },
      "outputs": [
        {
          "data": {
            "image/png": "[encoded data removed]",
            "text/plain": [
              "<IPython.core.display.Image object>"
            ]
          },
          "metadata": {},
          "output_type": "display_data"
        }
      ],
      "source": [
        "display(Image(graph.get_graph().draw_mermaid_png()))"
      ]
    },
    {
      "cell_type": "code",
      "execution_count": 10,
      "id": "Skdc5uhvR7At",
      "metadata": {
        "colab": {
          "base_uri": "https://localhost:8080/"
        },
        "id": "Skdc5uhvR7At",
        "outputId": "16a33c32-0114-4de0-ba2f-080df64088b4"
      },
      "outputs": [
        {
          "name": "stdout",
          "output_type": "stream",
          "text": [
            "Current data: hello world, Counter: 0\n",
            "Final State: {'data': 'HELLO WORLD', 'counter': 1}\n"
          ]
        }
      ],
      "source": [
        "# Execute the graph with an initial state\n",
        "initial_state = {\"data\": \"hello world\", \"counter\": 0}\n",
        "result = graph.invoke(initial_state)\n",
        "\n",
        "# Print the result\n",
        "print(\"Final State:\", result)"
      ]
    },
    {
      "cell_type": "markdown",
      "id": "VBnnQo_cHS40",
      "metadata": {
        "id": "VBnnQo_cHS40"
      },
      "source": [
        "## Graph with multiple processing nodes\n",
        "\n",
        "So far we have built a graph with one node, lets now build one with three processing nodes and update (and overwrite) the overall state of the agent in each node"
      ]
    },
    {
      "cell_type": "code",
      "execution_count": 11,
      "id": "xG5z3i4kH88n",
      "metadata": {
        "id": "xG5z3i4kH88n"
      },
      "outputs": [],
      "source": [
        "from typing_extensions import TypedDict\n",
        "\n",
        "class State(TypedDict):\n",
        "    messages: str"
      ]
    },
    {
      "cell_type": "code",
      "execution_count": 12,
      "id": "JTCvoMus3uMo",
      "metadata": {
        "id": "JTCvoMus3uMo"
      },
      "outputs": [],
      "source": [
        "def node_1(state: State) -> State:\n",
        "    print(\"---Node 1---\")\n",
        "    state = state['messages']\n",
        "    return {\"messages\": \"Hello this is node 1\"}\n",
        "\n",
        "def node_2(state):\n",
        "    print(\"---Node 2---\")\n",
        "    state = state['messages']\n",
        "    return {\"messages\": \"Hello this is node 2\"}\n",
        "\n",
        "def final_node(state):\n",
        "    print(\"---Node 3---\")\n",
        "    state = state['messages']\n",
        "    return {\"messages\": \"Hello this is the final node\"}"
      ]
    },
    {
      "cell_type": "code",
      "execution_count": 13,
      "id": "l6Mmlmma4pmu",
      "metadata": {
        "colab": {
          "base_uri": "https://localhost:8080/",
          "height": 449
        },
        "id": "l6Mmlmma4pmu",
        "outputId": "80e54612-dd08-46ca-d5f7-8f2ac1ba70b5"
      },
      "outputs": [
        {
          "data": {
            "image/png": "[encoded data removed]",
            "text/plain": [
              "<IPython.core.display.Image object>"
            ]
          },
          "metadata": {},
          "output_type": "display_data"
        }
      ],
      "source": [
        "# Build graph\n",
        "builder = StateGraph(State)\n",
        "builder.add_node(\"node_1\", node_1)\n",
        "builder.add_node(\"node_2\", node_2)\n",
        "builder.add_node(\"node_3\", final_node)\n",
        "\n",
        "# Logic\n",
        "builder.add_edge(START, \"node_1\")\n",
        "builder.add_edge(\"node_1\", \"node_2\")\n",
        "builder.add_edge(\"node_2\", \"node_3\")\n",
        "builder.add_edge(\"node_3\", END)\n",
        "\n",
        "\n",
        "# Add\n",
        "graph = builder.compile()\n",
        "\n",
        "# View\n",
        "display(Image(graph.get_graph().draw_mermaid_png()))"
      ]
    },
    {
      "cell_type": "code",
      "execution_count": 14,
      "id": "4bVyl9RX47tn",
      "metadata": {
        "colab": {
          "base_uri": "https://localhost:8080/"
        },
        "id": "4bVyl9RX47tn",
        "outputId": "b93a413f-42c2-4e97-d463-73acbe99e3ca"
      },
      "outputs": [
        {
          "name": "stdout",
          "output_type": "stream",
          "text": [
            "---Node 1---\n",
            "---Node 2---\n",
            "---Node 3---\n"
          ]
        },
        {
          "data": {
            "text/plain": [
              "{'messages': 'Hello this is the final node'}"
            ]
          },
          "execution_count": 14,
          "metadata": {},
          "output_type": "execute_result"
        }
      ],
      "source": [
        "graph.invoke({\"messages\": \"Hi, how are you?.\"})"
      ]
    },
    {
      "cell_type": "markdown",
      "id": "R_cIq_M2IAdA",
      "metadata": {
        "id": "R_cIq_M2IAdA"
      },
      "source": [
        "The state gets overwritten each time in each node which is something which we do not want. We want the agent to be aware of what is happening in each node and store all the intermediate messages also.\n",
        "\n",
        "Imagine a tool call happening only to get overwritten by something else!\n",
        "\n",
        "This is where reducer functions can be used to update and append to the overall agent's state schema instead of overwriting"
      ]
    },
    {
      "cell_type": "markdown",
      "id": "oLAPfQ7BIYcm",
      "metadata": {
        "id": "oLAPfQ7BIYcm"
      },
      "source": [
        "## Graph with multiple processing nodes\n",
        "\n",
        "So far we have built a graph with one node, lets now build one with three processing nodes and update the overall state of the agent in each node without overwriting the overall state"
      ]
    },
    {
      "cell_type": "code",
      "execution_count": 15,
      "id": "5eCXQdqL4_pD",
      "metadata": {
        "colab": {
          "base_uri": "https://localhost:8080/",
          "height": 449
        },
        "id": "5eCXQdqL4_pD",
        "outputId": "629adf61-57c0-4fbb-c82d-6af1423dbeb3"
      },
      "outputs": [
        {
          "data": {
            "image/png": "[encoded data removed]",
            "text/plain": [
              "<IPython.core.display.Image object>"
            ]
          },
          "metadata": {},
          "output_type": "display_data"
        }
      ],
      "source": [
        "from typing import Annotated\n",
        "from langgraph.graph.message import add_messages\n",
        "\n",
        "class State(TypedDict):\n",
        "    messages: Annotated[list, add_messages] # the reducer helps in appending to the state\n",
        "\n",
        "def node_1(state: State) -> State:\n",
        "    print(\"---Node 1---\")\n",
        "    state = state['messages']\n",
        "    return {\"messages\": \"Hello this is node 1\"}\n",
        "\n",
        "def node_2(state):\n",
        "    print(\"---Node 2---\")\n",
        "    state = state['messages']\n",
        "    return {\"messages\": \"Hello this is node 2\"}\n",
        "\n",
        "def final_node(state):\n",
        "    print(\"---Node 3---\")\n",
        "    state = state['messages']\n",
        "    return {\"messages\": \"Hello this is the final node\"}\n",
        "\n",
        "# Build graph\n",
        "builder = StateGraph(State)\n",
        "builder.add_node(\"node_1\", node_1)\n",
        "builder.add_node(\"node_2\", node_2)\n",
        "builder.add_node(\"node_3\", final_node)\n",
        "\n",
        "# Logic\n",
        "builder.add_edge(START, \"node_1\")\n",
        "builder.add_edge(\"node_1\", \"node_2\")\n",
        "builder.add_edge(\"node_2\", \"node_3\")\n",
        "builder.add_edge(\"node_3\", END)\n",
        "\n",
        "\n",
        "# Add\n",
        "graph = builder.compile()\n",
        "\n",
        "# View\n",
        "display(Image(graph.get_graph().draw_mermaid_png()))"
      ]
    },
    {
      "cell_type": "code",
      "execution_count": 16,
      "id": "tynHTQXeEkli",
      "metadata": {
        "colab": {
          "base_uri": "https://localhost:8080/"
        },
        "id": "tynHTQXeEkli",
        "outputId": "099b6c72-1a97-41b3-f23a-24dac6c588d6"
      },
      "outputs": [
        {
          "name": "stdout",
          "output_type": "stream",
          "text": [
            "---Node 1---\n",
            "---Node 2---\n",
            "---Node 3---\n"
          ]
        },
        {
          "data": {
            "text/plain": [
              "{'messages': [HumanMessage(content='Hi, how are you?.', additional_kwargs={}, response_metadata={}, id='173d14dd-cf39-4bf1-8894-3952d2ed2a54'),\n",
              "  HumanMessage(content='Hello this is node 1', additional_kwargs={}, response_metadata={}, id='18244e11-f8e1-4440-99b1-f7344f7e4a73'),\n",
              "  HumanMessage(content='Hello this is node 2', additional_kwargs={}, response_metadata={}, id='a61d34d3-8b0b-490f-be83-08c2bc9598bf'),\n",
              "  HumanMessage(content='Hello this is the final node', additional_kwargs={}, response_metadata={}, id='2382f9db-75c7-40fb-9821-40fdfb8e8c66')]}"
            ]
          },
          "execution_count": 16,
          "metadata": {},
          "output_type": "execute_result"
        }
      ],
      "source": [
        "response = graph.invoke({\"messages\": \"Hi, how are you?.\"})\n",
        "response"
      ]
    },
    {
      "cell_type": "code",
      "execution_count": 17,
      "id": "ksqAzjYzo7k8",
      "metadata": {
        "colab": {
          "base_uri": "https://localhost:8080/"
        },
        "id": "ksqAzjYzo7k8",
        "outputId": "f44a007a-b567-46b5-93e0-9e618cb4a33c"
      },
      "outputs": [
        {
          "data": {
            "text/plain": [
              "HumanMessage(content='Hello this is the final node', additional_kwargs={}, response_metadata={}, id='2382f9db-75c7-40fb-9821-40fdfb8e8c66')"
            ]
          },
          "execution_count": 17,
          "metadata": {},
          "output_type": "execute_result"
        }
      ],
      "source": [
        "response['messages'][-1]"
      ]
    },
    {
      "cell_type": "code",
      "execution_count": null,
      "id": "6475e826",
      "metadata": {},
      "outputs": [],
      "source": []
    }
  ],
  "metadata": {
    "colab": {
      "provenance": []
    },
    "kernelspec": {
      "display_name": "venv",
      "language": "python",
      "name": "python3"
    },
    "language_info": {
      "codemirror_mode": {
        "name": "ipython",
        "version": 3
      },
      "file_extension": ".py",
      "mimetype": "text/x-python",
      "name": "python",
      "nbconvert_exporter": "python",
      "pygments_lexer": "ipython3",
      "version": "3.12.10"
    }
  },
  "nbformat": 4,
  "nbformat_minor": 5
}
