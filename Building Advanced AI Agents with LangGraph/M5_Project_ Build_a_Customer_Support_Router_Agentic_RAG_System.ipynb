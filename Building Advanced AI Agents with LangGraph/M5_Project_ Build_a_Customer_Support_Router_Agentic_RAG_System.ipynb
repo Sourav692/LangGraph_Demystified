{
  "cells": [
    {
      "cell_type": "markdown",
      "metadata": {
        "id": "NffLMDtsJFsY"
      },
      "source": [
        "# Build a Customer Support Router Agentic RAG System\n",
        "\n",
        "In this project, we will leverage the power of AI Agents and RAG Systems to build an intelligent Router Agentic RAG System to handle customer support queries using a custom knowledgebase.\n",
        "\n",
        "![](https://i.imgur.com/bLCdxCI.png)\n",
        "\n",
        "### Intelligent Router Agentic RAG System\n",
        "\n",
        "This project focuses on building an **Intelligent Router Agentic RAG System** that combines intelligent query analysis, sentiment detection, and dynamic routing with Retrieval-Augmented Generation (RAG) to handle diverse user inquiries efficiently. The workflow includes the following components:\n",
        "\n",
        "1. **Query Categorization and Sentiment Analysis**:\n",
        "   - The system uses **OpenAI GPT-4o** to analyze the user's query and determine:\n",
        "     - **Query Category**: Identifies the type of problem, such as billing, technical issues, or general queries.\n",
        "     - **User Sentiment**: Evaluates the user's sentiment (positive, neutral, or negative) to determine if escalation is needed.\n",
        "\n",
        "2. **Intelligent Routing**:\n",
        "   - Based on the **query_category** and **query_sentiment**, the system routes the query to the appropriate handling node:\n",
        "     - **Escalate to Human**: If the sentiment is negative, the query is escalated to a human for resolution.\n",
        "     - **Generate Billing Response**: Queries related to billing are routed to generate an appropriate response.\n",
        "     - **Generate Technical Response**: Technical queries are routed for a specialized technical response.\n",
        "     - **Generate General Response**: General queries are handled with context-aware responses.\n",
        "\n",
        "3. **Knowledge Base Integration (RAG)**:\n",
        "   - The system integrates with a **Knowledge Base (Vector Database)** to augment responses with relevant and accurate information.\n",
        "   - Retrieval-Augmented Generation (RAG) ensures that responses are grounded in the latest and most reliable data.\n",
        "\n",
        "4. **Escalation Mechanism**:\n",
        "   - Negative sentiment triggers an **escalation to a human**, ensuring the user receives empathetic and personalized support for critical issues.\n"
      ]
    },
    {
      "cell_type": "markdown",
      "metadata": {
        "id": "9hEI3WL328vZ"
      },
      "source": [
        "## Install OpenAI, LangGraph and LangChain dependencies"
      ]
    },
    {
      "cell_type": "code",
      "execution_count": 1,
      "metadata": {
        "id": "dzjE7G_8KOUM"
      },
      "outputs": [
        {
          "name": "stdout",
          "output_type": "stream",
          "text": [
            "Collecting langchain==0.3.14\n",
            "  Using cached langchain-0.3.14-py3-none-any.whl.metadata (7.1 kB)\n",
            "Collecting PyYAML>=5.3 (from langchain==0.3.14)\n",
            "  Using cached PyYAML-6.0.2-cp312-cp312-win_amd64.whl.metadata (2.1 kB)\n",
            "Collecting SQLAlchemy<3,>=1.4 (from langchain==0.3.14)\n",
            "  Using cached sqlalchemy-2.0.40-cp312-cp312-win_amd64.whl.metadata (9.9 kB)\n",
            "Collecting aiohttp<4.0.0,>=3.8.3 (from langchain==0.3.14)\n",
            "  Using cached aiohttp-3.11.18-cp312-cp312-win_amd64.whl.metadata (8.0 kB)\n",
            "Collecting langchain-core<0.4.0,>=0.3.29 (from langchain==0.3.14)\n",
            "  Using cached langchain_core-0.3.58-py3-none-any.whl.metadata (5.9 kB)\n",
            "Collecting langchain-text-splitters<0.4.0,>=0.3.3 (from langchain==0.3.14)\n",
            "  Using cached langchain_text_splitters-0.3.8-py3-none-any.whl.metadata (1.9 kB)\n",
            "Collecting langsmith<0.3,>=0.1.17 (from langchain==0.3.14)\n",
            "  Using cached langsmith-0.2.11-py3-none-any.whl.metadata (14 kB)\n",
            "Requirement already satisfied: numpy<3,>=1.26.2 in d:\\2. my workspace and notes\\1. demystify folders\\generativai_demystified\\venv\\lib\\site-packages (from langchain==0.3.14) (2.2.5)\n",
            "Collecting pydantic<3.0.0,>=2.7.4 (from langchain==0.3.14)\n",
            "  Using cached pydantic-2.11.4-py3-none-any.whl.metadata (66 kB)\n",
            "Collecting requests<3,>=2 (from langchain==0.3.14)\n",
            "  Using cached requests-2.32.3-py3-none-any.whl.metadata (4.6 kB)\n",
            "Collecting tenacity!=8.4.0,<10,>=8.1.0 (from langchain==0.3.14)\n",
            "  Using cached tenacity-9.1.2-py3-none-any.whl.metadata (1.2 kB)\n",
            "Collecting aiohappyeyeballs>=2.3.0 (from aiohttp<4.0.0,>=3.8.3->langchain==0.3.14)\n",
            "  Using cached aiohappyeyeballs-2.6.1-py3-none-any.whl.metadata (5.9 kB)\n",
            "Collecting aiosignal>=1.1.2 (from aiohttp<4.0.0,>=3.8.3->langchain==0.3.14)\n",
            "  Using cached aiosignal-1.3.2-py2.py3-none-any.whl.metadata (3.8 kB)\n",
            "Collecting attrs>=17.3.0 (from aiohttp<4.0.0,>=3.8.3->langchain==0.3.14)\n",
            "  Using cached attrs-25.3.0-py3-none-any.whl.metadata (10 kB)\n",
            "Collecting frozenlist>=1.1.1 (from aiohttp<4.0.0,>=3.8.3->langchain==0.3.14)\n",
            "  Using cached frozenlist-1.6.0-cp312-cp312-win_amd64.whl.metadata (16 kB)\n",
            "Collecting multidict<7.0,>=4.5 (from aiohttp<4.0.0,>=3.8.3->langchain==0.3.14)\n",
            "  Using cached multidict-6.4.3-cp312-cp312-win_amd64.whl.metadata (5.5 kB)\n",
            "Collecting propcache>=0.2.0 (from aiohttp<4.0.0,>=3.8.3->langchain==0.3.14)\n",
            "  Using cached propcache-0.3.1-cp312-cp312-win_amd64.whl.metadata (11 kB)\n",
            "Collecting yarl<2.0,>=1.17.0 (from aiohttp<4.0.0,>=3.8.3->langchain==0.3.14)\n",
            "  Using cached yarl-1.20.0-cp312-cp312-win_amd64.whl.metadata (74 kB)\n",
            "Collecting jsonpatch<2.0,>=1.33 (from langchain-core<0.4.0,>=0.3.29->langchain==0.3.14)\n",
            "  Using cached jsonpatch-1.33-py2.py3-none-any.whl.metadata (3.0 kB)\n",
            "Collecting packaging<25,>=23.2 (from langchain-core<0.4.0,>=0.3.29->langchain==0.3.14)\n",
            "  Using cached packaging-24.2-py3-none-any.whl.metadata (3.2 kB)\n",
            "Collecting typing-extensions>=4.7 (from langchain-core<0.4.0,>=0.3.29->langchain==0.3.14)\n",
            "  Using cached typing_extensions-4.13.2-py3-none-any.whl.metadata (3.0 kB)\n",
            "Collecting jsonpointer>=1.9 (from jsonpatch<2.0,>=1.33->langchain-core<0.4.0,>=0.3.29->langchain==0.3.14)\n",
            "  Using cached jsonpointer-3.0.0-py2.py3-none-any.whl.metadata (2.3 kB)\n",
            "Collecting httpx<1,>=0.23.0 (from langsmith<0.3,>=0.1.17->langchain==0.3.14)\n",
            "  Using cached httpx-0.28.1-py3-none-any.whl.metadata (7.1 kB)\n",
            "Collecting orjson<4.0.0,>=3.9.14 (from langsmith<0.3,>=0.1.17->langchain==0.3.14)\n",
            "  Using cached orjson-3.10.18-cp312-cp312-win_amd64.whl.metadata (43 kB)\n",
            "Collecting requests-toolbelt<2.0.0,>=1.0.0 (from langsmith<0.3,>=0.1.17->langchain==0.3.14)\n",
            "  Using cached requests_toolbelt-1.0.0-py2.py3-none-any.whl.metadata (14 kB)\n",
            "Collecting anyio (from httpx<1,>=0.23.0->langsmith<0.3,>=0.1.17->langchain==0.3.14)\n",
            "  Using cached anyio-4.9.0-py3-none-any.whl.metadata (4.7 kB)\n",
            "Collecting certifi (from httpx<1,>=0.23.0->langsmith<0.3,>=0.1.17->langchain==0.3.14)\n",
            "  Using cached certifi-2025.4.26-py3-none-any.whl.metadata (2.5 kB)\n",
            "Collecting httpcore==1.* (from httpx<1,>=0.23.0->langsmith<0.3,>=0.1.17->langchain==0.3.14)\n",
            "  Using cached httpcore-1.0.9-py3-none-any.whl.metadata (21 kB)\n",
            "Collecting idna (from httpx<1,>=0.23.0->langsmith<0.3,>=0.1.17->langchain==0.3.14)\n",
            "  Using cached idna-3.10-py3-none-any.whl.metadata (10 kB)\n",
            "Collecting h11>=0.16 (from httpcore==1.*->httpx<1,>=0.23.0->langsmith<0.3,>=0.1.17->langchain==0.3.14)\n",
            "  Using cached h11-0.16.0-py3-none-any.whl.metadata (8.3 kB)\n",
            "Collecting annotated-types>=0.6.0 (from pydantic<3.0.0,>=2.7.4->langchain==0.3.14)\n",
            "  Using cached annotated_types-0.7.0-py3-none-any.whl.metadata (15 kB)\n",
            "Collecting pydantic-core==2.33.2 (from pydantic<3.0.0,>=2.7.4->langchain==0.3.14)\n",
            "  Using cached pydantic_core-2.33.2-cp312-cp312-win_amd64.whl.metadata (6.9 kB)\n",
            "Collecting typing-inspection>=0.4.0 (from pydantic<3.0.0,>=2.7.4->langchain==0.3.14)\n",
            "  Using cached typing_inspection-0.4.0-py3-none-any.whl.metadata (2.6 kB)\n",
            "Collecting charset-normalizer<4,>=2 (from requests<3,>=2->langchain==0.3.14)\n",
            "  Using cached charset_normalizer-3.4.2-cp312-cp312-win_amd64.whl.metadata (36 kB)\n",
            "Collecting urllib3<3,>=1.21.1 (from requests<3,>=2->langchain==0.3.14)\n",
            "  Using cached urllib3-2.4.0-py3-none-any.whl.metadata (6.5 kB)\n",
            "Collecting greenlet>=1 (from SQLAlchemy<3,>=1.4->langchain==0.3.14)\n",
            "  Using cached greenlet-3.2.1-cp312-cp312-win_amd64.whl.metadata (4.2 kB)\n",
            "Collecting sniffio>=1.1 (from anyio->httpx<1,>=0.23.0->langsmith<0.3,>=0.1.17->langchain==0.3.14)\n",
            "  Using cached sniffio-1.3.1-py3-none-any.whl.metadata (3.9 kB)\n",
            "Using cached langchain-0.3.14-py3-none-any.whl (1.0 MB)\n",
            "Using cached aiohttp-3.11.18-cp312-cp312-win_amd64.whl (439 kB)\n",
            "Using cached langchain_core-0.3.58-py3-none-any.whl (437 kB)\n",
            "Using cached jsonpatch-1.33-py2.py3-none-any.whl (12 kB)\n",
            "Using cached langchain_text_splitters-0.3.8-py3-none-any.whl (32 kB)\n",
            "Using cached langsmith-0.2.11-py3-none-any.whl (326 kB)\n",
            "Using cached httpx-0.28.1-py3-none-any.whl (73 kB)\n",
            "Using cached httpcore-1.0.9-py3-none-any.whl (78 kB)\n",
            "Using cached multidict-6.4.3-cp312-cp312-win_amd64.whl (38 kB)\n",
            "Using cached orjson-3.10.18-cp312-cp312-win_amd64.whl (134 kB)\n",
            "Using cached packaging-24.2-py3-none-any.whl (65 kB)\n",
            "Using cached pydantic-2.11.4-py3-none-any.whl (443 kB)\n",
            "Using cached pydantic_core-2.33.2-cp312-cp312-win_amd64.whl (2.0 MB)\n",
            "Using cached requests-2.32.3-py3-none-any.whl (64 kB)\n",
            "Using cached charset_normalizer-3.4.2-cp312-cp312-win_amd64.whl (105 kB)\n",
            "Using cached idna-3.10-py3-none-any.whl (70 kB)\n",
            "Using cached requests_toolbelt-1.0.0-py2.py3-none-any.whl (54 kB)\n",
            "Using cached sqlalchemy-2.0.40-cp312-cp312-win_amd64.whl (2.1 MB)\n",
            "Using cached tenacity-9.1.2-py3-none-any.whl (28 kB)\n",
            "Using cached urllib3-2.4.0-py3-none-any.whl (128 kB)\n",
            "Using cached yarl-1.20.0-cp312-cp312-win_amd64.whl (92 kB)\n",
            "Using cached aiohappyeyeballs-2.6.1-py3-none-any.whl (15 kB)\n",
            "Using cached aiosignal-1.3.2-py2.py3-none-any.whl (7.6 kB)\n",
            "Using cached annotated_types-0.7.0-py3-none-any.whl (13 kB)\n",
            "Using cached attrs-25.3.0-py3-none-any.whl (63 kB)\n",
            "Using cached certifi-2025.4.26-py3-none-any.whl (159 kB)\n",
            "Using cached frozenlist-1.6.0-cp312-cp312-win_amd64.whl (120 kB)\n",
            "Using cached greenlet-3.2.1-cp312-cp312-win_amd64.whl (296 kB)\n",
            "Using cached h11-0.16.0-py3-none-any.whl (37 kB)\n",
            "Using cached jsonpointer-3.0.0-py2.py3-none-any.whl (7.6 kB)\n",
            "Using cached propcache-0.3.1-cp312-cp312-win_amd64.whl (44 kB)\n",
            "Using cached PyYAML-6.0.2-cp312-cp312-win_amd64.whl (156 kB)\n",
            "Using cached typing_extensions-4.13.2-py3-none-any.whl (45 kB)\n",
            "Using cached typing_inspection-0.4.0-py3-none-any.whl (14 kB)\n",
            "Using cached anyio-4.9.0-py3-none-any.whl (100 kB)\n",
            "Using cached sniffio-1.3.1-py3-none-any.whl (10 kB)\n",
            "Installing collected packages: urllib3, typing-extensions, tenacity, sniffio, PyYAML, propcache, packaging, orjson, multidict, jsonpointer, idna, h11, greenlet, frozenlist, charset-normalizer, certifi, attrs, annotated-types, aiohappyeyeballs, yarl, typing-inspection, SQLAlchemy, requests, pydantic-core, jsonpatch, httpcore, anyio, aiosignal, requests-toolbelt, pydantic, httpx, aiohttp, langsmith, langchain-core, langchain-text-splitters, langchain\n",
            "\n",
            "   ----------------------------------------  0/36 [urllib3]\n",
            "   ----------------------------------------  0/36 [urllib3]\n",
            "   ----------------------------------------  0/36 [urllib3]\n",
            "   - --------------------------------------  1/36 [typing-extensions]\n",
            "   -- -------------------------------------  2/36 [tenacity]\n",
            "   ---- -----------------------------------  4/36 [PyYAML]\n",
            "   ---- -----------------------------------  4/36 [PyYAML]\n",
            "   ----- ----------------------------------  5/36 [propcache]\n",
            "  Attempting uninstall: packaging\n",
            "   ----- ----------------------------------  5/36 [propcache]\n",
            "    Found existing installation: packaging 25.0\n",
            "   ----- ----------------------------------  5/36 [propcache]\n",
            "    Uninstalling packaging-25.0:\n",
            "   ----- ----------------------------------  5/36 [propcache]\n",
            "      Successfully uninstalled packaging-25.0\n",
            "   ----- ----------------------------------  5/36 [propcache]\n",
            "   ------ ---------------------------------  6/36 [packaging]\n",
            "   ------ ---------------------------------  6/36 [packaging]\n",
            "   ------ ---------------------------------  6/36 [packaging]\n",
            "   -------- -------------------------------  8/36 [multidict]\n",
            "   ----------- ---------------------------- 10/36 [idna]\n",
            "   ----------- ---------------------------- 10/36 [idna]\n",
            "   ------------ --------------------------- 11/36 [h11]\n",
            "   ------------ --------------------------- 11/36 [h11]\n",
            "   ------------- -------------------------- 12/36 [greenlet]\n",
            "   ------------- -------------------------- 12/36 [greenlet]\n",
            "   ------------- -------------------------- 12/36 [greenlet]\n",
            "   --------------- ------------------------ 14/36 [charset-normalizer]\n",
            "   --------------- ------------------------ 14/36 [charset-normalizer]\n",
            "   --------------- ------------------------ 14/36 [charset-normalizer]\n",
            "   --------------- ------------------------ 14/36 [charset-normalizer]\n",
            "   ----------------- ---------------------- 16/36 [attrs]\n",
            "   ----------------- ---------------------- 16/36 [attrs]\n",
            "   ----------------- ---------------------- 16/36 [attrs]\n",
            "   -------------------- ------------------- 18/36 [aiohappyeyeballs]\n",
            "   --------------------- ------------------ 19/36 [yarl]\n",
            "   ---------------------- ----------------- 20/36 [typing-inspection]\n",
            "   ----------------------- ---------------- 21/36 [SQLAlchemy]\n",
            "   ----------------------- ---------------- 21/36 [SQLAlchemy]\n",
            "   ----------------------- ---------------- 21/36 [SQLAlchemy]\n",
            "   ----------------------- ---------------- 21/36 [SQLAlchemy]\n",
            "   ----------------------- ---------------- 21/36 [SQLAlchemy]\n",
            "   ----------------------- ---------------- 21/36 [SQLAlchemy]\n",
            "   ----------------------- ---------------- 21/36 [SQLAlchemy]\n",
            "   ----------------------- ---------------- 21/36 [SQLAlchemy]\n",
            "   ----------------------- ---------------- 21/36 [SQLAlchemy]\n",
            "   ----------------------- ---------------- 21/36 [SQLAlchemy]\n",
            "   ----------------------- ---------------- 21/36 [SQLAlchemy]\n",
            "   ----------------------- ---------------- 21/36 [SQLAlchemy]\n",
            "   ----------------------- ---------------- 21/36 [SQLAlchemy]\n",
            "   ----------------------- ---------------- 21/36 [SQLAlchemy]\n",
            "   ----------------------- ---------------- 21/36 [SQLAlchemy]\n",
            "   ----------------------- ---------------- 21/36 [SQLAlchemy]\n",
            "   ----------------------- ---------------- 21/36 [SQLAlchemy]\n",
            "   ----------------------- ---------------- 21/36 [SQLAlchemy]\n",
            "   ----------------------- ---------------- 21/36 [SQLAlchemy]\n",
            "   ----------------------- ---------------- 21/36 [SQLAlchemy]\n",
            "   ----------------------- ---------------- 21/36 [SQLAlchemy]\n",
            "   ----------------------- ---------------- 21/36 [SQLAlchemy]\n",
            "   ----------------------- ---------------- 21/36 [SQLAlchemy]\n",
            "   ----------------------- ---------------- 21/36 [SQLAlchemy]\n",
            "   ----------------------- ---------------- 21/36 [SQLAlchemy]\n",
            "   ----------------------- ---------------- 21/36 [SQLAlchemy]\n",
            "   ----------------------- ---------------- 21/36 [SQLAlchemy]\n",
            "   ----------------------- ---------------- 21/36 [SQLAlchemy]\n",
            "   ----------------------- ---------------- 21/36 [SQLAlchemy]\n",
            "   ----------------------- ---------------- 21/36 [SQLAlchemy]\n",
            "   ----------------------- ---------------- 21/36 [SQLAlchemy]\n",
            "   ----------------------- ---------------- 21/36 [SQLAlchemy]\n",
            "   ----------------------- ---------------- 21/36 [SQLAlchemy]\n",
            "   ----------------------- ---------------- 21/36 [SQLAlchemy]\n",
            "   ----------------------- ---------------- 21/36 [SQLAlchemy]\n",
            "   ----------------------- ---------------- 21/36 [SQLAlchemy]\n",
            "   ----------------------- ---------------- 21/36 [SQLAlchemy]\n",
            "   ----------------------- ---------------- 21/36 [SQLAlchemy]\n",
            "   ----------------------- ---------------- 21/36 [SQLAlchemy]\n",
            "   ----------------------- ---------------- 21/36 [SQLAlchemy]\n",
            "   ----------------------- ---------------- 21/36 [SQLAlchemy]\n",
            "   ----------------------- ---------------- 21/36 [SQLAlchemy]\n",
            "   ------------------------ --------------- 22/36 [requests]\n",
            "   ------------------------ --------------- 22/36 [requests]\n",
            "   ------------------------ --------------- 22/36 [requests]\n",
            "   ------------------------- -------------- 23/36 [pydantic-core]\n",
            "   -------------------------- ------------- 24/36 [jsonpatch]\n",
            "   --------------------------- ------------ 25/36 [httpcore]\n",
            "   --------------------------- ------------ 25/36 [httpcore]\n",
            "   --------------------------- ------------ 25/36 [httpcore]\n",
            "   --------------------------- ------------ 25/36 [httpcore]\n",
            "   --------------------------- ------------ 25/36 [httpcore]\n",
            "   --------------------------- ------------ 25/36 [httpcore]\n",
            "   --------------------------- ------------ 25/36 [httpcore]\n",
            "   ---------------------------- ----------- 26/36 [anyio]\n",
            "   ---------------------------- ----------- 26/36 [anyio]\n",
            "   ---------------------------- ----------- 26/36 [anyio]\n",
            "   ---------------------------- ----------- 26/36 [anyio]\n",
            "   ---------------------------- ----------- 26/36 [anyio]\n",
            "   ---------------------------- ----------- 26/36 [anyio]\n",
            "   ---------------------------- ----------- 26/36 [anyio]\n",
            "   ---------------------------- ----------- 26/36 [anyio]\n",
            "   ------------------------------- -------- 28/36 [requests-toolbelt]\n",
            "   ------------------------------- -------- 28/36 [requests-toolbelt]\n",
            "   ------------------------------- -------- 28/36 [requests-toolbelt]\n",
            "   -------------------------------- ------- 29/36 [pydantic]\n",
            "   -------------------------------- ------- 29/36 [pydantic]\n",
            "   -------------------------------- ------- 29/36 [pydantic]\n",
            "   -------------------------------- ------- 29/36 [pydantic]\n",
            "   -------------------------------- ------- 29/36 [pydantic]\n",
            "   -------------------------------- ------- 29/36 [pydantic]\n",
            "   -------------------------------- ------- 29/36 [pydantic]\n",
            "   -------------------------------- ------- 29/36 [pydantic]\n",
            "   -------------------------------- ------- 29/36 [pydantic]\n",
            "   -------------------------------- ------- 29/36 [pydantic]\n",
            "   -------------------------------- ------- 29/36 [pydantic]\n",
            "   -------------------------------- ------- 29/36 [pydantic]\n",
            "   -------------------------------- ------- 29/36 [pydantic]\n",
            "   -------------------------------- ------- 29/36 [pydantic]\n",
            "   -------------------------------- ------- 29/36 [pydantic]\n",
            "   -------------------------------- ------- 29/36 [pydantic]\n",
            "   -------------------------------- ------- 29/36 [pydantic]\n",
            "   -------------------------------- ------- 29/36 [pydantic]\n",
            "   --------------------------------- ------ 30/36 [httpx]\n",
            "   --------------------------------- ------ 30/36 [httpx]\n",
            "   --------------------------------- ------ 30/36 [httpx]\n",
            "   --------------------------------- ------ 30/36 [httpx]\n",
            "   ---------------------------------- ----- 31/36 [aiohttp]\n",
            "   ---------------------------------- ----- 31/36 [aiohttp]\n",
            "   ---------------------------------- ----- 31/36 [aiohttp]\n",
            "   ---------------------------------- ----- 31/36 [aiohttp]\n",
            "   ---------------------------------- ----- 31/36 [aiohttp]\n",
            "   ---------------------------------- ----- 31/36 [aiohttp]\n",
            "   ---------------------------------- ----- 31/36 [aiohttp]\n",
            "   ---------------------------------- ----- 31/36 [aiohttp]\n",
            "   ---------------------------------- ----- 31/36 [aiohttp]\n",
            "   ----------------------------------- ---- 32/36 [langsmith]\n",
            "   ----------------------------------- ---- 32/36 [langsmith]\n",
            "   ----------------------------------- ---- 32/36 [langsmith]\n",
            "   ----------------------------------- ---- 32/36 [langsmith]\n",
            "   ----------------------------------- ---- 32/36 [langsmith]\n",
            "   ----------------------------------- ---- 32/36 [langsmith]\n",
            "   ------------------------------------ --- 33/36 [langchain-core]\n",
            "   ------------------------------------ --- 33/36 [langchain-core]\n",
            "   ------------------------------------ --- 33/36 [langchain-core]\n",
            "   ------------------------------------ --- 33/36 [langchain-core]\n",
            "   ------------------------------------ --- 33/36 [langchain-core]\n",
            "   ------------------------------------ --- 33/36 [langchain-core]\n",
            "   ------------------------------------ --- 33/36 [langchain-core]\n",
            "   ------------------------------------ --- 33/36 [langchain-core]\n",
            "   ------------------------------------ --- 33/36 [langchain-core]\n",
            "   ------------------------------------ --- 33/36 [langchain-core]\n",
            "   ------------------------------------ --- 33/36 [langchain-core]\n",
            "   ------------------------------------ --- 33/36 [langchain-core]\n",
            "   ------------------------------------ --- 33/36 [langchain-core]\n",
            "   ------------------------------------ --- 33/36 [langchain-core]\n",
            "   ------------------------------------ --- 33/36 [langchain-core]\n",
            "   ------------------------------------ --- 33/36 [langchain-core]\n",
            "   ------------------------------------ --- 33/36 [langchain-core]\n",
            "   ------------------------------------ --- 33/36 [langchain-core]\n",
            "   ------------------------------------ --- 33/36 [langchain-core]\n",
            "   ------------------------------------- -- 34/36 [langchain-text-splitters]\n",
            "   -------------------------------------- - 35/36 [langchain]\n",
            "   -------------------------------------- - 35/36 [langchain]\n",
            "   -------------------------------------- - 35/36 [langchain]\n",
            "   -------------------------------------- - 35/36 [langchain]\n",
            "   -------------------------------------- - 35/36 [langchain]\n",
            "   -------------------------------------- - 35/36 [langchain]\n",
            "   -------------------------------------- - 35/36 [langchain]\n",
            "   -------------------------------------- - 35/36 [langchain]\n",
            "   -------------------------------------- - 35/36 [langchain]\n",
            "   -------------------------------------- - 35/36 [langchain]\n",
            "   -------------------------------------- - 35/36 [langchain]\n",
            "   -------------------------------------- - 35/36 [langchain]\n",
            "   -------------------------------------- - 35/36 [langchain]\n",
            "   -------------------------------------- - 35/36 [langchain]\n",
            "   -------------------------------------- - 35/36 [langchain]\n",
            "   -------------------------------------- - 35/36 [langchain]\n",
            "   -------------------------------------- - 35/36 [langchain]\n",
            "   -------------------------------------- - 35/36 [langchain]\n",
            "   -------------------------------------- - 35/36 [langchain]\n",
            "   -------------------------------------- - 35/36 [langchain]\n",
            "   -------------------------------------- - 35/36 [langchain]\n",
            "   -------------------------------------- - 35/36 [langchain]\n",
            "   -------------------------------------- - 35/36 [langchain]\n",
            "   -------------------------------------- - 35/36 [langchain]\n",
            "   -------------------------------------- - 35/36 [langchain]\n",
            "   -------------------------------------- - 35/36 [langchain]\n",
            "   -------------------------------------- - 35/36 [langchain]\n",
            "   -------------------------------------- - 35/36 [langchain]\n",
            "   -------------------------------------- - 35/36 [langchain]\n",
            "   -------------------------------------- - 35/36 [langchain]\n",
            "   -------------------------------------- - 35/36 [langchain]\n",
            "   -------------------------------------- - 35/36 [langchain]\n",
            "   -------------------------------------- - 35/36 [langchain]\n",
            "   -------------------------------------- - 35/36 [langchain]\n",
            "   -------------------------------------- - 35/36 [langchain]\n",
            "   -------------------------------------- - 35/36 [langchain]\n",
            "   -------------------------------------- - 35/36 [langchain]\n",
            "   -------------------------------------- - 35/36 [langchain]\n",
            "   -------------------------------------- - 35/36 [langchain]\n",
            "   -------------------------------------- - 35/36 [langchain]\n",
            "   -------------------------------------- - 35/36 [langchain]\n",
            "   -------------------------------------- - 35/36 [langchain]\n",
            "   -------------------------------------- - 35/36 [langchain]\n",
            "   -------------------------------------- - 35/36 [langchain]\n",
            "   -------------------------------------- - 35/36 [langchain]\n",
            "   -------------------------------------- - 35/36 [langchain]\n",
            "   -------------------------------------- - 35/36 [langchain]\n",
            "   -------------------------------------- - 35/36 [langchain]\n",
            "   -------------------------------------- - 35/36 [langchain]\n",
            "   -------------------------------------- - 35/36 [langchain]\n",
            "   -------------------------------------- - 35/36 [langchain]\n",
            "   -------------------------------------- - 35/36 [langchain]\n",
            "   -------------------------------------- - 35/36 [langchain]\n",
            "   -------------------------------------- - 35/36 [langchain]\n",
            "   -------------------------------------- - 35/36 [langchain]\n",
            "   -------------------------------------- - 35/36 [langchain]\n",
            "   -------------------------------------- - 35/36 [langchain]\n",
            "   -------------------------------------- - 35/36 [langchain]\n",
            "   -------------------------------------- - 35/36 [langchain]\n",
            "   -------------------------------------- - 35/36 [langchain]\n",
            "   -------------------------------------- - 35/36 [langchain]\n",
            "   -------------------------------------- - 35/36 [langchain]\n",
            "   -------------------------------------- - 35/36 [langchain]\n",
            "   -------------------------------------- - 35/36 [langchain]\n",
            "   -------------------------------------- - 35/36 [langchain]\n",
            "   -------------------------------------- - 35/36 [langchain]\n",
            "   -------------------------------------- - 35/36 [langchain]\n",
            "   -------------------------------------- - 35/36 [langchain]\n",
            "   -------------------------------------- - 35/36 [langchain]\n",
            "   -------------------------------------- - 35/36 [langchain]\n",
            "   -------------------------------------- - 35/36 [langchain]\n",
            "   -------------------------------------- - 35/36 [langchain]\n",
            "   -------------------------------------- - 35/36 [langchain]\n",
            "   -------------------------------------- - 35/36 [langchain]\n",
            "   -------------------------------------- - 35/36 [langchain]\n",
            "   -------------------------------------- - 35/36 [langchain]\n",
            "   -------------------------------------- - 35/36 [langchain]\n",
            "   -------------------------------------- - 35/36 [langchain]\n",
            "   -------------------------------------- - 35/36 [langchain]\n",
            "   -------------------------------------- - 35/36 [langchain]\n",
            "   -------------------------------------- - 35/36 [langchain]\n",
            "   -------------------------------------- - 35/36 [langchain]\n",
            "   -------------------------------------- - 35/36 [langchain]\n",
            "   -------------------------------------- - 35/36 [langchain]\n",
            "   -------------------------------------- - 35/36 [langchain]\n",
            "   -------------------------------------- - 35/36 [langchain]\n",
            "   -------------------------------------- - 35/36 [langchain]\n",
            "   -------------------------------------- - 35/36 [langchain]\n",
            "   -------------------------------------- - 35/36 [langchain]\n",
            "   -------------------------------------- - 35/36 [langchain]\n",
            "   -------------------------------------- - 35/36 [langchain]\n",
            "   -------------------------------------- - 35/36 [langchain]\n",
            "   -------------------------------------- - 35/36 [langchain]\n",
            "   -------------------------------------- - 35/36 [langchain]\n",
            "   ---------------------------------------- 36/36 [langchain]\n",
            "\n",
            "Successfully installed PyYAML-6.0.2 SQLAlchemy-2.0.40 aiohappyeyeballs-2.6.1 aiohttp-3.11.18 aiosignal-1.3.2 annotated-types-0.7.0 anyio-4.9.0 attrs-25.3.0 certifi-2025.4.26 charset-normalizer-3.4.2 frozenlist-1.6.0 greenlet-3.2.1 h11-0.16.0 httpcore-1.0.9 httpx-0.28.1 idna-3.10 jsonpatch-1.33 jsonpointer-3.0.0 langchain-0.3.14 langchain-core-0.3.58 langchain-text-splitters-0.3.8 langsmith-0.2.11 multidict-6.4.3 orjson-3.10.18 packaging-24.2 propcache-0.3.1 pydantic-2.11.4 pydantic-core-2.33.2 requests-2.32.3 requests-toolbelt-1.0.0 sniffio-1.3.1 tenacity-9.1.2 typing-extensions-4.13.2 typing-inspection-0.4.0 urllib3-2.4.0 yarl-1.20.0\n",
            "Collecting langchain-openai==0.3.0\n",
            "  Using cached langchain_openai-0.3.0-py3-none-any.whl.metadata (2.7 kB)\n",
            "Requirement already satisfied: langchain-core<0.4.0,>=0.3.29 in d:\\2. my workspace and notes\\1. demystify folders\\generativai_demystified\\venv\\lib\\site-packages (from langchain-openai==0.3.0) (0.3.58)\n",
            "Collecting openai<2.0.0,>=1.58.1 (from langchain-openai==0.3.0)\n",
            "  Using cached openai-1.77.0-py3-none-any.whl.metadata (25 kB)\n",
            "Collecting tiktoken<1,>=0.7 (from langchain-openai==0.3.0)\n",
            "  Using cached tiktoken-0.9.0-cp312-cp312-win_amd64.whl.metadata (6.8 kB)\n",
            "Requirement already satisfied: langsmith<0.4,>=0.1.125 in d:\\2. my workspace and notes\\1. demystify folders\\generativai_demystified\\venv\\lib\\site-packages (from langchain-core<0.4.0,>=0.3.29->langchain-openai==0.3.0) (0.2.11)\n",
            "Requirement already satisfied: tenacity!=8.4.0,<10.0.0,>=8.1.0 in d:\\2. my workspace and notes\\1. demystify folders\\generativai_demystified\\venv\\lib\\site-packages (from langchain-core<0.4.0,>=0.3.29->langchain-openai==0.3.0) (9.1.2)\n",
            "Requirement already satisfied: jsonpatch<2.0,>=1.33 in d:\\2. my workspace and notes\\1. demystify folders\\generativai_demystified\\venv\\lib\\site-packages (from langchain-core<0.4.0,>=0.3.29->langchain-openai==0.3.0) (1.33)\n",
            "Requirement already satisfied: PyYAML>=5.3 in d:\\2. my workspace and notes\\1. demystify folders\\generativai_demystified\\venv\\lib\\site-packages (from langchain-core<0.4.0,>=0.3.29->langchain-openai==0.3.0) (6.0.2)\n",
            "Requirement already satisfied: packaging<25,>=23.2 in d:\\2. my workspace and notes\\1. demystify folders\\generativai_demystified\\venv\\lib\\site-packages (from langchain-core<0.4.0,>=0.3.29->langchain-openai==0.3.0) (24.2)\n",
            "Requirement already satisfied: typing-extensions>=4.7 in d:\\2. my workspace and notes\\1. demystify folders\\generativai_demystified\\venv\\lib\\site-packages (from langchain-core<0.4.0,>=0.3.29->langchain-openai==0.3.0) (4.13.2)\n",
            "Requirement already satisfied: pydantic<3.0.0,>=2.7.4 in d:\\2. my workspace and notes\\1. demystify folders\\generativai_demystified\\venv\\lib\\site-packages (from langchain-core<0.4.0,>=0.3.29->langchain-openai==0.3.0) (2.11.4)\n",
            "Requirement already satisfied: jsonpointer>=1.9 in d:\\2. my workspace and notes\\1. demystify folders\\generativai_demystified\\venv\\lib\\site-packages (from jsonpatch<2.0,>=1.33->langchain-core<0.4.0,>=0.3.29->langchain-openai==0.3.0) (3.0.0)\n",
            "Requirement already satisfied: httpx<1,>=0.23.0 in d:\\2. my workspace and notes\\1. demystify folders\\generativai_demystified\\venv\\lib\\site-packages (from langsmith<0.4,>=0.1.125->langchain-core<0.4.0,>=0.3.29->langchain-openai==0.3.0) (0.28.1)\n",
            "Requirement already satisfied: orjson<4.0.0,>=3.9.14 in d:\\2. my workspace and notes\\1. demystify folders\\generativai_demystified\\venv\\lib\\site-packages (from langsmith<0.4,>=0.1.125->langchain-core<0.4.0,>=0.3.29->langchain-openai==0.3.0) (3.10.18)\n",
            "Requirement already satisfied: requests<3,>=2 in d:\\2. my workspace and notes\\1. demystify folders\\generativai_demystified\\venv\\lib\\site-packages (from langsmith<0.4,>=0.1.125->langchain-core<0.4.0,>=0.3.29->langchain-openai==0.3.0) (2.32.3)\n",
            "Requirement already satisfied: requests-toolbelt<2.0.0,>=1.0.0 in d:\\2. my workspace and notes\\1. demystify folders\\generativai_demystified\\venv\\lib\\site-packages (from langsmith<0.4,>=0.1.125->langchain-core<0.4.0,>=0.3.29->langchain-openai==0.3.0) (1.0.0)\n",
            "Requirement already satisfied: anyio in d:\\2. my workspace and notes\\1. demystify folders\\generativai_demystified\\venv\\lib\\site-packages (from httpx<1,>=0.23.0->langsmith<0.4,>=0.1.125->langchain-core<0.4.0,>=0.3.29->langchain-openai==0.3.0) (4.9.0)\n",
            "Requirement already satisfied: certifi in d:\\2. my workspace and notes\\1. demystify folders\\generativai_demystified\\venv\\lib\\site-packages (from httpx<1,>=0.23.0->langsmith<0.4,>=0.1.125->langchain-core<0.4.0,>=0.3.29->langchain-openai==0.3.0) (2025.4.26)\n",
            "Requirement already satisfied: httpcore==1.* in d:\\2. my workspace and notes\\1. demystify folders\\generativai_demystified\\venv\\lib\\site-packages (from httpx<1,>=0.23.0->langsmith<0.4,>=0.1.125->langchain-core<0.4.0,>=0.3.29->langchain-openai==0.3.0) (1.0.9)\n",
            "Requirement already satisfied: idna in d:\\2. my workspace and notes\\1. demystify folders\\generativai_demystified\\venv\\lib\\site-packages (from httpx<1,>=0.23.0->langsmith<0.4,>=0.1.125->langchain-core<0.4.0,>=0.3.29->langchain-openai==0.3.0) (3.10)\n",
            "Requirement already satisfied: h11>=0.16 in d:\\2. my workspace and notes\\1. demystify folders\\generativai_demystified\\venv\\lib\\site-packages (from httpcore==1.*->httpx<1,>=0.23.0->langsmith<0.4,>=0.1.125->langchain-core<0.4.0,>=0.3.29->langchain-openai==0.3.0) (0.16.0)\n",
            "Collecting distro<2,>=1.7.0 (from openai<2.0.0,>=1.58.1->langchain-openai==0.3.0)\n",
            "  Using cached distro-1.9.0-py3-none-any.whl.metadata (6.8 kB)\n",
            "Collecting jiter<1,>=0.4.0 (from openai<2.0.0,>=1.58.1->langchain-openai==0.3.0)\n",
            "  Using cached jiter-0.9.0-cp312-cp312-win_amd64.whl.metadata (5.3 kB)\n",
            "Requirement already satisfied: sniffio in d:\\2. my workspace and notes\\1. demystify folders\\generativai_demystified\\venv\\lib\\site-packages (from openai<2.0.0,>=1.58.1->langchain-openai==0.3.0) (1.3.1)\n",
            "Collecting tqdm>4 (from openai<2.0.0,>=1.58.1->langchain-openai==0.3.0)\n",
            "  Using cached tqdm-4.67.1-py3-none-any.whl.metadata (57 kB)\n",
            "Requirement already satisfied: annotated-types>=0.6.0 in d:\\2. my workspace and notes\\1. demystify folders\\generativai_demystified\\venv\\lib\\site-packages (from pydantic<3.0.0,>=2.7.4->langchain-core<0.4.0,>=0.3.29->langchain-openai==0.3.0) (0.7.0)\n",
            "Requirement already satisfied: pydantic-core==2.33.2 in d:\\2. my workspace and notes\\1. demystify folders\\generativai_demystified\\venv\\lib\\site-packages (from pydantic<3.0.0,>=2.7.4->langchain-core<0.4.0,>=0.3.29->langchain-openai==0.3.0) (2.33.2)\n",
            "Requirement already satisfied: typing-inspection>=0.4.0 in d:\\2. my workspace and notes\\1. demystify folders\\generativai_demystified\\venv\\lib\\site-packages (from pydantic<3.0.0,>=2.7.4->langchain-core<0.4.0,>=0.3.29->langchain-openai==0.3.0) (0.4.0)\n",
            "Requirement already satisfied: charset-normalizer<4,>=2 in d:\\2. my workspace and notes\\1. demystify folders\\generativai_demystified\\venv\\lib\\site-packages (from requests<3,>=2->langsmith<0.4,>=0.1.125->langchain-core<0.4.0,>=0.3.29->langchain-openai==0.3.0) (3.4.2)\n",
            "Requirement already satisfied: urllib3<3,>=1.21.1 in d:\\2. my workspace and notes\\1. demystify folders\\generativai_demystified\\venv\\lib\\site-packages (from requests<3,>=2->langsmith<0.4,>=0.1.125->langchain-core<0.4.0,>=0.3.29->langchain-openai==0.3.0) (2.4.0)\n",
            "Collecting regex>=2022.1.18 (from tiktoken<1,>=0.7->langchain-openai==0.3.0)\n",
            "  Using cached regex-2024.11.6-cp312-cp312-win_amd64.whl.metadata (41 kB)\n",
            "Requirement already satisfied: colorama in d:\\2. my workspace and notes\\1. demystify folders\\generativai_demystified\\venv\\lib\\site-packages (from tqdm>4->openai<2.0.0,>=1.58.1->langchain-openai==0.3.0) (0.4.6)\n",
            "Using cached langchain_openai-0.3.0-py3-none-any.whl (54 kB)\n",
            "Using cached openai-1.77.0-py3-none-any.whl (662 kB)\n",
            "Using cached distro-1.9.0-py3-none-any.whl (20 kB)\n",
            "Using cached jiter-0.9.0-cp312-cp312-win_amd64.whl (207 kB)\n",
            "Using cached tiktoken-0.9.0-cp312-cp312-win_amd64.whl (894 kB)\n",
            "Using cached regex-2024.11.6-cp312-cp312-win_amd64.whl (273 kB)\n",
            "Using cached tqdm-4.67.1-py3-none-any.whl (78 kB)\n",
            "Installing collected packages: tqdm, regex, jiter, distro, tiktoken, openai, langchain-openai\n",
            "\n",
            "   ---------------------------------------- 0/7 [tqdm]\n",
            "   ---------------------------------------- 0/7 [tqdm]\n",
            "   ----- ---------------------------------- 1/7 [regex]\n",
            "   ----- ---------------------------------- 1/7 [regex]\n",
            "   ---------------------- ----------------- 4/7 [tiktoken]\n",
            "   ---------------------------- ----------- 5/7 [openai]\n",
            "   ---------------------------- ----------- 5/7 [openai]\n",
            "   ---------------------------- ----------- 5/7 [openai]\n",
            "   ---------------------------- ----------- 5/7 [openai]\n",
            "   ---------------------------- ----------- 5/7 [openai]\n",
            "   ---------------------------- ----------- 5/7 [openai]\n",
            "   ---------------------------- ----------- 5/7 [openai]\n",
            "   ---------------------------- ----------- 5/7 [openai]\n",
            "   ---------------------------- ----------- 5/7 [openai]\n",
            "   ---------------------------- ----------- 5/7 [openai]\n",
            "   ---------------------------- ----------- 5/7 [openai]\n",
            "   ---------------------------- ----------- 5/7 [openai]\n",
            "   ---------------------------- ----------- 5/7 [openai]\n",
            "   ---------------------------- ----------- 5/7 [openai]\n",
            "   ---------------------------- ----------- 5/7 [openai]\n",
            "   ---------------------------- ----------- 5/7 [openai]\n",
            "   ---------------------------- ----------- 5/7 [openai]\n",
            "   ---------------------------- ----------- 5/7 [openai]\n",
            "   ---------------------------- ----------- 5/7 [openai]\n",
            "   ---------------------------- ----------- 5/7 [openai]\n",
            "   ---------------------------- ----------- 5/7 [openai]\n",
            "   ---------------------------- ----------- 5/7 [openai]\n",
            "   ---------------------------- ----------- 5/7 [openai]\n",
            "   ---------------------------- ----------- 5/7 [openai]\n",
            "   ---------------------------- ----------- 5/7 [openai]\n",
            "   ---------------------------- ----------- 5/7 [openai]\n",
            "   ---------------------------- ----------- 5/7 [openai]\n",
            "   ---------------------------- ----------- 5/7 [openai]\n",
            "   ---------------------------- ----------- 5/7 [openai]\n",
            "   ---------------------------- ----------- 5/7 [openai]\n",
            "   ---------------------------- ----------- 5/7 [openai]\n",
            "   ---------------------------- ----------- 5/7 [openai]\n",
            "   ---------------------------- ----------- 5/7 [openai]\n",
            "   ---------------------------- ----------- 5/7 [openai]\n",
            "   ---------------------------- ----------- 5/7 [openai]\n",
            "   ---------------------------- ----------- 5/7 [openai]\n",
            "   ---------------------------- ----------- 5/7 [openai]\n",
            "   ---------------------------- ----------- 5/7 [openai]\n",
            "   ---------------------------- ----------- 5/7 [openai]\n",
            "   ---------------------------- ----------- 5/7 [openai]\n",
            "   ---------------------------- ----------- 5/7 [openai]\n",
            "   ---------------------------- ----------- 5/7 [openai]\n",
            "   ---------------------------- ----------- 5/7 [openai]\n",
            "   ---------------------------- ----------- 5/7 [openai]\n",
            "   ---------------------------- ----------- 5/7 [openai]\n",
            "   ---------------------------- ----------- 5/7 [openai]\n",
            "   ---------------------------- ----------- 5/7 [openai]\n",
            "   ---------------------------------- ----- 6/7 [langchain-openai]\n",
            "   ---------------------------------------- 7/7 [langchain-openai]\n",
            "\n",
            "Successfully installed distro-1.9.0 jiter-0.9.0 langchain-openai-0.3.0 openai-1.77.0 regex-2024.11.6 tiktoken-0.9.0 tqdm-4.67.1\n",
            "Collecting langchain-community==0.3.14\n",
            "  Using cached langchain_community-0.3.14-py3-none-any.whl.metadata (2.9 kB)\n",
            "Requirement already satisfied: PyYAML>=5.3 in d:\\2. my workspace and notes\\1. demystify folders\\generativai_demystified\\venv\\lib\\site-packages (from langchain-community==0.3.14) (6.0.2)\n",
            "Requirement already satisfied: SQLAlchemy<3,>=1.4 in d:\\2. my workspace and notes\\1. demystify folders\\generativai_demystified\\venv\\lib\\site-packages (from langchain-community==0.3.14) (2.0.40)\n",
            "Requirement already satisfied: aiohttp<4.0.0,>=3.8.3 in d:\\2. my workspace and notes\\1. demystify folders\\generativai_demystified\\venv\\lib\\site-packages (from langchain-community==0.3.14) (3.11.18)\n",
            "Collecting dataclasses-json<0.7,>=0.5.7 (from langchain-community==0.3.14)\n",
            "  Using cached dataclasses_json-0.6.7-py3-none-any.whl.metadata (25 kB)\n",
            "Collecting httpx-sse<0.5.0,>=0.4.0 (from langchain-community==0.3.14)\n",
            "  Using cached httpx_sse-0.4.0-py3-none-any.whl.metadata (9.0 kB)\n",
            "Requirement already satisfied: langchain<0.4.0,>=0.3.14 in d:\\2. my workspace and notes\\1. demystify folders\\generativai_demystified\\venv\\lib\\site-packages (from langchain-community==0.3.14) (0.3.14)\n",
            "Requirement already satisfied: langchain-core<0.4.0,>=0.3.29 in d:\\2. my workspace and notes\\1. demystify folders\\generativai_demystified\\venv\\lib\\site-packages (from langchain-community==0.3.14) (0.3.58)\n",
            "Requirement already satisfied: langsmith<0.3,>=0.1.125 in d:\\2. my workspace and notes\\1. demystify folders\\generativai_demystified\\venv\\lib\\site-packages (from langchain-community==0.3.14) (0.2.11)\n",
            "Requirement already satisfied: numpy<3,>=1.26.2 in d:\\2. my workspace and notes\\1. demystify folders\\generativai_demystified\\venv\\lib\\site-packages (from langchain-community==0.3.14) (2.2.5)\n",
            "Collecting pydantic-settings<3.0.0,>=2.4.0 (from langchain-community==0.3.14)\n",
            "  Using cached pydantic_settings-2.9.1-py3-none-any.whl.metadata (3.8 kB)\n",
            "Requirement already satisfied: requests<3,>=2 in d:\\2. my workspace and notes\\1. demystify folders\\generativai_demystified\\venv\\lib\\site-packages (from langchain-community==0.3.14) (2.32.3)\n",
            "Requirement already satisfied: tenacity!=8.4.0,<10,>=8.1.0 in d:\\2. my workspace and notes\\1. demystify folders\\generativai_demystified\\venv\\lib\\site-packages (from langchain-community==0.3.14) (9.1.2)\n",
            "Requirement already satisfied: aiohappyeyeballs>=2.3.0 in d:\\2. my workspace and notes\\1. demystify folders\\generativai_demystified\\venv\\lib\\site-packages (from aiohttp<4.0.0,>=3.8.3->langchain-community==0.3.14) (2.6.1)\n",
            "Requirement already satisfied: aiosignal>=1.1.2 in d:\\2. my workspace and notes\\1. demystify folders\\generativai_demystified\\venv\\lib\\site-packages (from aiohttp<4.0.0,>=3.8.3->langchain-community==0.3.14) (1.3.2)\n",
            "Requirement already satisfied: attrs>=17.3.0 in d:\\2. my workspace and notes\\1. demystify folders\\generativai_demystified\\venv\\lib\\site-packages (from aiohttp<4.0.0,>=3.8.3->langchain-community==0.3.14) (25.3.0)\n",
            "Requirement already satisfied: frozenlist>=1.1.1 in d:\\2. my workspace and notes\\1. demystify folders\\generativai_demystified\\venv\\lib\\site-packages (from aiohttp<4.0.0,>=3.8.3->langchain-community==0.3.14) (1.6.0)\n",
            "Requirement already satisfied: multidict<7.0,>=4.5 in d:\\2. my workspace and notes\\1. demystify folders\\generativai_demystified\\venv\\lib\\site-packages (from aiohttp<4.0.0,>=3.8.3->langchain-community==0.3.14) (6.4.3)\n",
            "Requirement already satisfied: propcache>=0.2.0 in d:\\2. my workspace and notes\\1. demystify folders\\generativai_demystified\\venv\\lib\\site-packages (from aiohttp<4.0.0,>=3.8.3->langchain-community==0.3.14) (0.3.1)\n",
            "Requirement already satisfied: yarl<2.0,>=1.17.0 in d:\\2. my workspace and notes\\1. demystify folders\\generativai_demystified\\venv\\lib\\site-packages (from aiohttp<4.0.0,>=3.8.3->langchain-community==0.3.14) (1.20.0)\n",
            "Collecting marshmallow<4.0.0,>=3.18.0 (from dataclasses-json<0.7,>=0.5.7->langchain-community==0.3.14)\n",
            "  Using cached marshmallow-3.26.1-py3-none-any.whl.metadata (7.3 kB)\n",
            "Collecting typing-inspect<1,>=0.4.0 (from dataclasses-json<0.7,>=0.5.7->langchain-community==0.3.14)\n",
            "  Using cached typing_inspect-0.9.0-py3-none-any.whl.metadata (1.5 kB)\n",
            "Requirement already satisfied: langchain-text-splitters<0.4.0,>=0.3.3 in d:\\2. my workspace and notes\\1. demystify folders\\generativai_demystified\\venv\\lib\\site-packages (from langchain<0.4.0,>=0.3.14->langchain-community==0.3.14) (0.3.8)\n",
            "Requirement already satisfied: pydantic<3.0.0,>=2.7.4 in d:\\2. my workspace and notes\\1. demystify folders\\generativai_demystified\\venv\\lib\\site-packages (from langchain<0.4.0,>=0.3.14->langchain-community==0.3.14) (2.11.4)\n",
            "Requirement already satisfied: jsonpatch<2.0,>=1.33 in d:\\2. my workspace and notes\\1. demystify folders\\generativai_demystified\\venv\\lib\\site-packages (from langchain-core<0.4.0,>=0.3.29->langchain-community==0.3.14) (1.33)\n",
            "Requirement already satisfied: packaging<25,>=23.2 in d:\\2. my workspace and notes\\1. demystify folders\\generativai_demystified\\venv\\lib\\site-packages (from langchain-core<0.4.0,>=0.3.29->langchain-community==0.3.14) (24.2)\n",
            "Requirement already satisfied: typing-extensions>=4.7 in d:\\2. my workspace and notes\\1. demystify folders\\generativai_demystified\\venv\\lib\\site-packages (from langchain-core<0.4.0,>=0.3.29->langchain-community==0.3.14) (4.13.2)\n",
            "Requirement already satisfied: jsonpointer>=1.9 in d:\\2. my workspace and notes\\1. demystify folders\\generativai_demystified\\venv\\lib\\site-packages (from jsonpatch<2.0,>=1.33->langchain-core<0.4.0,>=0.3.29->langchain-community==0.3.14) (3.0.0)\n",
            "Requirement already satisfied: httpx<1,>=0.23.0 in d:\\2. my workspace and notes\\1. demystify folders\\generativai_demystified\\venv\\lib\\site-packages (from langsmith<0.3,>=0.1.125->langchain-community==0.3.14) (0.28.1)\n",
            "Requirement already satisfied: orjson<4.0.0,>=3.9.14 in d:\\2. my workspace and notes\\1. demystify folders\\generativai_demystified\\venv\\lib\\site-packages (from langsmith<0.3,>=0.1.125->langchain-community==0.3.14) (3.10.18)\n",
            "Requirement already satisfied: requests-toolbelt<2.0.0,>=1.0.0 in d:\\2. my workspace and notes\\1. demystify folders\\generativai_demystified\\venv\\lib\\site-packages (from langsmith<0.3,>=0.1.125->langchain-community==0.3.14) (1.0.0)\n",
            "Requirement already satisfied: anyio in d:\\2. my workspace and notes\\1. demystify folders\\generativai_demystified\\venv\\lib\\site-packages (from httpx<1,>=0.23.0->langsmith<0.3,>=0.1.125->langchain-community==0.3.14) (4.9.0)\n",
            "Requirement already satisfied: certifi in d:\\2. my workspace and notes\\1. demystify folders\\generativai_demystified\\venv\\lib\\site-packages (from httpx<1,>=0.23.0->langsmith<0.3,>=0.1.125->langchain-community==0.3.14) (2025.4.26)\n",
            "Requirement already satisfied: httpcore==1.* in d:\\2. my workspace and notes\\1. demystify folders\\generativai_demystified\\venv\\lib\\site-packages (from httpx<1,>=0.23.0->langsmith<0.3,>=0.1.125->langchain-community==0.3.14) (1.0.9)\n",
            "Requirement already satisfied: idna in d:\\2. my workspace and notes\\1. demystify folders\\generativai_demystified\\venv\\lib\\site-packages (from httpx<1,>=0.23.0->langsmith<0.3,>=0.1.125->langchain-community==0.3.14) (3.10)\n",
            "Requirement already satisfied: h11>=0.16 in d:\\2. my workspace and notes\\1. demystify folders\\generativai_demystified\\venv\\lib\\site-packages (from httpcore==1.*->httpx<1,>=0.23.0->langsmith<0.3,>=0.1.125->langchain-community==0.3.14) (0.16.0)\n",
            "Requirement already satisfied: annotated-types>=0.6.0 in d:\\2. my workspace and notes\\1. demystify folders\\generativai_demystified\\venv\\lib\\site-packages (from pydantic<3.0.0,>=2.7.4->langchain<0.4.0,>=0.3.14->langchain-community==0.3.14) (0.7.0)\n",
            "Requirement already satisfied: pydantic-core==2.33.2 in d:\\2. my workspace and notes\\1. demystify folders\\generativai_demystified\\venv\\lib\\site-packages (from pydantic<3.0.0,>=2.7.4->langchain<0.4.0,>=0.3.14->langchain-community==0.3.14) (2.33.2)\n",
            "Requirement already satisfied: typing-inspection>=0.4.0 in d:\\2. my workspace and notes\\1. demystify folders\\generativai_demystified\\venv\\lib\\site-packages (from pydantic<3.0.0,>=2.7.4->langchain<0.4.0,>=0.3.14->langchain-community==0.3.14) (0.4.0)\n",
            "Collecting python-dotenv>=0.21.0 (from pydantic-settings<3.0.0,>=2.4.0->langchain-community==0.3.14)\n",
            "  Using cached python_dotenv-1.1.0-py3-none-any.whl.metadata (24 kB)\n",
            "Requirement already satisfied: charset-normalizer<4,>=2 in d:\\2. my workspace and notes\\1. demystify folders\\generativai_demystified\\venv\\lib\\site-packages (from requests<3,>=2->langchain-community==0.3.14) (3.4.2)\n",
            "Requirement already satisfied: urllib3<3,>=1.21.1 in d:\\2. my workspace and notes\\1. demystify folders\\generativai_demystified\\venv\\lib\\site-packages (from requests<3,>=2->langchain-community==0.3.14) (2.4.0)\n",
            "Requirement already satisfied: greenlet>=1 in d:\\2. my workspace and notes\\1. demystify folders\\generativai_demystified\\venv\\lib\\site-packages (from SQLAlchemy<3,>=1.4->langchain-community==0.3.14) (3.2.1)\n",
            "Collecting mypy-extensions>=0.3.0 (from typing-inspect<1,>=0.4.0->dataclasses-json<0.7,>=0.5.7->langchain-community==0.3.14)\n",
            "  Using cached mypy_extensions-1.1.0-py3-none-any.whl.metadata (1.1 kB)\n",
            "Requirement already satisfied: sniffio>=1.1 in d:\\2. my workspace and notes\\1. demystify folders\\generativai_demystified\\venv\\lib\\site-packages (from anyio->httpx<1,>=0.23.0->langsmith<0.3,>=0.1.125->langchain-community==0.3.14) (1.3.1)\n",
            "Using cached langchain_community-0.3.14-py3-none-any.whl (2.5 MB)\n",
            "Using cached dataclasses_json-0.6.7-py3-none-any.whl (28 kB)\n",
            "Using cached httpx_sse-0.4.0-py3-none-any.whl (7.8 kB)\n",
            "Using cached marshmallow-3.26.1-py3-none-any.whl (50 kB)\n",
            "Using cached pydantic_settings-2.9.1-py3-none-any.whl (44 kB)\n",
            "Using cached typing_inspect-0.9.0-py3-none-any.whl (8.8 kB)\n",
            "Using cached mypy_extensions-1.1.0-py3-none-any.whl (5.0 kB)\n",
            "Using cached python_dotenv-1.1.0-py3-none-any.whl (20 kB)\n",
            "Installing collected packages: python-dotenv, mypy-extensions, marshmallow, httpx-sse, typing-inspect, pydantic-settings, dataclasses-json, langchain-community\n",
            "\n",
            "   ---------------------------------------- 0/8 [python-dotenv]\n",
            "   ---------- ----------------------------- 2/8 [marshmallow]\n",
            "   -------------------- ------------------- 4/8 [typing-inspect]\n",
            "   ------------------------- -------------- 5/8 [pydantic-settings]\n",
            "   ------------------------- -------------- 5/8 [pydantic-settings]\n",
            "   ------------------------------ --------- 6/8 [dataclasses-json]\n",
            "   ----------------------------------- ---- 7/8 [langchain-community]\n",
            "   ----------------------------------- ---- 7/8 [langchain-community]\n",
            "   ----------------------------------- ---- 7/8 [langchain-community]\n",
            "   ----------------------------------- ---- 7/8 [langchain-community]\n",
            "   ----------------------------------- ---- 7/8 [langchain-community]\n",
            "   ----------------------------------- ---- 7/8 [langchain-community]\n",
            "   ----------------------------------- ---- 7/8 [langchain-community]\n",
            "   ----------------------------------- ---- 7/8 [langchain-community]\n",
            "   ----------------------------------- ---- 7/8 [langchain-community]\n",
            "   ----------------------------------- ---- 7/8 [langchain-community]\n",
            "   ----------------------------------- ---- 7/8 [langchain-community]\n",
            "   ----------------------------------- ---- 7/8 [langchain-community]\n",
            "   ----------------------------------- ---- 7/8 [langchain-community]\n",
            "   ----------------------------------- ---- 7/8 [langchain-community]\n",
            "   ----------------------------------- ---- 7/8 [langchain-community]\n",
            "   ----------------------------------- ---- 7/8 [langchain-community]\n",
            "   ----------------------------------- ---- 7/8 [langchain-community]\n",
            "   ----------------------------------- ---- 7/8 [langchain-community]\n",
            "   ----------------------------------- ---- 7/8 [langchain-community]\n",
            "   ----------------------------------- ---- 7/8 [langchain-community]\n",
            "   ----------------------------------- ---- 7/8 [langchain-community]\n",
            "   ----------------------------------- ---- 7/8 [langchain-community]\n",
            "   ----------------------------------- ---- 7/8 [langchain-community]\n",
            "   ----------------------------------- ---- 7/8 [langchain-community]\n",
            "   ----------------------------------- ---- 7/8 [langchain-community]\n",
            "   ----------------------------------- ---- 7/8 [langchain-community]\n",
            "   ----------------------------------- ---- 7/8 [langchain-community]\n",
            "   ----------------------------------- ---- 7/8 [langchain-community]\n",
            "   ----------------------------------- ---- 7/8 [langchain-community]\n",
            "   ----------------------------------- ---- 7/8 [langchain-community]\n",
            "   ----------------------------------- ---- 7/8 [langchain-community]\n",
            "   ----------------------------------- ---- 7/8 [langchain-community]\n",
            "   ----------------------------------- ---- 7/8 [langchain-community]\n",
            "   ----------------------------------- ---- 7/8 [langchain-community]\n",
            "   ----------------------------------- ---- 7/8 [langchain-community]\n",
            "   ----------------------------------- ---- 7/8 [langchain-community]\n",
            "   ----------------------------------- ---- 7/8 [langchain-community]\n",
            "   ----------------------------------- ---- 7/8 [langchain-community]\n",
            "   ----------------------------------- ---- 7/8 [langchain-community]\n",
            "   ----------------------------------- ---- 7/8 [langchain-community]\n",
            "   ----------------------------------- ---- 7/8 [langchain-community]\n",
            "   ----------------------------------- ---- 7/8 [langchain-community]\n",
            "   ----------------------------------- ---- 7/8 [langchain-community]\n",
            "   ----------------------------------- ---- 7/8 [langchain-community]\n",
            "   ----------------------------------- ---- 7/8 [langchain-community]\n",
            "   ----------------------------------- ---- 7/8 [langchain-community]\n",
            "   ----------------------------------- ---- 7/8 [langchain-community]\n",
            "   ----------------------------------- ---- 7/8 [langchain-community]\n",
            "   ----------------------------------- ---- 7/8 [langchain-community]\n",
            "   ----------------------------------- ---- 7/8 [langchain-community]\n",
            "   ----------------------------------- ---- 7/8 [langchain-community]\n",
            "   ----------------------------------- ---- 7/8 [langchain-community]\n",
            "   ----------------------------------- ---- 7/8 [langchain-community]\n",
            "   ----------------------------------- ---- 7/8 [langchain-community]\n",
            "   ----------------------------------- ---- 7/8 [langchain-community]\n",
            "   ----------------------------------- ---- 7/8 [langchain-community]\n",
            "   ----------------------------------- ---- 7/8 [langchain-community]\n",
            "   ----------------------------------- ---- 7/8 [langchain-community]\n",
            "   ----------------------------------- ---- 7/8 [langchain-community]\n",
            "   ----------------------------------- ---- 7/8 [langchain-community]\n",
            "   ----------------------------------- ---- 7/8 [langchain-community]\n",
            "   ----------------------------------- ---- 7/8 [langchain-community]\n",
            "   ----------------------------------- ---- 7/8 [langchain-community]\n",
            "   ----------------------------------- ---- 7/8 [langchain-community]\n",
            "   ----------------------------------- ---- 7/8 [langchain-community]\n",
            "   ----------------------------------- ---- 7/8 [langchain-community]\n",
            "   ----------------------------------- ---- 7/8 [langchain-community]\n",
            "   ----------------------------------- ---- 7/8 [langchain-community]\n",
            "   ----------------------------------- ---- 7/8 [langchain-community]\n",
            "   ----------------------------------- ---- 7/8 [langchain-community]\n",
            "   ----------------------------------- ---- 7/8 [langchain-community]\n",
            "   ----------------------------------- ---- 7/8 [langchain-community]\n",
            "   ----------------------------------- ---- 7/8 [langchain-community]\n",
            "   ----------------------------------- ---- 7/8 [langchain-community]\n",
            "   ----------------------------------- ---- 7/8 [langchain-community]\n",
            "   ----------------------------------- ---- 7/8 [langchain-community]\n",
            "   ----------------------------------- ---- 7/8 [langchain-community]\n",
            "   ----------------------------------- ---- 7/8 [langchain-community]\n",
            "   ----------------------------------- ---- 7/8 [langchain-community]\n",
            "   ----------------------------------- ---- 7/8 [langchain-community]\n",
            "   ----------------------------------- ---- 7/8 [langchain-community]\n",
            "   ----------------------------------- ---- 7/8 [langchain-community]\n",
            "   ----------------------------------- ---- 7/8 [langchain-community]\n",
            "   ----------------------------------- ---- 7/8 [langchain-community]\n",
            "   ----------------------------------- ---- 7/8 [langchain-community]\n",
            "   ----------------------------------- ---- 7/8 [langchain-community]\n",
            "   ----------------------------------- ---- 7/8 [langchain-community]\n",
            "   ----------------------------------- ---- 7/8 [langchain-community]\n",
            "   ----------------------------------- ---- 7/8 [langchain-community]\n",
            "   ----------------------------------- ---- 7/8 [langchain-community]\n",
            "   ----------------------------------- ---- 7/8 [langchain-community]\n",
            "   ----------------------------------- ---- 7/8 [langchain-community]\n",
            "   ----------------------------------- ---- 7/8 [langchain-community]\n",
            "   ----------------------------------- ---- 7/8 [langchain-community]\n",
            "   ----------------------------------- ---- 7/8 [langchain-community]\n",
            "   ----------------------------------- ---- 7/8 [langchain-community]\n",
            "   ----------------------------------- ---- 7/8 [langchain-community]\n",
            "   ----------------------------------- ---- 7/8 [langchain-community]\n",
            "   ----------------------------------- ---- 7/8 [langchain-community]\n",
            "   ----------------------------------- ---- 7/8 [langchain-community]\n",
            "   ----------------------------------- ---- 7/8 [langchain-community]\n",
            "   ----------------------------------- ---- 7/8 [langchain-community]\n",
            "   ----------------------------------- ---- 7/8 [langchain-community]\n",
            "   ----------------------------------- ---- 7/8 [langchain-community]\n",
            "   ----------------------------------- ---- 7/8 [langchain-community]\n",
            "   ----------------------------------- ---- 7/8 [langchain-community]\n",
            "   ----------------------------------- ---- 7/8 [langchain-community]\n",
            "   ----------------------------------- ---- 7/8 [langchain-community]\n",
            "   ----------------------------------- ---- 7/8 [langchain-community]\n",
            "   ----------------------------------- ---- 7/8 [langchain-community]\n",
            "   ----------------------------------- ---- 7/8 [langchain-community]\n",
            "   ----------------------------------- ---- 7/8 [langchain-community]\n",
            "   ----------------------------------- ---- 7/8 [langchain-community]\n",
            "   ----------------------------------- ---- 7/8 [langchain-community]\n",
            "   ----------------------------------- ---- 7/8 [langchain-community]\n",
            "   ----------------------------------- ---- 7/8 [langchain-community]\n",
            "   ----------------------------------- ---- 7/8 [langchain-community]\n",
            "   ----------------------------------- ---- 7/8 [langchain-community]\n",
            "   ----------------------------------- ---- 7/8 [langchain-community]\n",
            "   ----------------------------------- ---- 7/8 [langchain-community]\n",
            "   ---------------------------------------- 8/8 [langchain-community]\n",
            "\n",
            "Successfully installed dataclasses-json-0.6.7 httpx-sse-0.4.0 langchain-community-0.3.14 marshmallow-3.26.1 mypy-extensions-1.1.0 pydantic-settings-2.9.1 python-dotenv-1.1.0 typing-inspect-0.9.0\n",
            "Collecting langgraph==0.2.64\n",
            "  Using cached langgraph-0.2.64-py3-none-any.whl.metadata (16 kB)\n",
            "Requirement already satisfied: langchain-core!=0.3.0,!=0.3.1,!=0.3.10,!=0.3.11,!=0.3.12,!=0.3.13,!=0.3.14,!=0.3.15,!=0.3.16,!=0.3.17,!=0.3.18,!=0.3.19,!=0.3.2,!=0.3.20,!=0.3.21,!=0.3.22,!=0.3.3,!=0.3.4,!=0.3.5,!=0.3.6,!=0.3.7,!=0.3.8,!=0.3.9,<0.4.0,>=0.2.43 in d:\\2. my workspace and notes\\1. demystify folders\\generativai_demystified\\venv\\lib\\site-packages (from langgraph==0.2.64) (0.3.58)\n",
            "Collecting langgraph-checkpoint<3.0.0,>=2.0.10 (from langgraph==0.2.64)\n",
            "  Using cached langgraph_checkpoint-2.0.25-py3-none-any.whl.metadata (4.6 kB)\n",
            "Collecting langgraph-sdk<0.2.0,>=0.1.42 (from langgraph==0.2.64)\n",
            "  Using cached langgraph_sdk-0.1.66-py3-none-any.whl.metadata (1.8 kB)\n",
            "Requirement already satisfied: langsmith<0.4,>=0.1.125 in d:\\2. my workspace and notes\\1. demystify folders\\generativai_demystified\\venv\\lib\\site-packages (from langchain-core!=0.3.0,!=0.3.1,!=0.3.10,!=0.3.11,!=0.3.12,!=0.3.13,!=0.3.14,!=0.3.15,!=0.3.16,!=0.3.17,!=0.3.18,!=0.3.19,!=0.3.2,!=0.3.20,!=0.3.21,!=0.3.22,!=0.3.3,!=0.3.4,!=0.3.5,!=0.3.6,!=0.3.7,!=0.3.8,!=0.3.9,<0.4.0,>=0.2.43->langgraph==0.2.64) (0.2.11)\n",
            "Requirement already satisfied: tenacity!=8.4.0,<10.0.0,>=8.1.0 in d:\\2. my workspace and notes\\1. demystify folders\\generativai_demystified\\venv\\lib\\site-packages (from langchain-core!=0.3.0,!=0.3.1,!=0.3.10,!=0.3.11,!=0.3.12,!=0.3.13,!=0.3.14,!=0.3.15,!=0.3.16,!=0.3.17,!=0.3.18,!=0.3.19,!=0.3.2,!=0.3.20,!=0.3.21,!=0.3.22,!=0.3.3,!=0.3.4,!=0.3.5,!=0.3.6,!=0.3.7,!=0.3.8,!=0.3.9,<0.4.0,>=0.2.43->langgraph==0.2.64) (9.1.2)\n",
            "Requirement already satisfied: jsonpatch<2.0,>=1.33 in d:\\2. my workspace and notes\\1. demystify folders\\generativai_demystified\\venv\\lib\\site-packages (from langchain-core!=0.3.0,!=0.3.1,!=0.3.10,!=0.3.11,!=0.3.12,!=0.3.13,!=0.3.14,!=0.3.15,!=0.3.16,!=0.3.17,!=0.3.18,!=0.3.19,!=0.3.2,!=0.3.20,!=0.3.21,!=0.3.22,!=0.3.3,!=0.3.4,!=0.3.5,!=0.3.6,!=0.3.7,!=0.3.8,!=0.3.9,<0.4.0,>=0.2.43->langgraph==0.2.64) (1.33)\n",
            "Requirement already satisfied: PyYAML>=5.3 in d:\\2. my workspace and notes\\1. demystify folders\\generativai_demystified\\venv\\lib\\site-packages (from langchain-core!=0.3.0,!=0.3.1,!=0.3.10,!=0.3.11,!=0.3.12,!=0.3.13,!=0.3.14,!=0.3.15,!=0.3.16,!=0.3.17,!=0.3.18,!=0.3.19,!=0.3.2,!=0.3.20,!=0.3.21,!=0.3.22,!=0.3.3,!=0.3.4,!=0.3.5,!=0.3.6,!=0.3.7,!=0.3.8,!=0.3.9,<0.4.0,>=0.2.43->langgraph==0.2.64) (6.0.2)\n",
            "Requirement already satisfied: packaging<25,>=23.2 in d:\\2. my workspace and notes\\1. demystify folders\\generativai_demystified\\venv\\lib\\site-packages (from langchain-core!=0.3.0,!=0.3.1,!=0.3.10,!=0.3.11,!=0.3.12,!=0.3.13,!=0.3.14,!=0.3.15,!=0.3.16,!=0.3.17,!=0.3.18,!=0.3.19,!=0.3.2,!=0.3.20,!=0.3.21,!=0.3.22,!=0.3.3,!=0.3.4,!=0.3.5,!=0.3.6,!=0.3.7,!=0.3.8,!=0.3.9,<0.4.0,>=0.2.43->langgraph==0.2.64) (24.2)\n",
            "Requirement already satisfied: typing-extensions>=4.7 in d:\\2. my workspace and notes\\1. demystify folders\\generativai_demystified\\venv\\lib\\site-packages (from langchain-core!=0.3.0,!=0.3.1,!=0.3.10,!=0.3.11,!=0.3.12,!=0.3.13,!=0.3.14,!=0.3.15,!=0.3.16,!=0.3.17,!=0.3.18,!=0.3.19,!=0.3.2,!=0.3.20,!=0.3.21,!=0.3.22,!=0.3.3,!=0.3.4,!=0.3.5,!=0.3.6,!=0.3.7,!=0.3.8,!=0.3.9,<0.4.0,>=0.2.43->langgraph==0.2.64) (4.13.2)\n",
            "Requirement already satisfied: pydantic<3.0.0,>=2.7.4 in d:\\2. my workspace and notes\\1. demystify folders\\generativai_demystified\\venv\\lib\\site-packages (from langchain-core!=0.3.0,!=0.3.1,!=0.3.10,!=0.3.11,!=0.3.12,!=0.3.13,!=0.3.14,!=0.3.15,!=0.3.16,!=0.3.17,!=0.3.18,!=0.3.19,!=0.3.2,!=0.3.20,!=0.3.21,!=0.3.22,!=0.3.3,!=0.3.4,!=0.3.5,!=0.3.6,!=0.3.7,!=0.3.8,!=0.3.9,<0.4.0,>=0.2.43->langgraph==0.2.64) (2.11.4)\n",
            "Requirement already satisfied: jsonpointer>=1.9 in d:\\2. my workspace and notes\\1. demystify folders\\generativai_demystified\\venv\\lib\\site-packages (from jsonpatch<2.0,>=1.33->langchain-core!=0.3.0,!=0.3.1,!=0.3.10,!=0.3.11,!=0.3.12,!=0.3.13,!=0.3.14,!=0.3.15,!=0.3.16,!=0.3.17,!=0.3.18,!=0.3.19,!=0.3.2,!=0.3.20,!=0.3.21,!=0.3.22,!=0.3.3,!=0.3.4,!=0.3.5,!=0.3.6,!=0.3.7,!=0.3.8,!=0.3.9,<0.4.0,>=0.2.43->langgraph==0.2.64) (3.0.0)\n",
            "Collecting ormsgpack<2.0.0,>=1.8.0 (from langgraph-checkpoint<3.0.0,>=2.0.10->langgraph==0.2.64)\n",
            "  Using cached ormsgpack-1.9.1-cp312-cp312-win_amd64.whl.metadata (44 kB)\n",
            "Requirement already satisfied: httpx>=0.25.2 in d:\\2. my workspace and notes\\1. demystify folders\\generativai_demystified\\venv\\lib\\site-packages (from langgraph-sdk<0.2.0,>=0.1.42->langgraph==0.2.64) (0.28.1)\n",
            "Requirement already satisfied: orjson>=3.10.1 in d:\\2. my workspace and notes\\1. demystify folders\\generativai_demystified\\venv\\lib\\site-packages (from langgraph-sdk<0.2.0,>=0.1.42->langgraph==0.2.64) (3.10.18)\n",
            "Requirement already satisfied: requests<3,>=2 in d:\\2. my workspace and notes\\1. demystify folders\\generativai_demystified\\venv\\lib\\site-packages (from langsmith<0.4,>=0.1.125->langchain-core!=0.3.0,!=0.3.1,!=0.3.10,!=0.3.11,!=0.3.12,!=0.3.13,!=0.3.14,!=0.3.15,!=0.3.16,!=0.3.17,!=0.3.18,!=0.3.19,!=0.3.2,!=0.3.20,!=0.3.21,!=0.3.22,!=0.3.3,!=0.3.4,!=0.3.5,!=0.3.6,!=0.3.7,!=0.3.8,!=0.3.9,<0.4.0,>=0.2.43->langgraph==0.2.64) (2.32.3)\n",
            "Requirement already satisfied: requests-toolbelt<2.0.0,>=1.0.0 in d:\\2. my workspace and notes\\1. demystify folders\\generativai_demystified\\venv\\lib\\site-packages (from langsmith<0.4,>=0.1.125->langchain-core!=0.3.0,!=0.3.1,!=0.3.10,!=0.3.11,!=0.3.12,!=0.3.13,!=0.3.14,!=0.3.15,!=0.3.16,!=0.3.17,!=0.3.18,!=0.3.19,!=0.3.2,!=0.3.20,!=0.3.21,!=0.3.22,!=0.3.3,!=0.3.4,!=0.3.5,!=0.3.6,!=0.3.7,!=0.3.8,!=0.3.9,<0.4.0,>=0.2.43->langgraph==0.2.64) (1.0.0)\n",
            "Requirement already satisfied: anyio in d:\\2. my workspace and notes\\1. demystify folders\\generativai_demystified\\venv\\lib\\site-packages (from httpx>=0.25.2->langgraph-sdk<0.2.0,>=0.1.42->langgraph==0.2.64) (4.9.0)\n",
            "Requirement already satisfied: certifi in d:\\2. my workspace and notes\\1. demystify folders\\generativai_demystified\\venv\\lib\\site-packages (from httpx>=0.25.2->langgraph-sdk<0.2.0,>=0.1.42->langgraph==0.2.64) (2025.4.26)\n",
            "Requirement already satisfied: httpcore==1.* in d:\\2. my workspace and notes\\1. demystify folders\\generativai_demystified\\venv\\lib\\site-packages (from httpx>=0.25.2->langgraph-sdk<0.2.0,>=0.1.42->langgraph==0.2.64) (1.0.9)\n",
            "Requirement already satisfied: idna in d:\\2. my workspace and notes\\1. demystify folders\\generativai_demystified\\venv\\lib\\site-packages (from httpx>=0.25.2->langgraph-sdk<0.2.0,>=0.1.42->langgraph==0.2.64) (3.10)\n",
            "Requirement already satisfied: h11>=0.16 in d:\\2. my workspace and notes\\1. demystify folders\\generativai_demystified\\venv\\lib\\site-packages (from httpcore==1.*->httpx>=0.25.2->langgraph-sdk<0.2.0,>=0.1.42->langgraph==0.2.64) (0.16.0)\n",
            "Requirement already satisfied: annotated-types>=0.6.0 in d:\\2. my workspace and notes\\1. demystify folders\\generativai_demystified\\venv\\lib\\site-packages (from pydantic<3.0.0,>=2.7.4->langchain-core!=0.3.0,!=0.3.1,!=0.3.10,!=0.3.11,!=0.3.12,!=0.3.13,!=0.3.14,!=0.3.15,!=0.3.16,!=0.3.17,!=0.3.18,!=0.3.19,!=0.3.2,!=0.3.20,!=0.3.21,!=0.3.22,!=0.3.3,!=0.3.4,!=0.3.5,!=0.3.6,!=0.3.7,!=0.3.8,!=0.3.9,<0.4.0,>=0.2.43->langgraph==0.2.64) (0.7.0)\n",
            "Requirement already satisfied: pydantic-core==2.33.2 in d:\\2. my workspace and notes\\1. demystify folders\\generativai_demystified\\venv\\lib\\site-packages (from pydantic<3.0.0,>=2.7.4->langchain-core!=0.3.0,!=0.3.1,!=0.3.10,!=0.3.11,!=0.3.12,!=0.3.13,!=0.3.14,!=0.3.15,!=0.3.16,!=0.3.17,!=0.3.18,!=0.3.19,!=0.3.2,!=0.3.20,!=0.3.21,!=0.3.22,!=0.3.3,!=0.3.4,!=0.3.5,!=0.3.6,!=0.3.7,!=0.3.8,!=0.3.9,<0.4.0,>=0.2.43->langgraph==0.2.64) (2.33.2)\n",
            "Requirement already satisfied: typing-inspection>=0.4.0 in d:\\2. my workspace and notes\\1. demystify folders\\generativai_demystified\\venv\\lib\\site-packages (from pydantic<3.0.0,>=2.7.4->langchain-core!=0.3.0,!=0.3.1,!=0.3.10,!=0.3.11,!=0.3.12,!=0.3.13,!=0.3.14,!=0.3.15,!=0.3.16,!=0.3.17,!=0.3.18,!=0.3.19,!=0.3.2,!=0.3.20,!=0.3.21,!=0.3.22,!=0.3.3,!=0.3.4,!=0.3.5,!=0.3.6,!=0.3.7,!=0.3.8,!=0.3.9,<0.4.0,>=0.2.43->langgraph==0.2.64) (0.4.0)\n",
            "Requirement already satisfied: charset-normalizer<4,>=2 in d:\\2. my workspace and notes\\1. demystify folders\\generativai_demystified\\venv\\lib\\site-packages (from requests<3,>=2->langsmith<0.4,>=0.1.125->langchain-core!=0.3.0,!=0.3.1,!=0.3.10,!=0.3.11,!=0.3.12,!=0.3.13,!=0.3.14,!=0.3.15,!=0.3.16,!=0.3.17,!=0.3.18,!=0.3.19,!=0.3.2,!=0.3.20,!=0.3.21,!=0.3.22,!=0.3.3,!=0.3.4,!=0.3.5,!=0.3.6,!=0.3.7,!=0.3.8,!=0.3.9,<0.4.0,>=0.2.43->langgraph==0.2.64) (3.4.2)\n",
            "Requirement already satisfied: urllib3<3,>=1.21.1 in d:\\2. my workspace and notes\\1. demystify folders\\generativai_demystified\\venv\\lib\\site-packages (from requests<3,>=2->langsmith<0.4,>=0.1.125->langchain-core!=0.3.0,!=0.3.1,!=0.3.10,!=0.3.11,!=0.3.12,!=0.3.13,!=0.3.14,!=0.3.15,!=0.3.16,!=0.3.17,!=0.3.18,!=0.3.19,!=0.3.2,!=0.3.20,!=0.3.21,!=0.3.22,!=0.3.3,!=0.3.4,!=0.3.5,!=0.3.6,!=0.3.7,!=0.3.8,!=0.3.9,<0.4.0,>=0.2.43->langgraph==0.2.64) (2.4.0)\n",
            "Requirement already satisfied: sniffio>=1.1 in d:\\2. my workspace and notes\\1. demystify folders\\generativai_demystified\\venv\\lib\\site-packages (from anyio->httpx>=0.25.2->langgraph-sdk<0.2.0,>=0.1.42->langgraph==0.2.64) (1.3.1)\n",
            "Using cached langgraph-0.2.64-py3-none-any.whl (142 kB)\n",
            "Using cached langgraph_checkpoint-2.0.25-py3-none-any.whl (42 kB)\n",
            "Using cached langgraph_sdk-0.1.66-py3-none-any.whl (47 kB)\n",
            "Using cached ormsgpack-1.9.1-cp312-cp312-win_amd64.whl (125 kB)\n",
            "Installing collected packages: ormsgpack, langgraph-sdk, langgraph-checkpoint, langgraph\n",
            "\n",
            "   ---------- ----------------------------- 1/4 [langgraph-sdk]\n",
            "   -------------------- ------------------- 2/4 [langgraph-checkpoint]\n",
            "   ------------------------------ --------- 3/4 [langgraph]\n",
            "   ------------------------------ --------- 3/4 [langgraph]\n",
            "   ------------------------------ --------- 3/4 [langgraph]\n",
            "   ------------------------------ --------- 3/4 [langgraph]\n",
            "   ------------------------------ --------- 3/4 [langgraph]\n",
            "   ------------------------------ --------- 3/4 [langgraph]\n",
            "   ------------------------------ --------- 3/4 [langgraph]\n",
            "   ---------------------------------------- 4/4 [langgraph]\n",
            "\n",
            "Successfully installed langgraph-0.2.64 langgraph-checkpoint-2.0.25 langgraph-sdk-0.1.66 ormsgpack-1.9.1\n"
          ]
        }
      ],
      "source": [
        "!pip install langchain==0.3.14\n",
        "!pip install langchain-openai==0.3.0\n",
        "!pip install langchain-community==0.3.14\n",
        "!pip install langgraph==0.2.64"
      ]
    },
    {
      "cell_type": "code",
      "execution_count": 2,
      "metadata": {
        "id": "f64P4sY6RtNA"
      },
      "outputs": [
        {
          "name": "stdout",
          "output_type": "stream",
          "text": [
            "Collecting langchain-chroma==0.2.0\n",
            "  Using cached langchain_chroma-0.2.0-py3-none-any.whl.metadata (1.7 kB)\n",
            "Collecting chromadb!=0.5.10,!=0.5.11,!=0.5.12,!=0.5.4,!=0.5.5,!=0.5.7,!=0.5.9,<0.6.0,>=0.4.0 (from langchain-chroma==0.2.0)\n",
            "  Using cached chromadb-0.5.23-py3-none-any.whl.metadata (6.8 kB)\n",
            "Collecting fastapi<1,>=0.95.2 (from langchain-chroma==0.2.0)\n",
            "  Using cached fastapi-0.115.12-py3-none-any.whl.metadata (27 kB)\n",
            "Requirement already satisfied: langchain-core!=0.3.0,!=0.3.1,!=0.3.10,!=0.3.11,!=0.3.12,!=0.3.13,!=0.3.14,!=0.3.2,!=0.3.3,!=0.3.4,!=0.3.5,!=0.3.6,!=0.3.7,!=0.3.8,!=0.3.9,<0.4.0,>=0.2.43 in d:\\2. my workspace and notes\\1. demystify folders\\generativai_demystified\\venv\\lib\\site-packages (from langchain-chroma==0.2.0) (0.3.58)\n",
            "Collecting numpy<2.0.0,>=1.26.2 (from langchain-chroma==0.2.0)\n",
            "  Using cached numpy-1.26.4-cp312-cp312-win_amd64.whl.metadata (61 kB)\n",
            "Collecting build>=1.0.3 (from chromadb!=0.5.10,!=0.5.11,!=0.5.12,!=0.5.4,!=0.5.5,!=0.5.7,!=0.5.9,<0.6.0,>=0.4.0->langchain-chroma==0.2.0)\n",
            "  Using cached build-1.2.2.post1-py3-none-any.whl.metadata (6.5 kB)\n",
            "Requirement already satisfied: pydantic>=1.9 in d:\\2. my workspace and notes\\1. demystify folders\\generativai_demystified\\venv\\lib\\site-packages (from chromadb!=0.5.10,!=0.5.11,!=0.5.12,!=0.5.4,!=0.5.5,!=0.5.7,!=0.5.9,<0.6.0,>=0.4.0->langchain-chroma==0.2.0) (2.11.4)\n",
            "Requirement already satisfied: chroma-hnswlib==0.7.6 in d:\\2. my workspace and notes\\1. demystify folders\\generativai_demystified\\venv\\lib\\site-packages (from chromadb!=0.5.10,!=0.5.11,!=0.5.12,!=0.5.4,!=0.5.5,!=0.5.7,!=0.5.9,<0.6.0,>=0.4.0->langchain-chroma==0.2.0) (0.7.6)\n",
            "Collecting uvicorn>=0.18.3 (from uvicorn[standard]>=0.18.3->chromadb!=0.5.10,!=0.5.11,!=0.5.12,!=0.5.4,!=0.5.5,!=0.5.7,!=0.5.9,<0.6.0,>=0.4.0->langchain-chroma==0.2.0)\n",
            "  Using cached uvicorn-0.34.2-py3-none-any.whl.metadata (6.5 kB)\n",
            "Collecting posthog>=2.4.0 (from chromadb!=0.5.10,!=0.5.11,!=0.5.12,!=0.5.4,!=0.5.5,!=0.5.7,!=0.5.9,<0.6.0,>=0.4.0->langchain-chroma==0.2.0)\n",
            "  Using cached posthog-4.0.1-py2.py3-none-any.whl.metadata (3.0 kB)\n",
            "Requirement already satisfied: typing_extensions>=4.5.0 in d:\\2. my workspace and notes\\1. demystify folders\\generativai_demystified\\venv\\lib\\site-packages (from chromadb!=0.5.10,!=0.5.11,!=0.5.12,!=0.5.4,!=0.5.5,!=0.5.7,!=0.5.9,<0.6.0,>=0.4.0->langchain-chroma==0.2.0) (4.13.2)\n",
            "Collecting onnxruntime>=1.14.1 (from chromadb!=0.5.10,!=0.5.11,!=0.5.12,!=0.5.4,!=0.5.5,!=0.5.7,!=0.5.9,<0.6.0,>=0.4.0->langchain-chroma==0.2.0)\n",
            "  Using cached onnxruntime-1.21.1-cp312-cp312-win_amd64.whl.metadata (4.9 kB)\n",
            "Collecting opentelemetry-api>=1.2.0 (from chromadb!=0.5.10,!=0.5.11,!=0.5.12,!=0.5.4,!=0.5.5,!=0.5.7,!=0.5.9,<0.6.0,>=0.4.0->langchain-chroma==0.2.0)\n",
            "  Using cached opentelemetry_api-1.32.1-py3-none-any.whl.metadata (1.6 kB)\n",
            "Collecting opentelemetry-exporter-otlp-proto-grpc>=1.2.0 (from chromadb!=0.5.10,!=0.5.11,!=0.5.12,!=0.5.4,!=0.5.5,!=0.5.7,!=0.5.9,<0.6.0,>=0.4.0->langchain-chroma==0.2.0)\n",
            "  Using cached opentelemetry_exporter_otlp_proto_grpc-1.32.1-py3-none-any.whl.metadata (2.5 kB)\n",
            "Collecting opentelemetry-instrumentation-fastapi>=0.41b0 (from chromadb!=0.5.10,!=0.5.11,!=0.5.12,!=0.5.4,!=0.5.5,!=0.5.7,!=0.5.9,<0.6.0,>=0.4.0->langchain-chroma==0.2.0)\n",
            "  Using cached opentelemetry_instrumentation_fastapi-0.53b1-py3-none-any.whl.metadata (2.2 kB)\n",
            "Collecting opentelemetry-sdk>=1.2.0 (from chromadb!=0.5.10,!=0.5.11,!=0.5.12,!=0.5.4,!=0.5.5,!=0.5.7,!=0.5.9,<0.6.0,>=0.4.0->langchain-chroma==0.2.0)\n",
            "  Using cached opentelemetry_sdk-1.32.1-py3-none-any.whl.metadata (1.6 kB)\n",
            "Collecting tokenizers<=0.20.3,>=0.13.2 (from chromadb!=0.5.10,!=0.5.11,!=0.5.12,!=0.5.4,!=0.5.5,!=0.5.7,!=0.5.9,<0.6.0,>=0.4.0->langchain-chroma==0.2.0)\n",
            "  Using cached tokenizers-0.20.3-cp312-none-win_amd64.whl.metadata (6.9 kB)\n",
            "Collecting pypika>=0.48.9 (from chromadb!=0.5.10,!=0.5.11,!=0.5.12,!=0.5.4,!=0.5.5,!=0.5.7,!=0.5.9,<0.6.0,>=0.4.0->langchain-chroma==0.2.0)\n",
            "  Using cached pypika-0.48.9-py2.py3-none-any.whl\n",
            "Requirement already satisfied: tqdm>=4.65.0 in d:\\2. my workspace and notes\\1. demystify folders\\generativai_demystified\\venv\\lib\\site-packages (from chromadb!=0.5.10,!=0.5.11,!=0.5.12,!=0.5.4,!=0.5.5,!=0.5.7,!=0.5.9,<0.6.0,>=0.4.0->langchain-chroma==0.2.0) (4.67.1)\n",
            "Collecting overrides>=7.3.1 (from chromadb!=0.5.10,!=0.5.11,!=0.5.12,!=0.5.4,!=0.5.5,!=0.5.7,!=0.5.9,<0.6.0,>=0.4.0->langchain-chroma==0.2.0)\n",
            "  Using cached overrides-7.7.0-py3-none-any.whl.metadata (5.8 kB)\n",
            "Collecting importlib-resources (from chromadb!=0.5.10,!=0.5.11,!=0.5.12,!=0.5.4,!=0.5.5,!=0.5.7,!=0.5.9,<0.6.0,>=0.4.0->langchain-chroma==0.2.0)\n",
            "  Using cached importlib_resources-6.5.2-py3-none-any.whl.metadata (3.9 kB)\n",
            "Collecting grpcio>=1.58.0 (from chromadb!=0.5.10,!=0.5.11,!=0.5.12,!=0.5.4,!=0.5.5,!=0.5.7,!=0.5.9,<0.6.0,>=0.4.0->langchain-chroma==0.2.0)\n",
            "  Using cached grpcio-1.71.0-cp312-cp312-win_amd64.whl.metadata (4.0 kB)\n",
            "Collecting bcrypt>=4.0.1 (from chromadb!=0.5.10,!=0.5.11,!=0.5.12,!=0.5.4,!=0.5.5,!=0.5.7,!=0.5.9,<0.6.0,>=0.4.0->langchain-chroma==0.2.0)\n",
            "  Using cached bcrypt-4.3.0-cp39-abi3-win_amd64.whl.metadata (10 kB)\n",
            "Collecting typer>=0.9.0 (from chromadb!=0.5.10,!=0.5.11,!=0.5.12,!=0.5.4,!=0.5.5,!=0.5.7,!=0.5.9,<0.6.0,>=0.4.0->langchain-chroma==0.2.0)\n",
            "  Using cached typer-0.15.3-py3-none-any.whl.metadata (15 kB)\n",
            "Collecting kubernetes>=28.1.0 (from chromadb!=0.5.10,!=0.5.11,!=0.5.12,!=0.5.4,!=0.5.5,!=0.5.7,!=0.5.9,<0.6.0,>=0.4.0->langchain-chroma==0.2.0)\n",
            "  Using cached kubernetes-32.0.1-py2.py3-none-any.whl.metadata (1.7 kB)\n",
            "Requirement already satisfied: tenacity>=8.2.3 in d:\\2. my workspace and notes\\1. demystify folders\\generativai_demystified\\venv\\lib\\site-packages (from chromadb!=0.5.10,!=0.5.11,!=0.5.12,!=0.5.4,!=0.5.5,!=0.5.7,!=0.5.9,<0.6.0,>=0.4.0->langchain-chroma==0.2.0) (9.1.2)\n",
            "Requirement already satisfied: PyYAML>=6.0.0 in d:\\2. my workspace and notes\\1. demystify folders\\generativai_demystified\\venv\\lib\\site-packages (from chromadb!=0.5.10,!=0.5.11,!=0.5.12,!=0.5.4,!=0.5.5,!=0.5.7,!=0.5.9,<0.6.0,>=0.4.0->langchain-chroma==0.2.0) (6.0.2)\n",
            "Collecting mmh3>=4.0.1 (from chromadb!=0.5.10,!=0.5.11,!=0.5.12,!=0.5.4,!=0.5.5,!=0.5.7,!=0.5.9,<0.6.0,>=0.4.0->langchain-chroma==0.2.0)\n",
            "  Using cached mmh3-5.1.0-cp312-cp312-win_amd64.whl.metadata (16 kB)\n",
            "Requirement already satisfied: orjson>=3.9.12 in d:\\2. my workspace and notes\\1. demystify folders\\generativai_demystified\\venv\\lib\\site-packages (from chromadb!=0.5.10,!=0.5.11,!=0.5.12,!=0.5.4,!=0.5.5,!=0.5.7,!=0.5.9,<0.6.0,>=0.4.0->langchain-chroma==0.2.0) (3.10.18)\n",
            "Requirement already satisfied: httpx>=0.27.0 in d:\\2. my workspace and notes\\1. demystify folders\\generativai_demystified\\venv\\lib\\site-packages (from chromadb!=0.5.10,!=0.5.11,!=0.5.12,!=0.5.4,!=0.5.5,!=0.5.7,!=0.5.9,<0.6.0,>=0.4.0->langchain-chroma==0.2.0) (0.28.1)\n",
            "Collecting rich>=10.11.0 (from chromadb!=0.5.10,!=0.5.11,!=0.5.12,!=0.5.4,!=0.5.5,!=0.5.7,!=0.5.9,<0.6.0,>=0.4.0->langchain-chroma==0.2.0)\n",
            "  Using cached rich-14.0.0-py3-none-any.whl.metadata (18 kB)\n",
            "Collecting starlette<0.47.0,>=0.40.0 (from fastapi<1,>=0.95.2->langchain-chroma==0.2.0)\n",
            "  Using cached starlette-0.46.2-py3-none-any.whl.metadata (6.2 kB)\n",
            "Requirement already satisfied: langsmith<0.4,>=0.1.125 in d:\\2. my workspace and notes\\1. demystify folders\\generativai_demystified\\venv\\lib\\site-packages (from langchain-core!=0.3.0,!=0.3.1,!=0.3.10,!=0.3.11,!=0.3.12,!=0.3.13,!=0.3.14,!=0.3.2,!=0.3.3,!=0.3.4,!=0.3.5,!=0.3.6,!=0.3.7,!=0.3.8,!=0.3.9,<0.4.0,>=0.2.43->langchain-chroma==0.2.0) (0.2.11)\n",
            "Requirement already satisfied: jsonpatch<2.0,>=1.33 in d:\\2. my workspace and notes\\1. demystify folders\\generativai_demystified\\venv\\lib\\site-packages (from langchain-core!=0.3.0,!=0.3.1,!=0.3.10,!=0.3.11,!=0.3.12,!=0.3.13,!=0.3.14,!=0.3.2,!=0.3.3,!=0.3.4,!=0.3.5,!=0.3.6,!=0.3.7,!=0.3.8,!=0.3.9,<0.4.0,>=0.2.43->langchain-chroma==0.2.0) (1.33)\n",
            "Requirement already satisfied: packaging<25,>=23.2 in d:\\2. my workspace and notes\\1. demystify folders\\generativai_demystified\\venv\\lib\\site-packages (from langchain-core!=0.3.0,!=0.3.1,!=0.3.10,!=0.3.11,!=0.3.12,!=0.3.13,!=0.3.14,!=0.3.2,!=0.3.3,!=0.3.4,!=0.3.5,!=0.3.6,!=0.3.7,!=0.3.8,!=0.3.9,<0.4.0,>=0.2.43->langchain-chroma==0.2.0) (24.2)\n",
            "Requirement already satisfied: jsonpointer>=1.9 in d:\\2. my workspace and notes\\1. demystify folders\\generativai_demystified\\venv\\lib\\site-packages (from jsonpatch<2.0,>=1.33->langchain-core!=0.3.0,!=0.3.1,!=0.3.10,!=0.3.11,!=0.3.12,!=0.3.13,!=0.3.14,!=0.3.2,!=0.3.3,!=0.3.4,!=0.3.5,!=0.3.6,!=0.3.7,!=0.3.8,!=0.3.9,<0.4.0,>=0.2.43->langchain-chroma==0.2.0) (3.0.0)\n",
            "Requirement already satisfied: requests<3,>=2 in d:\\2. my workspace and notes\\1. demystify folders\\generativai_demystified\\venv\\lib\\site-packages (from langsmith<0.4,>=0.1.125->langchain-core!=0.3.0,!=0.3.1,!=0.3.10,!=0.3.11,!=0.3.12,!=0.3.13,!=0.3.14,!=0.3.2,!=0.3.3,!=0.3.4,!=0.3.5,!=0.3.6,!=0.3.7,!=0.3.8,!=0.3.9,<0.4.0,>=0.2.43->langchain-chroma==0.2.0) (2.32.3)\n",
            "Requirement already satisfied: requests-toolbelt<2.0.0,>=1.0.0 in d:\\2. my workspace and notes\\1. demystify folders\\generativai_demystified\\venv\\lib\\site-packages (from langsmith<0.4,>=0.1.125->langchain-core!=0.3.0,!=0.3.1,!=0.3.10,!=0.3.11,!=0.3.12,!=0.3.13,!=0.3.14,!=0.3.2,!=0.3.3,!=0.3.4,!=0.3.5,!=0.3.6,!=0.3.7,!=0.3.8,!=0.3.9,<0.4.0,>=0.2.43->langchain-chroma==0.2.0) (1.0.0)\n",
            "Requirement already satisfied: anyio in d:\\2. my workspace and notes\\1. demystify folders\\generativai_demystified\\venv\\lib\\site-packages (from httpx>=0.27.0->chromadb!=0.5.10,!=0.5.11,!=0.5.12,!=0.5.4,!=0.5.5,!=0.5.7,!=0.5.9,<0.6.0,>=0.4.0->langchain-chroma==0.2.0) (4.9.0)\n",
            "Requirement already satisfied: certifi in d:\\2. my workspace and notes\\1. demystify folders\\generativai_demystified\\venv\\lib\\site-packages (from httpx>=0.27.0->chromadb!=0.5.10,!=0.5.11,!=0.5.12,!=0.5.4,!=0.5.5,!=0.5.7,!=0.5.9,<0.6.0,>=0.4.0->langchain-chroma==0.2.0) (2025.4.26)\n",
            "Requirement already satisfied: httpcore==1.* in d:\\2. my workspace and notes\\1. demystify folders\\generativai_demystified\\venv\\lib\\site-packages (from httpx>=0.27.0->chromadb!=0.5.10,!=0.5.11,!=0.5.12,!=0.5.4,!=0.5.5,!=0.5.7,!=0.5.9,<0.6.0,>=0.4.0->langchain-chroma==0.2.0) (1.0.9)\n",
            "Requirement already satisfied: idna in d:\\2. my workspace and notes\\1. demystify folders\\generativai_demystified\\venv\\lib\\site-packages (from httpx>=0.27.0->chromadb!=0.5.10,!=0.5.11,!=0.5.12,!=0.5.4,!=0.5.5,!=0.5.7,!=0.5.9,<0.6.0,>=0.4.0->langchain-chroma==0.2.0) (3.10)\n",
            "Requirement already satisfied: h11>=0.16 in d:\\2. my workspace and notes\\1. demystify folders\\generativai_demystified\\venv\\lib\\site-packages (from httpcore==1.*->httpx>=0.27.0->chromadb!=0.5.10,!=0.5.11,!=0.5.12,!=0.5.4,!=0.5.5,!=0.5.7,!=0.5.9,<0.6.0,>=0.4.0->langchain-chroma==0.2.0) (0.16.0)\n",
            "Requirement already satisfied: annotated-types>=0.6.0 in d:\\2. my workspace and notes\\1. demystify folders\\generativai_demystified\\venv\\lib\\site-packages (from pydantic>=1.9->chromadb!=0.5.10,!=0.5.11,!=0.5.12,!=0.5.4,!=0.5.5,!=0.5.7,!=0.5.9,<0.6.0,>=0.4.0->langchain-chroma==0.2.0) (0.7.0)\n",
            "Requirement already satisfied: pydantic-core==2.33.2 in d:\\2. my workspace and notes\\1. demystify folders\\generativai_demystified\\venv\\lib\\site-packages (from pydantic>=1.9->chromadb!=0.5.10,!=0.5.11,!=0.5.12,!=0.5.4,!=0.5.5,!=0.5.7,!=0.5.9,<0.6.0,>=0.4.0->langchain-chroma==0.2.0) (2.33.2)\n",
            "Requirement already satisfied: typing-inspection>=0.4.0 in d:\\2. my workspace and notes\\1. demystify folders\\generativai_demystified\\venv\\lib\\site-packages (from pydantic>=1.9->chromadb!=0.5.10,!=0.5.11,!=0.5.12,!=0.5.4,!=0.5.5,!=0.5.7,!=0.5.9,<0.6.0,>=0.4.0->langchain-chroma==0.2.0) (0.4.0)\n",
            "Requirement already satisfied: charset-normalizer<4,>=2 in d:\\2. my workspace and notes\\1. demystify folders\\generativai_demystified\\venv\\lib\\site-packages (from requests<3,>=2->langsmith<0.4,>=0.1.125->langchain-core!=0.3.0,!=0.3.1,!=0.3.10,!=0.3.11,!=0.3.12,!=0.3.13,!=0.3.14,!=0.3.2,!=0.3.3,!=0.3.4,!=0.3.5,!=0.3.6,!=0.3.7,!=0.3.8,!=0.3.9,<0.4.0,>=0.2.43->langchain-chroma==0.2.0) (3.4.2)\n",
            "Requirement already satisfied: urllib3<3,>=1.21.1 in d:\\2. my workspace and notes\\1. demystify folders\\generativai_demystified\\venv\\lib\\site-packages (from requests<3,>=2->langsmith<0.4,>=0.1.125->langchain-core!=0.3.0,!=0.3.1,!=0.3.10,!=0.3.11,!=0.3.12,!=0.3.13,!=0.3.14,!=0.3.2,!=0.3.3,!=0.3.4,!=0.3.5,!=0.3.6,!=0.3.7,!=0.3.8,!=0.3.9,<0.4.0,>=0.2.43->langchain-chroma==0.2.0) (2.4.0)\n",
            "Requirement already satisfied: sniffio>=1.1 in d:\\2. my workspace and notes\\1. demystify folders\\generativai_demystified\\venv\\lib\\site-packages (from anyio->httpx>=0.27.0->chromadb!=0.5.10,!=0.5.11,!=0.5.12,!=0.5.4,!=0.5.5,!=0.5.7,!=0.5.9,<0.6.0,>=0.4.0->langchain-chroma==0.2.0) (1.3.1)\n",
            "Collecting huggingface-hub<1.0,>=0.16.4 (from tokenizers<=0.20.3,>=0.13.2->chromadb!=0.5.10,!=0.5.11,!=0.5.12,!=0.5.4,!=0.5.5,!=0.5.7,!=0.5.9,<0.6.0,>=0.4.0->langchain-chroma==0.2.0)\n",
            "  Using cached huggingface_hub-0.30.2-py3-none-any.whl.metadata (13 kB)\n",
            "Collecting filelock (from huggingface-hub<1.0,>=0.16.4->tokenizers<=0.20.3,>=0.13.2->chromadb!=0.5.10,!=0.5.11,!=0.5.12,!=0.5.4,!=0.5.5,!=0.5.7,!=0.5.9,<0.6.0,>=0.4.0->langchain-chroma==0.2.0)\n",
            "  Using cached filelock-3.18.0-py3-none-any.whl.metadata (2.9 kB)\n",
            "Collecting fsspec>=2023.5.0 (from huggingface-hub<1.0,>=0.16.4->tokenizers<=0.20.3,>=0.13.2->chromadb!=0.5.10,!=0.5.11,!=0.5.12,!=0.5.4,!=0.5.5,!=0.5.7,!=0.5.9,<0.6.0,>=0.4.0->langchain-chroma==0.2.0)\n",
            "  Using cached fsspec-2025.3.2-py3-none-any.whl.metadata (11 kB)\n",
            "Collecting pyproject_hooks (from build>=1.0.3->chromadb!=0.5.10,!=0.5.11,!=0.5.12,!=0.5.4,!=0.5.5,!=0.5.7,!=0.5.9,<0.6.0,>=0.4.0->langchain-chroma==0.2.0)\n",
            "  Using cached pyproject_hooks-1.2.0-py3-none-any.whl.metadata (1.3 kB)\n",
            "Requirement already satisfied: colorama in d:\\2. my workspace and notes\\1. demystify folders\\generativai_demystified\\venv\\lib\\site-packages (from build>=1.0.3->chromadb!=0.5.10,!=0.5.11,!=0.5.12,!=0.5.4,!=0.5.5,!=0.5.7,!=0.5.9,<0.6.0,>=0.4.0->langchain-chroma==0.2.0) (0.4.6)\n",
            "Requirement already satisfied: six>=1.9.0 in d:\\2. my workspace and notes\\1. demystify folders\\generativai_demystified\\venv\\lib\\site-packages (from kubernetes>=28.1.0->chromadb!=0.5.10,!=0.5.11,!=0.5.12,!=0.5.4,!=0.5.5,!=0.5.7,!=0.5.9,<0.6.0,>=0.4.0->langchain-chroma==0.2.0) (1.17.0)\n",
            "Requirement already satisfied: python-dateutil>=2.5.3 in d:\\2. my workspace and notes\\1. demystify folders\\generativai_demystified\\venv\\lib\\site-packages (from kubernetes>=28.1.0->chromadb!=0.5.10,!=0.5.11,!=0.5.12,!=0.5.4,!=0.5.5,!=0.5.7,!=0.5.9,<0.6.0,>=0.4.0->langchain-chroma==0.2.0) (2.9.0.post0)\n",
            "Collecting google-auth>=1.0.1 (from kubernetes>=28.1.0->chromadb!=0.5.10,!=0.5.11,!=0.5.12,!=0.5.4,!=0.5.5,!=0.5.7,!=0.5.9,<0.6.0,>=0.4.0->langchain-chroma==0.2.0)\n",
            "  Using cached google_auth-2.39.0-py2.py3-none-any.whl.metadata (6.2 kB)\n",
            "Collecting websocket-client!=0.40.0,!=0.41.*,!=0.42.*,>=0.32.0 (from kubernetes>=28.1.0->chromadb!=0.5.10,!=0.5.11,!=0.5.12,!=0.5.4,!=0.5.5,!=0.5.7,!=0.5.9,<0.6.0,>=0.4.0->langchain-chroma==0.2.0)\n",
            "  Using cached websocket_client-1.8.0-py3-none-any.whl.metadata (8.0 kB)\n",
            "Collecting requests-oauthlib (from kubernetes>=28.1.0->chromadb!=0.5.10,!=0.5.11,!=0.5.12,!=0.5.4,!=0.5.5,!=0.5.7,!=0.5.9,<0.6.0,>=0.4.0->langchain-chroma==0.2.0)\n",
            "  Using cached requests_oauthlib-2.0.0-py2.py3-none-any.whl.metadata (11 kB)\n",
            "Collecting oauthlib>=3.2.2 (from kubernetes>=28.1.0->chromadb!=0.5.10,!=0.5.11,!=0.5.12,!=0.5.4,!=0.5.5,!=0.5.7,!=0.5.9,<0.6.0,>=0.4.0->langchain-chroma==0.2.0)\n",
            "  Using cached oauthlib-3.2.2-py3-none-any.whl.metadata (7.5 kB)\n",
            "Collecting durationpy>=0.7 (from kubernetes>=28.1.0->chromadb!=0.5.10,!=0.5.11,!=0.5.12,!=0.5.4,!=0.5.5,!=0.5.7,!=0.5.9,<0.6.0,>=0.4.0->langchain-chroma==0.2.0)\n",
            "  Using cached durationpy-0.9-py3-none-any.whl.metadata (338 bytes)\n",
            "Collecting cachetools<6.0,>=2.0.0 (from google-auth>=1.0.1->kubernetes>=28.1.0->chromadb!=0.5.10,!=0.5.11,!=0.5.12,!=0.5.4,!=0.5.5,!=0.5.7,!=0.5.9,<0.6.0,>=0.4.0->langchain-chroma==0.2.0)\n",
            "  Using cached cachetools-5.5.2-py3-none-any.whl.metadata (5.4 kB)\n",
            "Collecting pyasn1-modules>=0.2.1 (from google-auth>=1.0.1->kubernetes>=28.1.0->chromadb!=0.5.10,!=0.5.11,!=0.5.12,!=0.5.4,!=0.5.5,!=0.5.7,!=0.5.9,<0.6.0,>=0.4.0->langchain-chroma==0.2.0)\n",
            "  Using cached pyasn1_modules-0.4.2-py3-none-any.whl.metadata (3.5 kB)\n",
            "Collecting rsa<5,>=3.1.4 (from google-auth>=1.0.1->kubernetes>=28.1.0->chromadb!=0.5.10,!=0.5.11,!=0.5.12,!=0.5.4,!=0.5.5,!=0.5.7,!=0.5.9,<0.6.0,>=0.4.0->langchain-chroma==0.2.0)\n",
            "  Using cached rsa-4.9.1-py3-none-any.whl.metadata (5.6 kB)\n",
            "Collecting pyasn1>=0.1.3 (from rsa<5,>=3.1.4->google-auth>=1.0.1->kubernetes>=28.1.0->chromadb!=0.5.10,!=0.5.11,!=0.5.12,!=0.5.4,!=0.5.5,!=0.5.7,!=0.5.9,<0.6.0,>=0.4.0->langchain-chroma==0.2.0)\n",
            "  Using cached pyasn1-0.6.1-py3-none-any.whl.metadata (8.4 kB)\n",
            "Collecting coloredlogs (from onnxruntime>=1.14.1->chromadb!=0.5.10,!=0.5.11,!=0.5.12,!=0.5.4,!=0.5.5,!=0.5.7,!=0.5.9,<0.6.0,>=0.4.0->langchain-chroma==0.2.0)\n",
            "  Using cached coloredlogs-15.0.1-py2.py3-none-any.whl.metadata (12 kB)\n",
            "Collecting flatbuffers (from onnxruntime>=1.14.1->chromadb!=0.5.10,!=0.5.11,!=0.5.12,!=0.5.4,!=0.5.5,!=0.5.7,!=0.5.9,<0.6.0,>=0.4.0->langchain-chroma==0.2.0)\n",
            "  Using cached flatbuffers-25.2.10-py2.py3-none-any.whl.metadata (875 bytes)\n",
            "Collecting protobuf (from onnxruntime>=1.14.1->chromadb!=0.5.10,!=0.5.11,!=0.5.12,!=0.5.4,!=0.5.5,!=0.5.7,!=0.5.9,<0.6.0,>=0.4.0->langchain-chroma==0.2.0)\n",
            "  Using cached protobuf-6.30.2-cp310-abi3-win_amd64.whl.metadata (593 bytes)\n",
            "Collecting sympy (from onnxruntime>=1.14.1->chromadb!=0.5.10,!=0.5.11,!=0.5.12,!=0.5.4,!=0.5.5,!=0.5.7,!=0.5.9,<0.6.0,>=0.4.0->langchain-chroma==0.2.0)\n",
            "  Using cached sympy-1.14.0-py3-none-any.whl.metadata (12 kB)\n",
            "Collecting deprecated>=1.2.6 (from opentelemetry-api>=1.2.0->chromadb!=0.5.10,!=0.5.11,!=0.5.12,!=0.5.4,!=0.5.5,!=0.5.7,!=0.5.9,<0.6.0,>=0.4.0->langchain-chroma==0.2.0)\n",
            "  Using cached Deprecated-1.2.18-py2.py3-none-any.whl.metadata (5.7 kB)\n",
            "Collecting importlib-metadata<8.7.0,>=6.0 (from opentelemetry-api>=1.2.0->chromadb!=0.5.10,!=0.5.11,!=0.5.12,!=0.5.4,!=0.5.5,!=0.5.7,!=0.5.9,<0.6.0,>=0.4.0->langchain-chroma==0.2.0)\n",
            "  Using cached importlib_metadata-8.6.1-py3-none-any.whl.metadata (4.7 kB)\n",
            "Collecting zipp>=3.20 (from importlib-metadata<8.7.0,>=6.0->opentelemetry-api>=1.2.0->chromadb!=0.5.10,!=0.5.11,!=0.5.12,!=0.5.4,!=0.5.5,!=0.5.7,!=0.5.9,<0.6.0,>=0.4.0->langchain-chroma==0.2.0)\n",
            "  Using cached zipp-3.21.0-py3-none-any.whl.metadata (3.7 kB)\n",
            "Collecting wrapt<2,>=1.10 (from deprecated>=1.2.6->opentelemetry-api>=1.2.0->chromadb!=0.5.10,!=0.5.11,!=0.5.12,!=0.5.4,!=0.5.5,!=0.5.7,!=0.5.9,<0.6.0,>=0.4.0->langchain-chroma==0.2.0)\n",
            "  Using cached wrapt-1.17.2-cp312-cp312-win_amd64.whl.metadata (6.5 kB)\n",
            "Collecting googleapis-common-protos~=1.52 (from opentelemetry-exporter-otlp-proto-grpc>=1.2.0->chromadb!=0.5.10,!=0.5.11,!=0.5.12,!=0.5.4,!=0.5.5,!=0.5.7,!=0.5.9,<0.6.0,>=0.4.0->langchain-chroma==0.2.0)\n",
            "  Using cached googleapis_common_protos-1.70.0-py3-none-any.whl.metadata (9.3 kB)\n",
            "Collecting opentelemetry-exporter-otlp-proto-common==1.32.1 (from opentelemetry-exporter-otlp-proto-grpc>=1.2.0->chromadb!=0.5.10,!=0.5.11,!=0.5.12,!=0.5.4,!=0.5.5,!=0.5.7,!=0.5.9,<0.6.0,>=0.4.0->langchain-chroma==0.2.0)\n",
            "  Using cached opentelemetry_exporter_otlp_proto_common-1.32.1-py3-none-any.whl.metadata (1.9 kB)\n",
            "Collecting opentelemetry-proto==1.32.1 (from opentelemetry-exporter-otlp-proto-grpc>=1.2.0->chromadb!=0.5.10,!=0.5.11,!=0.5.12,!=0.5.4,!=0.5.5,!=0.5.7,!=0.5.9,<0.6.0,>=0.4.0->langchain-chroma==0.2.0)\n",
            "  Using cached opentelemetry_proto-1.32.1-py3-none-any.whl.metadata (2.4 kB)\n",
            "Collecting protobuf (from onnxruntime>=1.14.1->chromadb!=0.5.10,!=0.5.11,!=0.5.12,!=0.5.4,!=0.5.5,!=0.5.7,!=0.5.9,<0.6.0,>=0.4.0->langchain-chroma==0.2.0)\n",
            "  Using cached protobuf-5.29.4-cp310-abi3-win_amd64.whl.metadata (592 bytes)\n",
            "Collecting opentelemetry-semantic-conventions==0.53b1 (from opentelemetry-sdk>=1.2.0->chromadb!=0.5.10,!=0.5.11,!=0.5.12,!=0.5.4,!=0.5.5,!=0.5.7,!=0.5.9,<0.6.0,>=0.4.0->langchain-chroma==0.2.0)\n",
            "  Using cached opentelemetry_semantic_conventions-0.53b1-py3-none-any.whl.metadata (2.5 kB)\n",
            "Collecting opentelemetry-instrumentation-asgi==0.53b1 (from opentelemetry-instrumentation-fastapi>=0.41b0->chromadb!=0.5.10,!=0.5.11,!=0.5.12,!=0.5.4,!=0.5.5,!=0.5.7,!=0.5.9,<0.6.0,>=0.4.0->langchain-chroma==0.2.0)\n",
            "  Using cached opentelemetry_instrumentation_asgi-0.53b1-py3-none-any.whl.metadata (2.1 kB)\n",
            "Collecting opentelemetry-instrumentation==0.53b1 (from opentelemetry-instrumentation-fastapi>=0.41b0->chromadb!=0.5.10,!=0.5.11,!=0.5.12,!=0.5.4,!=0.5.5,!=0.5.7,!=0.5.9,<0.6.0,>=0.4.0->langchain-chroma==0.2.0)\n",
            "  Using cached opentelemetry_instrumentation-0.53b1-py3-none-any.whl.metadata (6.8 kB)\n",
            "Collecting opentelemetry-util-http==0.53b1 (from opentelemetry-instrumentation-fastapi>=0.41b0->chromadb!=0.5.10,!=0.5.11,!=0.5.12,!=0.5.4,!=0.5.5,!=0.5.7,!=0.5.9,<0.6.0,>=0.4.0->langchain-chroma==0.2.0)\n",
            "  Using cached opentelemetry_util_http-0.53b1-py3-none-any.whl.metadata (2.6 kB)\n",
            "Collecting asgiref~=3.0 (from opentelemetry-instrumentation-asgi==0.53b1->opentelemetry-instrumentation-fastapi>=0.41b0->chromadb!=0.5.10,!=0.5.11,!=0.5.12,!=0.5.4,!=0.5.5,!=0.5.7,!=0.5.9,<0.6.0,>=0.4.0->langchain-chroma==0.2.0)\n",
            "  Using cached asgiref-3.8.1-py3-none-any.whl.metadata (9.3 kB)\n",
            "Collecting backoff>=1.10.0 (from posthog>=2.4.0->chromadb!=0.5.10,!=0.5.11,!=0.5.12,!=0.5.4,!=0.5.5,!=0.5.7,!=0.5.9,<0.6.0,>=0.4.0->langchain-chroma==0.2.0)\n",
            "  Using cached backoff-2.2.1-py3-none-any.whl.metadata (14 kB)\n",
            "Requirement already satisfied: distro>=1.5.0 in d:\\2. my workspace and notes\\1. demystify folders\\generativai_demystified\\venv\\lib\\site-packages (from posthog>=2.4.0->chromadb!=0.5.10,!=0.5.11,!=0.5.12,!=0.5.4,!=0.5.5,!=0.5.7,!=0.5.9,<0.6.0,>=0.4.0->langchain-chroma==0.2.0) (1.9.0)\n",
            "Collecting markdown-it-py>=2.2.0 (from rich>=10.11.0->chromadb!=0.5.10,!=0.5.11,!=0.5.12,!=0.5.4,!=0.5.5,!=0.5.7,!=0.5.9,<0.6.0,>=0.4.0->langchain-chroma==0.2.0)\n",
            "  Using cached markdown_it_py-3.0.0-py3-none-any.whl.metadata (6.9 kB)\n",
            "Requirement already satisfied: pygments<3.0.0,>=2.13.0 in d:\\2. my workspace and notes\\1. demystify folders\\generativai_demystified\\venv\\lib\\site-packages (from rich>=10.11.0->chromadb!=0.5.10,!=0.5.11,!=0.5.12,!=0.5.4,!=0.5.5,!=0.5.7,!=0.5.9,<0.6.0,>=0.4.0->langchain-chroma==0.2.0) (2.19.1)\n",
            "Collecting mdurl~=0.1 (from markdown-it-py>=2.2.0->rich>=10.11.0->chromadb!=0.5.10,!=0.5.11,!=0.5.12,!=0.5.4,!=0.5.5,!=0.5.7,!=0.5.9,<0.6.0,>=0.4.0->langchain-chroma==0.2.0)\n",
            "  Using cached mdurl-0.1.2-py3-none-any.whl.metadata (1.6 kB)\n",
            "Collecting click>=8.0.0 (from typer>=0.9.0->chromadb!=0.5.10,!=0.5.11,!=0.5.12,!=0.5.4,!=0.5.5,!=0.5.7,!=0.5.9,<0.6.0,>=0.4.0->langchain-chroma==0.2.0)\n",
            "  Using cached click-8.1.8-py3-none-any.whl.metadata (2.3 kB)\n",
            "Collecting shellingham>=1.3.0 (from typer>=0.9.0->chromadb!=0.5.10,!=0.5.11,!=0.5.12,!=0.5.4,!=0.5.5,!=0.5.7,!=0.5.9,<0.6.0,>=0.4.0->langchain-chroma==0.2.0)\n",
            "  Using cached shellingham-1.5.4-py2.py3-none-any.whl.metadata (3.5 kB)\n",
            "Collecting httptools>=0.6.3 (from uvicorn[standard]>=0.18.3->chromadb!=0.5.10,!=0.5.11,!=0.5.12,!=0.5.4,!=0.5.5,!=0.5.7,!=0.5.9,<0.6.0,>=0.4.0->langchain-chroma==0.2.0)\n",
            "  Using cached httptools-0.6.4-cp312-cp312-win_amd64.whl.metadata (3.7 kB)\n",
            "Requirement already satisfied: python-dotenv>=0.13 in d:\\2. my workspace and notes\\1. demystify folders\\generativai_demystified\\venv\\lib\\site-packages (from uvicorn[standard]>=0.18.3->chromadb!=0.5.10,!=0.5.11,!=0.5.12,!=0.5.4,!=0.5.5,!=0.5.7,!=0.5.9,<0.6.0,>=0.4.0->langchain-chroma==0.2.0) (1.1.0)\n",
            "Collecting watchfiles>=0.13 (from uvicorn[standard]>=0.18.3->chromadb!=0.5.10,!=0.5.11,!=0.5.12,!=0.5.4,!=0.5.5,!=0.5.7,!=0.5.9,<0.6.0,>=0.4.0->langchain-chroma==0.2.0)\n",
            "  Using cached watchfiles-1.0.5-cp312-cp312-win_amd64.whl.metadata (5.0 kB)\n",
            "Collecting websockets>=10.4 (from uvicorn[standard]>=0.18.3->chromadb!=0.5.10,!=0.5.11,!=0.5.12,!=0.5.4,!=0.5.5,!=0.5.7,!=0.5.9,<0.6.0,>=0.4.0->langchain-chroma==0.2.0)\n",
            "  Using cached websockets-15.0.1-cp312-cp312-win_amd64.whl.metadata (7.0 kB)\n",
            "Collecting humanfriendly>=9.1 (from coloredlogs->onnxruntime>=1.14.1->chromadb!=0.5.10,!=0.5.11,!=0.5.12,!=0.5.4,!=0.5.5,!=0.5.7,!=0.5.9,<0.6.0,>=0.4.0->langchain-chroma==0.2.0)\n",
            "  Using cached humanfriendly-10.0-py2.py3-none-any.whl.metadata (9.2 kB)\n",
            "Collecting pyreadline3 (from humanfriendly>=9.1->coloredlogs->onnxruntime>=1.14.1->chromadb!=0.5.10,!=0.5.11,!=0.5.12,!=0.5.4,!=0.5.5,!=0.5.7,!=0.5.9,<0.6.0,>=0.4.0->langchain-chroma==0.2.0)\n",
            "  Using cached pyreadline3-3.5.4-py3-none-any.whl.metadata (4.7 kB)\n",
            "Collecting mpmath<1.4,>=1.1.0 (from sympy->onnxruntime>=1.14.1->chromadb!=0.5.10,!=0.5.11,!=0.5.12,!=0.5.4,!=0.5.5,!=0.5.7,!=0.5.9,<0.6.0,>=0.4.0->langchain-chroma==0.2.0)\n",
            "  Using cached mpmath-1.3.0-py3-none-any.whl.metadata (8.6 kB)\n",
            "Using cached langchain_chroma-0.2.0-py3-none-any.whl (11 kB)\n",
            "Using cached chromadb-0.5.23-py3-none-any.whl (628 kB)\n",
            "Using cached fastapi-0.115.12-py3-none-any.whl (95 kB)\n",
            "Using cached numpy-1.26.4-cp312-cp312-win_amd64.whl (15.5 MB)\n",
            "Using cached starlette-0.46.2-py3-none-any.whl (72 kB)\n",
            "Using cached tokenizers-0.20.3-cp312-none-win_amd64.whl (2.4 MB)\n",
            "Using cached huggingface_hub-0.30.2-py3-none-any.whl (481 kB)\n",
            "Using cached bcrypt-4.3.0-cp39-abi3-win_amd64.whl (152 kB)\n",
            "Using cached build-1.2.2.post1-py3-none-any.whl (22 kB)\n",
            "Using cached fsspec-2025.3.2-py3-none-any.whl (194 kB)\n",
            "Using cached grpcio-1.71.0-cp312-cp312-win_amd64.whl (4.3 MB)\n",
            "Using cached kubernetes-32.0.1-py2.py3-none-any.whl (2.0 MB)\n",
            "Using cached durationpy-0.9-py3-none-any.whl (3.5 kB)\n",
            "Using cached google_auth-2.39.0-py2.py3-none-any.whl (212 kB)\n",
            "Using cached cachetools-5.5.2-py3-none-any.whl (10 kB)\n",
            "Using cached rsa-4.9.1-py3-none-any.whl (34 kB)\n",
            "Using cached mmh3-5.1.0-cp312-cp312-win_amd64.whl (41 kB)\n",
            "Using cached oauthlib-3.2.2-py3-none-any.whl (151 kB)\n",
            "Using cached onnxruntime-1.21.1-cp312-cp312-win_amd64.whl (12.3 MB)\n",
            "Using cached opentelemetry_api-1.32.1-py3-none-any.whl (65 kB)\n",
            "Using cached importlib_metadata-8.6.1-py3-none-any.whl (26 kB)\n",
            "Using cached Deprecated-1.2.18-py2.py3-none-any.whl (10.0 kB)\n",
            "Using cached wrapt-1.17.2-cp312-cp312-win_amd64.whl (38 kB)\n",
            "Using cached opentelemetry_exporter_otlp_proto_grpc-1.32.1-py3-none-any.whl (18 kB)\n",
            "Using cached opentelemetry_exporter_otlp_proto_common-1.32.1-py3-none-any.whl (18 kB)\n",
            "Using cached opentelemetry_proto-1.32.1-py3-none-any.whl (55 kB)\n",
            "Using cached googleapis_common_protos-1.70.0-py3-none-any.whl (294 kB)\n",
            "Using cached opentelemetry_sdk-1.32.1-py3-none-any.whl (118 kB)\n",
            "Using cached opentelemetry_semantic_conventions-0.53b1-py3-none-any.whl (188 kB)\n",
            "Using cached protobuf-5.29.4-cp310-abi3-win_amd64.whl (434 kB)\n",
            "Using cached opentelemetry_instrumentation_fastapi-0.53b1-py3-none-any.whl (12 kB)\n",
            "Using cached opentelemetry_instrumentation-0.53b1-py3-none-any.whl (30 kB)\n",
            "Using cached opentelemetry_instrumentation_asgi-0.53b1-py3-none-any.whl (16 kB)\n",
            "Using cached opentelemetry_util_http-0.53b1-py3-none-any.whl (7.3 kB)\n",
            "Using cached asgiref-3.8.1-py3-none-any.whl (23 kB)\n",
            "Using cached overrides-7.7.0-py3-none-any.whl (17 kB)\n",
            "Using cached posthog-4.0.1-py2.py3-none-any.whl (92 kB)\n",
            "Using cached backoff-2.2.1-py3-none-any.whl (15 kB)\n",
            "Using cached pyasn1-0.6.1-py3-none-any.whl (83 kB)\n",
            "Using cached pyasn1_modules-0.4.2-py3-none-any.whl (181 kB)\n",
            "Using cached rich-14.0.0-py3-none-any.whl (243 kB)\n",
            "Using cached markdown_it_py-3.0.0-py3-none-any.whl (87 kB)\n",
            "Using cached mdurl-0.1.2-py3-none-any.whl (10.0 kB)\n",
            "Using cached typer-0.15.3-py3-none-any.whl (45 kB)\n",
            "Using cached click-8.1.8-py3-none-any.whl (98 kB)\n",
            "Using cached shellingham-1.5.4-py2.py3-none-any.whl (9.8 kB)\n",
            "Using cached uvicorn-0.34.2-py3-none-any.whl (62 kB)\n",
            "Using cached httptools-0.6.4-cp312-cp312-win_amd64.whl (88 kB)\n",
            "Using cached watchfiles-1.0.5-cp312-cp312-win_amd64.whl (291 kB)\n",
            "Using cached websocket_client-1.8.0-py3-none-any.whl (58 kB)\n",
            "Using cached websockets-15.0.1-cp312-cp312-win_amd64.whl (176 kB)\n",
            "Using cached zipp-3.21.0-py3-none-any.whl (9.6 kB)\n",
            "Using cached coloredlogs-15.0.1-py2.py3-none-any.whl (46 kB)\n",
            "Using cached humanfriendly-10.0-py2.py3-none-any.whl (86 kB)\n",
            "Using cached filelock-3.18.0-py3-none-any.whl (16 kB)\n",
            "Using cached flatbuffers-25.2.10-py2.py3-none-any.whl (30 kB)\n",
            "Using cached importlib_resources-6.5.2-py3-none-any.whl (37 kB)\n",
            "Using cached pyproject_hooks-1.2.0-py3-none-any.whl (10 kB)\n",
            "Using cached pyreadline3-3.5.4-py3-none-any.whl (83 kB)\n",
            "Using cached requests_oauthlib-2.0.0-py2.py3-none-any.whl (24 kB)\n",
            "Using cached sympy-1.14.0-py3-none-any.whl (6.3 MB)\n",
            "Using cached mpmath-1.3.0-py3-none-any.whl (536 kB)\n",
            "Installing collected packages: pypika, mpmath, flatbuffers, durationpy, zipp, wrapt, websockets, websocket-client, sympy, shellingham, pyreadline3, pyproject_hooks, pyasn1, protobuf, overrides, opentelemetry-util-http, oauthlib, numpy, mmh3, mdurl, importlib-resources, httptools, grpcio, fsspec, filelock, click, cachetools, bcrypt, backoff, asgiref, watchfiles, uvicorn, starlette, rsa, requests-oauthlib, pyasn1-modules, posthog, opentelemetry-proto, markdown-it-py, importlib-metadata, humanfriendly, huggingface-hub, googleapis-common-protos, deprecated, build, tokenizers, rich, opentelemetry-exporter-otlp-proto-common, opentelemetry-api, google-auth, fastapi, coloredlogs, typer, opentelemetry-semantic-conventions, onnxruntime, kubernetes, opentelemetry-sdk, opentelemetry-instrumentation, opentelemetry-instrumentation-asgi, opentelemetry-exporter-otlp-proto-grpc, opentelemetry-instrumentation-fastapi, chromadb, langchain-chroma\n",
            "\n",
            "   ----------------------------------------  0/63 [pypika]\n",
            "    ---------------------------------------  1/63 [mpmath]\n",
            "    ---------------------------------------  1/63 [mpmath]\n",
            "    ---------------------------------------  1/63 [mpmath]\n",
            "    ---------------------------------------  1/63 [mpmath]\n",
            "    ---------------------------------------  1/63 [mpmath]\n",
            "    ---------------------------------------  1/63 [mpmath]\n",
            "    ---------------------------------------  1/63 [mpmath]\n",
            "    ---------------------------------------  1/63 [mpmath]\n",
            "    ---------------------------------------  1/63 [mpmath]\n",
            "    ---------------------------------------  1/63 [mpmath]\n",
            "    ---------------------------------------  1/63 [mpmath]\n",
            "    ---------------------------------------  1/63 [mpmath]\n",
            "    ---------------------------------------  1/63 [mpmath]\n",
            "    ---------------------------------------  1/63 [mpmath]\n",
            "    ---------------------------------------  1/63 [mpmath]\n",
            "   - --------------------------------------  2/63 [flatbuffers]\n",
            "   -- -------------------------------------  4/63 [zipp]\n",
            "   --- ------------------------------------  5/63 [wrapt]\n",
            "   --- ------------------------------------  6/63 [websockets]\n",
            "   --- ------------------------------------  6/63 [websockets]\n",
            "   --- ------------------------------------  6/63 [websockets]\n",
            "   --- ------------------------------------  6/63 [websockets]\n",
            "   --- ------------------------------------  6/63 [websockets]\n",
            "   --- ------------------------------------  6/63 [websockets]\n",
            "   --- ------------------------------------  6/63 [websockets]\n",
            "   --- ------------------------------------  6/63 [websockets]\n",
            "   ---- -----------------------------------  7/63 [websocket-client]\n",
            "   ---- -----------------------------------  7/63 [websocket-client]\n",
            "   ---- -----------------------------------  7/63 [websocket-client]\n",
            "   ---- -----------------------------------  7/63 [websocket-client]\n",
            "   ----- ----------------------------------  8/63 [sympy]\n",
            "   ----- ----------------------------------  8/63 [sympy]\n",
            "   ----- ----------------------------------  8/63 [sympy]\n",
            "   ----- ----------------------------------  8/63 [sympy]\n",
            "   ----- ----------------------------------  8/63 [sympy]\n",
            "   ----- ----------------------------------  8/63 [sympy]\n",
            "   ----- ----------------------------------  8/63 [sympy]\n",
            "   ----- ----------------------------------  8/63 [sympy]\n",
            "   ----- ----------------------------------  8/63 [sympy]\n",
            "   ----- ----------------------------------  8/63 [sympy]\n",
            "   ----- ----------------------------------  8/63 [sympy]\n",
            "   ----- ----------------------------------  8/63 [sympy]\n",
            "   ----- ----------------------------------  8/63 [sympy]\n",
            "   ----- ----------------------------------  8/63 [sympy]\n",
            "   ----- ----------------------------------  8/63 [sympy]\n",
            "   ----- ----------------------------------  8/63 [sympy]\n",
            "   ----- ----------------------------------  8/63 [sympy]\n",
            "   ----- ----------------------------------  8/63 [sympy]\n",
            "   ----- ----------------------------------  8/63 [sympy]\n",
            "   ----- ----------------------------------  8/63 [sympy]\n",
            "   ----- ----------------------------------  8/63 [sympy]\n",
            "   ----- ----------------------------------  8/63 [sympy]\n",
            "   ----- ----------------------------------  8/63 [sympy]\n",
            "   ----- ----------------------------------  8/63 [sympy]\n",
            "   ----- ----------------------------------  8/63 [sympy]\n",
            "   ----- ----------------------------------  8/63 [sympy]\n",
            "   ----- ----------------------------------  8/63 [sympy]\n",
            "   ----- ----------------------------------  8/63 [sympy]\n",
            "   ----- ----------------------------------  8/63 [sympy]\n",
            "   ----- ----------------------------------  8/63 [sympy]\n",
            "   ----- ----------------------------------  8/63 [sympy]\n",
            "   ----- ----------------------------------  8/63 [sympy]\n",
            "   ----- ----------------------------------  8/63 [sympy]\n",
            "   ----- ----------------------------------  8/63 [sympy]\n",
            "   ----- ----------------------------------  8/63 [sympy]\n",
            "   ----- ----------------------------------  8/63 [sympy]\n",
            "   ----- ----------------------------------  8/63 [sympy]\n",
            "   ----- ----------------------------------  8/63 [sympy]\n",
            "   ----- ----------------------------------  8/63 [sympy]\n",
            "   ----- ----------------------------------  8/63 [sympy]\n",
            "   ----- ----------------------------------  8/63 [sympy]\n",
            "   ----- ----------------------------------  8/63 [sympy]\n",
            "   ----- ----------------------------------  8/63 [sympy]\n",
            "   ----- ----------------------------------  8/63 [sympy]\n",
            "   ----- ----------------------------------  8/63 [sympy]\n",
            "   ----- ----------------------------------  8/63 [sympy]\n",
            "   ----- ----------------------------------  8/63 [sympy]\n",
            "   ----- ----------------------------------  8/63 [sympy]\n",
            "   ----- ----------------------------------  8/63 [sympy]\n",
            "   ----- ----------------------------------  8/63 [sympy]\n",
            "   ----- ----------------------------------  8/63 [sympy]\n",
            "   ----- ----------------------------------  8/63 [sympy]\n",
            "   ----- ----------------------------------  8/63 [sympy]\n",
            "   ----- ----------------------------------  8/63 [sympy]\n",
            "   ----- ----------------------------------  8/63 [sympy]\n",
            "   ----- ----------------------------------  8/63 [sympy]\n",
            "   ----- ----------------------------------  8/63 [sympy]\n",
            "   ----- ----------------------------------  8/63 [sympy]\n",
            "   ----- ----------------------------------  8/63 [sympy]\n",
            "   ----- ----------------------------------  8/63 [sympy]\n",
            "   ----- ----------------------------------  8/63 [sympy]\n",
            "   ----- ----------------------------------  8/63 [sympy]\n",
            "   ----- ----------------------------------  8/63 [sympy]\n",
            "   ----- ----------------------------------  8/63 [sympy]\n",
            "   ----- ----------------------------------  8/63 [sympy]\n",
            "   ----- ----------------------------------  8/63 [sympy]\n",
            "   ----- ----------------------------------  8/63 [sympy]\n",
            "   ----- ----------------------------------  8/63 [sympy]\n",
            "   ----- ----------------------------------  8/63 [sympy]\n",
            "   ----- ----------------------------------  8/63 [sympy]\n",
            "   ----- ----------------------------------  8/63 [sympy]\n",
            "   ----- ----------------------------------  8/63 [sympy]\n",
            "   ----- ----------------------------------  8/63 [sympy]\n",
            "   ----- ----------------------------------  8/63 [sympy]\n",
            "   ----- ----------------------------------  8/63 [sympy]\n",
            "   ----- ----------------------------------  8/63 [sympy]\n",
            "   ----- ----------------------------------  8/63 [sympy]\n",
            "   ----- ----------------------------------  8/63 [sympy]\n",
            "   ----- ----------------------------------  8/63 [sympy]\n",
            "   ----- ----------------------------------  8/63 [sympy]\n",
            "   ----- ----------------------------------  8/63 [sympy]\n",
            "   ----- ----------------------------------  8/63 [sympy]\n",
            "   ----- ----------------------------------  8/63 [sympy]\n",
            "   ----- ----------------------------------  8/63 [sympy]\n",
            "   ----- ----------------------------------  8/63 [sympy]\n",
            "   ----- ----------------------------------  8/63 [sympy]\n",
            "   ----- ----------------------------------  8/63 [sympy]\n",
            "   ----- ----------------------------------  8/63 [sympy]\n",
            "   ----- ----------------------------------  8/63 [sympy]\n",
            "   ----- ----------------------------------  8/63 [sympy]\n",
            "   ----- ----------------------------------  8/63 [sympy]\n",
            "   ----- ----------------------------------  8/63 [sympy]\n",
            "   ----- ----------------------------------  8/63 [sympy]\n",
            "   ----- ----------------------------------  8/63 [sympy]\n",
            "   ----- ----------------------------------  8/63 [sympy]\n",
            "   ----- ----------------------------------  8/63 [sympy]\n",
            "   ----- ----------------------------------  8/63 [sympy]\n",
            "   ----- ----------------------------------  8/63 [sympy]\n",
            "   ----- ----------------------------------  8/63 [sympy]\n",
            "   ----- ----------------------------------  8/63 [sympy]\n",
            "   ----- ----------------------------------  8/63 [sympy]\n",
            "   ----- ----------------------------------  8/63 [sympy]\n",
            "   ----- ----------------------------------  8/63 [sympy]\n",
            "   ----- ----------------------------------  8/63 [sympy]\n",
            "   ----- ----------------------------------  8/63 [sympy]\n",
            "   ----- ----------------------------------  8/63 [sympy]\n",
            "   ----- ----------------------------------  8/63 [sympy]\n",
            "   ----- ----------------------------------  8/63 [sympy]\n",
            "   ----- ----------------------------------  8/63 [sympy]\n",
            "   ----- ----------------------------------  8/63 [sympy]\n",
            "   ----- ----------------------------------  8/63 [sympy]\n",
            "   ----- ----------------------------------  8/63 [sympy]\n",
            "   ----- ----------------------------------  8/63 [sympy]\n",
            "   ----- ----------------------------------  8/63 [sympy]\n",
            "   ----- ----------------------------------  8/63 [sympy]\n",
            "   ----- ----------------------------------  8/63 [sympy]\n",
            "   ----- ----------------------------------  8/63 [sympy]\n",
            "   ----- ----------------------------------  8/63 [sympy]\n",
            "   ----- ----------------------------------  8/63 [sympy]\n",
            "   ----- ----------------------------------  8/63 [sympy]\n",
            "   ----- ----------------------------------  8/63 [sympy]\n",
            "   ----- ----------------------------------  8/63 [sympy]\n",
            "   ----- ----------------------------------  8/63 [sympy]\n",
            "   ----- ----------------------------------  8/63 [sympy]\n",
            "   ----- ----------------------------------  8/63 [sympy]\n",
            "   ----- ----------------------------------  8/63 [sympy]\n",
            "   ----- ----------------------------------  8/63 [sympy]\n",
            "   ----- ----------------------------------  8/63 [sympy]\n",
            "   ----- ----------------------------------  8/63 [sympy]\n",
            "   ----- ----------------------------------  8/63 [sympy]\n",
            "   ----- ----------------------------------  8/63 [sympy]\n",
            "   ----- ----------------------------------  8/63 [sympy]\n",
            "   ----- ----------------------------------  8/63 [sympy]\n",
            "   ----- ----------------------------------  8/63 [sympy]\n",
            "   ----- ----------------------------------  8/63 [sympy]\n",
            "   ----- ----------------------------------  8/63 [sympy]\n",
            "   ----- ----------------------------------  8/63 [sympy]\n",
            "   ----- ----------------------------------  8/63 [sympy]\n",
            "   ----- ----------------------------------  8/63 [sympy]\n",
            "   ----- ----------------------------------  8/63 [sympy]\n",
            "   ----- ----------------------------------  8/63 [sympy]\n",
            "   ----- ----------------------------------  8/63 [sympy]\n",
            "   ----- ----------------------------------  8/63 [sympy]\n",
            "   ----- ----------------------------------  8/63 [sympy]\n",
            "   ----- ----------------------------------  8/63 [sympy]\n",
            "   ----- ----------------------------------  8/63 [sympy]\n",
            "   ----- ----------------------------------  8/63 [sympy]\n",
            "   ----- ----------------------------------  8/63 [sympy]\n",
            "   ----- ----------------------------------  8/63 [sympy]\n",
            "   ----- ----------------------------------  8/63 [sympy]\n",
            "   ----- ----------------------------------  8/63 [sympy]\n",
            "   ----- ----------------------------------  8/63 [sympy]\n",
            "   ----- ----------------------------------  8/63 [sympy]\n",
            "   ----- ----------------------------------  8/63 [sympy]\n",
            "   ----- ----------------------------------  8/63 [sympy]\n",
            "   ----- ----------------------------------  8/63 [sympy]\n",
            "   ----- ----------------------------------  8/63 [sympy]\n",
            "   ----- ----------------------------------  8/63 [sympy]\n",
            "   ----- ----------------------------------  8/63 [sympy]\n",
            "   ----- ----------------------------------  8/63 [sympy]\n",
            "   ----- ----------------------------------  8/63 [sympy]\n",
            "   ----- ----------------------------------  8/63 [sympy]\n",
            "   ----- ----------------------------------  8/63 [sympy]\n",
            "   ----- ----------------------------------  8/63 [sympy]\n",
            "   ----- ----------------------------------  8/63 [sympy]\n",
            "   ----- ----------------------------------  8/63 [sympy]\n",
            "   ----- ----------------------------------  9/63 [shellingham]\n",
            "   ------ --------------------------------- 10/63 [pyreadline3]\n",
            "   ------ --------------------------------- 10/63 [pyreadline3]\n",
            "   ------ --------------------------------- 10/63 [pyreadline3]\n",
            "   ------ --------------------------------- 11/63 [pyproject_hooks]\n",
            "   ------- -------------------------------- 12/63 [pyasn1]\n",
            "   ------- -------------------------------- 12/63 [pyasn1]\n",
            "   ------- -------------------------------- 12/63 [pyasn1]\n",
            "   -------- ------------------------------- 13/63 [protobuf]\n",
            "   -------- ------------------------------- 13/63 [protobuf]\n",
            "   -------- ------------------------------- 13/63 [protobuf]\n",
            "   -------- ------------------------------- 13/63 [protobuf]\n",
            "   -------- ------------------------------- 13/63 [protobuf]\n",
            "   -------- ------------------------------- 13/63 [protobuf]\n",
            "   -------- ------------------------------- 13/63 [protobuf]\n",
            "   -------- ------------------------------- 13/63 [protobuf]\n",
            "   -------- ------------------------------- 14/63 [overrides]\n",
            "   --------- ------------------------------ 15/63 [opentelemetry-util-http]\n",
            "   ---------- ----------------------------- 16/63 [oauthlib]\n",
            "   ---------- ----------------------------- 16/63 [oauthlib]\n",
            "   ---------- ----------------------------- 16/63 [oauthlib]\n",
            "   ---------- ----------------------------- 16/63 [oauthlib]\n",
            "   ---------- ----------------------------- 16/63 [oauthlib]\n",
            "   ---------- ----------------------------- 16/63 [oauthlib]\n",
            "  Attempting uninstall: numpy\n",
            "   ---------- ----------------------------- 16/63 [oauthlib]\n",
            "    Found existing installation: numpy 2.2.5\n",
            "   ---------- ----------------------------- 16/63 [oauthlib]\n",
            "   ---------- ----------------------------- 17/63 [numpy]\n",
            "    Uninstalling numpy-2.2.5:\n",
            "   ---------- ----------------------------- 17/63 [numpy]\n",
            "   ---------- ----------------------------- 17/63 [numpy]\n",
            "   ---------- ----------------------------- 17/63 [numpy]\n",
            "   ---------- ----------------------------- 17/63 [numpy]\n",
            "      Successfully uninstalled numpy-2.2.5\n",
            "   ---------- ----------------------------- 17/63 [numpy]\n",
            "   ---------- ----------------------------- 17/63 [numpy]\n",
            "   ---------- ----------------------------- 17/63 [numpy]\n",
            "   ---------- ----------------------------- 17/63 [numpy]\n",
            "   ---------- ----------------------------- 17/63 [numpy]\n",
            "   ---------- ----------------------------- 17/63 [numpy]\n",
            "   ---------- ----------------------------- 17/63 [numpy]\n",
            "   ---------- ----------------------------- 17/63 [numpy]\n",
            "   ---------- ----------------------------- 17/63 [numpy]\n",
            "   ---------- ----------------------------- 17/63 [numpy]\n",
            "   ---------- ----------------------------- 17/63 [numpy]\n",
            "   ---------- ----------------------------- 17/63 [numpy]\n",
            "   ---------- ----------------------------- 17/63 [numpy]\n",
            "   ---------- ----------------------------- 17/63 [numpy]\n",
            "   ---------- ----------------------------- 17/63 [numpy]\n",
            "   ---------- ----------------------------- 17/63 [numpy]\n",
            "   ---------- ----------------------------- 17/63 [numpy]\n",
            "   ---------- ----------------------------- 17/63 [numpy]\n",
            "   ---------- ----------------------------- 17/63 [numpy]\n",
            "   ---------- ----------------------------- 17/63 [numpy]\n",
            "   ---------- ----------------------------- 17/63 [numpy]\n",
            "   ---------- ----------------------------- 17/63 [numpy]\n",
            "   ---------- ----------------------------- 17/63 [numpy]\n",
            "   ---------- ----------------------------- 17/63 [numpy]\n",
            "   ---------- ----------------------------- 17/63 [numpy]\n",
            "   ---------- ----------------------------- 17/63 [numpy]\n",
            "   ---------- ----------------------------- 17/63 [numpy]\n",
            "   ---------- ----------------------------- 17/63 [numpy]\n",
            "   ---------- ----------------------------- 17/63 [numpy]\n",
            "   ---------- ----------------------------- 17/63 [numpy]\n",
            "   ---------- ----------------------------- 17/63 [numpy]\n",
            "   ---------- ----------------------------- 17/63 [numpy]\n",
            "   ---------- ----------------------------- 17/63 [numpy]\n",
            "   ---------- ----------------------------- 17/63 [numpy]\n",
            "   ---------- ----------------------------- 17/63 [numpy]\n",
            "   ---------- ----------------------------- 17/63 [numpy]\n",
            "   ---------- ----------------------------- 17/63 [numpy]\n",
            "   ---------- ----------------------------- 17/63 [numpy]\n",
            "   ---------- ----------------------------- 17/63 [numpy]\n",
            "   ---------- ----------------------------- 17/63 [numpy]\n",
            "   ---------- ----------------------------- 17/63 [numpy]\n",
            "   ---------- ----------------------------- 17/63 [numpy]\n",
            "   ---------- ----------------------------- 17/63 [numpy]\n",
            "   ---------- ----------------------------- 17/63 [numpy]\n",
            "   ---------- ----------------------------- 17/63 [numpy]\n",
            "   ---------- ----------------------------- 17/63 [numpy]\n",
            "   ---------- ----------------------------- 17/63 [numpy]\n",
            "   ---------- ----------------------------- 17/63 [numpy]\n",
            "   ---------- ----------------------------- 17/63 [numpy]\n",
            "   ---------- ----------------------------- 17/63 [numpy]\n",
            "   ---------- ----------------------------- 17/63 [numpy]\n",
            "   ---------- ----------------------------- 17/63 [numpy]\n",
            "   ---------- ----------------------------- 17/63 [numpy]\n",
            "   ---------- ----------------------------- 17/63 [numpy]\n",
            "   ---------- ----------------------------- 17/63 [numpy]\n",
            "   ---------- ----------------------------- 17/63 [numpy]\n",
            "   ------------ --------------------------- 19/63 [mdurl]\n",
            "   ------------ --------------------------- 20/63 [importlib-resources]\n",
            "   ------------ --------------------------- 20/63 [importlib-resources]\n",
            "   ------------- -------------------------- 22/63 [grpcio]\n",
            "   ------------- -------------------------- 22/63 [grpcio]\n",
            "   ------------- -------------------------- 22/63 [grpcio]\n",
            "   ------------- -------------------------- 22/63 [grpcio]\n",
            "   ------------- -------------------------- 22/63 [grpcio]\n",
            "   ------------- -------------------------- 22/63 [grpcio]\n",
            "   -------------- ------------------------- 23/63 [fsspec]\n",
            "   -------------- ------------------------- 23/63 [fsspec]\n",
            "   -------------- ------------------------- 23/63 [fsspec]\n",
            "   -------------- ------------------------- 23/63 [fsspec]\n",
            "   -------------- ------------------------- 23/63 [fsspec]\n",
            "   -------------- ------------------------- 23/63 [fsspec]\n",
            "   --------------- ------------------------ 24/63 [filelock]\n",
            "   --------------- ------------------------ 24/63 [filelock]\n",
            "   --------------- ------------------------ 25/63 [click]\n",
            "   --------------- ------------------------ 25/63 [click]\n",
            "   ----------------- ---------------------- 28/63 [backoff]\n",
            "   ------------------ --------------------- 29/63 [asgiref]\n",
            "   ------------------- -------------------- 30/63 [watchfiles]\n",
            "   ------------------- -------------------- 30/63 [watchfiles]\n",
            "   ------------------- -------------------- 31/63 [uvicorn]\n",
            "   ------------------- -------------------- 31/63 [uvicorn]\n",
            "   ------------------- -------------------- 31/63 [uvicorn]\n",
            "   ------------------- -------------------- 31/63 [uvicorn]\n",
            "   -------------------- ------------------- 32/63 [starlette]\n",
            "   -------------------- ------------------- 32/63 [starlette]\n",
            "   -------------------- ------------------- 32/63 [starlette]\n",
            "   -------------------- ------------------- 32/63 [starlette]\n",
            "   -------------------- ------------------- 32/63 [starlette]\n",
            "   -------------------- ------------------- 33/63 [rsa]\n",
            "   -------------------- ------------------- 33/63 [rsa]\n",
            "   -------------------- ------------------- 33/63 [rsa]\n",
            "   -------------------- ------------------- 33/63 [rsa]\n",
            "   -------------------- ------------------- 33/63 [rsa]\n",
            "   --------------------- ------------------ 34/63 [requests-oauthlib]\n",
            "   --------------------- ------------------ 34/63 [requests-oauthlib]\n",
            "   ---------------------- ----------------- 35/63 [pyasn1-modules]\n",
            "   ---------------------- ----------------- 35/63 [pyasn1-modules]\n",
            "   ---------------------- ----------------- 35/63 [pyasn1-modules]\n",
            "   ---------------------- ----------------- 35/63 [pyasn1-modules]\n",
            "   ---------------------- ----------------- 35/63 [pyasn1-modules]\n",
            "   ---------------------- ----------------- 35/63 [pyasn1-modules]\n",
            "   ---------------------- ----------------- 35/63 [pyasn1-modules]\n",
            "   ---------------------- ----------------- 35/63 [pyasn1-modules]\n",
            "   ---------------------- ----------------- 35/63 [pyasn1-modules]\n",
            "   ---------------------- ----------------- 35/63 [pyasn1-modules]\n",
            "   ---------------------- ----------------- 35/63 [pyasn1-modules]\n",
            "   ---------------------- ----------------- 35/63 [pyasn1-modules]\n",
            "   ---------------------- ----------------- 35/63 [pyasn1-modules]\n",
            "   ---------------------- ----------------- 35/63 [pyasn1-modules]\n",
            "   ---------------------- ----------------- 36/63 [posthog]\n",
            "   ---------------------- ----------------- 36/63 [posthog]\n",
            "   ---------------------- ----------------- 36/63 [posthog]\n",
            "   ----------------------- ---------------- 37/63 [opentelemetry-proto]\n",
            "   ----------------------- ---------------- 37/63 [opentelemetry-proto]\n",
            "   ------------------------ --------------- 38/63 [markdown-it-py]\n",
            "   ------------------------ --------------- 38/63 [markdown-it-py]\n",
            "   ------------------------ --------------- 38/63 [markdown-it-py]\n",
            "   ------------------------ --------------- 38/63 [markdown-it-py]\n",
            "   ------------------------ --------------- 38/63 [markdown-it-py]\n",
            "   ------------------------ --------------- 38/63 [markdown-it-py]\n",
            "   ------------------------ --------------- 38/63 [markdown-it-py]\n",
            "   ------------------------ --------------- 39/63 [importlib-metadata]\n",
            "   ------------------------ --------------- 39/63 [importlib-metadata]\n",
            "   ------------------------- -------------- 40/63 [humanfriendly]\n",
            "   ------------------------- -------------- 40/63 [humanfriendly]\n",
            "   -------------------------- ------------- 41/63 [huggingface-hub]\n",
            "   -------------------------- ------------- 41/63 [huggingface-hub]\n",
            "   -------------------------- ------------- 41/63 [huggingface-hub]\n",
            "   -------------------------- ------------- 41/63 [huggingface-hub]\n",
            "   -------------------------- ------------- 41/63 [huggingface-hub]\n",
            "   -------------------------- ------------- 41/63 [huggingface-hub]\n",
            "   -------------------------- ------------- 41/63 [huggingface-hub]\n",
            "   -------------------------- ------------- 41/63 [huggingface-hub]\n",
            "   -------------------------- ------------- 41/63 [huggingface-hub]\n",
            "   -------------------------- ------------- 41/63 [huggingface-hub]\n",
            "   -------------------------- ------------- 41/63 [huggingface-hub]\n",
            "   -------------------------- ------------- 41/63 [huggingface-hub]\n",
            "   -------------------------- ------------- 41/63 [huggingface-hub]\n",
            "   -------------------------- ------------- 41/63 [huggingface-hub]\n",
            "   -------------------------- ------------- 41/63 [huggingface-hub]\n",
            "   -------------------------- ------------- 41/63 [huggingface-hub]\n",
            "   -------------------------- ------------- 42/63 [googleapis-common-protos]\n",
            "   -------------------------- ------------- 42/63 [googleapis-common-protos]\n",
            "   -------------------------- ------------- 42/63 [googleapis-common-protos]\n",
            "   -------------------------- ------------- 42/63 [googleapis-common-protos]\n",
            "   -------------------------- ------------- 42/63 [googleapis-common-protos]\n",
            "   -------------------------- ------------- 42/63 [googleapis-common-protos]\n",
            "   -------------------------- ------------- 42/63 [googleapis-common-protos]\n",
            "   -------------------------- ------------- 42/63 [googleapis-common-protos]\n",
            "   -------------------------- ------------- 42/63 [googleapis-common-protos]\n",
            "   --------------------------- ------------ 43/63 [deprecated]\n",
            "   --------------------------- ------------ 44/63 [build]\n",
            "   --------------------------- ------------ 44/63 [build]\n",
            "   ---------------------------- ----------- 45/63 [tokenizers]\n",
            "   ----------------------------- ---------- 46/63 [rich]\n",
            "   ----------------------------- ---------- 46/63 [rich]\n",
            "   ----------------------------- ---------- 46/63 [rich]\n",
            "   ----------------------------- ---------- 46/63 [rich]\n",
            "   ----------------------------- ---------- 46/63 [rich]\n",
            "   ----------------------------- ---------- 46/63 [rich]\n",
            "   ----------------------------- ---------- 46/63 [rich]\n",
            "   ----------------------------- ---------- 46/63 [rich]\n",
            "   ----------------------------- ---------- 46/63 [rich]\n",
            "   ----------------------------- ---------- 46/63 [rich]\n",
            "   -------------------- ------ 47/63 [opentelemetry-exporter-otlp-proto-common]\n",
            "   ------------------------------ --------- 48/63 [opentelemetry-api]\n",
            "   ------------------------------ --------- 48/63 [opentelemetry-api]\n",
            "   ------------------------------ --------- 48/63 [opentelemetry-api]\n",
            "   ------------------------------- -------- 49/63 [google-auth]\n",
            "   ------------------------------- -------- 49/63 [google-auth]\n",
            "   ------------------------------- -------- 49/63 [google-auth]\n",
            "   ------------------------------- -------- 49/63 [google-auth]\n",
            "   ------------------------------- -------- 49/63 [google-auth]\n",
            "   ------------------------------- -------- 49/63 [google-auth]\n",
            "   ------------------------------- -------- 49/63 [google-auth]\n",
            "   ------------------------------- -------- 49/63 [google-auth]\n",
            "   ------------------------------- -------- 50/63 [fastapi]\n",
            "   ------------------------------- -------- 50/63 [fastapi]\n",
            "   ------------------------------- -------- 50/63 [fastapi]\n",
            "   ------------------------------- -------- 50/63 [fastapi]\n",
            "   ------------------------------- -------- 50/63 [fastapi]\n",
            "   -------------------------------- ------- 51/63 [coloredlogs]\n",
            "   -------------------------------- ------- 51/63 [coloredlogs]\n",
            "   --------------------------------- ------ 52/63 [typer]\n",
            "   --------------------------------- ------ 52/63 [typer]\n",
            "   --------------------------- ----- 53/63 [opentelemetry-semantic-conventions]\n",
            "   --------------------------- ----- 53/63 [opentelemetry-semantic-conventions]\n",
            "   --------------------------- ----- 53/63 [opentelemetry-semantic-conventions]\n",
            "   --------------------------- ----- 53/63 [opentelemetry-semantic-conventions]\n",
            "   --------------------------- ----- 53/63 [opentelemetry-semantic-conventions]\n",
            "   --------------------------- ----- 53/63 [opentelemetry-semantic-conventions]\n",
            "   --------------------------- ----- 53/63 [opentelemetry-semantic-conventions]\n",
            "   --------------------------- ----- 53/63 [opentelemetry-semantic-conventions]\n",
            "   --------------------------- ----- 53/63 [opentelemetry-semantic-conventions]\n",
            "   --------------------------- ----- 53/63 [opentelemetry-semantic-conventions]\n",
            "   --------------------------- ----- 53/63 [opentelemetry-semantic-conventions]\n",
            "   ---------------------------------- ----- 54/63 [onnxruntime]\n",
            "   ---------------------------------- ----- 54/63 [onnxruntime]\n",
            "   ---------------------------------- ----- 54/63 [onnxruntime]\n",
            "   ---------------------------------- ----- 54/63 [onnxruntime]\n",
            "   ---------------------------------- ----- 54/63 [onnxruntime]\n",
            "   ---------------------------------- ----- 54/63 [onnxruntime]\n",
            "   ---------------------------------- ----- 54/63 [onnxruntime]\n",
            "   ---------------------------------- ----- 54/63 [onnxruntime]\n",
            "   ---------------------------------- ----- 54/63 [onnxruntime]\n",
            "   ---------------------------------- ----- 54/63 [onnxruntime]\n",
            "   ---------------------------------- ----- 54/63 [onnxruntime]\n",
            "   ---------------------------------- ----- 54/63 [onnxruntime]\n",
            "   ---------------------------------- ----- 54/63 [onnxruntime]\n",
            "   ---------------------------------- ----- 54/63 [onnxruntime]\n",
            "   ---------------------------------- ----- 54/63 [onnxruntime]\n",
            "   ---------------------------------- ----- 54/63 [onnxruntime]\n",
            "   ---------------------------------- ----- 54/63 [onnxruntime]\n",
            "   ---------------------------------- ----- 54/63 [onnxruntime]\n",
            "   ---------------------------------- ----- 54/63 [onnxruntime]\n",
            "   ---------------------------------- ----- 54/63 [onnxruntime]\n",
            "   ---------------------------------- ----- 54/63 [onnxruntime]\n",
            "   ---------------------------------- ----- 54/63 [onnxruntime]\n",
            "   ---------------------------------- ----- 54/63 [onnxruntime]\n",
            "   ---------------------------------- ----- 54/63 [onnxruntime]\n",
            "   ---------------------------------- ----- 54/63 [onnxruntime]\n",
            "   ---------------------------------- ----- 54/63 [onnxruntime]\n",
            "   ---------------------------------- ----- 54/63 [onnxruntime]\n",
            "   ---------------------------------- ----- 54/63 [onnxruntime]\n",
            "   ---------------------------------- ----- 54/63 [onnxruntime]\n",
            "   ---------------------------------- ----- 55/63 [kubernetes]\n",
            "   ---------------------------------- ----- 55/63 [kubernetes]\n",
            "   ---------------------------------- ----- 55/63 [kubernetes]\n",
            "   ---------------------------------- ----- 55/63 [kubernetes]\n",
            "   ---------------------------------- ----- 55/63 [kubernetes]\n",
            "   ---------------------------------- ----- 55/63 [kubernetes]\n",
            "   ---------------------------------- ----- 55/63 [kubernetes]\n",
            "   ---------------------------------- ----- 55/63 [kubernetes]\n",
            "   ---------------------------------- ----- 55/63 [kubernetes]\n",
            "   ---------------------------------- ----- 55/63 [kubernetes]\n",
            "   ---------------------------------- ----- 55/63 [kubernetes]\n",
            "   ---------------------------------- ----- 55/63 [kubernetes]\n",
            "   ---------------------------------- ----- 55/63 [kubernetes]\n",
            "   ---------------------------------- ----- 55/63 [kubernetes]\n",
            "   ---------------------------------- ----- 55/63 [kubernetes]\n",
            "   ---------------------------------- ----- 55/63 [kubernetes]\n",
            "   ---------------------------------- ----- 55/63 [kubernetes]\n",
            "   ---------------------------------- ----- 55/63 [kubernetes]\n",
            "   ---------------------------------- ----- 55/63 [kubernetes]\n",
            "   ---------------------------------- ----- 55/63 [kubernetes]\n",
            "   ---------------------------------- ----- 55/63 [kubernetes]\n",
            "   ---------------------------------- ----- 55/63 [kubernetes]\n",
            "   ---------------------------------- ----- 55/63 [kubernetes]\n",
            "   ---------------------------------- ----- 55/63 [kubernetes]\n",
            "   ---------------------------------- ----- 55/63 [kubernetes]\n",
            "   ---------------------------------- ----- 55/63 [kubernetes]\n",
            "   ---------------------------------- ----- 55/63 [kubernetes]\n",
            "   ---------------------------------- ----- 55/63 [kubernetes]\n",
            "   ---------------------------------- ----- 55/63 [kubernetes]\n",
            "   ---------------------------------- ----- 55/63 [kubernetes]\n",
            "   ---------------------------------- ----- 55/63 [kubernetes]\n",
            "   ---------------------------------- ----- 55/63 [kubernetes]\n",
            "   ---------------------------------- ----- 55/63 [kubernetes]\n",
            "   ---------------------------------- ----- 55/63 [kubernetes]\n",
            "   ---------------------------------- ----- 55/63 [kubernetes]\n",
            "   ---------------------------------- ----- 55/63 [kubernetes]\n",
            "   ---------------------------------- ----- 55/63 [kubernetes]\n",
            "   ---------------------------------- ----- 55/63 [kubernetes]\n",
            "   ---------------------------------- ----- 55/63 [kubernetes]\n",
            "   ---------------------------------- ----- 55/63 [kubernetes]\n",
            "   ---------------------------------- ----- 55/63 [kubernetes]\n",
            "   ---------------------------------- ----- 55/63 [kubernetes]\n",
            "   ---------------------------------- ----- 55/63 [kubernetes]\n",
            "   ---------------------------------- ----- 55/63 [kubernetes]\n",
            "   ---------------------------------- ----- 55/63 [kubernetes]\n",
            "   ---------------------------------- ----- 55/63 [kubernetes]\n",
            "   ---------------------------------- ----- 55/63 [kubernetes]\n",
            "   ---------------------------------- ----- 55/63 [kubernetes]\n",
            "   ---------------------------------- ----- 55/63 [kubernetes]\n",
            "   ---------------------------------- ----- 55/63 [kubernetes]\n",
            "   ---------------------------------- ----- 55/63 [kubernetes]\n",
            "   ---------------------------------- ----- 55/63 [kubernetes]\n",
            "   ---------------------------------- ----- 55/63 [kubernetes]\n",
            "   ---------------------------------- ----- 55/63 [kubernetes]\n",
            "   ---------------------------------- ----- 55/63 [kubernetes]\n",
            "   ---------------------------------- ----- 55/63 [kubernetes]\n",
            "   ---------------------------------- ----- 55/63 [kubernetes]\n",
            "   ---------------------------------- ----- 55/63 [kubernetes]\n",
            "   ---------------------------------- ----- 55/63 [kubernetes]\n",
            "   ---------------------------------- ----- 55/63 [kubernetes]\n",
            "   ---------------------------------- ----- 55/63 [kubernetes]\n",
            "   ---------------------------------- ----- 55/63 [kubernetes]\n",
            "   ---------------------------------- ----- 55/63 [kubernetes]\n",
            "   ---------------------------------- ----- 55/63 [kubernetes]\n",
            "   ---------------------------------- ----- 55/63 [kubernetes]\n",
            "   ---------------------------------- ----- 55/63 [kubernetes]\n",
            "   ---------------------------------- ----- 55/63 [kubernetes]\n",
            "   ---------------------------------- ----- 55/63 [kubernetes]\n",
            "   ---------------------------------- ----- 55/63 [kubernetes]\n",
            "   ---------------------------------- ----- 55/63 [kubernetes]\n",
            "   ---------------------------------- ----- 55/63 [kubernetes]\n",
            "   ---------------------------------- ----- 55/63 [kubernetes]\n",
            "   ---------------------------------- ----- 55/63 [kubernetes]\n",
            "   ---------------------------------- ----- 55/63 [kubernetes]\n",
            "   ---------------------------------- ----- 55/63 [kubernetes]\n",
            "   ---------------------------------- ----- 55/63 [kubernetes]\n",
            "   ---------------------------------- ----- 55/63 [kubernetes]\n",
            "   ---------------------------------- ----- 55/63 [kubernetes]\n",
            "   ---------------------------------- ----- 55/63 [kubernetes]\n",
            "   ---------------------------------- ----- 55/63 [kubernetes]\n",
            "   ---------------------------------- ----- 55/63 [kubernetes]\n",
            "   ---------------------------------- ----- 55/63 [kubernetes]\n",
            "   ---------------------------------- ----- 55/63 [kubernetes]\n",
            "   ---------------------------------- ----- 55/63 [kubernetes]\n",
            "   ---------------------------------- ----- 55/63 [kubernetes]\n",
            "   ----------------------------------- ---- 56/63 [opentelemetry-sdk]\n",
            "   ----------------------------------- ---- 56/63 [opentelemetry-sdk]\n",
            "   ----------------------------------- ---- 56/63 [opentelemetry-sdk]\n",
            "   ----------------------------------- ---- 56/63 [opentelemetry-sdk]\n",
            "   ----------------------------------- ---- 56/63 [opentelemetry-sdk]\n",
            "   ---------------------------------- --- 57/63 [opentelemetry-instrumentation]\n",
            "   ---------------------------------- --- 57/63 [opentelemetry-instrumentation]\n",
            "   ---------------------------------- --- 57/63 [opentelemetry-instrumentation]\n",
            "   --------------------------- - 59/63 [opentelemetry-exporter-otlp-proto-grpc]\n",
            "   -------------------------------------- - 61/63 [chromadb]\n",
            "   -------------------------------------- - 61/63 [chromadb]\n",
            "   -------------------------------------- - 61/63 [chromadb]\n",
            "   -------------------------------------- - 61/63 [chromadb]\n",
            "   -------------------------------------- - 61/63 [chromadb]\n",
            "   -------------------------------------- - 61/63 [chromadb]\n",
            "   -------------------------------------- - 61/63 [chromadb]\n",
            "   -------------------------------------- - 61/63 [chromadb]\n",
            "   -------------------------------------- - 61/63 [chromadb]\n",
            "   -------------------------------------- - 61/63 [chromadb]\n",
            "   -------------------------------------- - 61/63 [chromadb]\n",
            "   -------------------------------------- - 61/63 [chromadb]\n",
            "   -------------------------------------- - 61/63 [chromadb]\n",
            "   -------------------------------------- - 61/63 [chromadb]\n",
            "   -------------------------------------- - 61/63 [chromadb]\n",
            "   -------------------------------------- - 61/63 [chromadb]\n",
            "   -------------------------------------- - 61/63 [chromadb]\n",
            "   -------------------------------------- - 61/63 [chromadb]\n",
            "   -------------------------------------- - 61/63 [chromadb]\n",
            "   ---------------------------------------- 63/63 [langchain-chroma]\n",
            "\n",
            "Successfully installed asgiref-3.8.1 backoff-2.2.1 bcrypt-4.3.0 build-1.2.2.post1 cachetools-5.5.2 chromadb-0.5.23 click-8.1.8 coloredlogs-15.0.1 deprecated-1.2.18 durationpy-0.9 fastapi-0.115.12 filelock-3.18.0 flatbuffers-25.2.10 fsspec-2025.3.2 google-auth-2.39.0 googleapis-common-protos-1.70.0 grpcio-1.71.0 httptools-0.6.4 huggingface-hub-0.30.2 humanfriendly-10.0 importlib-metadata-8.6.1 importlib-resources-6.5.2 kubernetes-32.0.1 langchain-chroma-0.2.0 markdown-it-py-3.0.0 mdurl-0.1.2 mmh3-5.1.0 mpmath-1.3.0 numpy-1.26.4 oauthlib-3.2.2 onnxruntime-1.21.1 opentelemetry-api-1.32.1 opentelemetry-exporter-otlp-proto-common-1.32.1 opentelemetry-exporter-otlp-proto-grpc-1.32.1 opentelemetry-instrumentation-0.53b1 opentelemetry-instrumentation-asgi-0.53b1 opentelemetry-instrumentation-fastapi-0.53b1 opentelemetry-proto-1.32.1 opentelemetry-sdk-1.32.1 opentelemetry-semantic-conventions-0.53b1 opentelemetry-util-http-0.53b1 overrides-7.7.0 posthog-4.0.1 protobuf-5.29.4 pyasn1-0.6.1 pyasn1-modules-0.4.2 pypika-0.48.9 pyproject_hooks-1.2.0 pyreadline3-3.5.4 requests-oauthlib-2.0.0 rich-14.0.0 rsa-4.9.1 shellingham-1.5.4 starlette-0.46.2 sympy-1.14.0 tokenizers-0.20.3 typer-0.15.3 uvicorn-0.34.2 watchfiles-1.0.5 websocket-client-1.8.0 websockets-15.0.1 wrapt-1.17.2 zipp-3.21.0\n"
          ]
        }
      ],
      "source": [
        "!pip install langchain-chroma==0.2.0"
      ]
    },
    {
      "cell_type": "markdown",
      "metadata": {
        "id": "H9c37cLnSrbg"
      },
      "source": [
        "## Enter Open AI API Key"
      ]
    },
    {
      "cell_type": "code",
      "execution_count": 3,
      "metadata": {
        "id": "cv3JzCEx_PAd"
      },
      "outputs": [],
      "source": [
        "from getpass import getpass\n",
        "\n",
        "OPENAI_KEY = getpass('Enter Open AI API Key: ')"
      ]
    },
    {
      "cell_type": "markdown",
      "metadata": {
        "id": "1T0s0um5Svfa"
      },
      "source": [
        "## Setup Environment Variables"
      ]
    },
    {
      "cell_type": "code",
      "execution_count": 4,
      "metadata": {
        "id": "x1YSuHNF_lbh"
      },
      "outputs": [],
      "source": [
        "import os\n",
        "\n",
        "os.environ['OPENAI_API_KEY'] = OPENAI_KEY"
      ]
    },
    {
      "cell_type": "markdown",
      "metadata": {
        "id": "iLVgrOIgR_Z1"
      },
      "source": [
        "## Load Company Knowledge Base"
      ]
    },
    {
      "cell_type": "code",
      "execution_count": 5,
      "metadata": {
        "colab": {
          "base_uri": "https://localhost:8080/"
        },
        "id": "Mjlzx9bxR-1C",
        "outputId": "be597db9-f7f3-4f08-c5d0-0d2715949e7b"
      },
      "outputs": [],
      "source": [
        "# # or download manually from https://drive.google.com/file/d/1CWHutosAcJ6fiddQW5ogvg7NgLstZJ9j/view?usp=sharing and upload to colab or your notebook location\n",
        "# !gdown 1CWHutosAcJ6fiddQW5ogvg7NgLstZJ9j"
      ]
    },
    {
      "cell_type": "code",
      "execution_count": 6,
      "metadata": {
        "colab": {
          "base_uri": "https://localhost:8080/"
        },
        "id": "7NzAAMXyTSAH",
        "outputId": "77ca97b8-369c-43cc-97a3-dcb280e6dec3"
      },
      "outputs": [
        {
          "data": {
            "text/plain": [
              "[{'text': 'Question: How do I integrate your AI product with my existing CRM system? Answer: You can integrate our AI product with your CRM using our API. Refer to the API documentation available on our website for step-by-step guidance.',\n",
              "  'metadata': {'category': 'technical'}},\n",
              " {'text': 'Question: What programming languages are supported by your SDK? Answer: Our SDK supports Python, Java, and JavaScript. Additional language support is planned for future updates.',\n",
              "  'metadata': {'category': 'technical'}},\n",
              " {'text': 'Question: Can your AI models run on-premise? Answer: Yes, our AI models can be deployed on-premise. We provide deployment guides for various environments.',\n",
              "  'metadata': {'category': 'technical'}}]"
            ]
          },
          "execution_count": 6,
          "metadata": {},
          "output_type": "execute_result"
        }
      ],
      "source": [
        "import json\n",
        "\n",
        "with open(\"../docs/router_agent_documents.json\", \"r\") as f:\n",
        "    knowledge_base = json.load(f)\n",
        "\n",
        "knowledge_base[:3]"
      ]
    },
    {
      "cell_type": "code",
      "execution_count": 7,
      "metadata": {
        "colab": {
          "base_uri": "https://localhost:8080/"
        },
        "id": "wi8ULKpHEc0Z",
        "outputId": "232e9f97-108a-4e4a-e626-8420797434a8"
      },
      "outputs": [
        {
          "data": {
            "text/plain": [
              "[{'text': 'Question: How do I escalate an unresolved issue? Answer: You can escalate unresolved issues by emailing our escalation team at escalations@example.com.',\n",
              "  'metadata': {'category': 'general'}},\n",
              " {'text': 'Question: Do you have a reseller program? Answer: Yes, we have a reseller program. Please contact our sales team for details.',\n",
              "  'metadata': {'category': 'general'}},\n",
              " {'text': 'Question: What is your policy for handling damaged hardware deliveries? Answer: If you receive damaged hardware, please report it within 48 hours to our support team. We will arrange for a replacement.',\n",
              "  'metadata': {'category': 'general'}}]"
            ]
          },
          "execution_count": 7,
          "metadata": {},
          "output_type": "execute_result"
        }
      ],
      "source": [
        "knowledge_base[-3:]"
      ]
    },
    {
      "cell_type": "code",
      "execution_count": 8,
      "metadata": {
        "colab": {
          "base_uri": "https://localhost:8080/"
        },
        "id": "2ne7fLkRTdiN",
        "outputId": "4157dad9-ef97-4d5d-849b-a156a64485a7"
      },
      "outputs": [
        {
          "name": "stderr",
          "output_type": "stream",
          "text": [
            "100%|██████████| 30/30 [00:00<?, ?it/s]\n"
          ]
        },
        {
          "data": {
            "text/plain": [
              "[Document(metadata={'category': 'technical'}, page_content='Question: How do I integrate your AI product with my existing CRM system? Answer: You can integrate our AI product with your CRM using our API. Refer to the API documentation available on our website for step-by-step guidance.'),\n",
              " Document(metadata={'category': 'technical'}, page_content='Question: What programming languages are supported by your SDK? Answer: Our SDK supports Python, Java, and JavaScript. Additional language support is planned for future updates.'),\n",
              " Document(metadata={'category': 'technical'}, page_content='Question: Can your AI models run on-premise? Answer: Yes, our AI models can be deployed on-premise. We provide deployment guides for various environments.')]"
            ]
          },
          "execution_count": 8,
          "metadata": {},
          "output_type": "execute_result"
        }
      ],
      "source": [
        "from langchain.docstore.document import Document\n",
        "from tqdm import tqdm\n",
        "\n",
        "processed_docs = []\n",
        "\n",
        "for doc in tqdm(knowledge_base):\n",
        "    metadata = doc['metadata']\n",
        "    data = doc['text']\n",
        "    processed_docs.append(Document(page_content=data,\n",
        "                                   metadata=metadata))\n",
        "\n",
        "processed_docs[:3]"
      ]
    },
    {
      "cell_type": "markdown",
      "metadata": {
        "id": "M-NDea2_HAZ-"
      },
      "source": [
        "## Create Vector Database"
      ]
    },
    {
      "cell_type": "code",
      "execution_count": 9,
      "metadata": {
        "id": "f3Ngz9vqUGt3"
      },
      "outputs": [],
      "source": [
        "from langchain_openai import OpenAIEmbeddings\n",
        "\n",
        "# details here: https://openai.com/blog/new-embedding-models-and-api-updates\n",
        "openai_embed_model = OpenAIEmbeddings(model='text-embedding-3-small')"
      ]
    },
    {
      "cell_type": "code",
      "execution_count": 10,
      "metadata": {
        "id": "g6C6d4AkUVhs"
      },
      "outputs": [],
      "source": [
        "from langchain_chroma import Chroma\n",
        "\n",
        "kbase_db = Chroma.from_documents(documents=processed_docs,\n",
        "                                  collection_name='knowledge_base',\n",
        "                                  embedding=openai_embed_model,\n",
        "                                  # need to set the distance function to cosine else it uses euclidean by default\n",
        "                                  # check https://docs.trychroma.com/guides#changing-the-distance-function\n",
        "                                  collection_metadata={\"hnsw:space\": \"cosine\"},\n",
        "                                  persist_directory=\"./knowledge_base\")"
      ]
    },
    {
      "cell_type": "code",
      "execution_count": 11,
      "metadata": {
        "id": "-Wppf1mhUw0V"
      },
      "outputs": [],
      "source": [
        "kbase_search = kbase_db.as_retriever(search_type=\"similarity_score_threshold\",\n",
        "                                     search_kwargs={\"k\": 3, \"score_threshold\": 0.2})"
      ]
    },
    {
      "cell_type": "code",
      "execution_count": 12,
      "metadata": {
        "colab": {
          "base_uri": "https://localhost:8080/"
        },
        "id": "ryudORhuUNDb",
        "outputId": "318b8b61-4f18-48f4-8fd9-f7b77b99e824"
      },
      "outputs": [
        {
          "data": {
            "text/plain": [
              "[Document(id='655ad67c-06b6-4ac7-bed4-0b05eb5ceba6', metadata={'category': 'general'}, page_content='Question: What is your refund policy? Answer: We offer a 30-day money-back guarantee for all our products. Please contact support to initiate a refund.'),\n",
              " Document(id='97290468-5870-4cd3-80c8-039f7d4a8473', metadata={'category': 'general'}, page_content='Question: What is your policy for handling damaged hardware deliveries? Answer: If you receive damaged hardware, please report it within 48 hours to our support team. We will arrange for a replacement.'),\n",
              " Document(id='ffba3bae-1766-419a-a38a-1f86e9aed4c8', metadata={'category': 'general'}, page_content='Question: What is your shipping policy for hardware products? Answer: We provide free shipping for orders above $500. For orders below $500, a flat shipping fee of $20 applies. Shipping typically takes 5-7 business days.')]"
            ]
          },
          "execution_count": 12,
          "metadata": {},
          "output_type": "execute_result"
        }
      ],
      "source": [
        "query = 'what is your refund policy?'\n",
        "metadata_filter = {'category' : 'general'}\n",
        "# Update retriever search_kwargs dynamically\n",
        "kbase_search.search_kwargs[\"filter\"] = metadata_filter\n",
        "kbase_search.invoke(query)"
      ]
    },
    {
      "cell_type": "code",
      "execution_count": 13,
      "metadata": {
        "colab": {
          "base_uri": "https://localhost:8080/"
        },
        "id": "gz6MvJyTeWQD",
        "outputId": "7181f0e3-a4a0-4cd9-e3ef-7d58d1b5aceb"
      },
      "outputs": [
        {
          "name": "stderr",
          "output_type": "stream",
          "text": [
            "No relevant docs were retrieved using the relevance score threshold 0.2\n"
          ]
        },
        {
          "data": {
            "text/plain": [
              "[]"
            ]
          },
          "execution_count": 13,
          "metadata": {},
          "output_type": "execute_result"
        }
      ],
      "source": [
        "query = 'what is your refund policy'\n",
        "metadata_filter = {'category' : 'General'}\n",
        "# Update retriever search_kwargs dynamically\n",
        "kbase_search.search_kwargs[\"filter\"] = metadata_filter\n",
        "kbase_search.invoke(query)"
      ]
    },
    {
      "cell_type": "code",
      "execution_count": 14,
      "metadata": {
        "colab": {
          "base_uri": "https://localhost:8080/"
        },
        "id": "FeCqpNFmXGRo",
        "outputId": "c264e81d-ae66-45d7-e058-cfa1af0691af"
      },
      "outputs": [
        {
          "name": "stderr",
          "output_type": "stream",
          "text": [
            "No relevant docs were retrieved using the relevance score threshold 0.2\n"
          ]
        },
        {
          "data": {
            "text/plain": [
              "[]"
            ]
          },
          "execution_count": 14,
          "metadata": {},
          "output_type": "execute_result"
        }
      ],
      "source": [
        "query = 'what is your refund policy'\n",
        "metadata_filter = {'category' : 'technical'}\n",
        "# Update retriever search_kwargs dynamically\n",
        "kbase_search.search_kwargs[\"filter\"] = metadata_filter\n",
        "kbase_search.invoke(query)"
      ]
    },
    {
      "cell_type": "markdown",
      "metadata": {
        "id": "4Um1WrTcJFsl"
      },
      "source": [
        "## Define the Customer Inquiry State\n",
        "\n",
        "We create a `CustomerSupportState` typed dictionary to keep track of each interaction:\n",
        "- **customer_query**: The text of the customer's question\n",
        "- **query_category**: Technical, Billing, or General (used for routing)\n",
        "- **query_sentiment**: Positive, Neutral, or Negative (used for routing)\n",
        "- **final_response**: The system's response to the customer"
      ]
    },
    {
      "cell_type": "code",
      "execution_count": 17,
      "metadata": {
        "id": "N2oH7LzqJFsn"
      },
      "outputs": [],
      "source": [
        "from typing import TypedDict, Literal\n",
        "from pydantic import BaseModel\n",
        "\n",
        "class CustomerSupportState(TypedDict):\n",
        "    \"\"\"\n",
        "    customer_query: the original query from the customer.\n",
        "    query_category: the topic of the query (e.g., Technical, Billing).\n",
        "    query_sentiment: the emotional tone (e.g., Positive, Negative).\n",
        "    final_response: the system-generated response.\n",
        "    \"\"\"\n",
        "    customer_query: str\n",
        "    query_category: str\n",
        "    query_sentiment: str\n",
        "    final_response: str\n",
        "\n",
        "class QueryCategory(BaseModel):\n",
        "    categorized_topic: Literal['Technical', 'Billing', 'General']\n",
        "\n",
        "class QuerySentiment(BaseModel):\n",
        "    sentiment: Literal['Positive', 'Neutral', 'Negative']"
      ]
    },
    {
      "cell_type": "markdown",
      "metadata": {},
      "source": [
        "### Explain TypeDict, Literal and BaseModel\n",
        "* TypedDict: Allows you to define a dictionary with a specific schema (i.e., typed keys and values). This is a lightweight structure * used for state management in memory (not validated like Pydantic models).\n",
        "* Literal: Restricts a value to a fixed set of string options.\n",
        "* BaseModel from pydantic: Used for data validation and parsing using Python type hints."
      ]
    },
    {
      "cell_type": "code",
      "execution_count": 22,
      "metadata": {},
      "outputs": [
        {
          "data": {
            "text/plain": [
              "QueryCategory(categorized_topic='Billing')"
            ]
          },
          "execution_count": 22,
          "metadata": {},
          "output_type": "execute_result"
        }
      ],
      "source": [
        "QueryCategory(categorized_topic='Billing')  # ✅ Valid"
      ]
    },
    {
      "cell_type": "code",
      "execution_count": 25,
      "metadata": {},
      "outputs": [],
      "source": [
        "# QueryCategory(categorized_topic='billing')    # ❌ Validation error"
      ]
    },
    {
      "cell_type": "markdown",
      "metadata": {
        "id": "dL-RUuX-JFso"
      },
      "source": [
        "## Create Node Functions\n",
        "\n",
        "Each function below represents a stage in processing a customer inquiry:\n",
        "\n",
        "1. **categorize_inquiry**: Classifies the query into Technical, Billing, or General.\n",
        "2. **analyze_inquiry_sentiment**: Determines if the sentiment is Positive, Neutral, or Negative.\n",
        "3. **generate_technical_response**: Produces a response for technical issues.\n",
        "4. **generate_billing_response**: Produces a response for billing questions.\n",
        "5. **generate_general_response**: Produces a response for general queries.\n",
        "6. **escalate_to_human_agent**: Escalates the query to a human if sentiment is negative.\n",
        "7. **determine_route**: Routes the inquiry to the appropriate response node based on category and sentiment."
      ]
    },
    {
      "cell_type": "code",
      "execution_count": 26,
      "metadata": {
        "id": "XqvrHu8ZX2tn"
      },
      "outputs": [],
      "source": [
        "from langchain_openai import ChatOpenAI\n",
        "\n",
        "llm = ChatOpenAI(model=\"gpt-4o\", temperature=0)"
      ]
    },
    {
      "cell_type": "code",
      "execution_count": 27,
      "metadata": {
        "id": "IktZ07zDJFsp"
      },
      "outputs": [],
      "source": [
        "def categorize_inquiry(support_state: CustomerSupportState) -> CustomerSupportState:\n",
        "    \"\"\"\n",
        "    Classify the customer query into Technical, Billing, or General.\n",
        "    \"\"\"\n",
        "\n",
        "    query = support_state[\"customer_query\"]\n",
        "    ROUTE_CATEGORY_PROMPT = \"\"\"Act as a customer support agent trying to best categorize the customer query.\n",
        "                               You are an agent for an AI products and hardware company.\n",
        "\n",
        "                               Please read the customer query below and\n",
        "                               determine the best category from the following list:\n",
        "\n",
        "                               'Technical', 'Billing', or 'General'.\n",
        "\n",
        "                               Remember:\n",
        "                                - Technical queries will focus more on technical aspects like AI models, hardware, software related queries etc.\n",
        "                                - General queries will focus more on general aspects like contacting support, finding things, policies etc.\n",
        "                                - Billing queries will focus more on payment and purchase related aspects\n",
        "\n",
        "                                Return just the category name (from one of the above)\n",
        "\n",
        "                                Query:\n",
        "                                {customer_query}\n",
        "                            \"\"\"\n",
        "    prompt = ROUTE_CATEGORY_PROMPT.format(customer_query=query)\n",
        "    route_category = llm.with_structured_output(QueryCategory).invoke(prompt)\n",
        "\n",
        "    return {\n",
        "        \"query_category\": route_category.categorized_topic\n",
        "    }"
      ]
    },
    {
      "cell_type": "code",
      "execution_count": 28,
      "metadata": {
        "colab": {
          "base_uri": "https://localhost:8080/"
        },
        "id": "Uh2L4b4YaBVp",
        "outputId": "bbb9e7c1-8f43-4817-cf17-bd1ae369fa8b"
      },
      "outputs": [
        {
          "data": {
            "text/plain": [
              "{'query_category': 'Technical'}"
            ]
          },
          "execution_count": 28,
          "metadata": {},
          "output_type": "execute_result"
        }
      ],
      "source": [
        "categorize_inquiry({\"customer_query\": \"Do you provide pretrained models?\"})"
      ]
    },
    {
      "cell_type": "code",
      "execution_count": 29,
      "metadata": {
        "colab": {
          "base_uri": "https://localhost:8080/"
        },
        "id": "K3CDsIqGbnNV",
        "outputId": "69551d83-ef86-4c68-9913-089390e84396"
      },
      "outputs": [
        {
          "data": {
            "text/plain": [
              "{'query_category': 'General'}"
            ]
          },
          "execution_count": 29,
          "metadata": {},
          "output_type": "execute_result"
        }
      ],
      "source": [
        "categorize_inquiry({\"customer_query\": \"what is your refund policy?\"})"
      ]
    },
    {
      "cell_type": "code",
      "execution_count": 30,
      "metadata": {
        "colab": {
          "base_uri": "https://localhost:8080/"
        },
        "id": "Pa3vyedQbxin",
        "outputId": "9c4c39cf-66b6-4f28-a38a-04dfbaca688d"
      },
      "outputs": [
        {
          "data": {
            "text/plain": [
              "{'query_category': 'Billing'}"
            ]
          },
          "execution_count": 30,
          "metadata": {},
          "output_type": "execute_result"
        }
      ],
      "source": [
        "categorize_inquiry({\"customer_query\": \"what payment methods are accepted?\"})"
      ]
    },
    {
      "cell_type": "code",
      "execution_count": 31,
      "metadata": {
        "id": "8xoHBg4HZ-tV"
      },
      "outputs": [],
      "source": [
        "def analyze_inquiry_sentiment(support_state: CustomerSupportState) -> CustomerSupportState:\n",
        "    \"\"\"\n",
        "    Analyze the sentiment of the customer query as Positive, Neutral, or Negative.\n",
        "    \"\"\"\n",
        "\n",
        "    query = support_state[\"customer_query\"]\n",
        "    SENTIMENT_CATEGORY_PROMPT = \"\"\"Act as a customer support agent trying to best categorize the customer query's sentiment.\n",
        "                                   You are an agent for an AI products and hardware company.\n",
        "\n",
        "                                   Please read the customer query below,\n",
        "                                   analyze its sentiment which should be one from the following list:\n",
        "\n",
        "                                   'Positive', 'Neutral', or 'Negative'.\n",
        "\n",
        "                                   Return just the sentiment (from one of the above)\n",
        "\n",
        "                                   Query:\n",
        "                                   {customer_query}\n",
        "                                \"\"\"\n",
        "    prompt = SENTIMENT_CATEGORY_PROMPT.format(customer_query=query)\n",
        "    sentiment_category = llm.with_structured_output(QuerySentiment).invoke(prompt)\n",
        "\n",
        "    return {\n",
        "        \"query_sentiment\": sentiment_category.sentiment\n",
        "    }"
      ]
    },
    {
      "cell_type": "code",
      "execution_count": 32,
      "metadata": {
        "colab": {
          "base_uri": "https://localhost:8080/"
        },
        "id": "_ByyxDpxd3Ht",
        "outputId": "6263a8dd-d6da-4ad0-ab8b-1b885d3d1a0c"
      },
      "outputs": [
        {
          "data": {
            "text/plain": [
              "{'query_sentiment': 'Neutral'}"
            ]
          },
          "execution_count": 32,
          "metadata": {},
          "output_type": "execute_result"
        }
      ],
      "source": [
        "analyze_inquiry_sentiment({\"customer_query\": \"what is your refund policy?\"})"
      ]
    },
    {
      "cell_type": "code",
      "execution_count": 33,
      "metadata": {
        "colab": {
          "base_uri": "https://localhost:8080/"
        },
        "id": "V2Q9rU7md6mm",
        "outputId": "5982749d-2612-459a-bb30-55f5a251db91"
      },
      "outputs": [
        {
          "data": {
            "text/plain": [
              "{'query_sentiment': 'Negative'}"
            ]
          },
          "execution_count": 33,
          "metadata": {},
          "output_type": "execute_result"
        }
      ],
      "source": [
        "analyze_inquiry_sentiment({\"customer_query\": \"what is your refund policy? I am really fed up with this product and need to refund it\"})"
      ]
    },
    {
      "cell_type": "code",
      "execution_count": 34,
      "metadata": {
        "id": "rgss3fymfknr"
      },
      "outputs": [],
      "source": [
        "\n",
        "from langchain_core.prompts import ChatPromptTemplate\n",
        "from typing import Dict\n",
        "\n",
        "def generate_technical_response(support_state: CustomerSupportState) -> CustomerSupportState:\n",
        "    \"\"\"\n",
        "    Provide a technical support response by combining knowledge from the vector store and LLM.\n",
        "    \"\"\"\n",
        "    # Retrieve category and ensure it is lowercase for metadata filtering\n",
        "\n",
        "    categorized_topic = support_state[\"query_category\"]\n",
        "    query = support_state[\"customer_query\"]\n",
        "\n",
        "    # Use metadata filter for 'technical' queries\n",
        "    if categorized_topic.lower() == \"technical\":\n",
        "        metadata_filter = {\"category\": \"technical\"}\n",
        "        kbase_search.search_kwargs[\"filter\"] = metadata_filter\n",
        "\n",
        "        # Perform retrieval from VectorDB\n",
        "        relevant_docs = kbase_search.invoke(query)\n",
        "        retrieved_content = \"\\n\\n\".join(doc.page_content for doc in relevant_docs)\n",
        "\n",
        "        # Combine retrieved information into the prompt\n",
        "        prompt = ChatPromptTemplate.from_template(\n",
        "            \"\"\"\n",
        "            Craft a clear and detailed technical support response for the following customer query.\n",
        "            Use the provided knowledge base information to enrich your response.\n",
        "            In case there is no knowledge base information or you do not know the answer just say:\n",
        "\n",
        "            Apologies I was not able to answer your question, please reach out to +1-xxx-xxxx\n",
        "\n",
        "            Customer Query:\n",
        "            {customer_query}\n",
        "\n",
        "            Relevant Knowledge Base Information:\n",
        "            {retrieved_content}\n",
        "            \"\"\"\n",
        "        )\n",
        "\n",
        "        # Generate the final response using the LLM\n",
        "        chain = prompt | llm\n",
        "        tech_reply = chain.invoke({\n",
        "            \"customer_query\": query,\n",
        "            \"retrieved_content\": retrieved_content\n",
        "        }).content\n",
        "    else:\n",
        "        # For non-technical queries, provide a default response or a general handling\n",
        "        tech_reply = \"Apologies I was not able to answer your question, please reach out to +1-xxx-xxxx\"\n",
        "\n",
        "    # Update and return the modified support state\n",
        "    return {\n",
        "        \"final_response\": tech_reply\n",
        "    }\n"
      ]
    },
    {
      "cell_type": "code",
      "execution_count": 35,
      "metadata": {
        "colab": {
          "base_uri": "https://localhost:8080/"
        },
        "id": "AVXPLD2Zgf-z",
        "outputId": "8a7f0ea6-ae21-4eef-e73d-511556c946d3"
      },
      "outputs": [
        {
          "data": {
            "text/plain": [
              "{'final_response': 'Apologies I was not able to answer your question, please reach out to +1-xxx-xxxx'}"
            ]
          },
          "execution_count": 35,
          "metadata": {},
          "output_type": "execute_result"
        }
      ],
      "source": [
        "generate_technical_response({\"customer_query\": \"what is your refund policy?\", \"query_category\": \"General\"})"
      ]
    },
    {
      "cell_type": "code",
      "execution_count": 36,
      "metadata": {
        "colab": {
          "base_uri": "https://localhost:8080/"
        },
        "id": "RfrobVESgoA5",
        "outputId": "3aea83f9-e9b7-4253-ba46-e214c26f4439"
      },
      "outputs": [
        {
          "data": {
            "text/plain": [
              "{'final_response': 'Yes, we do support on-premise models. Our AI models can be deployed on-premise, and we provide comprehensive deployment guides to assist you in setting them up in various environments. If you need further assistance or specific deployment guides, please feel free to reach out to our support team. They will be more than happy to help you with any additional information or troubleshooting you might need.'}"
            ]
          },
          "execution_count": 36,
          "metadata": {},
          "output_type": "execute_result"
        }
      ],
      "source": [
        "generate_technical_response({\"customer_query\": \"do you support on-prem models?\", \"query_category\": \"Technical\"})"
      ]
    },
    {
      "cell_type": "code",
      "execution_count": 37,
      "metadata": {
        "id": "Ex9O4DW7iR7S"
      },
      "outputs": [],
      "source": [
        "def generate_billing_response(support_state: CustomerSupportState) -> CustomerSupportState:\n",
        "    \"\"\"\n",
        "    Provide a billing support response by combining knowledge from the vector store and LLM.\n",
        "    \"\"\"\n",
        "    # Retrieve category and ensure it is lowercase for metadata filtering\n",
        "    categorized_topic = support_state[\"query_category\"]\n",
        "    query = support_state[\"customer_query\"]\n",
        "\n",
        "    # Use metadata filter for 'billing' queries\n",
        "    if categorized_topic.lower() == \"billing\":\n",
        "        metadata_filter = {\"category\": \"billing\"}\n",
        "        kbase_search.search_kwargs[\"filter\"] = metadata_filter\n",
        "\n",
        "        # Perform retrieval from VectorDB\n",
        "        relevant_docs = kbase_search.invoke(query)\n",
        "        retrieved_content = \"\\n\\n\".join(doc.page_content for doc in relevant_docs)\n",
        "\n",
        "        # Combine retrieved information into the prompt\n",
        "        prompt = ChatPromptTemplate.from_template(\n",
        "            \"\"\"\n",
        "            Craft a clear and detailed billing support response for the following customer query.\n",
        "            Use the provided knowledge base information to enrich your response.\n",
        "            In case there is no knowledge base information or you do not know the answer just say:\n",
        "\n",
        "            Apologies I was not able to answer your question, please reach out to +1-xxx-xxxx\n",
        "\n",
        "            Customer Query:\n",
        "            {customer_query}\n",
        "\n",
        "            Relevant Knowledge Base Information:\n",
        "            {retrieved_content}\n",
        "            \"\"\"\n",
        "        )\n",
        "\n",
        "        # Generate the final response using the LLM\n",
        "        chain = prompt | llm\n",
        "        billing_reply = chain.invoke({\n",
        "            \"customer_query\": query,\n",
        "            \"retrieved_content\": retrieved_content\n",
        "        }).content\n",
        "    else:\n",
        "        # For non-billing queries, provide a default response or a general handling\n",
        "        billing_reply = \"Apologies I was not able to answer your question, please reach out to +1-xxx-xxxx\"\n",
        "\n",
        "    # Update and return the modified support state\n",
        "    return {\n",
        "        \"final_response\": billing_reply\n",
        "    }"
      ]
    },
    {
      "cell_type": "code",
      "execution_count": 38,
      "metadata": {
        "colab": {
          "base_uri": "https://localhost:8080/"
        },
        "id": "px5LnEH-iyRQ",
        "outputId": "4cb6b664-a1f4-4f88-c443-da6f06f2704b"
      },
      "outputs": [
        {
          "data": {
            "text/plain": [
              "{'final_response': 'Thank you for reaching out with your query about payment methods. We accept the following payment methods:\\n\\n1. **Credit Cards**: You can use major credit cards to make your payments.\\n2. **PayPal**: We also support payments through PayPal for your convenience.\\n3. **Wire Transfers**: For corporate accounts, we offer the option to pay via wire transfers.\\n\\nIf you have any further questions or need assistance with your payment, please feel free to reach out.'}"
            ]
          },
          "execution_count": 38,
          "metadata": {},
          "output_type": "execute_result"
        }
      ],
      "source": [
        "generate_billing_response({\"customer_query\": \"what payment methods are supported?\", \"query_category\": \"Billing\"})"
      ]
    },
    {
      "cell_type": "code",
      "execution_count": 39,
      "metadata": {
        "id": "xTS_38PGjiKt"
      },
      "outputs": [],
      "source": [
        "def generate_general_response(support_state: CustomerSupportState) -> CustomerSupportState:\n",
        "    \"\"\"\n",
        "    Provide a general support response by combining knowledge from the vector store and LLM.\n",
        "    \"\"\"\n",
        "    # Retrieve category and ensure it is lowercase for metadata filtering\n",
        "    categorized_topic = support_state[\"query_category\"]\n",
        "    query = support_state[\"customer_query\"]\n",
        "\n",
        "    # Use metadata filter for 'general' queries\n",
        "    if categorized_topic.lower() == \"general\":\n",
        "        metadata_filter = {\"category\": \"general\"}\n",
        "        kbase_search.search_kwargs[\"filter\"] = metadata_filter\n",
        "\n",
        "        # Perform retrieval from VectorDB\n",
        "        relevant_docs = kbase_search.invoke(query)\n",
        "        retrieved_content = \"\\n\\n\".join(doc.page_content for doc in relevant_docs)\n",
        "\n",
        "        # Combine retrieved information into the prompt\n",
        "        prompt = ChatPromptTemplate.from_template(\n",
        "            \"\"\"\n",
        "            Craft a clear and detailed general support response for the following customer query.\n",
        "            Use the provided knowledge base information to enrich your response.\n",
        "            In case there is no knowledge base information or you do not know the answer just say:\n",
        "\n",
        "            Apologies I was not able to answer your question, please reach out to +1-xxx-xxxx\n",
        "\n",
        "            Customer Query:\n",
        "            {customer_query}\n",
        "\n",
        "            Relevant Knowledge Base Information:\n",
        "            {retrieved_content}\n",
        "            \"\"\"\n",
        "        )\n",
        "\n",
        "        # Generate the final response using the LLM\n",
        "        chain = prompt | llm\n",
        "        general_reply = chain.invoke({\n",
        "            \"customer_query\": query,\n",
        "            \"retrieved_content\": retrieved_content\n",
        "        }).content\n",
        "    else:\n",
        "        # For non-general queries, provide a default response or a general handling\n",
        "        general_reply = \"Apologies I was not able to answer your question, please reach out to +1-xxx-xxxx\"\n",
        "\n",
        "    # Update and return the modified support state\n",
        "    return {\n",
        "        \"final_response\": general_reply\n",
        "    }\n"
      ]
    },
    {
      "cell_type": "code",
      "execution_count": 40,
      "metadata": {
        "colab": {
          "base_uri": "https://localhost:8080/"
        },
        "id": "6Gw2y1tqjrMS",
        "outputId": "148adb95-46e0-49e7-cbd8-c6e36f56ea46"
      },
      "outputs": [
        {
          "data": {
            "text/plain": [
              "{'final_response': 'Thank you for reaching out with your question about our refund policy. We offer a 30-day money-back guarantee for all our products. If you wish to initiate a refund, please contact our support team, and they will assist you with the process. If you have any further questions or need additional assistance, feel free to reach out.'}"
            ]
          },
          "execution_count": 40,
          "metadata": {},
          "output_type": "execute_result"
        }
      ],
      "source": [
        "generate_general_response({\"customer_query\": \"what is your refund policy?\", \"query_category\": \"General\"})"
      ]
    },
    {
      "cell_type": "code",
      "execution_count": 41,
      "metadata": {
        "id": "udRwW-sscAwl"
      },
      "outputs": [],
      "source": [
        "def escalate_to_human_agent(support_state: CustomerSupportState) -> CustomerSupportState:\n",
        "    \"\"\"\n",
        "    Escalate the query to a human agent if sentiment is negative.\n",
        "    \"\"\"\n",
        "\n",
        "    return {\n",
        "        \"final_response\": \"Apologies, we are really sorry! Someone from our team will be reaching out to your shortly!\"\n",
        "    }"
      ]
    },
    {
      "cell_type": "code",
      "execution_count": 42,
      "metadata": {
        "id": "Ti3TUUiSkTHG"
      },
      "outputs": [],
      "source": [
        "def determine_route(support_state: CustomerSupportState) -> str:\n",
        "    \"\"\"\n",
        "    Route the inquiry based on sentiment and category.\n",
        "    \"\"\"\n",
        "    if support_state[\"query_sentiment\"] == \"Negative\":\n",
        "        return \"escalate_to_human_agent\"\n",
        "    elif support_state[\"query_category\"] == \"Technical\":\n",
        "        return \"generate_technical_response\"\n",
        "    elif support_state[\"query_category\"] == \"Billing\":\n",
        "        return \"generate_billing_response\"\n",
        "    else:\n",
        "        return \"generate_general_response\""
      ]
    },
    {
      "cell_type": "markdown",
      "metadata": {
        "id": "QahrWKv3JFsq"
      },
      "source": [
        "## Build and Compile the Workflow\n",
        "\n",
        "We construct a LangGraph workflow with the nodes defined above:\n",
        "1. **categorize_inquiry** → **analyze_inquiry_sentiment** → **route** to the proper response node.\n",
        "2. If negative, escalate to a human agent.\n",
        "3. Otherwise, produce an appropriate response (technical, billing, or general)."
      ]
    },
    {
      "cell_type": "code",
      "execution_count": 43,
      "metadata": {
        "id": "YmMiVOgqJFsr"
      },
      "outputs": [],
      "source": [
        "from langgraph.graph import StateGraph, END\n",
        "from langgraph.checkpoint.memory import MemorySaver\n",
        "\n",
        "# Create the graph with our typed state\n",
        "customer_support_graph = StateGraph(CustomerSupportState)\n",
        "\n",
        "# Add nodes for each function\n",
        "customer_support_graph.add_node(\"categorize_inquiry\", categorize_inquiry)\n",
        "customer_support_graph.add_node(\"analyze_inquiry_sentiment\", analyze_inquiry_sentiment)\n",
        "customer_support_graph.add_node(\"generate_technical_response\", generate_technical_response)\n",
        "customer_support_graph.add_node(\"generate_billing_response\", generate_billing_response)\n",
        "customer_support_graph.add_node(\"generate_general_response\", generate_general_response)\n",
        "customer_support_graph.add_node(\"escalate_to_human_agent\", escalate_to_human_agent)\n",
        "\n",
        "# Add edges to represent the processing flow\n",
        "customer_support_graph.add_edge(\"categorize_inquiry\", \"analyze_inquiry_sentiment\")\n",
        "customer_support_graph.add_conditional_edges(\n",
        "    \"analyze_inquiry_sentiment\",\n",
        "    determine_route,\n",
        "    [\n",
        "        \"generate_technical_response\",\n",
        "        \"generate_billing_response\",\n",
        "        \"generate_general_response\",\n",
        "        \"escalate_to_human_agent\"\n",
        "    ]\n",
        ")\n",
        "\n",
        "# All terminal nodes lead to the END\n",
        "customer_support_graph.add_edge(\"generate_technical_response\", END)\n",
        "customer_support_graph.add_edge(\"generate_billing_response\", END)\n",
        "customer_support_graph.add_edge(\"generate_general_response\", END)\n",
        "customer_support_graph.add_edge(\"escalate_to_human_agent\", END)\n",
        "\n",
        "# Set the entry point for the workflow\n",
        "customer_support_graph.set_entry_point(\"categorize_inquiry\")\n",
        "\n",
        "# Compile the graph into a runnable agent\n",
        "memory = MemorySaver()\n",
        "compiled_support_agent = customer_support_graph.compile(checkpointer=memory)"
      ]
    },
    {
      "cell_type": "markdown",
      "metadata": {
        "id": "Txzt11uTJFss"
      },
      "source": [
        "## Visualize the Workflow\n",
        "\n",
        "Below is a generated diagram of the workflow using Mermaid syntax. It shows how each node connects in the graph."
      ]
    },
    {
      "cell_type": "code",
      "execution_count": 44,
      "metadata": {
        "colab": {
          "base_uri": "https://localhost:8080/",
          "height": 449
        },
        "id": "Qt89sV4kJFst",
        "outputId": "8a05f4c6-43a8-4e07-be11-75e1feb3ba72"
      },
      "outputs": [
        {
          "data": {
            "image/png": "[encoded data removed]",
            "text/plain": [
              "<IPython.core.display.Image object>"
            ]
          },
          "metadata": {},
          "output_type": "display_data"
        }
      ],
      "source": [
        "from IPython.display import display, Image, Markdown\n",
        "\n",
        "display(Image(compiled_support_agent.get_graph().draw_mermaid_png()))"
      ]
    },
    {
      "cell_type": "markdown",
      "metadata": {
        "id": "vVfgP2P9JFsv"
      },
      "source": [
        "## Helper Function to Run the Workflow\n",
        "\n",
        "This function takes a customer query and runs it through our compiled workflow, returning the final results (category, sentiment, and generated response)."
      ]
    },
    {
      "cell_type": "code",
      "execution_count": 45,
      "metadata": {
        "id": "O409_2mRJFsw"
      },
      "outputs": [],
      "source": [
        "def call_support_agent(agent, prompt, user_session_id, verbose=False):\n",
        "    events = agent.stream(\n",
        "        {\"customer_query\": prompt}, # initial state of the agent\n",
        "        {\"configurable\": {\"thread_id\": user_session_id}},\n",
        "        stream_mode=\"values\",\n",
        "    )\n",
        "\n",
        "    print('Running Agent. Please wait...')\n",
        "    for event in events:\n",
        "        if verbose:\n",
        "                print(event)\n",
        "\n",
        "    display(Markdown(event['final_response']))"
      ]
    },
    {
      "cell_type": "markdown",
      "metadata": {
        "id": "0VeWUyGNJFsw"
      },
      "source": [
        "## Testing the Customer Support Workflow\n",
        "\n",
        "Let's test the workflow with some sample queries to verify categorization, sentiment analysis, and response generation."
      ]
    },
    {
      "cell_type": "code",
      "execution_count": 46,
      "metadata": {
        "colab": {
          "base_uri": "https://localhost:8080/"
        },
        "id": "hZ9a53halubq",
        "outputId": "ec8462ff-9833-4c26-d0fd-1ff26f8530b2"
      },
      "outputs": [
        {
          "data": {
            "text/plain": [
              "['Question: How do I integrate your AI product with my existing CRM system? Answer: You can integrate our AI product with your CRM using our API. Refer to the API documentation available on our website for step-by-step guidance.',\n",
              " 'Question: What programming languages are supported by your SDK? Answer: Our SDK supports Python, Java, and JavaScript. Additional language support is planned for future updates.',\n",
              " 'Question: Can your AI models run on-premise? Answer: Yes, our AI models can be deployed on-premise. We provide deployment guides for various environments.',\n",
              " 'Question: Does your hardware support edge AI applications? Answer: Yes, our hardware is optimized for edge AI, with low-latency processing and energy-efficient designs.',\n",
              " 'Question: How do I troubleshoot issues with model performance? Answer: Start by reviewing the logs, checking resource utilization, and validating input data quality. You can also reach out to support for assistance.',\n",
              " 'Question: Can I fine-tune your AI models? Answer: Yes, our platform supports model fine-tuning using your custom datasets.',\n",
              " 'Question: What are the hardware requirements for running your AI solutions? Answer: Our AI solutions require a minimum of 16GB RAM, an Intel Core i7 processor, and an NVIDIA RTX 3060 GPU for optimal performance.',\n",
              " 'Question: Do you provide pre-trained models? Answer: Yes, we offer a range of pre-trained models for various use cases such as NLP, computer vision, and recommendation systems.',\n",
              " 'Question: How do I update the firmware on your hardware products? Answer: Firmware updates can be applied through the companion app or the firmware update tool available on our website.',\n",
              " 'Question: Is your product compatible with Kubernetes for deployment? Answer: Yes, our platform provides Kubernetes deployment templates and Helm charts for easy setup.',\n",
              " \"Question: How can I get a detailed invoice for my purchase? Answer: You can download a detailed invoice from your account dashboard under the 'Billing' section.\",\n",
              " 'Question: Do you offer any discounts for annual subscriptions? Answer: Yes, we offer a 10% discount on annual subscriptions compared to monthly billing. You can select this option during checkout.',\n",
              " 'Question: Can I change my subscription plan mid-cycle? Answer: Yes, you can upgrade or downgrade your subscription plan at any time from the account dashboard. Charges will be prorated.',\n",
              " 'Question: What payment methods do you accept? Answer: We accept credit cards, PayPal, and wire transfers for corporate accounts.',\n",
              " 'Question: Do you provide refunds for unused subscription periods? Answer: Refunds are provided based on our refund policy. Please refer to our Terms and Conditions for more details.',\n",
              " 'Question: Can I receive a consolidated bill for multiple accounts? Answer: Yes, we offer consolidated billing for enterprise customers. Please contact sales to enable this feature.',\n",
              " \"Question: How do I update my billing information? Answer: You can update your billing information from the 'Billing' section in your account dashboard.\",\n",
              " 'Question: Are there any additional fees apart from the subscription cost? Answer: There are no hidden fees. However, additional services like premium support may incur extra charges.',\n",
              " 'Question: Can I get a quote for budgeting purposes? Answer: Yes, you can request a custom quote by contacting our sales team.',\n",
              " 'Question: Do you charge taxes on the subscription? Answer: Applicable taxes are calculated based on your location and displayed during checkout.',\n",
              " 'Question: What are your working hours? Answer: Our support team is available from 9:00 AM to 6:00 PM, Monday to Friday.',\n",
              " 'Question: What is your refund policy? Answer: We offer a 30-day money-back guarantee for all our products. Please contact support to initiate a refund.',\n",
              " 'Question: What is your shipping policy for hardware products? Answer: We provide free shipping for orders above $500. For orders below $500, a flat shipping fee of $20 applies. Shipping typically takes 5-7 business days.',\n",
              " 'Question: How do I contact customer support? Answer: You can contact our support team via email at support@example.com or call us at 1-800-123-4567.',\n",
              " 'Question: Do you provide training for your AI products? Answer: Yes, we provide free online tutorials and offer paid instructor-led training sessions.',\n",
              " \"Question: Where can I find user manuals for your hardware products? Answer: User manuals are available on our website under the 'Support' section.\",\n",
              " 'Question: Can I try your software before purchasing? Answer: Yes, we offer a 14-day free trial for our software products. Visit our website to sign up.',\n",
              " 'Question: How do I escalate an unresolved issue? Answer: You can escalate unresolved issues by emailing our escalation team at escalations@example.com.',\n",
              " 'Question: Do you have a reseller program? Answer: Yes, we have a reseller program. Please contact our sales team for details.',\n",
              " 'Question: What is your policy for handling damaged hardware deliveries? Answer: If you receive damaged hardware, please report it within 48 hours to our support team. We will arrange for a replacement.']"
            ]
          },
          "execution_count": 46,
          "metadata": {},
          "output_type": "execute_result"
        }
      ],
      "source": [
        "[item['text'] for item in knowledge_base]"
      ]
    },
    {
      "cell_type": "code",
      "execution_count": 49,
      "metadata": {
        "colab": {
          "base_uri": "https://localhost:8080/",
          "height": 205
        },
        "id": "s6v7AAnFlp8S",
        "outputId": "485003c1-ade1-4bcf-ddda-90ef64f65f36"
      },
      "outputs": [
        {
          "name": "stdout",
          "output_type": "stream",
          "text": [
            "Running Agent. Please wait...\n",
            "{'customer_query': 'do you support pre-trained models?', 'query_category': 'Technical', 'query_sentiment': 'Neutral', 'final_response': 'Yes, we do support pre-trained models. We offer a range of pre-trained models tailored for various use cases, including natural language processing (NLP), computer vision, and recommendation systems. These models are designed to help you get started quickly and efficiently with your projects.\\n\\nAdditionally, if you need to customize these models further, our platform supports model fine-tuning using your custom datasets. This allows you to adapt the pre-trained models to better suit your specific requirements.\\n\\nIf you have any more questions or need assistance with deploying or fine-tuning these models, please feel free to reach out.'}\n",
            "{'customer_query': 'do you support pre-trained models?', 'query_category': 'Technical', 'query_sentiment': 'Neutral', 'final_response': 'Yes, we do support pre-trained models. We offer a range of pre-trained models tailored for various use cases, including natural language processing (NLP), computer vision, and recommendation systems. These models are designed to help you get started quickly and efficiently with your projects.\\n\\nAdditionally, if you need to customize these models further, our platform supports model fine-tuning using your custom datasets. This allows you to adapt the pre-trained models to better suit your specific requirements.\\n\\nIf you have any more questions or need assistance with deploying or fine-tuning these models, please feel free to reach out.'}\n",
            "{'customer_query': 'do you support pre-trained models?', 'query_category': 'Technical', 'query_sentiment': 'Neutral', 'final_response': 'Yes, we do support pre-trained models. We offer a range of pre-trained models tailored for various use cases, including natural language processing (NLP), computer vision, and recommendation systems. These models are designed to help you get started quickly and efficiently with your projects.\\n\\nAdditionally, if you need to customize these models further, our platform supports model fine-tuning using your custom datasets. This allows you to adapt the pre-trained models to better suit your specific requirements.\\n\\nIf you have any more questions or need assistance with deploying or fine-tuning these models, please feel free to reach out.'}\n",
            "{'customer_query': 'do you support pre-trained models?', 'query_category': 'Technical', 'query_sentiment': 'Neutral', 'final_response': 'Yes, we do support pre-trained models. We offer a range of pre-trained models tailored for various use cases, including natural language processing (NLP), computer vision, and recommendation systems. These models are designed to help you quickly integrate advanced AI capabilities into your projects without the need to build models from scratch.\\n\\nAdditionally, if you need to customize these models further, our platform supports model fine-tuning using your custom datasets. This allows you to adapt the pre-trained models to better suit your specific requirements.\\n\\nIf you have any more questions or need assistance with deploying or fine-tuning these models, please feel free to reach out.'}\n"
          ]
        },
        {
          "data": {
            "text/markdown": [
              "Yes, we do support pre-trained models. We offer a range of pre-trained models tailored for various use cases, including natural language processing (NLP), computer vision, and recommendation systems. These models are designed to help you quickly integrate advanced AI capabilities into your projects without the need to build models from scratch.\n",
              "\n",
              "Additionally, if you need to customize these models further, our platform supports model fine-tuning using your custom datasets. This allows you to adapt the pre-trained models to better suit your specific requirements.\n",
              "\n",
              "If you have any more questions or need assistance with deploying or fine-tuning these models, please feel free to reach out."
            ],
            "text/plain": [
              "<IPython.core.display.Markdown object>"
            ]
          },
          "metadata": {},
          "output_type": "display_data"
        }
      ],
      "source": [
        "uid = 'jim001'\n",
        "query = \"do you support pre-trained models?\"\n",
        "call_support_agent(agent=compiled_support_agent,\n",
        "                   prompt=query,\n",
        "                   user_session_id=uid,\n",
        "                   verbose=True)"
      ]
    },
    {
      "cell_type": "code",
      "execution_count": 50,
      "metadata": {
        "colab": {
          "base_uri": "https://localhost:8080/",
          "height": 188
        },
        "id": "H4624wCxJFsx",
        "outputId": "e28b266b-711d-4e90-b8b5-5f4bb191b94b"
      },
      "outputs": [
        {
          "name": "stdout",
          "output_type": "stream",
          "text": [
            "Running Agent. Please wait...\n",
            "{'customer_query': 'how do I get my invoice?', 'query_category': 'Technical', 'query_sentiment': 'Neutral', 'final_response': 'Yes, we do support pre-trained models. We offer a range of pre-trained models tailored for various use cases, including natural language processing (NLP), computer vision, and recommendation systems. These models are designed to help you quickly integrate advanced AI capabilities into your projects without the need to build models from scratch.\\n\\nAdditionally, if you need to customize these models further, our platform supports model fine-tuning using your custom datasets. This allows you to adapt the pre-trained models to better suit your specific requirements.\\n\\nIf you have any more questions or need assistance with deploying or fine-tuning these models, please feel free to reach out.'}\n",
            "{'customer_query': 'how do I get my invoice?', 'query_category': 'Billing', 'query_sentiment': 'Neutral', 'final_response': 'Yes, we do support pre-trained models. We offer a range of pre-trained models tailored for various use cases, including natural language processing (NLP), computer vision, and recommendation systems. These models are designed to help you quickly integrate advanced AI capabilities into your projects without the need to build models from scratch.\\n\\nAdditionally, if you need to customize these models further, our platform supports model fine-tuning using your custom datasets. This allows you to adapt the pre-trained models to better suit your specific requirements.\\n\\nIf you have any more questions or need assistance with deploying or fine-tuning these models, please feel free to reach out.'}\n",
            "{'customer_query': 'how do I get my invoice?', 'query_category': 'Billing', 'query_sentiment': 'Neutral', 'final_response': 'Yes, we do support pre-trained models. We offer a range of pre-trained models tailored for various use cases, including natural language processing (NLP), computer vision, and recommendation systems. These models are designed to help you quickly integrate advanced AI capabilities into your projects without the need to build models from scratch.\\n\\nAdditionally, if you need to customize these models further, our platform supports model fine-tuning using your custom datasets. This allows you to adapt the pre-trained models to better suit your specific requirements.\\n\\nIf you have any more questions or need assistance with deploying or fine-tuning these models, please feel free to reach out.'}\n",
            "{'customer_query': 'how do I get my invoice?', 'query_category': 'Billing', 'query_sentiment': 'Neutral', 'final_response': \"Thank you for reaching out with your query on obtaining your invoice. You can easily download a detailed invoice by accessing your account dashboard. Once logged in, navigate to the 'Billing' section where you will find the option to view and download your invoices. If you encounter any issues or need further assistance, please feel free to reach out.\"}\n"
          ]
        },
        {
          "data": {
            "text/markdown": [
              "Thank you for reaching out with your query on obtaining your invoice. You can easily download a detailed invoice by accessing your account dashboard. Once logged in, navigate to the 'Billing' section where you will find the option to view and download your invoices. If you encounter any issues or need further assistance, please feel free to reach out."
            ],
            "text/plain": [
              "<IPython.core.display.Markdown object>"
            ]
          },
          "metadata": {},
          "output_type": "display_data"
        }
      ],
      "source": [
        "query = \"how do I get my invoice?\"\n",
        "call_support_agent(agent=compiled_support_agent,\n",
        "                   prompt=query,\n",
        "                   user_session_id=uid,\n",
        "                   verbose=True)"
      ]
    },
    {
      "cell_type": "code",
      "execution_count": 51,
      "metadata": {
        "colab": {
          "base_uri": "https://localhost:8080/",
          "height": 103
        },
        "id": "LIPGRwMJn5-q",
        "outputId": "fa378fd9-eecb-4d11-dbb6-3d11469ba809"
      },
      "outputs": [
        {
          "name": "stdout",
          "output_type": "stream",
          "text": [
            "Running Agent. Please wait...\n"
          ]
        },
        {
          "data": {
            "text/markdown": [
              "Thank you for reaching out with your query about our shipping policy. For hardware products, we offer free shipping on orders over $500. If your order is below $500, a flat shipping fee of $20 will be applied. Typically, shipping takes between 5-7 business days. If you have any further questions or need assistance, feel free to contact our support team."
            ],
            "text/plain": [
              "<IPython.core.display.Markdown object>"
            ]
          },
          "metadata": {},
          "output_type": "display_data"
        }
      ],
      "source": [
        "query = \"Can you tell me about your shipping policy?\"\n",
        "call_support_agent(agent=compiled_support_agent,\n",
        "                   prompt=query,\n",
        "                   user_session_id=uid,\n",
        "                   verbose=False)"
      ]
    },
    {
      "cell_type": "code",
      "execution_count": 52,
      "metadata": {
        "colab": {
          "base_uri": "https://localhost:8080/",
          "height": 153
        },
        "id": "FNspMHcJoBBx",
        "outputId": "b977019c-3823-473f-85da-e4aa87f5404a"
      },
      "outputs": [
        {
          "name": "stdout",
          "output_type": "stream",
          "text": [
            "Running Agent. Please wait...\n",
            "{'customer_query': \"I'm fed up with this faulty hardware, I need a refund\", 'query_category': 'General', 'query_sentiment': 'Neutral', 'final_response': 'Thank you for reaching out with your query about our shipping policy. For hardware products, we offer free shipping on orders over $500. If your order is below $500, a flat shipping fee of $20 will be applied. Typically, shipping takes between 5-7 business days. If you have any further questions or need assistance, feel free to contact our support team.'}\n",
            "{'customer_query': \"I'm fed up with this faulty hardware, I need a refund\", 'query_category': 'Billing', 'query_sentiment': 'Neutral', 'final_response': 'Thank you for reaching out with your query about our shipping policy. For hardware products, we offer free shipping on orders over $500. If your order is below $500, a flat shipping fee of $20 will be applied. Typically, shipping takes between 5-7 business days. If you have any further questions or need assistance, feel free to contact our support team.'}\n",
            "{'customer_query': \"I'm fed up with this faulty hardware, I need a refund\", 'query_category': 'Billing', 'query_sentiment': 'Negative', 'final_response': 'Thank you for reaching out with your query about our shipping policy. For hardware products, we offer free shipping on orders over $500. If your order is below $500, a flat shipping fee of $20 will be applied. Typically, shipping takes between 5-7 business days. If you have any further questions or need assistance, feel free to contact our support team.'}\n",
            "{'customer_query': \"I'm fed up with this faulty hardware, I need a refund\", 'query_category': 'Billing', 'query_sentiment': 'Negative', 'final_response': 'Apologies, we are really sorry! Someone from our team will be reaching out to your shortly!'}\n"
          ]
        },
        {
          "data": {
            "text/markdown": [
              "Apologies, we are really sorry! Someone from our team will be reaching out to your shortly!"
            ],
            "text/plain": [
              "<IPython.core.display.Markdown object>"
            ]
          },
          "metadata": {},
          "output_type": "display_data"
        }
      ],
      "source": [
        "query = \"I'm fed up with this faulty hardware, I need a refund\"\n",
        "call_support_agent(agent=compiled_support_agent,\n",
        "                   prompt=query,\n",
        "                   user_session_id=uid,\n",
        "                   verbose=True)"
      ]
    },
    {
      "cell_type": "code",
      "execution_count": 55,
      "metadata": {
        "colab": {
          "base_uri": "https://localhost:8080/",
          "height": 188
        },
        "id": "BMzoQZsBNY9n",
        "outputId": "1649789d-7ee2-4fc2-a487-ca64b2705674"
      },
      "outputs": [
        {
          "name": "stdout",
          "output_type": "stream",
          "text": [
            "Running Agent. Please wait...\n",
            "{'customer_query': 'What are your working hours?', 'query_category': 'General', 'query_sentiment': 'Neutral', 'final_response': 'Apologies I was not able to answer your question, please reach out to +1-xxx-xxxx'}\n",
            "{'customer_query': 'What are your working hours?', 'query_category': 'General', 'query_sentiment': 'Neutral', 'final_response': 'Apologies I was not able to answer your question, please reach out to +1-xxx-xxxx'}\n",
            "{'customer_query': 'What are your working hours?', 'query_category': 'General', 'query_sentiment': 'Neutral', 'final_response': 'Apologies I was not able to answer your question, please reach out to +1-xxx-xxxx'}\n",
            "{'customer_query': 'What are your working hours?', 'query_category': 'General', 'query_sentiment': 'Neutral', 'final_response': \"Our support team is available from 9:00 AM to 6:00 PM, Monday to Friday. If you have any further questions or need assistance outside of these hours, please feel free to reach out to us via email at support@example.com or call us at 1-800-123-4567. We're here to help!\"}\n"
          ]
        },
        {
          "data": {
            "text/markdown": [
              "Our support team is available from 9:00 AM to 6:00 PM, Monday to Friday. If you have any further questions or need assistance outside of these hours, please feel free to reach out to us via email at support@example.com or call us at 1-800-123-4567. We're here to help!"
            ],
            "text/plain": [
              "<IPython.core.display.Markdown object>"
            ]
          },
          "metadata": {},
          "output_type": "display_data"
        }
      ],
      "source": [
        "query = \"What are your working hours?\"\n",
        "call_support_agent(agent=compiled_support_agent,\n",
        "                   prompt=query,\n",
        "                   user_session_id=uid,\n",
        "                   verbose=True)"
      ]
    },
    {
      "cell_type": "code",
      "execution_count": 56,
      "metadata": {},
      "outputs": [
        {
          "name": "stdout",
          "output_type": "stream",
          "text": [
            "Running Agent. Please wait...\n",
            "{'customer_query': 'What have I asked you till now', 'query_category': 'General', 'query_sentiment': 'Neutral', 'final_response': \"Our support team is available from 9:00 AM to 6:00 PM, Monday to Friday. If you have any further questions or need assistance outside of these hours, please feel free to reach out to us via email at support@example.com or call us at 1-800-123-4567. We're here to help!\"}\n",
            "{'customer_query': 'What have I asked you till now', 'query_category': 'General', 'query_sentiment': 'Neutral', 'final_response': \"Our support team is available from 9:00 AM to 6:00 PM, Monday to Friday. If you have any further questions or need assistance outside of these hours, please feel free to reach out to us via email at support@example.com or call us at 1-800-123-4567. We're here to help!\"}\n",
            "{'customer_query': 'What have I asked you till now', 'query_category': 'General', 'query_sentiment': 'Neutral', 'final_response': \"Our support team is available from 9:00 AM to 6:00 PM, Monday to Friday. If you have any further questions or need assistance outside of these hours, please feel free to reach out to us via email at support@example.com or call us at 1-800-123-4567. We're here to help!\"}\n",
            "{'customer_query': 'What have I asked you till now', 'query_category': 'General', 'query_sentiment': 'Neutral', 'final_response': 'Apologies I was not able to answer your question, please reach out to +1-xxx-xxxx'}\n"
          ]
        },
        {
          "data": {
            "text/markdown": [
              "Apologies I was not able to answer your question, please reach out to +1-xxx-xxxx"
            ],
            "text/plain": [
              "<IPython.core.display.Markdown object>"
            ]
          },
          "metadata": {},
          "output_type": "display_data"
        }
      ],
      "source": [
        "query = \"What have I asked you till now\"\n",
        "call_support_agent(agent=compiled_support_agent,\n",
        "                   prompt=query,\n",
        "                   user_session_id=uid,\n",
        "                   verbose=True)"
      ]
    },
    {
      "cell_type": "code",
      "execution_count": null,
      "metadata": {},
      "outputs": [],
      "source": []
    },
    {
      "cell_type": "code",
      "execution_count": null,
      "metadata": {},
      "outputs": [],
      "source": []
    }
  ],
  "metadata": {
    "colab": {
      "provenance": []
    },
    "kernelspec": {
      "display_name": "venv",
      "language": "python",
      "name": "python3"
    },
    "language_info": {
      "codemirror_mode": {
        "name": "ipython",
        "version": 3
      },
      "file_extension": ".py",
      "mimetype": "text/x-python",
      "name": "python",
      "nbconvert_exporter": "python",
      "pygments_lexer": "ipython3",
      "version": "3.12.10"
    }
  },
  "nbformat": 4,
  "nbformat_minor": 0
}
