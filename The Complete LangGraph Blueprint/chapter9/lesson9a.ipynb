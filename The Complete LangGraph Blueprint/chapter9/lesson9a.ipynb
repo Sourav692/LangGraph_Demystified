{
 "cells": [
  {
   "cell_type": "code",
   "execution_count": null,
   "metadata": {},
   "outputs": [],
   "source": [
    "import os\n",
    "from typing_extensions import TypedDict\n",
    "from langgraph.graph import StateGraph, START, END\n",
    "from langgraph.checkpoint.memory import MemorySaver\n",
    "\n",
    "from display_graph import display_graph\n",
    "\n",
    "# Define the state structure\n",
    "class State(TypedDict):\n",
    "    input: str\n",
    "\n",
    "# Define node functions\n",
    "def step_1(state: State):\n",
    "    print(\"--- Step 1 ---\")\n",
    "    return state\n",
    "\n",
    "def step_2(state: State):\n",
    "    print(\"--- Step 2 ---\")\n",
    "    return state\n",
    "\n",
    "# Build the graph\n",
    "builder = StateGraph(State)\n",
    "builder.add_node(\"step_1\", step_1)\n",
    "builder.add_node(\"step_2\", step_2)\n",
    "\n",
    "# Define flow\n",
    "builder.add_edge(START, \"step_1\")\n",
    "builder.add_edge(\"step_1\", \"step_2\")\n",
    "builder.add_edge(\"step_2\", END)\n",
    "\n",
    "# Set up memory and breakpoints\n",
    "memory = MemorySaver()\n",
    "graph = builder.compile(checkpointer=memory, interrupt_before=[\"step_2\"])\n",
    "\n",
    "# Display the graph\n",
    "display_graph(graph, file_name=os.path.basename(__file__))\n",
    "\n",
    "# Run the graph\n",
    "config = {\"configurable\": {\"thread_id\": \"thread-1\"}}\n",
    "\n",
    "initial_input = {\"input\": \"Hello, LangGraph!\"}\n",
    "thread = {\"configurable\": {\"thread_id\": \"1\"}}\n",
    "\n",
    "for event in graph.stream(initial_input, thread, stream_mode=\"values\"):\n",
    "    print(event)\n",
    "\n",
    "user_approval = input(\"Do you approve to continue to Step 2? (yes/no): \")\n",
    "\n",
    "if user_approval.lower() == \"yes\":\n",
    "    for event in graph.stream(None, thread, stream_mode=\"values\"):\n",
    "        print(event)\n",
    "else:\n",
    "    print(\"Execution halted by user.\")"
   ]
  }
 ],
 "metadata": {
  "kernelspec": {
   "display_name": "Python 3",
   "language": "python",
   "name": "python3"
  },
  "language_info": {
   "codemirror_mode": {
    "name": "ipython",
    "version": 3
   },
   "file_extension": ".py",
   "mimetype": "text/x-python",
   "name": "python",
   "nbconvert_exporter": "python",
   "pygments_lexer": "ipython3",
   "version": "3.8.0"
  }
 },
 "nbformat": 4,
 "nbformat_minor": 2
}
