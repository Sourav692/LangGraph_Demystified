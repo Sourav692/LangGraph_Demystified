{
 "cells": [
  {
   "cell_type": "code",
   "execution_count": null,
   "metadata": {},
   "outputs": [],
   "source": [
    "import os\n",
    "from typing_extensions import TypedDict\n",
    "from langgraph.graph import StateGraph, START, END\n",
    "from langgraph.checkpoint.memory import MemorySaver\n",
    "from langchain_core.tools import tool\n",
    "\n",
    "from display_graph import display_graph\n",
    "\n",
    "class State(TypedDict):\n",
    "    query: str\n",
    "\n",
    "@tool\n",
    "def perform_query(query: str):\n",
    "    \"\"\":param query: The SQL query to be executed.\"\"\"\n",
    "    print(f\"Performing query: {query}\")\n",
    "    return {\"query\" :{query}}\n",
    "\n",
    "def review_query(state: State):\n",
    "    print(f\"Reviewing query: {state['query']}\")\n",
    "    return state\n",
    "\n",
    "builder = StateGraph(State)\n",
    "builder.add_node(\"perform_query\", perform_query)\n",
    "builder.add_node(\"review_query\", review_query)\n",
    "\n",
    "builder.add_edge(\"review_query\", \"perform_query\")\n",
    "builder.add_edge(START, \"review_query\")\n",
    "builder.add_edge(\"perform_query\", END)\n",
    "\n",
    "graph = builder.compile(interrupt_before=[\"perform_query\"], checkpointer=MemorySaver())\n",
    "\n",
    "# Display the graph\n",
    "display_graph(graph, file_name=os.path.basename(__file__))\n",
    "\n",
    "initial_input = {\"query\": \"SELECT * FROM users\"}\n",
    "config = {\"configurable\": {\"thread_id\": \"thread-1\"}}\n",
    "\n",
    "for event in graph.stream(initial_input, config):\n",
    "    print(event)\n",
    "\n",
    "approval = input(\"Approve query execution? (yes/no): \")\n",
    "if approval.lower() == \"yes\":\n",
    "    for event in graph.stream(None, config):\n",
    "        print(event)\n",
    "else:\n",
    "    print(\"Query execution cancelled.\")"
   ]
  }
 ],
 "metadata": {
  "kernelspec": {
   "display_name": "Python 3",
   "language": "python",
   "name": "python3"
  },
  "language_info": {
   "codemirror_mode": {
    "name": "ipython",
    "version": 3
   },
   "file_extension": ".py",
   "mimetype": "text/x-python",
   "name": "python",
   "nbconvert_exporter": "python",
   "pygments_lexer": "ipython3",
   "version": "3.8.0"
  }
 },
 "nbformat": 4,
 "nbformat_minor": 2
}
