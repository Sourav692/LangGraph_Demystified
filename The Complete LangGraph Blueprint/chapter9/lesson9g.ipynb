{
 "cells": [
  {
   "cell_type": "code",
   "execution_count": null,
   "metadata": {},
   "outputs": [],
   "source": [
    "from typing_extensions import TypedDict\n",
    "from langgraph.graph import StateGraph, START, END\n",
    "from langgraph.checkpoint.memory import MemorySaver\n",
    "\n",
    "class State(TypedDict):\n",
    "    amount: float\n",
    "\n",
    "builder = StateGraph(State)\n",
    "\n",
    "def define__transaction(state: State):\n",
    "    print(\"Defining transaction...\")\n",
    "    return state\n",
    "\n",
    "def verify_transaction(state: State):\n",
    "    print(f\"Verifying transaction amount: {state['amount']}\")\n",
    "    return state\n",
    "\n",
    "builder.add_node(\"define_transaction\", define__transaction)\n",
    "builder.add_node(\"verify_transaction\", verify_transaction)\n",
    "builder.add_edge(START, \"define_transaction\")\n",
    "builder.add_edge(\"define_transaction\", \"verify_transaction\")\n",
    "builder.add_edge(\"verify_transaction\", END)\n",
    "\n",
    "graph = builder.compile(interrupt_before=[\"verify_transaction\"],checkpointer=MemorySaver())\n",
    "\n",
    "initial_input = {\"amount\": 1000.0}\n",
    "config = {\"configurable\": {\"thread_id\": \"thread-1\"}}\n",
    "\n",
    "for event in graph.stream(initial_input, config):\n",
    "    print(event)\n",
    "\n",
    "approval = input(\"Approve this transaction? (yes/no): \")\n",
    "if approval.lower() == \"yes\":\n",
    "    for event in graph.stream(None, config):\n",
    "        print(event)\n",
    "else:\n",
    "    print(\"Transaction cancelled.\")"
   ]
  }
 ],
 "metadata": {
  "kernelspec": {
   "display_name": "Python 3",
   "language": "python",
   "name": "python3"
  },
  "language_info": {
   "codemirror_mode": {
    "name": "ipython",
    "version": 3
   },
   "file_extension": ".py",
   "mimetype": "text/x-python",
   "name": "python",
   "nbconvert_exporter": "python",
   "pygments_lexer": "ipython3",
   "version": "3.8.0"
  }
 },
 "nbformat": 4,
 "nbformat_minor": 2
}
