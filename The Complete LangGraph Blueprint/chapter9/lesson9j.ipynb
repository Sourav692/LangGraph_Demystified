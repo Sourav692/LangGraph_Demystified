{
 "cells": [
  {
   "cell_type": "code",
   "execution_count": null,
   "metadata": {},
   "outputs": [],
   "source": [
    "import os\n",
    "from typing_extensions import TypedDict\n",
    "from langgraph.graph import StateGraph, START, END\n",
    "from langgraph.checkpoint.memory import MemorySaver\n",
    "from langchain_core.tools import tool\n",
    "from display_graph import display_graph\n",
    "\n",
    "class State(TypedDict):\n",
    "    title: str\n",
    "\n",
    "def generate_report(state: State):\n",
    "    \"\"\"\n",
    "    Generate a financial report based on the provided title.\n",
    "    \"\"\"\n",
    "    print(f\"Generating report with title: {state['title']}\")\n",
    "    return state\n",
    "\n",
    "builder = StateGraph(State)\n",
    "builder.add_node(\"generate_report\", generate_report)\n",
    "builder.add_edge(START, \"generate_report\")\n",
    "builder.add_edge(\"generate_report\", END)\n",
    "\n",
    "graph = builder.compile(interrupt_before=[\"generate_report\"], checkpointer=MemorySaver())\n",
    "\n",
    "# Display the graph\n",
    "display_graph(graph, file_name=os.path.basename(__file__))\n",
    "\n",
    "initial_input = {\"title\": \"Annual Financial Report\"}\n",
    "config = {\"configurable\": {\"thread_id\": \"thread-1\"}}\n",
    "\n",
    "for event in graph.stream(initial_input, config):\n",
    "    print(event)\n",
    "\n",
    "approval = input(\"Approve report generation? (yes/no): \")\n",
    "if approval.lower() == \"yes\":\n",
    "    for event in graph.stream(None, config):\n",
    "        if event:\n",
    "            print(event)\n",
    "else:\n",
    "    print(\"Report generation cancelled.\")"
   ]
  }
 ],
 "metadata": {
  "kernelspec": {
   "display_name": "Python 3",
   "language": "python",
   "name": "python3"
  },
  "language_info": {
   "codemirror_mode": {
    "name": "ipython",
    "version": 3
   },
   "file_extension": ".py",
   "mimetype": "text/x-python",
   "name": "python",
   "nbconvert_exporter": "python",
   "pygments_lexer": "ipython3",
   "version": "3.8.0"
  }
 },
 "nbformat": 4,
 "nbformat_minor": 2
}
