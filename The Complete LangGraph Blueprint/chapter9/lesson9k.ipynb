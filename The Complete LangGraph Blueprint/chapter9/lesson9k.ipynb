{
 "cells": [
  {
   "cell_type": "code",
   "execution_count": null,
   "metadata": {},
   "outputs": [],
   "source": [
    "import os\n",
    "from typing_extensions import TypedDict\n",
    "from langgraph.graph import StateGraph, START, END\n",
    "from langgraph.checkpoint.memory import MemorySaver\n",
    "\n",
    "from display_graph import display_graph\n",
    "\n",
    "class State(TypedDict):\n",
    "    input: str\n",
    "\n",
    "def step_a(state: State):\n",
    "    print(\"Executing Step A\")\n",
    "    return state\n",
    "\n",
    "def step_b(state: State):\n",
    "    print(\"Executing Step B\")\n",
    "    return state\n",
    "\n",
    "builder = StateGraph(State)\n",
    "builder.add_node(\"step_a\", step_a)\n",
    "builder.add_node(\"step_b\", step_b)\n",
    "\n",
    "builder.add_edge(START, \"step_a\")\n",
    "builder.add_edge(\"step_a\", \"step_b\")\n",
    "builder.add_edge(\"step_b\", END)\n",
    "\n",
    "graph = builder.compile(interrupt_before=[\"step_b\"], checkpointer=MemorySaver())\n",
    "\n",
    "# Display the graph\n",
    "display_graph(graph, file_name=os.path.basename(__file__))\n",
    "\n",
    "initial_input = {\"input\": \"Starting workflow\"}\n",
    "config = {\"configurable\": {\"thread_id\": \"thread-1\"}}\n",
    "\n",
    "for event in graph.stream(initial_input, config):\n",
    "    print(event)\n",
    "\n",
    "approval = input(\"Proceed to Step B? (yes/no): \")\n",
    "if approval.lower() == \"yes\":\n",
    "    for event in graph.stream(None, config):\n",
    "        print(event)\n",
    "else:\n",
    "    print(\"Workflow halted before Step B.\")"
   ]
  }
 ],
 "metadata": {
  "kernelspec": {
   "display_name": "Python 3",
   "language": "python",
   "name": "python3"
  },
  "language_info": {
   "codemirror_mode": {
    "name": "ipython",
    "version": 3
   },
   "file_extension": ".py",
   "mimetype": "text/x-python",
   "name": "python",
   "nbconvert_exporter": "python",
   "pygments_lexer": "ipython3",
   "version": "3.8.0"
  }
 },
 "nbformat": 4,
 "nbformat_minor": 2
}
