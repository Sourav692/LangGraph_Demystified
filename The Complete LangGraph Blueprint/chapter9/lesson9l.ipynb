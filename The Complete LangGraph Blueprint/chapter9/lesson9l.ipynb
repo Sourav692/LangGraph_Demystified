{
 "cells": [
  {
   "cell_type": "code",
   "execution_count": null,
   "metadata": {},
   "outputs": [],
   "source": [
    "from langgraph.errors import NodeInterrupt\n",
    "import os\n",
    "from typing_extensions import TypedDict\n",
    "from langgraph.graph import StateGraph, START, END\n",
    "\n",
    "from display_graph import display_graph\n",
    "\n",
    "class State(TypedDict):\n",
    "    input: str\n",
    "\n",
    "builder = StateGraph(State)\n",
    "\n",
    "def step_with_dynamic_interrupt(state: State):\n",
    "    input_length = len(state[\"input\"])\n",
    "    if input_length > 10:\n",
    "        raise NodeInterrupt(\"Input length {input_length} exceeds threshold of 10.\")\n",
    "    return state\n",
    "\n",
    "builder.add_node(\"step_with_dynamic_interrupt\", step_with_dynamic_interrupt)\n",
    "builder.add_edge(START, \"step_with_dynamic_interrupt\")\n",
    "builder.add_edge(\"step_with_dynamic_interrupt\", END)\n",
    "\n",
    "graph = builder.compile()\n",
    "# Display the graph\n",
    "display_graph(graph, file_name=os.path.basename(__file__))\n",
    "\n",
    "initial_input = {\"input\": \"This is a long input\"}\n",
    "for event in graph.stream(initial_input):\n",
    "    print(event)"
   ]
  }
 ],
 "metadata": {
  "kernelspec": {
   "display_name": "Python 3",
   "language": "python",
   "name": "python3"
  },
  "language_info": {
   "codemirror_mode": {
    "name": "ipython",
    "version": 3
   },
   "file_extension": ".py",
   "mimetype": "text/x-python",
   "name": "python",
   "nbconvert_exporter": "python",
   "pygments_lexer": "ipython3",
   "version": "3.8.0"
  }
 },
 "nbformat": 4,
 "nbformat_minor": 2
}
