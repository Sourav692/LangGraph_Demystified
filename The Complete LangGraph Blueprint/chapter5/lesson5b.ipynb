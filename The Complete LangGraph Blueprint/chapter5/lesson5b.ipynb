{
 "cells": [
  {
   "cell_type": "code",
   "execution_count": 1,
   "metadata": {},
   "outputs": [],
   "source": [
    "from langchain_openai import ChatOpenAI\n",
    "from langgraph.graph import StateGraph, MessagesState, START, END\n",
    "from dotenv import load_dotenv\n",
    "import os"
   ]
  },
  {
   "cell_type": "code",
   "execution_count": 2,
   "metadata": {},
   "outputs": [],
   "source": [
    "# Load API key from .env file\n",
    "load_dotenv()\n",
    "api_key = os.getenv(\"OPENAI_API_KEY\")\n",
    "\n",
    "# Initialize the LLM (using OpenAI's GPT-4o)\n",
    "model = ChatOpenAI(model=\"gpt-4o-mini\", api_key=api_key)\n",
    "\n",
    "# Node function to handle the user query and call the LLM\n",
    "def call_llm(state: MessagesState):\n",
    "    messages = state[\"messages\"]\n",
    "    response = model.invoke(messages[-1].content)\n",
    "    return {\"messages\": [response]}\n",
    "\n",
    "# Define the graph\n",
    "workflow = StateGraph(MessagesState)\n",
    "\n",
    "# Add the node to call the LLM\n",
    "workflow.add_node(\"call_llm\", call_llm)\n",
    "\n",
    "# Define the edges (start -> LLM -> end)\n",
    "workflow.add_edge(START, \"call_llm\")\n",
    "workflow.add_edge(\"call_llm\", END)\n",
    "\n",
    "# Compile the workflow\n",
    "app = workflow.compile()"
   ]
  },
  {
   "cell_type": "code",
   "execution_count": 3,
   "metadata": {},
   "outputs": [
    {
     "name": "stdout",
     "output_type": "stream",
     "text": [
      "================================\u001b[1m Human Message \u001b[0m=================================\n",
      "\n",
      "Who is narendra modi\n",
      "==================================\u001b[1m Ai Message \u001b[0m==================================\n",
      "\n",
      "Narendra Modi is an Indian politician who has been serving as the Prime Minister of India since May 2014. He is a member of the Bharatiya Janata Party (BJP) and the Rashtriya Swayamsevak Sangh (RSS), a Hindu nationalist organization. Born on September 17, 1950, in Vadnagar, Gujarat, Modi came from a modest background and worked in various capacities before entering politics.\n",
      "\n",
      "He served as the Chief Minister of Gujarat from 2001 to 2014, where he was credited with significant economic growth in the state but also faced criticism regarding his government's handling of the 2002 Gujarat riots. As Prime Minister, Modi has focused on various initiatives including economic reform, digitalization, skill development, and infrastructure development. He is known for his strong leadership style and has been a controversial figure in Indian politics.\n",
      "\n",
      "Modi's government has also faced criticism for its policies on religious and social issues, particularly in relation to the rights of minorities in India. His administration has emphasized nationalism and has implemented several significant policies, including the Goods and Services Tax (GST) and the \"Make in India\" initiative to boost manufacturing.\n",
      "Ending the conversation.\n"
     ]
    }
   ],
   "source": [
    "# Function to continuously take user input\n",
    "def interact_with_agent():\n",
    "    while True:\n",
    "        user_input = input(\"You: \")\n",
    "        if user_input.lower() in [\"exit\", \"quit\"]:\n",
    "            print(\"Ending the conversation.\")\n",
    "            break\n",
    "        input_message = {\n",
    "            \"messages\": [(\"human\", user_input)]\n",
    "        }\n",
    "\n",
    "        for chunk in app.stream(input_message, stream_mode=\"values\"):\n",
    "            chunk[\"messages\"][-1].pretty_print()\n",
    "\n",
    "# Start interacting with the agent\n",
    "interact_with_agent()"
   ]
  },
  {
   "cell_type": "code",
   "execution_count": null,
   "metadata": {},
   "outputs": [],
   "source": []
  }
 ],
 "metadata": {
  "kernelspec": {
   "display_name": ".venv",
   "language": "python",
   "name": "python3"
  },
  "language_info": {
   "codemirror_mode": {
    "name": "ipython",
    "version": 3
   },
   "file_extension": ".py",
   "mimetype": "text/x-python",
   "name": "python",
   "nbconvert_exporter": "python",
   "pygments_lexer": "ipython3",
   "version": "3.12.10"
  }
 },
 "nbformat": 4,
 "nbformat_minor": 2
}
