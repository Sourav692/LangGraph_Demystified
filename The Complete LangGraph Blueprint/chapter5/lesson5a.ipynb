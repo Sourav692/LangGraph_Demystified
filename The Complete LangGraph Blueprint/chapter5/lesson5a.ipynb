{
 "cells": [
  {
   "cell_type": "code",
   "execution_count": null,
   "metadata": {},
   "outputs": [],
   "source": [
    "from langchain_openai import ChatOpenAI\n",
    "from langgraph.graph import StateGraph, MessagesState, START, END\n",
    "from dotenv import load_dotenv\n",
    "import os\n",
    "\n",
    "load_dotenv()\n",
    "\n",
    "# Initialize the LLM (using OpenAI in this example)\n",
    "api_key = os.getenv(\"OPENAI_API_KEY\")\n",
    "model = ChatOpenAI(model=\"gpt-4o-mini\", api_key=api_key)\n",
    "\n",
    "# Function to handle the user query and call the LLM\n",
    "def call_llm(state: MessagesState):\n",
    "    messages = state[\"messages\"]\n",
    "    response = model.invoke(messages[-1].content)\n",
    "    return {\"messages\": [response]}\n",
    "\n",
    "# Define the graph\n",
    "workflow = StateGraph(MessagesState)\n",
    "\n",
    "# Add the node to call the LLM\n",
    "workflow.add_node(\"call_llm\", call_llm)\n",
    "\n",
    "# Define the edges (start -> LLM -> end)\n",
    "workflow.add_edge(START, \"call_llm\")\n",
    "workflow.add_edge(\"call_llm\", END)\n",
    "\n",
    "# Compile the workflow\n",
    "app = workflow.compile()\n",
    "\n",
    "# Example input message from the user\n",
    "input_message = {    \n",
    "    \"messages\": [(\"human\", \"What is the capital of Kenya?\")]\n",
    "}\n",
    "\n",
    "# Run the workflow\n",
    "for chunk in app.stream(input_message, stream_mode=\"values\"):\n",
    "    chunk[\"messages\"][-1].pretty_print()"
   ]
  }
 ],
 "metadata": {
  "kernelspec": {
   "display_name": "Python 3",
   "language": "python",
   "name": "python3"
  },
  "language_info": {
   "codemirror_mode": {
    "name": "ipython",
    "version": 3
   },
   "file_extension": ".py",
   "mimetype": "text/x-python",
   "name": "python",
   "nbconvert_exporter": "python",
   "pygments_lexer": "ipython3",
   "version": "3.8.0"
  }
 },
 "nbformat": 4,
 "nbformat_minor": 2
}
