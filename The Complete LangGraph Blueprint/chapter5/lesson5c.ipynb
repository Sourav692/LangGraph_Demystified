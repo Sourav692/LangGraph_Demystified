{
 "cells": [
  {
   "cell_type": "code",
   "execution_count": null,
   "metadata": {},
   "outputs": [],
   "source": [
    "from langchain_core.tools import tool\n",
    "from langgraph.prebuilt import ToolNode\n",
    "from langchain_core.messages import AIMessage\n",
    "\n",
    "\n",
    "\n",
    "tools = [get_weather]\n",
    "tool_node = ToolNode(tools)\n",
    "\n",
    "result = tool_node.invoke({\"messages\": [message_with_single_tool_call]})\n",
    "print(result)"
   ]
  },
  {
   "cell_type": "code",
   "execution_count": null,
   "metadata": {},
   "outputs": [],
   "source": [
    "# Define a tool to get the weather for a city\n",
    "@tool\n",
    "def get_weather(location: str):\n",
    "    \"\"\"Fetch the current weather for a specific location.\"\"\"\n",
    "    weather_data = {\n",
    "        \"San Francisco\": \"It's 60 degrees and foggy.\",\n",
    "        \"New York\": \"It's 90 degrees and sunny.\",\n",
    "        \"London\": \"It's 70 degrees and cloudy.\",\n",
    "        \"Nairobi\": \"It's 27 degrees celsius and sunny.\"\n",
    "    }\n",
    "    return weather_data.get(location, \"Weather information is unavailable for this location.\")\n",
    "\n",
    "message_with_single_tool_call = AIMessage(\n",
    "    content=\"\",\n",
    "    tool_calls=[\n",
    "        {\n",
    "            \"name\": \"get_weather\",\n",
    "            \"args\": {\"location\": \"Nairobi\"},\n",
    "            \"id\": \"tool_call_id\",\n",
    "            \"type\": \"tool_call\",\n",
    "        }\n",
    "    ],\n",
    ")"
   ]
  },
  {
   "cell_type": "code",
   "execution_count": null,
   "metadata": {},
   "outputs": [],
   "source": []
  }
 ],
 "metadata": {
  "kernelspec": {
   "display_name": "Python 3",
   "language": "python",
   "name": "python3"
  },
  "language_info": {
   "codemirror_mode": {
    "name": "ipython",
    "version": 3
   },
   "file_extension": ".py",
   "mimetype": "text/x-python",
   "name": "python",
   "nbconvert_exporter": "python",
   "pygments_lexer": "ipython3",
   "version": "3.8.0"
  }
 },
 "nbformat": 4,
 "nbformat_minor": 2
}
