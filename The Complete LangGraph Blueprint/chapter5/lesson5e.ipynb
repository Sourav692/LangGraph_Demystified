{
 "cells": [
  {
   "cell_type": "code",
   "execution_count": null,
   "metadata": {},
   "outputs": [],
   "source": [
    "from langchain_core.tools import tool\n",
    "from langgraph.prebuilt import ToolNode\n",
    "from langchain_core.messages import AIMessage, ToolMessage\n",
    "\n",
    "# Step 1: Define the tool\n",
    "@tool\n",
    "def get_user_profile(user_id: str):\n",
    "    \"\"\"Fetch the profile of a user by user ID.\"\"\"\n",
    "    user_data = {\n",
    "        \"101\": {\"name\": \"Alice\", \"age\": 30, \"location\": \"New York\"},\n",
    "        \"102\": {\"name\": \"Bob\", \"age\": 25, \"location\": \"San Francisco\"}\n",
    "    }\n",
    "    return user_data.get(user_id, \"User profile not found.\")\n",
    "\n",
    "# Step 2: Set up the ToolNode with the get_user_profile tool\n",
    "tools = [get_user_profile]\n",
    "tool_node = ToolNode(tools)\n",
    "\n",
    "# Step 3: Create an AIMessage for the tool call\n",
    "message_with_tool_call = AIMessage(\n",
    "    content=\"\",\n",
    "    tool_calls=[{\n",
    "        \"name\": \"get_user_profile\",\n",
    "        \"args\": {\"user_id\": \"101\"},\n",
    "        \"id\": \"tool_call_id\",\n",
    "        \"type\": \"tool_call\"\n",
    "    }]\n",
    ")\n",
    "\n",
    "# Step 4: Set up the state with the messages key\n",
    "state = {\n",
    "    \"messages\": [message_with_tool_call]\n",
    "}\n",
    "\n",
    "# Step 5: Invoke the ToolNode with the state and get the result\n",
    "result = tool_node.invoke(state)\n",
    "\n",
    "# Output the result\n",
    "print(result)\n",
    "\n",
    "\n",
    "\n",
    "{'messages': [ToolMessage(content=\"{'name': 'Alice', 'age': 30, 'location': 'New York'}\", \n",
    "    name='get_user_profile', tool_call_id='tool_call_id')]}"
   ]
  }
 ],
 "metadata": {
  "kernelspec": {
   "display_name": "Python 3",
   "language": "python",
   "name": "python3"
  },
  "language_info": {
   "codemirror_mode": {
    "name": "ipython",
    "version": 3
   },
   "file_extension": ".py",
   "mimetype": "text/x-python",
   "name": "python",
   "nbconvert_exporter": "python",
   "pygments_lexer": "ipython3",
   "version": "3.8.0"
  }
 },
 "nbformat": 4,
 "nbformat_minor": 2
}
