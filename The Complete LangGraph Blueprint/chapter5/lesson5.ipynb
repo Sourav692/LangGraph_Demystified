{
 "cells": [
  {
   "cell_type": "code",
   "execution_count": null,
   "metadata": {},
   "outputs": [],
   "source": [
    "from typing import Annotated, Literal, TypedDict\n",
    "from langgraph.graph import StateGraph, START, END\n",
    "from langgraph.prebuilt import ToolNode\n",
    "from langchain_core.messages import HumanMessage\n",
    "from datetime import datetime\n",
    "\n",
    "class FinancialState(TypedDict):\n",
    "    user_input: str\n",
    "    budget: dict\n",
    "    investments: dict\n",
    "    current_date: datetime\n",
    "    next_action: str\n",
    "\n",
    "def BudgetToolNode(state: FinancialState):\n",
    "    # In real-world, you'd connect to a budgeting API\n",
    "        return {\"budget\": {\"income\": 5000, \"expenses\": {\"food\": 500, \"rent\": 1000}}}\n",
    "\n",
    "def InvestmentToolNode(state: FinancialState):\n",
    "        # Connect to an investment platform API\n",
    "        return {\"investments\": {\"stocks\": 10000, \"bonds\": 5000}}\n",
    "\n",
    "def FinancialAdvisorNode(state: FinancialState):\n",
    "    # This could involve a more complex LLM or financial model\n",
    "    if state[\"budget\"][\"income\"] - sum(state[\"budget\"][\"expenses\"].values()) > 500:\n",
    "        return {\"advice\": \"Consider increasing your investment in stocks\", \"next_action\": \"invest\"}\n",
    "    return {\"advice\": \"Keep current budget allocations\", \"next_action\": \"budget_review\"}\n",
    "\n",
    "# Initialize the graph\n",
    "finance_graph = StateGraph(FinancialState)\n",
    "\n",
    "# Add nodes\n",
    "finance_graph.add_node(\"budget_query\", BudgetToolNode)\n",
    "finance_graph.add_node(\"investment_query\", InvestmentToolNode)\n",
    "finance_graph.add_node(\"financial_advice\", FinancialAdvisorNode)\n",
    "\n",
    "# Define edges\n",
    "finance_graph.add_edge(START, \"budget_query\")\n",
    "finance_graph.add_edge(\"budget_query\", \"investment_query\")\n",
    "#finance_graph.add_conditional_edges(\"financial_advice\", \"investment_query\", lambda state: state[\"next_action\"] == \"invest\")\n",
    "#finance_graph.add_conditional_edges(\"financial_advice\", \"budget_query\", lambda state: state[\"next_action\"] == \"budget_review\")\n",
    "finance_graph.add_edge(\"investment_query\", \"financial_advice\")\n",
    "finance_graph.add_edge(\"financial_advice\", END)\n",
    "#finance_graph.add_edge(\"budget_query\", END)\n",
    "\n",
    "# Example execution\n",
    "initial_state = FinancialState(\n",
    "    user_input=\"How's my budget and should I invest more?\",\n",
    "    budget={},\n",
    "    investments={},\n",
    "    current_date=datetime.now(),\n",
    "    next_action=\"start\"\n",
    ")\n",
    "graph = finance_graph.compile()\n",
    "result = graph.invoke(initial_state)\n",
    "print(\"Final Financial State:\", result)"
   ]
  }
 ],
 "metadata": {
  "kernelspec": {
   "display_name": "Python 3",
   "language": "python",
   "name": "python3"
  },
  "language_info": {
   "codemirror_mode": {
    "name": "ipython",
    "version": 3
   },
   "file_extension": ".py",
   "mimetype": "text/x-python",
   "name": "python",
   "nbconvert_exporter": "python",
   "pygments_lexer": "ipython3",
   "version": "3.8.0"
  }
 },
 "nbformat": 4,
 "nbformat_minor": 2
}
