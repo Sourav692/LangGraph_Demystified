{
 "cells": [
  {
   "cell_type": "code",
   "execution_count": null,
   "metadata": {},
   "outputs": [],
   "source": [
    "import os\n",
    "from langchain_openai import ChatOpenAI\n",
    "from langgraph.prebuilt import create_react_agent\n",
    "import requests\n",
    "\n",
    "from display_graph import display_graph\n",
    "\n",
    "# Define the mock APIs for demand and competitor pricing\n",
    "def get_demand_data(product_id: str) -> dict:\n",
    "    \"\"\"Mock demand API to get demand data for a product.\"\"\"\n",
    "    # In real use, replace with an actual API call\n",
    "    return {\"product_id\": product_id, \"demand_level\": \"high\"}\n",
    "\n",
    "def get_competitor_pricing(product_id: str) -> dict:\n",
    "    \"\"\"Mock competitor pricing API.\"\"\"\n",
    "    # In real use, replace with an actual API call\n",
    "    return {\"product_id\": product_id, \"competitor_price\": 95.0}\n",
    "\n",
    "# List of tools for the agent to call\n",
    "tools = [get_demand_data, get_competitor_pricing]\n",
    "\n",
    "# Define the agent using the ReAct pattern\n",
    "model = ChatOpenAI(model=\"gpt-4\")\n",
    "\n",
    "# Create the ReAct agent with tools for demand and competitor pricing\n",
    "graph = create_react_agent(model, tools=tools)\n",
    "\n",
    "#Visualise the graph\n",
    "display_graph(graph,file_name= os.path.basename(__file__))\n",
    "\n",
    "# Define the initial state of the agent\n",
    "initial_messages = [\n",
    "    (\"system\", \"You are an AI agent that dynamically adjusts product prices based on market demand and competitor prices.\"),\n",
    "    (\"user\", \"What should be the price for product ID '12345'?\")\n",
    "]\n",
    "\n",
    "# Stream agent responses and decisions\n",
    "inputs = {\"messages\": initial_messages}\n",
    "\n",
    "# Simulate the agent reasoning, acting (calling tools), and observing\n",
    "for state in graph.stream(inputs, stream_mode=\"values\"):\n",
    "    message = state[\"messages\"][-1]  # Get the latest message in the interaction\n",
    "    if isinstance(message, tuple):\n",
    "        print(message)\n",
    "    else:\n",
    "        message.pretty_print()  # Print the response from the agent"
   ]
  }
 ],
 "metadata": {
  "kernelspec": {
   "display_name": "Python 3",
   "language": "python",
   "name": "python3"
  },
  "language_info": {
   "codemirror_mode": {
    "name": "ipython",
    "version": 3
   },
   "file_extension": ".py",
   "mimetype": "text/x-python",
   "name": "python",
   "nbconvert_exporter": "python",
   "pygments_lexer": "ipython3",
   "version": "3.8.0"
  }
 },
 "nbformat": 4,
 "nbformat_minor": 2
}
