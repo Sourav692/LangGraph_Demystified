{
 "cells": [
  {
   "cell_type": "code",
   "execution_count": 1,
   "metadata": {},
   "outputs": [],
   "source": [
    "import os\n",
    "from langchain_openai import ChatOpenAI\n",
    "from langgraph.prebuilt import create_react_agent\n",
    "from langgraph.checkpoint.memory import MemorySaver\n",
    "from langchain_core.runnables.graph import MermaidDrawMethod, CurveStyle\n",
    "\n",
    "from display_graph import display_graph"
   ]
  },
  {
   "cell_type": "code",
   "execution_count": 2,
   "metadata": {},
   "outputs": [],
   "source": [
    "# Define tools\n",
    "def product_info(product_name: str) -> str:\n",
    "    \"\"\"Fetch product information.\"\"\"\n",
    "    product_catalog = {\n",
    "        \"iPhone 20\": \"The latest iPhone features an A15 chip and improved camera.\",\n",
    "        \"MacBook\": \"The new MacBook has an M2 chip and a 14-inch Retina display.\",\n",
    "    }\n",
    "    return product_catalog.get(product_name, \"Sorry, product not found.\")\n",
    "\n",
    "# Initialize the memory saver for single-thread memory\n",
    "checkpointer = MemorySaver()"
   ]
  },
  {
   "cell_type": "code",
   "execution_count": null,
   "metadata": {},
   "outputs": [],
   "source": [
    "# Initialize the language model\n",
    "llm = ChatOpenAI(model=\"gpt-4o-mini\")\n",
    "\n",
    "# Create the ReAct agent with the memory saver\n",
    "graph = create_react_agent(model=llm, tools=[product_info], checkpointer=checkpointer)\n",
    "\n",
    "#Visualise the graph\n",
    "display_graph(graph, file_name=\"lesson8b\")"
   ]
  },
  {
   "cell_type": "code",
   "execution_count": 4,
   "metadata": {},
   "outputs": [
    {
     "name": "stdout",
     "output_type": "stream",
     "text": [
      "================================\u001b[1m Human Message \u001b[0m=================================\n",
      "\n",
      "Hi, I'm James. Tell me about the new iPhone 20.\n",
      "==================================\u001b[1m Ai Message \u001b[0m==================================\n",
      "Tool Calls:\n",
      "  product_info (call_4MBazUPrCaBsgCxP9ROxuOAh)\n",
      " Call ID: call_4MBazUPrCaBsgCxP9ROxuOAh\n",
      "  Args:\n",
      "    product_name: iPhone 20\n",
      "=================================\u001b[1m Tool Message \u001b[0m=================================\n",
      "Name: product_info\n",
      "\n",
      "The latest iPhone features an A15 chip and improved camera.\n",
      "==================================\u001b[1m Ai Message \u001b[0m==================================\n",
      "\n",
      "The new iPhone 20 features an A15 chip and comes with an improved camera system, enhancing both performance and photography capabilities. If you have any specific questions or need more details, let me know!\n"
     ]
    }
   ],
   "source": [
    "# Set up thread configuration to simulate single-threaded memory\n",
    "config = {\"configurable\": {\"thread_id\": \"thread-1\"}}\n",
    "\n",
    "# User input: initial inquiry\n",
    "inputs = {\"messages\": [(\"user\", \"Hi, I'm James. Tell me about the new iPhone 20.\")]}\n",
    "messages = graph.invoke(inputs, config=config)\n",
    "for message in messages[\"messages\"]:\n",
    "    message.pretty_print()"
   ]
  },
  {
   "cell_type": "code",
   "execution_count": 5,
   "metadata": {},
   "outputs": [
    {
     "name": "stdout",
     "output_type": "stream",
     "text": [
      "================================\u001b[1m Human Message \u001b[0m=================================\n",
      "\n",
      "Hi, I'm James. Tell me about the new iPhone 20.\n",
      "==================================\u001b[1m Ai Message \u001b[0m==================================\n",
      "Tool Calls:\n",
      "  product_info (call_4MBazUPrCaBsgCxP9ROxuOAh)\n",
      " Call ID: call_4MBazUPrCaBsgCxP9ROxuOAh\n",
      "  Args:\n",
      "    product_name: iPhone 20\n",
      "=================================\u001b[1m Tool Message \u001b[0m=================================\n",
      "Name: product_info\n",
      "\n",
      "The latest iPhone features an A15 chip and improved camera.\n",
      "==================================\u001b[1m Ai Message \u001b[0m==================================\n",
      "\n",
      "The new iPhone 20 features an A15 chip and comes with an improved camera system, enhancing both performance and photography capabilities. If you have any specific questions or need more details, let me know!\n",
      "================================\u001b[1m Human Message \u001b[0m=================================\n",
      "\n",
      "What chip this device have.\n",
      "==================================\u001b[1m Ai Message \u001b[0m==================================\n",
      "\n",
      "The iPhone 20 is equipped with the A15 chip.\n"
     ]
    }
   ],
   "source": [
    "# User input: repeated inquiry (memory recall)\n",
    "inputs2 = {\"messages\": [(\"user\", \"What chip this device have.\")]}\n",
    "messages2 = graph.invoke(inputs2, config=config)\n",
    "for message in messages2[\"messages\"]:\n",
    "    message.pretty_print()"
   ]
  },
  {
   "cell_type": "code",
   "execution_count": 6,
   "metadata": {},
   "outputs": [
    {
     "name": "stdout",
     "output_type": "stream",
     "text": [
      "================================\u001b[1m Human Message \u001b[0m=================================\n",
      "\n",
      "What chip this device have.\n",
      "==================================\u001b[1m Ai Message \u001b[0m==================================\n",
      "\n",
      "Could you please specify the device you are referring to?\n"
     ]
    }
   ],
   "source": [
    "# User input: repeated inquiry (memory recall)\n",
    "inputs3 = {\"messages\": [(\"user\", \"What chip this device have.\")]}\n",
    "# Set up thread configuration to simulate single-threaded memory\n",
    "config = {\"configurable\": {\"thread_id\": \"thread-2\"}}\n",
    "\n",
    "messages2 = graph.invoke(inputs3, config=config)\n",
    "for message in messages2[\"messages\"]:\n",
    "    message.pretty_print()"
   ]
  },
  {
   "cell_type": "code",
   "execution_count": 7,
   "metadata": {},
   "outputs": [
    {
     "name": "stdout",
     "output_type": "stream",
     "text": [
      "================================\u001b[1m Human Message \u001b[0m=================================\n",
      "\n",
      "Hi, I'm James. Tell me about the new iPhone 20.\n",
      "==================================\u001b[1m Ai Message \u001b[0m==================================\n",
      "Tool Calls:\n",
      "  product_info (call_4MBazUPrCaBsgCxP9ROxuOAh)\n",
      " Call ID: call_4MBazUPrCaBsgCxP9ROxuOAh\n",
      "  Args:\n",
      "    product_name: iPhone 20\n",
      "=================================\u001b[1m Tool Message \u001b[0m=================================\n",
      "Name: product_info\n",
      "\n",
      "The latest iPhone features an A15 chip and improved camera.\n",
      "==================================\u001b[1m Ai Message \u001b[0m==================================\n",
      "\n",
      "The new iPhone 20 features an A15 chip and comes with an improved camera system, enhancing both performance and photography capabilities. If you have any specific questions or need more details, let me know!\n",
      "================================\u001b[1m Human Message \u001b[0m=================================\n",
      "\n",
      "What chip this device have.\n",
      "==================================\u001b[1m Ai Message \u001b[0m==================================\n",
      "\n",
      "The iPhone 20 is equipped with the A15 chip.\n",
      "================================\u001b[1m Human Message \u001b[0m=================================\n",
      "\n",
      "What chip this device have.\n",
      "==================================\u001b[1m Ai Message \u001b[0m==================================\n",
      "\n",
      "The iPhone 20 is equipped with the A15 chip.\n"
     ]
    }
   ],
   "source": [
    "# User input: repeated inquiry (memory recall)\n",
    "inputs3 = {\"messages\": [(\"user\", \"What chip this device have.\")]}\n",
    "# Set up thread configuration to simulate single-threaded memory\n",
    "config = {\"configurable\": {\"thread_id\": \"thread-1\"}}\n",
    "\n",
    "messages2 = graph.invoke(inputs3, config=config)\n",
    "for message in messages2[\"messages\"]:\n",
    "    message.pretty_print()"
   ]
  },
  {
   "cell_type": "code",
   "execution_count": null,
   "metadata": {},
   "outputs": [],
   "source": []
  }
 ],
 "metadata": {
  "kernelspec": {
   "display_name": ".venv",
   "language": "python",
   "name": "python3"
  },
  "language_info": {
   "codemirror_mode": {
    "name": "ipython",
    "version": 3
   },
   "file_extension": ".py",
   "mimetype": "text/x-python",
   "name": "python",
   "nbconvert_exporter": "python",
   "pygments_lexer": "ipython3",
   "version": "3.12.10"
  }
 },
 "nbformat": 4,
 "nbformat_minor": 2
}
