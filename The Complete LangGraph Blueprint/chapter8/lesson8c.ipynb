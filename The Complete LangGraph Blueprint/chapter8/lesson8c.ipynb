{
 "cells": [
  {
   "cell_type": "code",
   "execution_count": 1,
   "metadata": {},
   "outputs": [],
   "source": [
    "import os\n",
    "from langchain_openai import ChatOpenAI\n",
    "from langgraph.prebuilt import create_react_agent\n",
    "from langgraph.checkpoint.memory import MemorySaver\n",
    "from dotenv import load_dotenv\n",
    "\n",
    "from display_graph import display_graph"
   ]
  },
  {
   "cell_type": "code",
   "execution_count": 2,
   "metadata": {},
   "outputs": [],
   "source": [
    "# Define tools\n",
    "def product_info(product_name: str) -> str:\n",
    "    \"\"\"Fetch product information.\"\"\"\n",
    "    product_catalog = {\n",
    "        \"iPhone\": \"The latest iPhone features an A15 chip and improved camera.\",\n",
    "        \"MacBook\": \"The new MacBook has an M2 chip and a 14-inch Retina display.\",\n",
    "    }\n",
    "    return product_catalog.get(product_name, \"Sorry, product not found.\")\n",
    "\n",
    "def check_stock(product_name: str) -> str:\n",
    "    \"\"\"Check product stock availability.\"\"\"\n",
    "    stock_data = {\n",
    "        \"iPhone\": \"In stock.\",\n",
    "        \"MacBook\": \"Out of stock.\",\n",
    "    }\n",
    "    return stock_data.get(product_name, \"Stock information unavailable.\")"
   ]
  },
  {
   "cell_type": "code",
   "execution_count": 3,
   "metadata": {},
   "outputs": [],
   "source": [
    "# Initialize the memory saver for single-thread memory\n",
    "checkpointer = MemorySaver()\n",
    "\n",
    "# Initialize the language model\n",
    "load_dotenv()\n",
    "llm = ChatOpenAI(model=\"gpt-4o-mini\")"
   ]
  },
  {
   "cell_type": "code",
   "execution_count": null,
   "metadata": {},
   "outputs": [],
   "source": [
    "\n",
    "\n",
    "# Create the ReAct agent with tools and memory\n",
    "tools = [product_info, check_stock]\n",
    "graph = create_react_agent(model=llm, tools=tools, checkpointer=checkpointer)\n",
    "\n",
    "#Visualise the graph\n",
    "display_graph(graph,file_name= \"lesson8c\")\n",
    "\n"
   ]
  },
  {
   "cell_type": "code",
   "execution_count": null,
   "metadata": {},
   "outputs": [
    {
     "name": "stdout",
     "output_type": "stream",
     "text": [
      "Tell me about the new iPhone.\n",
      "\n",
      "The latest iPhone features an A15 chip and improved camera.\n",
      "The latest iPhone is equipped with an A15 chip, which enhances its performance. It also boasts improved camera capabilities for better photography and videography. If you need more specific details or features, feel free to ask!\n"
     ]
    }
   ],
   "source": [
    "# Set up thread configuration for single-thread memory\n",
    "config = {\"configurable\": {\"thread_id\": \"thread-3\"}}\n",
    "\n",
    "# User input: initial inquiry about product information\n",
    "inputs = {\"messages\": [(\"user\", \"Tell me about the new iPhone.\")]}\n",
    "messages = graph.invoke(inputs, config=config)\n",
    "for message in messages[\"messages\"]:\n",
    "    print(message.content)"
   ]
  },
  {
   "cell_type": "code",
   "execution_count": null,
   "metadata": {},
   "outputs": [
    {
     "name": "stdout",
     "output_type": "stream",
     "text": [
      "Tell me about the new iPhone.\n",
      "\n",
      "The latest iPhone features an A15 chip and improved camera.\n",
      "The latest iPhone is equipped with an A15 chip, which enhances its performance. It also boasts improved camera capabilities for better photography and videography. If you need more specific details or features, feel free to ask!\n",
      "Is this in stock?\n",
      "\n",
      "In stock.\n",
      "Yes, the new iPhone is in stock! If you need assistance with purchasing or have any other questions, let me know.\n"
     ]
    }
   ],
   "source": [
    "# User input: follow-up inquiry about stock availability (memory recall and dynamic decision-making)\n",
    "inputs2 = {\"messages\": [(\"user\", \"Is this in stock?\")]}\n",
    "messages2 = graph.invoke(inputs2, config=config)\n",
    "for message in messages2[\"messages\"]:\n",
    "    print(message.content)"
   ]
  },
  {
   "cell_type": "code",
   "execution_count": null,
   "metadata": {},
   "outputs": [],
   "source": []
  }
 ],
 "metadata": {
  "kernelspec": {
   "display_name": ".venv",
   "language": "python",
   "name": "python3"
  },
  "language_info": {
   "codemirror_mode": {
    "name": "ipython",
    "version": 3
   },
   "file_extension": ".py",
   "mimetype": "text/x-python",
   "name": "python",
   "nbconvert_exporter": "python",
   "pygments_lexer": "ipython3",
   "version": "3.12.10"
  }
 },
 "nbformat": 4,
 "nbformat_minor": 2
}
