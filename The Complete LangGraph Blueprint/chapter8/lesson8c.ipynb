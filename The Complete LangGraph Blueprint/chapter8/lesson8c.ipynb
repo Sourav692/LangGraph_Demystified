{
 "cells": [
  {
   "cell_type": "code",
   "execution_count": null,
   "metadata": {},
   "outputs": [],
   "source": [
    "import os\n",
    "from langchain_openai import ChatOpenAI\n",
    "from langgraph.prebuilt import create_react_agent\n",
    "from langgraph.checkpoint.memory import MemorySaver\n",
    "\n",
    "from display_graph import display_graph\n",
    "\n",
    "# Define tools\n",
    "def product_info(product_name: str) -> str:\n",
    "    \"\"\"Fetch product information.\"\"\"\n",
    "    product_catalog = {\n",
    "        \"iPhone\": \"The latest iPhone features an A15 chip and improved camera.\",\n",
    "        \"MacBook\": \"The new MacBook has an M2 chip and a 14-inch Retina display.\",\n",
    "    }\n",
    "    return product_catalog.get(product_name, \"Sorry, product not found.\")\n",
    "\n",
    "def check_stock(product_name: str) -> str:\n",
    "    \"\"\"Check product stock availability.\"\"\"\n",
    "    stock_data = {\n",
    "        \"iPhone\": \"In stock.\",\n",
    "        \"MacBook\": \"Out of stock.\",\n",
    "    }\n",
    "    return stock_data.get(product_name, \"Stock information unavailable.\")\n",
    "\n",
    "# Initialize the memory saver for single-thread memory\n",
    "checkpointer = MemorySaver()\n",
    "\n",
    "# Initialize the language model\n",
    "llm = ChatOpenAI(model=\"gpt-4o-mini\")\n",
    "\n",
    "# Create the ReAct agent with tools and memory\n",
    "tools = [product_info, check_stock]\n",
    "graph = create_react_agent(model=llm, tools=tools, checkpointer=checkpointer)\n",
    "\n",
    "#Visualise the graph\n",
    "display_graph(graph,file_name= os.path.basename(__file__))\n",
    "\n",
    "# Set up thread configuration for single-thread memory\n",
    "config = {\"configurable\": {\"thread_id\": \"thread-3\"}}\n",
    "\n",
    "# User input: initial inquiry about product information\n",
    "inputs = {\"messages\": [(\"user\", \"Tell me about the new iPhone.\")]}\n",
    "messages = graph.invoke(inputs, config=config)\n",
    "for message in messages[\"messages\"]:\n",
    "    print(message.content)\n",
    "\n",
    "# User input: follow-up inquiry about stock availability (memory recall and dynamic decision-making)\n",
    "inputs2 = {\"messages\": [(\"user\", \"Is the iPhone in stock?\")]}\n",
    "messages2 = graph.invoke(inputs2, config=config)\n",
    "for message in messages2[\"messages\"]:\n",
    "    print(message.content)"
   ]
  }
 ],
 "metadata": {
  "kernelspec": {
   "display_name": "Python 3",
   "language": "python",
   "name": "python3"
  },
  "language_info": {
   "codemirror_mode": {
    "name": "ipython",
    "version": 3
   },
   "file_extension": ".py",
   "mimetype": "text/x-python",
   "name": "python",
   "nbconvert_exporter": "python",
   "pygments_lexer": "ipython3",
   "version": "3.8.0"
  }
 },
 "nbformat": 4,
 "nbformat_minor": 2
}
