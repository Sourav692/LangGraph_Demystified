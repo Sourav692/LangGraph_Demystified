{
 "cells": [
  {
   "cell_type": "code",
   "execution_count": null,
   "metadata": {},
   "outputs": [],
   "source": [
    "from typing_extensions import TypedDict\n",
    "from langgraph.graph import StateGraph, START, END\n",
    "\n",
    "class HelloWorldState(TypedDict):\n",
    "    \"\"\"The state\"\"\"\n",
    "    message: str  # This state key will store the message\n",
    "\n",
    "def hello_world_node(state: HelloWorldState):\n",
    "    \"\"\"The node function\"\"\"\n",
    "    state[\"message\"] += \"Hello World\"\n",
    "    return state\n",
    "\n",
    "# Initialize the graph\n",
    "graph_builder = StateGraph(HelloWorldState)\n",
    "\n",
    "#Define the nodes\n",
    "graph_builder.add_node(\"hello_world\", hello_world_node)\n",
    "\n",
    "# Define the flow of execution using edges\n",
    "\"\"\"The edges\"\"\"\n",
    "graph_builder.add_edge(START, \"hello_world\")  # Connect START to the \"greet\" node\n",
    "graph_builder.add_edge(\"hello_world\", END)    # Connect the \"greet\" node to END\n",
    "\n",
    "# Compile and run the graph\n",
    "\"\"\"The graph\"\"\"\n",
    "graph = graph_builder.compile()\n",
    "result = graph.invoke({\"message\": \"Hi! \"})\n",
    "# Output the result\n",
    "print(result)\n",
    "# Output: {'greeting': 'Hi! Hello World'}"
   ]
  }
 ],
 "metadata": {
  "kernelspec": {
   "display_name": "Python 3",
   "language": "python",
   "name": "python3"
  },
  "language_info": {
   "codemirror_mode": {
    "name": "ipython",
    "version": 3
   },
   "file_extension": ".py",
   "mimetype": "text/x-python",
   "name": "python",
   "nbconvert_exporter": "python",
   "pygments_lexer": "ipython3",
   "version": "3.8.0"
  }
 },
 "nbformat": 4,
 "nbformat_minor": 2
}
