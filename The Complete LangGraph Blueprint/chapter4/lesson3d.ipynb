{
 "cells": [
  {
   "cell_type": "code",
   "execution_count": null,
   "metadata": {},
   "outputs": [],
   "source": [
    "from typing_extensions import TypedDict\n",
    "from langgraph.graph import StateGraph, START, END\n",
    "\n",
    "# Define the state for user data\n",
    "class UserState(TypedDict):\n",
    "    is_premium: bool\n",
    "    message: str\n",
    "\n",
    "# Define nodes\n",
    "def greet_user(state: UserState):\n",
    "    state[\"message\"] = \"Welcome!\"\n",
    "    return state\n",
    "\n",
    "def premium_greeting(state: UserState):\n",
    "    state[\"message\"] += \" Thank you for being a premium user!\"\n",
    "    return state\n",
    "\n",
    "def regular_greeting(state: UserState):\n",
    "    state[\"message\"] += \" Enjoy your time here!\"\n",
    "    return state\n",
    "\n",
    "# Define a decision node to choose the path based on user type\n",
    "def check_subscription(state: UserState):\n",
    "    if state[\"is_premium\"]:\n",
    "        return \"premium_greeting\"\n",
    "    else:\n",
    "        return \"regular_greeting\"\n",
    "\n",
    "# Build the graph\n",
    "graph_builder = StateGraph(UserState)\n",
    "graph_builder.set_entry_point(\"greet_user\")\n",
    "\n",
    "\n",
    "graph_builder = StateGraph(UserState)\n",
    "graph_builder.add_node(\"greet_user\", greet_user)\n",
    "graph_builder.add_node(\"check_subscription\", check_subscription)\n",
    "graph_builder.add_node(\"premium_greeting\", premium_greeting)\n",
    "graph_builder.add_node(\"regular_greeting\", regular_greeting)\n",
    "\n",
    "# Add edges to control the flow\n",
    "graph_builder.add_edge(START, \"greet_user\")  # Start edge\n",
    "graph_builder.add_conditional_edges(\"greet_user\", check_subscription)\n",
    "graph_builder.add_edge(\"premium_greeting\", END)  # End edge for premium users\n",
    "graph_builder.add_edge(\"regular_greeting\", END)  # End edge for regular users\n",
    "# Compile and run the graph for a premium user\n",
    "graph = graph_builder.compile()\n",
    "result = graph.invoke({\"is_premium\": True, \"message\": \"\"})\n",
    "print(result)  # Output: {'message': 'Welcome! Thank you for being a premium user!'}\n",
    "\n",
    "# Compile and run the graph for a regular user\n",
    "result = graph.invoke({\"is_premium\": False, \"message\": \"\"})\n",
    "print(result)  # Output: {'message': 'Welcome! Enjoy your time here!'}"
   ]
  }
 ],
 "metadata": {
  "kernelspec": {
   "display_name": "Python 3",
   "language": "python",
   "name": "python3"
  },
  "language_info": {
   "codemirror_mode": {
    "name": "ipython",
    "version": 3
   },
   "file_extension": ".py",
   "mimetype": "text/x-python",
   "name": "python",
   "nbconvert_exporter": "python",
   "pygments_lexer": "ipython3",
   "version": "3.8.0"
  }
 },
 "nbformat": 4,
 "nbformat_minor": 2
}
