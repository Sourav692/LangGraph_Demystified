{
 "cells": [
  {
   "cell_type": "code",
   "execution_count": null,
   "metadata": {},
   "outputs": [],
   "source": [
    "def check_age(age):\n",
    "    if age < 0:\n",
    "        raise ValueError(\"Age cannot be negative\")\n",
    "    elif age < 18:\n",
    "        print(\"Not eligible to vote\")\n",
    "    else:\n",
    "        print(\"Eligible to vote\")\n",
    "\n",
    "try:\n",
    "    check_age(-5)\n",
    "except ValueError as e:\n",
    "    print(e)  # Outputs: Age cannot be negative\n",
    "\n",
    "try:\n",
    "    number = int(input(\"Enter a number: \"))\n",
    "    result = 10 / number\n",
    "except ValueError:\n",
    "    print(\"You must enter a valid integer.\")\n",
    "except ZeroDivisionError:\n",
    "    print(\"You can't divide by zero.\")\n",
    "else:\n",
    "    print(f\"Result: {result}\")\n",
    "finally:\n",
    "    print(\"Execution completed.\")\n",
    "\n",
    "try:\n",
    "    number = int(input(\"Enter a number: \"))\n",
    "    result = 10 / number\n",
    "except ZeroDivisionError as e:\n",
    "    raise RuntimeError(\"Failed to divide\") from e\n",
    "\n",
    "from langgraph import Graph, Node\n",
    "\n",
    "class APIRequestNode(Node):\n",
    "    def run(self):\n",
    "        try:\n",
    "            data = self.make_request()\n",
    "            self.send_output(data)\n",
    "        except TimeoutError:\n",
    "            self.send_output(\"The request timed out.\")\n",
    "        except ValueError as e:\n",
    "            self.send_output(f\"Invalid data: {e}\")\n",
    "        finally:\n",
    "            self.log(\"Request completed.\")\n",
    "\n",
    "graph = Graph()\n",
    "node = APIRequestNode()\n",
    "graph.add_node(node)"
   ]
  }
 ],
 "metadata": {
  "kernelspec": {
   "display_name": "Python 3",
   "language": "python",
   "name": "python3"
  },
  "language_info": {
   "codemirror_mode": {
    "name": "ipython",
    "version": 3
   },
   "file_extension": ".py",
   "mimetype": "text/x-python",
   "name": "python",
   "nbconvert_exporter": "python",
   "pygments_lexer": "ipython3",
   "version": "3.8.0"
  }
 },
 "nbformat": 4,
 "nbformat_minor": 2
}
