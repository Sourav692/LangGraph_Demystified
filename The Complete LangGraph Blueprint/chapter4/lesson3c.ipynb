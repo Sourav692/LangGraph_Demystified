{
 "cells": [
  {
   "cell_type": "code",
   "execution_count": null,
   "metadata": {},
   "outputs": [],
   "source": [
    "from typing_extensions import TypedDict\n",
    "from langgraph.graph import StateGraph, START, END\n",
    "\n",
    "from typing import TypedDict\n",
    "\n",
    "# Define the input and output types for the state\n",
    "class OverallState(TypedDict):\n",
    "    partial_message: str\n",
    "    user_input: str\n",
    "    message_output: str\n",
    "\n",
    "class InputState(TypedDict):\n",
    "    user_input: str\n",
    "\n",
    "class OutputState(TypedDict):\n",
    "    message_output: str\n",
    "\n",
    "class PrivateState(TypedDict):\n",
    "    private_message: str\n",
    "\n",
    "# Define the nodes (functions) that operate on the states\n",
    "def add_world(state: InputState) -> OverallState:\n",
    "    # This node appends \" World\" to the greeting\n",
    "    partial_message = state[\"user_input\"] + \" World\"\n",
    "    print(f\"Node 1 - add_world: Transformed '{state['user_input']}' to '{partial_message}'\")\n",
    "    return {\"partial_message\": partial_message, \"user_input\": state[\"user_input\"], \"message_output\": \"\"}\n",
    "\n",
    "def add_exclamation(state: OverallState) -> PrivateState:\n",
    "    # This node appends \"!\" to the partial message\n",
    "    private_message = state[\"partial_message\"] + \"!\"\n",
    "    print(f\"Node 2 - add_exclamation: Transformed '{state['partial_message']}' to '{private_message}'\")\n",
    "    return {\"private_message\": private_message}\n",
    "\n",
    "def finalize_message(state: PrivateState) -> OutputState:\n",
    "    # This node sets the final output\n",
    "    message_output = state[\"private_message\"]\n",
    "    print(f\"Node 3 - finalize_message: Finalized message to '{message_output}'\")\n",
    "    return {\"message_output\": message_output}\n",
    "\n",
    "# Create the graph builder with nodes and edges\n",
    "builder = StateGraph(OverallState, input=InputState, output=OutputState)\n",
    "builder.add_node(\"add_world\", add_world)\n",
    "builder.add_node(\"add_exclamation\", add_exclamation)\n",
    "builder.add_node(\"finalize_message\", finalize_message)\n",
    "builder.add_edge(START, \"add_world\")\n",
    "builder.add_edge(\"add_world\", \"add_exclamation\")\n",
    "builder.add_edge(\"add_exclamation\", \"finalize_message\")\n",
    "builder.add_edge(\"finalize_message\", END)\n",
    "\n",
    "# Compile and invoke the graph\n",
    "graph = builder.compile()\n",
    "result = graph.invoke({\"user_input\": \"Hello\"})\n",
    "print(result)  # {'full_message': 'Hello World!'}"
   ]
  }
 ],
 "metadata": {
  "kernelspec": {
   "display_name": "Python 3",
   "language": "python",
   "name": "python3"
  },
  "language_info": {
   "codemirror_mode": {
    "name": "ipython",
    "version": 3
   },
   "file_extension": ".py",
   "mimetype": "text/x-python",
   "name": "python",
   "nbconvert_exporter": "python",
   "pygments_lexer": "ipython3",
   "version": "3.8.0"
  }
 },
 "nbformat": 4,
 "nbformat_minor": 2
}
