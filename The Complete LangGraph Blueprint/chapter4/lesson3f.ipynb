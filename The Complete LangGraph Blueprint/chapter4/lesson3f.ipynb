{
 "cells": [
  {
   "cell_type": "code",
   "execution_count": null,
   "metadata": {},
   "outputs": [],
   "source": [
    "# Concatenation\n",
    "greeting = \"Hello\" + \" \" + \"World\"\n",
    "print(greeting)  # Outputs: Hello World\n",
    "\n",
    "# Repetition\n",
    "echo = \"Echo \" * 3\n",
    "print(echo)  # Outputs: Echo Echo Echo\n",
    "\n",
    "text = \"LangGraph\"\n",
    "# Extracting a substring\n",
    "print(text[0:4])  # Outputs: Lang\n",
    "print(text[-5:])  # Outputs: Graph\n",
    "\n",
    "name = \"Alice\"\n",
    "age = 30\n",
    "# Using f-strings for formatting\n",
    "print(f\"My name is {name}, and I am {age} years old.\")  # Outputs: My name is Alice, and I am 30 years old.\n",
    "\n",
    "text = \"LangGraph is a powerful framework.\"\n",
    "# Searching for a substring\n",
    "print(text.find(\"powerful\"))  # Outputs: 13\n",
    "print(\"Graph\" in text)        # Outputs: True\n",
    "\n",
    "# Splitting a string into a list\n",
    "words = text.split(\" \")\n",
    "print(words)  # Outputs: ['LangGraph', 'is', 'a', 'powerful', 'framework.']\n",
    "\n",
    "# Joining a list into a string\n",
    "sentence = \" \".join(words)\n",
    "print(sentence)  # Outputs: LangGraph is a powerful framework.\n",
    "\n",
    "text = \"LangGraph\"\n",
    "print(text.upper())   # Outputs: LANGGRAPH\n",
    "print(text.lower())   # Outputs: langgraph\n",
    "print(text.title())   # Outputs: Langgraph"
   ]
  }
 ],
 "metadata": {
  "kernelspec": {
   "display_name": "Python 3",
   "language": "python",
   "name": "python3"
  },
  "language_info": {
   "codemirror_mode": {
    "name": "ipython",
    "version": 3
   },
   "file_extension": ".py",
   "mimetype": "text/x-python",
   "name": "python",
   "nbconvert_exporter": "python",
   "pygments_lexer": "ipython3",
   "version": "3.8.0"
  }
 },
 "nbformat": 4,
 "nbformat_minor": 2
}
