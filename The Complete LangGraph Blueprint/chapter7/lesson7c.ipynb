{
 "cells": [
  {
   "cell_type": "code",
   "execution_count": null,
   "metadata": {},
   "outputs": [],
   "source": [
    "import operator\n",
    "from langgraph.graph import StateGraph, MessagesState, START, END\n",
    "from langchain_openai import ChatOpenAI\n",
    "from typing import Annotated\n",
    "from typing_extensions import TypedDict\n",
    "\n",
    "# Define the state schema\n",
    "class State(TypedDict):\n",
    "    messages: Annotated[list, operator.add]\n",
    "\n",
    "# Define a node to handle weather queries\n",
    "def weather_node(state: State):\n",
    "    return {\"messages\": [\"The weather is sunny and 25°C.\"]}\n",
    "\n",
    "# Define a node to handle calculator queries\n",
    "def calculator_node(state: State):\n",
    "    return {\"messages\": [\"The result of 2 + 2 is 4.\"]}\n",
    "\n",
    "# Define the workflow graph\n",
    "workflow = StateGraph(State)\n",
    "workflow.add_node(\"weather_node\", weather_node)\n",
    "workflow.add_node(\"calculator_node\", calculator_node)\n",
    "\n",
    "# Set the edges for the graph\n",
    "workflow.add_edge(START, \"weather_node\")\n",
    "workflow.add_edge(\"weather_node\", \"calculator_node\")\n",
    "workflow.add_edge(\"calculator_node\", END)\n",
    "\n",
    "# Compile the workflow\n",
    "app = workflow.compile()\n",
    "\n",
    "# Simulate interaction and stream the full state\n",
    "def simulate_interaction():\n",
    "    input_message = {\"messages\": [(\"human\", \"Tell me the weather\")]}\n",
    "    \n",
    "    # Stream the full state of the graph\n",
    "    for result in app.stream(input_message, stream_mode=\"values\"):\n",
    "        print(result)  # Print the full state after each node\n",
    "\n",
    "simulate_interaction()"
   ]
  }
 ],
 "metadata": {
  "kernelspec": {
   "display_name": "Python 3",
   "language": "python",
   "name": "python3"
  },
  "language_info": {
   "codemirror_mode": {
    "name": "ipython",
    "version": 3
   },
   "file_extension": ".py",
   "mimetype": "text/x-python",
   "name": "python",
   "nbconvert_exporter": "python",
   "pygments_lexer": "ipython3",
   "version": "3.8.0"
  }
 },
 "nbformat": 4,
 "nbformat_minor": 2
}
