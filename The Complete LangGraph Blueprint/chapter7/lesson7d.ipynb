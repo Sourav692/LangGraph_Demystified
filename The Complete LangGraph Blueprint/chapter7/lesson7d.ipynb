{
 "cells": [
  {
   "cell_type": "code",
   "execution_count": null,
   "metadata": {},
   "outputs": [],
   "source": [
    "import operator\n",
    "from typing import Annotated\n",
    "from typing_extensions import TypedDict\n",
    "from langgraph.graph import StateGraph, MessagesState, START, END\n",
    "from langchain_openai import ChatOpenAI\n",
    "\n",
    "# Define the state schema\n",
    "class State(TypedDict):\n",
    "    messages: Annotated[list, operator.add]\n",
    "    \n",
    "# Define the same nodes as before\n",
    "def weather_node(state: State):\n",
    "    return {\"messages\": [\"It's 25°C and sunny.\"]}\n",
    "\n",
    "def calculator_node(state: State):\n",
    "    return {\"messages\": [\"2 + 2 equals 4.\"]}\n",
    "\n",
    "# Define the graph\n",
    "workflow = StateGraph(State)\n",
    "workflow.add_node(\"weather_node\", weather_node)\n",
    "workflow.add_node(\"calculator_node\", calculator_node)\n",
    "\n",
    "workflow.add_edge(START, \"weather_node\")\n",
    "workflow.add_edge(\"weather_node\", \"calculator_node\")\n",
    "workflow.add_edge(\"calculator_node\", END)\n",
    "\n",
    "app = workflow.compile()\n",
    "\n",
    "def simulate_interaction():\n",
    "    input_message = {\"messages\": [(\"human\", \"Tell me the weather\")]}\n",
    "    \n",
    "    # Stream updates after each node\n",
    "    for result in app.stream(input_message, stream_mode=\"updates\"):\n",
    "        print(result)\n",
    "\n",
    "simulate_interaction()"
   ]
  }
 ],
 "metadata": {
  "kernelspec": {
   "display_name": "Python 3",
   "language": "python",
   "name": "python3"
  },
  "language_info": {
   "codemirror_mode": {
    "name": "ipython",
    "version": 3
   },
   "file_extension": ".py",
   "mimetype": "text/x-python",
   "name": "python",
   "nbconvert_exporter": "python",
   "pygments_lexer": "ipython3",
   "version": "3.8.0"
  }
 },
 "nbformat": 4,
 "nbformat_minor": 2
}
