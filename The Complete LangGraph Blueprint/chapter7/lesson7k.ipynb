{
 "cells": [
  {
   "cell_type": "code",
   "execution_count": null,
   "metadata": {},
   "outputs": [],
   "source": [
    "import requests\n",
    "from langgraph.graph import StateGraph, MessagesState, START, END\n",
    "import urllib\n",
    "\n",
    "\n",
    "# Define the node to fetch live calculator results\n",
    "def calculator_node(state):\n",
    "    last_message = state[\"messages\"][-1].content.lower()\n",
    "    \n",
    "    # Extract the arithmetic expression from the user query\n",
    "    expression = last_message.split(\"calculate\")[-1].strip()\n",
    "    \n",
    "    # URL-encode the expression to ensure it's safe for use in the query string\n",
    "    encoded_expression = urllib.parse.quote(expression)\n",
    "    \n",
    "    # Make the API call to the math.js API with the URL-encoded expression\n",
    "    url = f\"http://api.mathjs.org/v4/?expr={encoded_expression}\"\n",
    "    response = requests.get(url)\n",
    "    \n",
    "    if response.status_code == 200:\n",
    "        result = response.text\n",
    "        return {\"messages\": [f\"The result of {expression} is {result}.\"]}\n",
    "    else:\n",
    "        return {\"messages\": [\"Sorry, I couldn't calculate that.\"]}\n",
    "\n",
    "# Define the graph workflow\n",
    "builder = StateGraph(MessagesState)\n",
    "\n",
    "# Add the calculator node\n",
    "builder.add_node(\"calculator_node\", calculator_node)\n",
    "\n",
    "# Set up the edges\n",
    "builder.add_edge(START, \"calculator_node\")\n",
    "builder.add_edge(\"calculator_node\", END)\n",
    "\n",
    "# Compile the graph\n",
    "app = builder.compile()\n",
    "\n",
    "# Simulate interaction with the calculator API\n",
    "def simulate_interaction():\n",
    "    input_message = {\"messages\": [(\"human\", \"Calculate 5 + 3 * 2\")]}\n",
    "    \n",
    "    # Process the input and stream the result\n",
    "    for result in app.stream(input_message, stream_mode=\"values\"):\n",
    "        result[\"messages\"][-1].pretty_print()\n",
    "\n",
    "simulate_interaction()"
   ]
  }
 ],
 "metadata": {
  "kernelspec": {
   "display_name": "Python 3",
   "language": "python",
   "name": "python3"
  },
  "language_info": {
   "codemirror_mode": {
    "name": "ipython",
    "version": 3
   },
   "file_extension": ".py",
   "mimetype": "text/x-python",
   "name": "python",
   "nbconvert_exporter": "python",
   "pygments_lexer": "ipython3",
   "version": "3.8.0"
  }
 },
 "nbformat": 4,
 "nbformat_minor": 2
}
