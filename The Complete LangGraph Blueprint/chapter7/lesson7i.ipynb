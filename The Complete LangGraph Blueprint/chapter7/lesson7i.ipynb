{
 "cells": [
  {
   "cell_type": "code",
   "execution_count": null,
   "metadata": {},
   "outputs": [],
   "source": [
    "import requests\n",
    "from dotenv import load_dotenv\n",
    "import os\n",
    "\n",
    "# Load environment variables\n",
    "load_dotenv()\n",
    "weather_api_key = os.getenv(\"OPENWEATHER_API_KEY\")\n",
    "\n",
    "# Define the node to fetch live weather data\n",
    "def live_weather_node(state):\n",
    "    city = \"London\"  # You can replace this with dynamic input from the user\n",
    "    url = f\"http://api.openweathermap.org/data/2.5/weather?q={city}&appid={weather_api_key}&units=metric\"\n",
    "    \n",
    "    # Make the API call\n",
    "    response = requests.get(url)\n",
    "    if response.status_code == 200:\n",
    "        data = response.json()\n",
    "        temperature = data['main']['temp']\n",
    "        description = data['weather'][0]['description']\n",
    "        return {\"messages\": [f\"The weather in {city} is {temperature}°C with {description}.\"]}\n",
    "    else:\n",
    "        return {\"messages\": [\"Sorry, I couldn't fetch the weather information.\"]}\n",
    "    \n",
    "from langgraph.graph import StateGraph, MessagesState, START, END   \n",
    "\n",
    "# Define the graph workflow\n",
    "builder = StateGraph(MessagesState)\n",
    "\n",
    "# Add the weather node\n",
    "builder.add_node(\"live_weather_node\", live_weather_node)\n",
    "\n",
    "# Set up the edges\n",
    "builder.add_edge(START, \"live_weather_node\")\n",
    "builder.add_edge(\"live_weather_node\", END)\n",
    "\n",
    "# Compile the graph\n",
    "app = builder.compile()\n",
    "\n",
    "# Simulate interaction with the weather API\n",
    "def simulate_interaction():\n",
    "    input_message = {\"messages\": [(\"human\", \"Tell me the weather in London\")]}\n",
    "    \n",
    "    # Process the input and stream the result\n",
    "    for result in app.stream(input_message, stream_mode=\"values\"):\n",
    "        result[\"messages\"][-1].pretty_print()\n",
    "\n",
    "simulate_interaction()"
   ]
  }
 ],
 "metadata": {
  "kernelspec": {
   "display_name": "Python 3",
   "language": "python",
   "name": "python3"
  },
  "language_info": {
   "codemirror_mode": {
    "name": "ipython",
    "version": 3
   },
   "file_extension": ".py",
   "mimetype": "text/x-python",
   "name": "python",
   "nbconvert_exporter": "python",
   "pygments_lexer": "ipython3",
   "version": "3.8.0"
  }
 },
 "nbformat": 4,
 "nbformat_minor": 2
}
