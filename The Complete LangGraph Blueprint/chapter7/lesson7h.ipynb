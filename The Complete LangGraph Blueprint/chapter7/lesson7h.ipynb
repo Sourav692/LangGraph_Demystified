{
 "cells": [
  {
   "cell_type": "code",
   "execution_count": null,
   "metadata": {},
   "outputs": [],
   "source": [
    "from langgraph.graph import StateGraph, MessagesState, START, END\n",
    "from langchain_openai import ChatOpenAI\n",
    "from langchain.callbacks.streaming_stdout import StreamingStdOutCallbackHandler\n",
    "\n",
    "# First example with streaming enabled\n",
    "llm_streaming = ChatOpenAI(\n",
    "    model=\"gpt-4o-mini\", \n",
    "    temperature=1,\n",
    "    streaming=True,\n",
    "    callbacks=[StreamingStdOutCallbackHandler()]\n",
    ")\n",
    "\n",
    "# Second example with streaming disabled\n",
    "llm_no_streaming = ChatOpenAI(\n",
    "    model=\"gpt-4o-mini\", \n",
    "    temperature=1,\n",
    "    streaming=False\n",
    ")\n",
    "\n",
    "def create_graph(llm):\n",
    "    graph_builder = StateGraph(MessagesState)\n",
    "    \n",
    "    def chatbot(state: MessagesState):\n",
    "        messages = state[\"messages\"]\n",
    "        if not isinstance(messages, list):\n",
    "            messages = [messages]\n",
    "        return {\"messages\": llm.invoke(messages)}\n",
    "\n",
    "    graph_builder.add_node(\"chatbot\", chatbot)\n",
    "    graph_builder.add_edge(START, \"chatbot\")\n",
    "    graph_builder.add_edge(\"chatbot\", END)\n",
    "    return graph_builder.compile()\n",
    "\n",
    "input = {\n",
    "    \"messages\": [\n",
    "        {\n",
    "            \"role\": \"user\", \n",
    "            \"content\": \"how many r's are in strawberry? Explain in three paragraphs.\"\n",
    "        }\n",
    "    ]\n",
    "}\n",
    "\n",
    "print(\"With streaming enabled:\")\n",
    "graph_streaming = create_graph(llm_streaming)\n",
    "for output in graph_streaming.stream(input):\n",
    "    if isinstance(output, dict) and 'chatbot' in output:\n",
    "        # We don't need to print here as StreamingStdOutCallbackHandler handles it\n",
    "        pass\n",
    "\n",
    "print(\"\\n\\nWith streaming disabled:\")\n",
    "graph_no_streaming = create_graph(llm_no_streaming)\n",
    "for output in graph_no_streaming.stream(input):\n",
    "    if isinstance(output, dict) and 'chatbot' in output:\n",
    "        message = output['chatbot']['messages']\n",
    "        print(message.content, end=\"\", flush=True)"
   ]
  }
 ],
 "metadata": {
  "kernelspec": {
   "display_name": "Python 3",
   "language": "python",
   "name": "python3"
  },
  "language_info": {
   "codemirror_mode": {
    "name": "ipython",
    "version": 3
   },
   "file_extension": ".py",
   "mimetype": "text/x-python",
   "name": "python",
   "nbconvert_exporter": "python",
   "pygments_lexer": "ipython3",
   "version": "3.8.0"
  }
 },
 "nbformat": 4,
 "nbformat_minor": 2
}
