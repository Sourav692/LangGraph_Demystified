{
 "cells": [
  {
   "cell_type": "code",
   "execution_count": null,
   "metadata": {},
   "outputs": [],
   "source": [
    "from langchain_openai import ChatOpenAI\n",
    "from langgraph.graph import StateGraph, MessagesState, START, END\n",
    "from langgraph.prebuilt import ToolNode, tools_condition\n",
    "\n",
    "# Initialize the LLM and define a basic multiplication tool\n",
    "llm = ChatOpenAI(model=\"gpt-4o-mini\")\n",
    "\n",
    "# Define a multiplication tool\n",
    "def multiply(a: int, b: int) -> int:\n",
    "    \"\"\"\n",
    "    Multiplies two numbers.\n",
    "    \"\"\"\n",
    "    return a * b\n",
    "\n",
    "# Bind the LLM with the tool\n",
    "llm_with_tools = llm.bind_tools([multiply])\n",
    "\n",
    "# Node that calls the LLM with tools bound\n",
    "def tool_calling_llm(state: MessagesState):\n",
    "    \"\"\"\n",
    "    Node that calls the LLM with tools bound.\n",
    "    \"\"\"\n",
    "    return {\"messages\": [llm_with_tools.invoke(state[\"messages\"])]}\n",
    "\n",
    "# Build the workflow\n",
    "builder = StateGraph(MessagesState)\n",
    "builder.add_node(\"tool_calling_llm\", tool_calling_llm)\n",
    "builder.add_node(\"tools\", ToolNode([multiply]))  # Tool node for handling tool invocation\n",
    "\n",
    "# Add the conditional edge based on tool usage\n",
    "builder.add_conditional_edges(\n",
    "    \"tool_calling_llm\",\n",
    "    tools_condition,  # Condition to decide if the assistant should call the tool\n",
    ")\n",
    "\n",
    "# Define edges to connect the nodes\n",
    "builder.add_edge(START, \"tool_calling_llm\")\n",
    "builder.add_edge(\"tools\", END)  # If tool is called, terminate after tool execution\n",
    "\n",
    "# Compile the graph\n",
    "graph = builder.compile()\n",
    "\n",
    "# Simulate invoking the graph\n",
    "def simulate():\n",
    "    user_input = {\"messages\": [(\"human\", \"Can you multiply 3 by 5?\")]}\n",
    "    result = graph.invoke(user_input)\n",
    "    return result[\"messages\"][-1].pretty_print()\n",
    "\n",
    "\n",
    "print(simulate())"
   ]
  }
 ],
 "metadata": {
  "kernelspec": {
   "display_name": "Python 3",
   "language": "python",
   "name": "python3"
  },
  "language_info": {
   "codemirror_mode": {
    "name": "ipython",
    "version": 3
   },
   "file_extension": ".py",
   "mimetype": "text/x-python",
   "name": "python",
   "nbconvert_exporter": "python",
   "pygments_lexer": "ipython3",
   "version": "3.8.0"
  }
 },
 "nbformat": 4,
 "nbformat_minor": 2
}
