{
 "cells": [
  {
   "cell_type": "code",
   "execution_count": null,
   "metadata": {},
   "outputs": [],
   "source": [
    "import operator\n",
    "from langgraph.graph import StateGraph, MessagesState, START, END\n",
    "from langchain_openai import ChatOpenAI\n",
    "from typing import Annotated\n",
    "from typing_extensions import TypedDict\n",
    "import asyncio\n",
    "from langgraph.graph.message import add_messages\n",
    "from langchain_core.messages import AIMessageChunk, HumanMessage\n",
    " \n",
    "# Define the state schema\n",
    "class State(TypedDict):\n",
    "    messages: Annotated[list, add_messages]\n",
    " \n",
    "# Initialize the LLM with the correct model name and streaming enabled\n",
    "model = ChatOpenAI(\n",
    "    model=\"gpt-4\",\n",
    "    streaming=True\n",
    ")\n",
    " \n",
    "# Define a node to handle LLM queries\n",
    "async def call_llm(state: State):\n",
    "    messages = state[\"messages\"]\n",
    "    response = await model.ainvoke(messages)\n",
    "    return {\"messages\": [response]}\n",
    " \n",
    "# Define the graph\n",
    "workflow = StateGraph(State)\n",
    "workflow.add_node(\"call_llm\", call_llm)\n",
    "workflow.add_edge(START, \"call_llm\")\n",
    "workflow.add_edge(\"call_llm\", END)\n",
    " \n",
    "app = workflow.compile()\n",
    " \n",
    "# Simulate interaction and stream tokens\n",
    "async def simulate_interaction():\n",
    "    input_message = {\"messages\": [HumanMessage(content=\"Tell me a very long joke\")]}\n",
    "    # Stream LLM tokens\n",
    "    async for msg, metadata in app.astream(input_message, stream_mode=[\"messages\",\"updates\"]):\n",
    "        # Check if we have metadata for call_llm\n",
    "        if isinstance(metadata, dict) and 'call_llm' in metadata:\n",
    "            # Extract the message from call_llm metadata\n",
    "            ai_message = metadata['call_llm']['messages'][0]\n",
    "            if ai_message.content:\n",
    "                print(ai_message.content, end=\"|\", flush=True)\n",
    "if __name__ == \"__main__\":\n",
    "    asyncio.run(simulate_interaction())"
   ]
  }
 ],
 "metadata": {
  "kernelspec": {
   "display_name": "Python 3",
   "language": "python",
   "name": "python3"
  },
  "language_info": {
   "codemirror_mode": {
    "name": "ipython",
    "version": 3
   },
   "file_extension": ".py",
   "mimetype": "text/x-python",
   "name": "python",
   "nbconvert_exporter": "python",
   "pygments_lexer": "ipython3",
   "version": "3.8.0"
  }
 },
 "nbformat": 4,
 "nbformat_minor": 2
}
