{
 "cells": [
  {
   "cell_type": "code",
   "execution_count": null,
   "metadata": {},
   "outputs": [],
   "source": [
    "from langgraph.graph import StateGraph, MessagesState, START, END\n",
    "from time import sleep\n",
    "from langgraph.types import StreamWriter\n",
    "\n",
    "# Define a custom node to simulate a long-running task\n",
    "def long_running_node(state: MessagesState,  writer: StreamWriter):\n",
    "    for i in range(1, 6):\n",
    "        sleep(1)  # Simulate a delay\n",
    "        writer({\"progress\": f\"Processing step {i}/5\"})\n",
    "\n",
    "    return {\"messages\": [\"Task completed!\"]}\n",
    "\n",
    "# Define the graph\n",
    "workflow = StateGraph(MessagesState)\n",
    "workflow.add_node(\"long_running_node\", long_running_node)\n",
    "workflow.add_edge(START, \"long_running_node\")\n",
    "workflow.add_edge(\"long_running_node\", END)\n",
    "\n",
    "# Compile the graph\n",
    "app = workflow.compile()\n",
    "\n",
    "# Simulate interaction and stream custom progress updates\n",
    "def simulate_interaction():\n",
    "    input_message = {\"messages\": [(\"human\", \"Start the long-running task\")]}\n",
    "    \n",
    "    for result in app.stream(input_message, stream_mode=[\"custom\",\"updates\"]):\n",
    "        if \"progress\" in result[-1]:\n",
    "            print(result[-1])  # Stream custom progress updates\n",
    "        else:\n",
    "            print(result[-1]) # Stream final message\n",
    "\n",
    "simulate_interaction()"
   ]
  }
 ],
 "metadata": {
  "kernelspec": {
   "display_name": "Python 3",
   "language": "python",
   "name": "python3"
  },
  "language_info": {
   "codemirror_mode": {
    "name": "ipython",
    "version": 3
   },
   "file_extension": ".py",
   "mimetype": "text/x-python",
   "name": "python",
   "nbconvert_exporter": "python",
   "pygments_lexer": "ipython3",
   "version": "3.8.0"
  }
 },
 "nbformat": 4,
 "nbformat_minor": 2
}
