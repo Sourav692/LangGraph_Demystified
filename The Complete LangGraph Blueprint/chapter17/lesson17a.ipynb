{
 "cells": [
  {
   "cell_type": "code",
   "execution_count": null,
   "metadata": {},
   "outputs": [],
   "source": [
    "from flask import Flask, request, jsonify\n",
    "from flask_cors import CORS  # Import CORS\n",
    "from langgraph.graph import StateGraph, START, END\n",
    "from langchain_openai import ChatOpenAI\n",
    "from langchain.schema import HumanMessage\n",
    "from typing import TypedDict\n",
    "\n",
    "# Define the agent's state\n",
    "class AgentState(TypedDict):\n",
    "    query: str\n",
    "    response: str\n",
    "\n",
    "# Initialize the AI tool (e.g., OpenAI API)\n",
    "llm_tool = ChatOpenAI(temperature=0, model_name=\"gpt-4o-mini\")\n",
    "\n",
    "# Define the node that processes user queries\n",
    "def handle_query(state: AgentState) -> AgentState:\n",
    "    user_message = HumanMessage(content=state['query'])\n",
    "    ai_response = llm_tool.invoke([user_message])\n",
    "    state['response'] = ai_response.content\n",
    "    return state\n",
    "\n",
    "# Build the LangGraph workflow for the agent\n",
    "builder = StateGraph(AgentState)\n",
    "builder.add_node(\"handle_query\", handle_query)\n",
    "builder.add_edge(START, \"handle_query\")\n",
    "builder.add_edge(\"handle_query\", END)\n",
    "graph = builder.compile()\n",
    "\n",
    "app = Flask(__name__)\n",
    "CORS(app)  # Enable CORS for all routes\n",
    "\n",
    "# Define the endpoint to interact with the LangGraph agent\n",
    "@app.route('/api/agent', methods=['POST'])\n",
    "def agent():\n",
    "    data = request.json\n",
    "    query = data.get(\"query\", \"\")\n",
    "    initial_state = {\"query\": query, \"response\": \"\"}\n",
    "    result = graph.invoke(initial_state)\n",
    "    return jsonify({\"response\": result['response']})\n",
    "\n",
    "# Start the Flask application\n",
    "if __name__ == '__main__':\n",
    "    app.run(debug=True)"
   ]
  }
 ],
 "metadata": {
  "kernelspec": {
   "display_name": "Python 3",
   "language": "python",
   "name": "python3"
  },
  "language_info": {
   "codemirror_mode": {
    "name": "ipython",
    "version": 3
   },
   "file_extension": ".py",
   "mimetype": "text/x-python",
   "name": "python",
   "nbconvert_exporter": "python",
   "pygments_lexer": "ipython3",
   "version": "3.8.0"
  }
 },
 "nbformat": 4,
 "nbformat_minor": 2
}
