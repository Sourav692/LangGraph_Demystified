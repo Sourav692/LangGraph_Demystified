{
 "cells": [
  {
   "cell_type": "code",
   "execution_count": null,
   "metadata": {},
   "outputs": [],
   "source": [
    "import unittest\n",
    "\n",
    "def analyze_code(state: dict) -> dict:\n",
    "    \"\"\"\n",
    "    Analyzes the provided code snippet and returns a suggestion for improvement.\n",
    "    \"\"\"\n",
    "    if \"for i in range(len(\" in state['code_snippet']:\n",
    "        state['suggestion'] = \"Consider using enumerate() for better readability.\"\n",
    "    else:\n",
    "        state['suggestion'] = \"Code snippet looks good.\"\n",
    "    return state\n",
    "\n",
    "class TestEdgeCases(unittest.TestCase):\n",
    "\n",
    "    def test_empty_code_snippet(self):\n",
    "        state = {\"code_snippet\": \"\", \"suggestion\": \"\"}\n",
    "        result = analyze_code(state)\n",
    "        self.assertEqual(result['suggestion'], \"No code provided.\")\n",
    "\n",
    "    def test_large_code_snippet(self):\n",
    "        state = {\"code_snippet\": \"print('Hello World')\\n\" * 1000, \"suggestion\": \"\"}\n",
    "        result = analyze_code(state)\n",
    "        self.assertEqual(result['suggestion'], \"Code looks good.\")\n",
    "\n",
    "    def test_malformed_data(self):\n",
    "        state = {\"code_snippet\": None, \"suggestion\": \"\"}\n",
    "        result = analyze_code(state)\n",
    "        self.assertEqual(result['suggestion'], \"Code snippet is invalid.\")\n",
    "\n",
    "if __name__ == '__main__':\n",
    "    unittest.main()"
   ]
  }
 ],
 "metadata": {
  "kernelspec": {
   "display_name": "Python 3",
   "language": "python",
   "name": "python3"
  },
  "language_info": {
   "codemirror_mode": {
    "name": "ipython",
    "version": 3
   },
   "file_extension": ".py",
   "mimetype": "text/x-python",
   "name": "python",
   "nbconvert_exporter": "python",
   "pygments_lexer": "ipython3",
   "version": "3.8.0"
  }
 },
 "nbformat": 4,
 "nbformat_minor": 2
}
