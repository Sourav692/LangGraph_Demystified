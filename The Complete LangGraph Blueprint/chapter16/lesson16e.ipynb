{
 "cells": [
  {
   "cell_type": "code",
   "execution_count": null,
   "metadata": {},
   "outputs": [],
   "source": [
    "import unittest\n",
    "from unittest.mock import patch\n",
    "from react_agent_module import perform_search, filter_results, compile_markdown\n",
    "\n",
    "class TestReActAgent(unittest.TestCase):\n",
    "\n",
    "    @patch('react_agent_module.llm_tool.invoke')\n",
    "    def test_perform_search(self, mock_invoke):\n",
    "        # Mock the response from the search tool\n",
    "        mock_invoke.return_value = type('', (), {'content': \"Python programming\\nBest practices\\nCode readability\"})()\n",
    "\n",
    "        state = {\"query\": \"Python programming best practices\", \"search_results\": [], \"markdown_result\": \"\"}\n",
    "        result = perform_search(state)\n",
    "        \n",
    "        # Verify the search results are populated\n",
    "        expected_results = [\"Python programming\", \"Best practices\", \"Code readability\"]\n",
    "        self.assertEqual(result['search_results'], expected_results)\n",
    "\n",
    "    @patch('react_agent_module.llm_tool.invoke')\n",
    "    def test_filter_results(self, mock_invoke):\n",
    "        # Mock the response from the filter tool\n",
    "        mock_invoke.return_value = type('', (), {'content': \"Best practices\"})()\n",
    "\n",
    "        state = {\"query\": \"\", \"search_results\": [\"Python programming\", \"Best practices\", \"Code readability\"], \"markdown_result\": \"\"}\n",
    "        result = filter_results(state)\n",
    "        \n",
    "        # Verify only relevant results are kept\n",
    "        expected_results = [\"Best practices\"]\n",
    "        self.assertEqual(result['search_results'], expected_results)\n",
    "\n",
    "    @patch('react_agent_module.llm_tool.invoke')\n",
    "    def test_compile_markdown(self, mock_invoke):\n",
    "        # Mock the response for the compiled Markdown document\n",
    "        mock_invoke.return_value = type('', (), {'content': \"# Python Best Practices\\n\\n- Code readability\"})()\n",
    "\n",
    "        state = {\"query\": \"\", \"search_results\": [\"Best practices\"], \"markdown_result\": \"\"}\n",
    "        result = compile_markdown(state)\n",
    "        \n",
    "        # Verify the Markdown document is correctly compiled\n",
    "        expected_markdown = \"# Python Best Practices\\n\\n- Code readability\"\n",
    "        self.assertEqual(result['markdown_result'], expected_markdown)\n",
    "\n",
    "if __name__ == '__main__':\n",
    "    unittest.main()"
   ]
  }
 ],
 "metadata": {
  "kernelspec": {
   "display_name": "Python 3",
   "language": "python",
   "name": "python3"
  },
  "language_info": {
   "codemirror_mode": {
    "name": "ipython",
    "version": 3
   },
   "file_extension": ".py",
   "mimetype": "text/x-python",
   "name": "python",
   "nbconvert_exporter": "python",
   "pygments_lexer": "ipython3",
   "version": "3.8.0"
  }
 },
 "nbformat": 4,
 "nbformat_minor": 2
}
