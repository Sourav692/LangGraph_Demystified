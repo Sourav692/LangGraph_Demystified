{
 "cells": [
  {
   "cell_type": "code",
   "execution_count": null,
   "metadata": {},
   "outputs": [],
   "source": [
    "def analyze_code(state: dict) -> dict:\n",
    "    \"\"\"\n",
    "    Analyzes the provided code snippet and returns a suggestion for improvement.\n",
    "    \"\"\"\n",
    "    if \"for i in range(len(\" in state['code_snippet']:\n",
    "        state['suggestion'] = \"Consider using enumerate() for better readability.\"\n",
    "    else:\n",
    "        state['suggestion'] = \"Code snippet looks good.\"\n",
    "    return state\n",
    "\n",
    "import unittest\n",
    "class TestAnalyzeCodeNode(unittest.TestCase):\n",
    "\n",
    "    def test_suggestion_with_for_loop(self):\n",
    "        # Test case where the agent should suggest using enumerate\n",
    "        state = {\"code_snippet\": \"for i in range(len(arr)): print(arr[i])\", \"suggestion\": \"\"}\n",
    "        expected_suggestion = \"Consider using enumerate() for better readability.\"\n",
    "        \n",
    "        result = analyze_code(state)\n",
    "        self.assertEqual(result['suggestion'], expected_suggestion)\n",
    "\n",
    "    def test_suggestion_no_improvement_needed(self):\n",
    "        # Test case where no improvements are necessary\n",
    "        state = {\"code_snippet\": \"print('Hello, World!')\", \"suggestion\": \"\"}\n",
    "        expected_suggestion = \"Code snippet looks good.\"\n",
    "        \n",
    "        result = analyze_code(state)\n",
    "        self.assertEqual(result['suggestion'], expected_suggestion)\n",
    "\n",
    "if __name__ == '__main__':\n",
    "    unittest.main()"
   ]
  }
 ],
 "metadata": {
  "kernelspec": {
   "display_name": "Python 3",
   "language": "python",
   "name": "python3"
  },
  "language_info": {
   "codemirror_mode": {
    "name": "ipython",
    "version": 3
   },
   "file_extension": ".py",
   "mimetype": "text/x-python",
   "name": "python",
   "nbconvert_exporter": "python",
   "pygments_lexer": "ipython3",
   "version": "3.8.0"
  }
 },
 "nbformat": 4,
 "nbformat_minor": 2
}
