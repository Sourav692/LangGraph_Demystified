{
 "cells": [
  {
   "cell_type": "code",
   "execution_count": null,
   "metadata": {},
   "outputs": [],
   "source": [
    "import unittest\n",
    "from unittest.mock import patch\n",
    "from react_agent_module import graph, ReActAgentState\n",
    "\n",
    "class TestReActAgentWorkflow(unittest.TestCase):\n",
    "\n",
    "    @patch('react_agent_module.llm_tool.invoke')\n",
    "    def test_full_workflow(self, mock_invoke):\n",
    "        # Mock responses for each stage in the workflow\n",
    "        mock_invoke.side_effect = [\n",
    "            type('', (), {'content': \"Python programming\\nBest practices\\nCode readability\"})(),  # Search results\n",
    "            type('', (), {'content': \"Best practices\"})(),  # Filtered results\n",
    "            type('', (), {'content': \"# Python Best Practices\\n\\n- Code readability\"})()  # Markdown document\n",
    "        ]\n",
    "\n",
    "        # Set up initial state and invoke the full workflow\n",
    "        initial_state = {\"query\": \"Python programming best practices\", \"search_results\": [], \"markdown_result\": \"\"}\n",
    "        result = graph.invoke(initial_state)\n",
    "\n",
    "        # Verify the final Markdown result\n",
    "        expected_markdown = \"# Python Best Practices\\n\\n- Code readability\"\n",
    "        self.assertEqual(result['markdown_result'], expected_markdown)\n",
    "\n",
    "if __name__ == '__main__':\n",
    "    unittest.main()"
   ]
  }
 ],
 "metadata": {
  "kernelspec": {
   "display_name": "Python 3",
   "language": "python",
   "name": "python3"
  },
  "language_info": {
   "codemirror_mode": {
    "name": "ipython",
    "version": 3
   },
   "file_extension": ".py",
   "mimetype": "text/x-python",
   "name": "python",
   "nbconvert_exporter": "python",
   "pygments_lexer": "ipython3",
   "version": "3.8.0"
  }
 },
 "nbformat": 4,
 "nbformat_minor": 2
}
