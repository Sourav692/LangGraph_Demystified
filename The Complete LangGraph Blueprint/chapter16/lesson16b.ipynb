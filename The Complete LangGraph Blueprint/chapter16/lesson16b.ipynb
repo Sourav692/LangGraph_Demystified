{
 "cells": [
  {
   "cell_type": "code",
   "execution_count": null,
   "metadata": {},
   "outputs": [],
   "source": [
    "def generate_code(state: dict) -> dict:\n",
    "    \"\"\"\n",
    "    Generates a Python function based on the prompt.\n",
    "    \"\"\"\n",
    "    if \"factorial\" in state['prompt']:\n",
    "        state['generated_code'] = \"def factorial(n): return 1 if n == 0 else n * factorial(n-1)\"\n",
    "    else:\n",
    "        state['generated_code'] = \"Unknown function requested.\"\n",
    "    return state\n",
    "\n",
    "def analyze_code(state: dict) -> dict:\n",
    "    \"\"\"\n",
    "    Analyzes the generated code for improvements.\n",
    "    \"\"\"\n",
    "    if \"for i in range(len(\" in state['generated_code']:\n",
    "        state['suggestion'] = \"Consider using enumerate() for better readability.\"\n",
    "    else:\n",
    "        state['suggestion'] = \"Code looks good.\"\n",
    "    return state\n",
    "\n",
    "\n",
    "import unittest\n",
    "from unittest.mock import patch\n",
    "\n",
    "class TestAgentIntegration(unittest.TestCase):\n",
    "\n",
    "    def test_generate_and_analyze_code(self, mock_generate):\n",
    "        # Test the full workflow of generating and analyzing code\n",
    "        \n",
    "        # Mock the generate_code function's output\n",
    "        mock_generate.return_value = {\"generated_code\": \"for i in range(len(arr)): print(arr[i])\", \"prompt\": \"\"}\n",
    "        \n",
    "        # Step 1: Generate code\n",
    "        state = {\"prompt\": \"Write a Python function to calculate factorial.\", \"generated_code\": \"\"}\n",
    "        generated_state = generate_code(state)\n",
    "        \n",
    "        # Step 2: Analyze generated code\n",
    "        analysis_state = analyze_code(generated_state)\n",
    "        \n",
    "        # Verify the suggestion\n",
    "        self.assertEqual(analysis_state['suggestion'], \"Consider using enumerate() for better readability.\")\n",
    "\n",
    "\n",
    "if __name__ == '__main__':\n",
    "    unittest.main()"
   ]
  }
 ],
 "metadata": {
  "kernelspec": {
   "display_name": "Python 3",
   "language": "python",
   "name": "python3"
  },
  "language_info": {
   "codemirror_mode": {
    "name": "ipython",
    "version": 3
   },
   "file_extension": ".py",
   "mimetype": "text/x-python",
   "name": "python",
   "nbconvert_exporter": "python",
   "pygments_lexer": "ipython3",
   "version": "3.8.0"
  }
 },
 "nbformat": 4,
 "nbformat_minor": 2
}
