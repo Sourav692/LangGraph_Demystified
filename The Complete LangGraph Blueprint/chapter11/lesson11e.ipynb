{
 "cells": [
  {
   "cell_type": "code",
   "execution_count": null,
   "metadata": {},
   "outputs": [],
   "source": [
    "import os\n",
    "from langchain_openai import OpenAIEmbeddings\n",
    "from langchain_chroma import Chroma\n",
    "from langchain_community.document_loaders import PyPDFLoader\n",
    "from langchain_text_splitters import CharacterTextSplitter\n",
    "import tiktoken\n",
    "\n",
    "# Step 1: Load the document\n",
    "file_path = os.path.join(os.getcwd(), \"chapter11\", \"Faiss by FacebookAI.pdf\")\n",
    "raw_documents = PyPDFLoader(file_path=file_path).load()\n",
    "\n",
    "# Step 2: Split the document into chunks\n",
    "text_splitter = CharacterTextSplitter(chunk_size=1000, chunk_overlap=0)\n",
    "documents = text_splitter.split_documents(raw_documents)\n",
    "\n",
    "# Step 3: Initialize the embeddings model\n",
    "embeddings = OpenAIEmbeddings(\n",
    "    model=\"text-embedding-3-large\"\n",
    ")\n",
    "\n",
    "# Step 4: Index the document chunks in Chroma vector store\n",
    "db = Chroma.from_documents(documents=documents, embedding=embeddings)\n",
    "print(\"Documents indexed in Chroma successfully.\")\n",
    "\n",
    "# Step 5: Calculate the number of tokens for each chunk\n",
    "def num_tokens_from_string(string: str, encoding_string: str) -> int:\n",
    "    \"\"\"Returns the number of tokens in a text string.\"\"\"\n",
    "    encoding = tiktoken.get_encoding(encoding_string)\n",
    "    num_tokens = len(encoding.encode(string))\n",
    "    return num_tokens\n",
    "\n",
    "# Calculate tokens for each document chunk and display the result\n",
    "for idx, doc in enumerate(documents):\n",
    "    num_tokens = num_tokens_from_string(doc.page_content, encoding_string=\"cl100k_base\")  # \"cl100k_base\" for OpenAI's token encoding\n",
    "    print(f\"Document chunk {idx+1} has {num_tokens} tokens.\")"
   ]
  }
 ],
 "metadata": {
  "kernelspec": {
   "display_name": "Python 3",
   "language": "python",
   "name": "python3"
  },
  "language_info": {
   "codemirror_mode": {
    "name": "ipython",
    "version": 3
   },
   "file_extension": ".py",
   "mimetype": "text/x-python",
   "name": "python",
   "nbconvert_exporter": "python",
   "pygments_lexer": "ipython3",
   "version": "3.8.0"
  }
 },
 "nbformat": 4,
 "nbformat_minor": 2
}
