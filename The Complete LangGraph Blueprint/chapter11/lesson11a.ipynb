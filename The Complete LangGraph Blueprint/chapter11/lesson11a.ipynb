{
 "cells": [
  {
   "cell_type": "code",
   "execution_count": null,
   "metadata": {},
   "outputs": [],
   "source": [
    "from langchain_openai import OpenAIEmbeddings\n",
    "\n",
    "embeddings = OpenAIEmbeddings(\n",
    "    model=\"text-embedding-3-large\",\n",
    "    # With the `text-embedding-3` class\n",
    "    # of models, you can specify the size\n",
    "    # of the embeddings you want returned.\n",
    "     dimensions=1024\n",
    ")\n",
    "text = \"LangChain is the framework for building context-aware reasoning applications\"\n",
    "# Define an additional text to embed\n",
    "text2 = \"LangGraph is a library for building stateful, multi-actor applications with LLMs\"\n",
    "\n",
    "# Embed both texts\n",
    "two_vectors = embeddings.embed_documents([text, text2])\n",
    "\n",
    "# Display the first 100 characters of each embedding vector\n",
    "print(\"Embeddings for multiple texts (first 100 characters of each):\")\n",
    "for i, vector in enumerate(two_vectors, start=1):\n",
    "    print(f\"Embedding {i}:\", str(vector)[:100])"
   ]
  }
 ],
 "metadata": {
  "kernelspec": {
   "display_name": "Python 3",
   "language": "python",
   "name": "python3"
  },
  "language_info": {
   "codemirror_mode": {
    "name": "ipython",
    "version": 3
   },
   "file_extension": ".py",
   "mimetype": "text/x-python",
   "name": "python",
   "nbconvert_exporter": "python",
   "pygments_lexer": "ipython3",
   "version": "3.8.0"
  }
 },
 "nbformat": 4,
 "nbformat_minor": 2
}
