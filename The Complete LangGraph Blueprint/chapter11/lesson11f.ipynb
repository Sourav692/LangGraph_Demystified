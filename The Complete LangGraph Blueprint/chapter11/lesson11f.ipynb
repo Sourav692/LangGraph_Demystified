{
 "cells": [
  {
   "cell_type": "code",
   "execution_count": null,
   "metadata": {},
   "outputs": [],
   "source": [
    "from langchain_openai import OpenAIEmbeddings\n",
    "from langchain.schema import Document\n",
    "from langchain_chroma import Chroma\n",
    "from langchain_core.prompts import ChatPromptTemplate\n",
    "from langchain_openai import ChatOpenAI\n",
    "from langchain_core.runnables import RunnablePassthrough\n",
    "from langchain_core.output_parsers import StrOutputParser\n",
    "\n",
    "# Initialize the embeddings model\n",
    "embeddings = OpenAIEmbeddings(\n",
    "    model=\"text-embedding-3-large\"\n",
    ")\n",
    "\n",
    "# Define sample documents as Document objects\n",
    "documents = [\n",
    "    Document(page_content=\"LangChain is a framework for building context-aware reasoning applications.\"),\n",
    "    Document(page_content=\"FAISS is a library for efficient similarity search and clustering of dense vectors.\"),\n",
    "    Document(page_content=\"The quick brown fox jumps over the lazy dog.\")\n",
    "]\n",
    "\n",
    "# Index documents in Chroma vector store\n",
    "db = Chroma.from_documents(documents, embedding=embeddings)\n",
    "print(\"Documents indexed in Chroma successfully.\")\n",
    "\n",
    "# Define a retriever to fetch relevant documents\n",
    "retriever = db.as_retriever(search_type=\"similarity\", search_kwargs={\"k\": 6})\n",
    "\n",
    "# Define a prompt template for the LLM\n",
    "prompt = ChatPromptTemplate.from_template(\n",
    "\"\"\"\n",
    "You are an assistant for question-answering tasks. Use the following pieces of retrieved context to answer the question. If you don't know the answer, just say that you don't know. Use three sentences maximum and keep the answer concise.\n",
    "Question: {question} \n",
    "Context: {context} \n",
    "Answer:\n",
    "\"\"\"\n",
    ")\n",
    "\n",
    "# Initialize the chat model (GPT-4 variant or mini model for demonstration)\n",
    "model = ChatOpenAI(model=\"gpt-4o-mini\", temperature=0)\n",
    "\n",
    "# Set up the RAG chain pipeline\n",
    "rag_chain = (\n",
    "    {\"context\": retriever, \"question\": RunnablePassthrough()}\n",
    "    | prompt\n",
    "    | model\n",
    "    | StrOutputParser()\n",
    ")\n",
    "\n",
    "# Use the RAG pipeline to answer a user question\n",
    "question = \"What did the fox do?\"\n",
    "for chunk in rag_chain.stream(question):\n",
    "    print(chunk, end=\"\", flush=True)"
   ]
  }
 ],
 "metadata": {
  "kernelspec": {
   "display_name": "Python 3",
   "language": "python",
   "name": "python3"
  },
  "language_info": {
   "codemirror_mode": {
    "name": "ipython",
    "version": 3
   },
   "file_extension": ".py",
   "mimetype": "text/x-python",
   "name": "python",
   "nbconvert_exporter": "python",
   "pygments_lexer": "ipython3",
   "version": "3.8.0"
  }
 },
 "nbformat": 4,
 "nbformat_minor": 2
}
