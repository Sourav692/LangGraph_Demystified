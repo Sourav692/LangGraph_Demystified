{
 "cells": [
  {
   "cell_type": "code",
   "execution_count": null,
   "metadata": {},
   "outputs": [],
   "source": [
    "from langchain_openai import OpenAIEmbeddings\n",
    "import numpy as np\n",
    "\n",
    "# Initialize embeddings model\n",
    "embeddings = OpenAIEmbeddings(\n",
    "    model=\"text-embedding-3-large\",\n",
    "    dimensions=1024\n",
    ")\n",
    "\n",
    "# Define texts to embed\n",
    "text1 = \"LangGraph is a library for building stateful, multi-actor applications with LLMs.\"\n",
    "text2 = \"LangChain is a framework for building context-aware reasoning applications.\"\n",
    "text3 = \"The quick brown fox jumps over the lazy dog.\"\n",
    "\n",
    "# Embed single and multiple texts\n",
    "embedding1 = embeddings.embed_query(text1)\n",
    "embedding2, embedding3 = embeddings.embed_documents([text2, text3])\n",
    "\n",
    "# Display first 10 values of each embedding for readability\n",
    "print(\"Embedding for text1 (first 10 values):\", embedding1[:10])\n",
    "print(\"Embedding for text2 (first 10 values):\", embedding2[:10])\n",
    "print(\"Embedding for text3 (first 10 values):\", embedding3[:10])\n",
    "\n",
    "# Define a function to calculate cosine similarity\n",
    "def cosine_similarity(vec1, vec2):\n",
    "    dot_product = np.dot(vec1, vec2)\n",
    "    norm_vec1 = np.linalg.norm(vec1)\n",
    "    norm_vec2 = np.linalg.norm(vec2)\n",
    "    return dot_product / (norm_vec1 * norm_vec2)\n",
    "\n",
    "# Calculate similarity scores\n",
    "similarity_1_2 = cosine_similarity(embedding1, embedding2)\n",
    "similarity_1_3 = cosine_similarity(embedding1, embedding3)\n",
    "similarity_2_3 = cosine_similarity(embedding2, embedding3)\n",
    "\n",
    "# Display similarity scores\n",
    "print(\"Cosine Similarity between text1 and text2:\", similarity_1_2)\n",
    "print(\"Cosine Similarity between text1 and text3:\", similarity_1_3)\n",
    "print(\"Cosine Similarity between text2 and text3:\", similarity_2_3)"
   ]
  }
 ],
 "metadata": {
  "kernelspec": {
   "display_name": "Python 3",
   "language": "python",
   "name": "python3"
  },
  "language_info": {
   "codemirror_mode": {
    "name": "ipython",
    "version": 3
   },
   "file_extension": ".py",
   "mimetype": "text/x-python",
   "name": "python",
   "nbconvert_exporter": "python",
   "pygments_lexer": "ipython3",
   "version": "3.8.0"
  }
 },
 "nbformat": 4,
 "nbformat_minor": 2
}
