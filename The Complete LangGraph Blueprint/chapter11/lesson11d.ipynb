{
 "cells": [
  {
   "cell_type": "code",
   "execution_count": null,
   "metadata": {},
   "outputs": [],
   "source": [
    "from langchain_openai import OpenAIEmbeddings\n",
    "from langchain_chroma import Chroma\n",
    "from langchain.schema import Document  # Import the Document class\n",
    "\n",
    "# Initialize embeddings model\n",
    "embeddings = OpenAIEmbeddings(\n",
    "    model=\"text-embedding-3-large\",\n",
    "    dimensions=1024\n",
    ")\n",
    "\n",
    "# Define sample documents as Document objects\n",
    "documents = [\n",
    "    Document(page_content=\"LangChain is a framework for building context-aware reasoning applications.\"),\n",
    "    Document(page_content=\"FAISS is a library for efficient similarity search and clustering of dense vectors.\"),\n",
    "    Document(page_content=\"The quick brown fox jumps over the lazy dog.\")\n",
    "]\n",
    "\n",
    "# Index documents in Chroma vector store\n",
    "db = Chroma.from_documents(documents, embedding=embeddings)\n",
    "print(\"Documents indexed in Chroma successfully.\")\n",
    "\n",
    "# Define a query to search\n",
    "query = \"What is LangChain?\"\n",
    "\n",
    "# Perform similarity search in Chroma\n",
    "docs = db.similarity_search(query)\n",
    "\n",
    "# Display the content of the retrieved document\n",
    "print(\"Most similar document to the query:\")\n",
    "print(docs[0].page_content)\n",
    "\n",
    "# Generate embedding for the query\n",
    "query_embedding = embeddings.embed_query(query)\n",
    "\n",
    "# Perform similarity search by embedding vector\n",
    "docs_by_vector = db.similarity_search_by_vector(query_embedding)\n",
    "\n",
    "# Display the content of the retrieved document\n",
    "print(\"Most similar document to the query (vector search):\")\n",
    "print(docs_by_vector[0].page_content)"
   ]
  }
 ],
 "metadata": {
  "kernelspec": {
   "display_name": "Python 3",
   "language": "python",
   "name": "python3"
  },
  "language_info": {
   "codemirror_mode": {
    "name": "ipython",
    "version": 3
   },
   "file_extension": ".py",
   "mimetype": "text/x-python",
   "name": "python",
   "nbconvert_exporter": "python",
   "pygments_lexer": "ipython3",
   "version": "3.8.0"
  }
 },
 "nbformat": 4,
 "nbformat_minor": 2
}
