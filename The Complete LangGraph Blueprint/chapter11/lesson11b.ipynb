{
 "cells": [
  {
   "cell_type": "code",
   "execution_count": null,
   "metadata": {},
   "outputs": [],
   "source": [
    "from langchain_openai import OpenAIEmbeddings\n",
    "from langchain_core.vectorstores import InMemoryVectorStore\n",
    "\n",
    "# Initialize embeddings model\n",
    "embeddings = OpenAIEmbeddings(\n",
    "    model=\"text-embedding-3-large\",\n",
    "    dimensions=1024\n",
    ")\n",
    "\n",
    "# Sample document to index\n",
    "text = \"LangChain is the framework for building context-aware reasoning applications.\"\n",
    "\n",
    "# Index the document in the InMemoryVectorStore\n",
    "vectorstore = InMemoryVectorStore.from_texts(\n",
    "    [text],\n",
    "    embedding=embeddings,\n",
    ")\n",
    "\n",
    "print(\"Document indexed successfully.\")\n",
    "\n",
    "# Convert the vector store into a retriever\n",
    "retriever = vectorstore.as_retriever()\n",
    "\n",
    "# Define a sample query\n",
    "query = \"What is langchain?\"\n",
    "\n",
    "# Retrieve the most similar document(s)\n",
    "retrieved_documents = retriever.invoke(query)\n",
    "\n",
    "# Display the content of the retrieved document\n",
    "print(\"Retrieved document content:\")\n",
    "print(retrieved_documents[0].page_content)"
   ]
  }
 ],
 "metadata": {
  "kernelspec": {
   "display_name": "Python 3",
   "language": "python",
   "name": "python3"
  },
  "language_info": {
   "codemirror_mode": {
    "name": "ipython",
    "version": 3
   },
   "file_extension": ".py",
   "mimetype": "text/x-python",
   "name": "python",
   "nbconvert_exporter": "python",
   "pygments_lexer": "ipython3",
   "version": "3.8.0"
  }
 },
 "nbformat": 4,
 "nbformat_minor": 2
}
