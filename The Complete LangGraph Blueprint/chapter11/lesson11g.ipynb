{
 "cells": [
  {
   "cell_type": "code",
   "execution_count": null,
   "metadata": {},
   "outputs": [],
   "source": [
    "import os\n",
    "from langchain_openai import OpenAIEmbeddings\n",
    "from langchain_chroma import Chroma\n",
    "from langchain_community.document_loaders import PyPDFLoader\n",
    "from langchain_text_splitters import CharacterTextSplitter\n",
    "from langchain_core.prompts import ChatPromptTemplate\n",
    "from langchain_openai import ChatOpenAI\n",
    "from langchain_core.runnables import RunnablePassthrough\n",
    "from langchain_core.output_parsers import StrOutputParser\n",
    "import tiktoken\n",
    "\n",
    "# Step 1: Load the document\n",
    "file_path = os.path.join(os.getcwd(), \"chapter11\", \"Faiss by FacebookAI.pdf\")\n",
    "raw_documents = PyPDFLoader(file_path=file_path).load()\n",
    "\n",
    "# Step 2: Split the document into chunks\n",
    "text_splitter = CharacterTextSplitter(chunk_size=1000, chunk_overlap=0)\n",
    "documents = text_splitter.split_documents(raw_documents)\n",
    "\n",
    "# Step 3: Initialize the embeddings model\n",
    "embeddings = OpenAIEmbeddings(\n",
    "    model=\"text-embedding-3-large\"\n",
    ")\n",
    "\n",
    "# Step 4: Index the document chunks in Chroma vector store\n",
    "db = Chroma.from_documents(documents=documents, embedding=embeddings)\n",
    "print(\"Documents indexed in Chroma successfully.\")\n",
    "\n",
    "# Step 5: Define a retriever for similarity search\n",
    "retriever = db.as_retriever(search_type=\"similarity\", search_kwargs={\"k\": 3})  # Retrieve top 3 relevant chunks\n",
    "\n",
    "# Step 6: Define the prompt template for the LLM\n",
    "prompt = ChatPromptTemplate.from_template(\n",
    "\"\"\"\n",
    "You are an assistant for question-answering tasks. Use the following pieces of retrieved context to answer the question. If you don't know the answer, just say that you don't know. Use three sentences maximum and keep the answer concise.\n",
    "Question: {question} \n",
    "Context: {context} \n",
    "Answer:\n",
    "\"\"\"\n",
    ")\n",
    "\n",
    "# Step 7: Initialize the ChatOpenAI model (e.g., gpt-4 or another preferred model)\n",
    "model = ChatOpenAI(model=\"gpt-4o-mini\", temperature=0)\n",
    "\n",
    "# Step 8: Set up the Retrieval-Augmented Generation (RAG) chain\n",
    "rag_chain = (\n",
    "    {\"context\": retriever, \"question\": RunnablePassthrough()}\n",
    "    | prompt\n",
    "    | model\n",
    "    | StrOutputParser()\n",
    ")\n",
    "\n",
    "# Step 9: Ask a question and generate a response\n",
    "question = \"Can you explain what FAISS is used for?\"\n",
    "for chunk in rag_chain.stream(question):\n",
    "    print(chunk, end=\"\", flush=True)"
   ]
  }
 ],
 "metadata": {
  "kernelspec": {
   "display_name": "Python 3",
   "language": "python",
   "name": "python3"
  },
  "language_info": {
   "codemirror_mode": {
    "name": "ipython",
    "version": 3
   },
   "file_extension": ".py",
   "mimetype": "text/x-python",
   "name": "python",
   "nbconvert_exporter": "python",
   "pygments_lexer": "ipython3",
   "version": "3.8.0"
  }
 },
 "nbformat": 4,
 "nbformat_minor": 2
}
