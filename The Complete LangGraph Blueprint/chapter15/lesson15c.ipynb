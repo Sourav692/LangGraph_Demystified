{
 "cells": [
  {
   "cell_type": "code",
   "execution_count": null,
   "metadata": {},
   "outputs": [],
   "source": [
    "from typing import TypedDict\n",
    "from langgraph.graph import StateGraph, START, END\n",
    "\n",
    "class TrafficState(TypedDict):\n",
    "    traffic_density: int\n",
    "    action: str\n",
    "\n",
    "def traffic_prediction(state: TrafficState):\n",
    "    if state['traffic_density'] > 70:\n",
    "        state['action'] = 'Slow down'\n",
    "    elif state['traffic_density'] > 40:\n",
    "        state['action'] = 'Maintain speed'\n",
    "    else:\n",
    "        state['action'] = 'Speed up'\n",
    "    return state\n",
    "\n",
    "# Define the workflow\n",
    "builder = StateGraph(TrafficState)\n",
    "builder.add_node(\"traffic_prediction\", traffic_prediction)\n",
    "builder.add_edge(START, \"traffic_prediction\")\n",
    "builder.add_edge(\"traffic_prediction\", END)\n",
    "graph = builder.compile()\n",
    "\n",
    "# Sample invocation\n",
    "result = graph.invoke({\"traffic_density\": 65, \"action\": \"\"})\n",
    "print(result)  # Output: {'traffic_density': 65, 'action': 'Maintain speed'}"
   ]
  }
 ],
 "metadata": {
  "kernelspec": {
   "display_name": "Python 3",
   "language": "python",
   "name": "python3"
  },
  "language_info": {
   "codemirror_mode": {
    "name": "ipython",
    "version": 3
   },
   "file_extension": ".py",
   "mimetype": "text/x-python",
   "name": "python",
   "nbconvert_exporter": "python",
   "pygments_lexer": "ipython3",
   "version": "3.8.0"
  }
 },
 "nbformat": 4,
 "nbformat_minor": 2
}
