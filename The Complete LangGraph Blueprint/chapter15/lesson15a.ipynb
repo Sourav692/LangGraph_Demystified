{
 "cells": [
  {
   "cell_type": "code",
   "execution_count": null,
   "metadata": {},
   "outputs": [],
   "source": [
    "from typing import TypedDict\n",
    "from langgraph.graph import StateGraph, START, END\n",
    "\n",
    "class StockState(TypedDict):\n",
    "    stock_price: float\n",
    "    action: str\n",
    "\n",
    "def monitor_stock(state: StockState):\n",
    "    if state['stock_price'] > 150:\n",
    "        state['action'] = 'Sell'\n",
    "    elif state['stock_price'] < 100:\n",
    "        state['action'] = 'Buy'\n",
    "    else:\n",
    "        state['action'] = 'Hold'\n",
    "    return state\n",
    "\n",
    "# Define the workflow\n",
    "builder = StateGraph(StockState)\n",
    "builder.add_node(\"monitor_stock\", monitor_stock)\n",
    "builder.add_edge(START, \"monitor_stock\")\n",
    "builder.add_edge(\"monitor_stock\", END)\n",
    "graph = builder.compile()\n",
    "\n",
    "# Sample invocation with a stock price trigger\n",
    "result = graph.invoke({\"stock_price\": 180, \"action\": \"\"})\n",
    "print(result)  # Output: {'stock_price': 120, 'action': 'Hold'}"
   ]
  }
 ],
 "metadata": {
  "kernelspec": {
   "display_name": "Python 3",
   "language": "python",
   "name": "python3"
  },
  "language_info": {
   "codemirror_mode": {
    "name": "ipython",
    "version": 3
   },
   "file_extension": ".py",
   "mimetype": "text/x-python",
   "name": "python",
   "nbconvert_exporter": "python",
   "pygments_lexer": "ipython3",
   "version": "3.8.0"
  }
 },
 "nbformat": 4,
 "nbformat_minor": 2
}
