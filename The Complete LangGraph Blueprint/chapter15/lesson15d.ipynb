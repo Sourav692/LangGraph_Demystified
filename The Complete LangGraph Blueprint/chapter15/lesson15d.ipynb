{
 "cells": [
  {
   "cell_type": "code",
   "execution_count": null,
   "metadata": {},
   "outputs": [],
   "source": [
    "from typing import TypedDict\n",
    "from langgraph.graph import StateGraph, START, END\n",
    "from langchain_openai import ChatOpenAI\n",
    "from langchain.schema import HumanMessage, AIMessage\n",
    "from pydantic import BaseModel\n",
    "\n",
    "# Define the state with prompt and generated_code fields\n",
    "class CodeGenState(TypedDict):\n",
    "    prompt: str\n",
    "    generated_code: str\n",
    "\n",
    "# Initialize the ChatOpenAI tool for code generation\n",
    "llm = ChatOpenAI(temperature=0, model_name=\"gpt-4o-mini\")\n",
    "\n",
    "class CodeGen(BaseModel):\n",
    "    \"\"\"Code to generate\"\"\"\n",
    "    generated_code: str\n",
    "\n",
    "\n",
    "# Define the code generation function using ChatOpenAI and LangChain\n",
    "def generate_code(state: CodeGenState):\n",
    "    # Create a HumanMessage with the prompt\n",
    "    human_message = HumanMessage(content=state['prompt'])\n",
    "\n",
    "    # Send the HumanMessage to ChatOpenAI for code generation\n",
    "    llm_tool = llm.with_structured_output(CodeGen)\n",
    "    response = llm_tool.invoke([human_message])\n",
    "\n",
    "    # Extract the generated code from the AIMessage\n",
    "    state['generated_code'] = response.generated_code\n",
    "    return state\n",
    "\n",
    "# Define the workflow\n",
    "builder = StateGraph(CodeGenState)\n",
    "builder.add_node(\"generate_code\", generate_code)\n",
    "builder.add_edge(START, \"generate_code\")\n",
    "builder.add_edge(\"generate_code\", END)\n",
    "graph = builder.compile()\n",
    "\n",
    "# Sample invocation with a natural language prompt\n",
    "result = graph.invoke({\"prompt\": \"Write Python code for a complete LangGraph AI Agent for code generation graph using langchain_openai.\", \"generated_code\": \"\"})\n",
    "print(result['generated_code'])"
   ]
  }
 ],
 "metadata": {
  "kernelspec": {
   "display_name": "Python 3",
   "language": "python",
   "name": "python3"
  },
  "language_info": {
   "codemirror_mode": {
    "name": "ipython",
    "version": 3
   },
   "file_extension": ".py",
   "mimetype": "text/x-python",
   "name": "python",
   "nbconvert_exporter": "python",
   "pygments_lexer": "ipython3",
   "version": "3.8.0"
  }
 },
 "nbformat": 4,
 "nbformat_minor": 2
}
