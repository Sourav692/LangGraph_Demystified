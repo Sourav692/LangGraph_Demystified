{
 "cells": [
  {
   "cell_type": "code",
   "execution_count": null,
   "metadata": {},
   "outputs": [],
   "source": [
    "from typing import TypedDict\n",
    "from langgraph.graph import StateGraph, START, END\n",
    "from langchain_openai import ChatOpenAI\n",
    "from langchain.schema import HumanMessage\n",
    "import json\n",
    "\n",
    "# Define the state with code_snippet and suggestion fields\n",
    "class PairProgrammingState(TypedDict):\n",
    "    code_snippet: str\n",
    "    suggestion: str\n",
    "\n",
    "# Initialize the ChatOpenAI tool for code analysis\n",
    "llm_tool = ChatOpenAI(temperature=0, model_name=\"gpt-3.5-turbo\")\n",
    "\n",
    "# Define the AI-driven code analysis function\n",
    "def analyze_code(state: PairProgrammingState):\n",
    "    # Create a prompt for structured suggestions\n",
    "    structured_prompt = (\n",
    "        f\"Analyze the following Python code snippet and provide suggestions for improvement. \"\n",
    "        f\"Respond in JSON format with a 'suggestion' field.\\n\\n\"\n",
    "        f\"Code snippet:\\n{state['code_snippet']}\\n\\n\"\n",
    "        \"Response format:\\n\"\n",
    "        \"{\\n\"\n",
    "        \"  \\\"suggestion\\\": \\\"<insert suggestion here>\\\"\\n\"\n",
    "        \"}\"\n",
    "    )\n",
    "    human_message = HumanMessage(content=structured_prompt)\n",
    "\n",
    "    # Send the HumanMessage to ChatOpenAI for analysis\n",
    "    ai_message = llm_tool.invoke([human_message])\n",
    "\n",
    "    # Parse the JSON response for the suggestion\n",
    "    try:\n",
    "        structured_response = json.loads(ai_message.content)\n",
    "        state['suggestion'] = structured_response.get(\"suggestion\", \"No specific suggestions.\")\n",
    "    except json.JSONDecodeError:\n",
    "        state['suggestion'] = \"Error: Unable to parse the generated response.\"\n",
    "\n",
    "    return state\n",
    "\n",
    "# Define the workflow\n",
    "builder = StateGraph(PairProgrammingState)\n",
    "builder.add_node(\"analyze_code\", analyze_code)\n",
    "builder.add_edge(START, \"analyze_code\")\n",
    "builder.add_edge(\"analyze_code\", END)\n",
    "graph = builder.compile()\n",
    "\n",
    "# Sample invocation with a code snippet\n",
    "result = graph.invoke({\"code_snippet\": \"for i in range(len(arr)): print(arr[i])\", \"suggestion\": \"\"})\n",
    "print(result['suggestion'])  # Expected output: A dynamic suggestion, such as using enumerate()"
   ]
  }
 ],
 "metadata": {
  "kernelspec": {
   "display_name": "Python 3",
   "language": "python",
   "name": "python3"
  },
  "language_info": {
   "codemirror_mode": {
    "name": "ipython",
    "version": 3
   },
   "file_extension": ".py",
   "mimetype": "text/x-python",
   "name": "python",
   "nbconvert_exporter": "python",
   "pygments_lexer": "ipython3",
   "version": "3.8.0"
  }
 },
 "nbformat": 4,
 "nbformat_minor": 2
}
