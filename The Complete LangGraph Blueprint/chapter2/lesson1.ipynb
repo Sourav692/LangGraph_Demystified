{
 "cells": [
  {
   "cell_type": "code",
   "execution_count": null,
   "metadata": {},
   "outputs": [],
   "source": [
    "#lesson1.py\n",
    "import random\n",
    "import subprocess\n",
    "import sys\n",
    "from typing_extensions import TypedDict\n",
    "from langgraph.graph import StateGraph, START, END\n",
    "from langchain_core.runnables.graph import MermaidDrawMethod\n",
    "import os\n",
    "\n",
    "# Define the state structure\n",
    "class HelloWorldState(TypedDict):\n",
    "   greeting: str  # This key will store the greeting message\n",
    "\n",
    "# Define the node function\n",
    "def hello_world_node(state: HelloWorldState):\n",
    "    state[\"greeting\"] = \"Hello World, \" + state[\"greeting\"]\n",
    "    return state\n",
    "\n",
    "# Initialize the graph and add the node\n",
    "builder = StateGraph(HelloWorldState)\n",
    "builder.add_node(\"greet\", hello_world_node)\n",
    "\n",
    "# Define the flow of execution using edges\n",
    "builder.add_edge(START, \"greet\")  # Connect START to the \"greet\" node\n",
    "builder.add_edge(\"greet\", END)    # Connect the \"greet\" node to END\n",
    "\n",
    "# Compile and run the graph\n",
    "graph = builder.compile()\n",
    "result = graph.invoke({\"greeting\": \"from LangGraph!\"})\n",
    "print(result)\n",
    "\n",
    "#Code to visualize the graph, we will re-use this in all future lessons\n",
    "mermaid_png=graph.get_graph(xray=1).draw_mermaid_png(draw_method=MermaidDrawMethod.API)\n",
    "   \n",
    "# Create an output folder if it doesn't exist, for now we can save in the current folder represented by .\n",
    "output_folder = \".\"\n",
    "os.makedirs(output_folder, exist_ok=True)\n",
    "\n",
    "filename = os.path.join(output_folder, f\"graph_{random.randint(1, 100000)}.png\")\n",
    "with open(filename, 'wb') as f:\n",
    "    f.write(mermaid_png)\n",
    "\n",
    "if sys.platform.startswith('darwin'):\n",
    "    subprocess.call(('open', filename))\n",
    "elif sys.platform.startswith('linux'):\n",
    "    subprocess.call(('xdg-open', filename))\n",
    "elif sys.platform.startswith('win'):\n",
    "    os.startfile(filename)"
   ]
  }
 ],
 "metadata": {
  "kernelspec": {
   "display_name": "Python 3",
   "language": "python",
   "name": "python3"
  },
  "language_info": {
   "codemirror_mode": {
    "name": "ipython",
    "version": 3
   },
   "file_extension": ".py",
   "mimetype": "text/x-python",
   "name": "python",
   "nbconvert_exporter": "python",
   "pygments_lexer": "ipython3",
   "version": "3.8.0"
  }
 },
 "nbformat": 4,
 "nbformat_minor": 2
}
