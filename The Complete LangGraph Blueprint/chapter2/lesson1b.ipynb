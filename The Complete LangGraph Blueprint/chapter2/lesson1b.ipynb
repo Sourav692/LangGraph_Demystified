{
 "cells": [
  {
   "cell_type": "code",
   "execution_count": null,
   "metadata": {},
   "outputs": [],
   "source": [
    "#lesson1b.py\n",
    "from typing_extensions import TypedDict\n",
    "from langgraph.graph import StateGraph, START, END\n",
    "from langchain_core.runnables.graph import MermaidDrawMethod\n",
    "from  display_graph import display_graph\n",
    "\n",
    "\n",
    "# Define the state structure\n",
    "class HelloWorldState(TypedDict):\n",
    "    greeting: str  # This key will store the greeting message\n",
    "\n",
    "# Define an additional node function\n",
    "def exclamation_node(state: HelloWorldState):\n",
    "    state[\"greeting\"] += \"!\"\n",
    "    return state\n",
    "\n",
    "# Define the node function\n",
    "def hello_world_node(state: HelloWorldState):\n",
    "    state[\"greeting\"] = \"Hello World, \" + state[\"greeting\"]\n",
    "    return state\n",
    "\n",
    "# Initialize the graph and add the node\n",
    "builder = StateGraph(HelloWorldState)\n",
    "builder.add_node(\"greet\", hello_world_node)\n",
    "\n",
    "# Define the flow of execution using edges\n",
    "builder.add_edge(START, \"greet\")  # Connect START to the \"greet\" node\n",
    "builder.add_node(\"exclaim\", exclamation_node) # Add a new node\n",
    "\n",
    "# Update the edges\n",
    "builder.add_edge(\"greet\", \"exclaim\")  # Connect \"greet\" to \"exclaim\"\n",
    "builder.add_edge(\"exclaim\", END)      # Update the flow to end after \"exclaim\"\n",
    "\n",
    "\n",
    "# Compile and run the graph\n",
    "graph = builder.compile()\n",
    "result = graph.invoke({\"greeting\": \"from LangGraph!\"})\n",
    "\n",
    "# Output the result\n",
    "print(result)\n",
    "# Output: {'greeting': 'Hello World, from LangGraph!!'}\n",
    "\n",
    "#Visualise the graph\n",
    "display_graph(graph)"
   ]
  }
 ],
 "metadata": {
  "kernelspec": {
   "display_name": "Python 3",
   "language": "python",
   "name": "python3"
  },
  "language_info": {
   "codemirror_mode": {
    "name": "ipython",
    "version": 3
   },
   "file_extension": ".py",
   "mimetype": "text/x-python",
   "name": "python",
   "nbconvert_exporter": "python",
   "pygments_lexer": "ipython3",
   "version": "3.8.0"
  }
 },
 "nbformat": 4,
 "nbformat_minor": 2
}
