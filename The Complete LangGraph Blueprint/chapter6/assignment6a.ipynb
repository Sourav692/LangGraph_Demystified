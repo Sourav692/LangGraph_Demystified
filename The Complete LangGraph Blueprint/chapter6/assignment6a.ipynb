{
 "cells": [
  {
   "cell_type": "code",
   "execution_count": null,
   "metadata": {},
   "outputs": [],
   "source": [
    "from langgraph.graph import StateGraph, MessagesState, START, END\n",
    "from langgraph.checkpoint.memory import MemorySaver\n",
    "from langchain_openai import ChatOpenAI\n",
    "from dotenv import load_dotenv\n",
    "import os\n",
    "\n",
    "# Load environment variables\n",
    "load_dotenv()\n",
    "\n",
    "# Initialize API key\n",
    "api_key = os.getenv(\"OPENAI_API_KEY\")\n",
    "\n",
    "# Initialize OpenAI model\n",
    "model = ChatOpenAI(model=\"gpt-4o-mini\", api_key=api_key)\n",
    "\n",
    "# Define the graph workflow\n",
    "workflow = StateGraph(MessagesState)\n",
    "\n",
    "# Node to process user query and return the LLM response\n",
    "def call_llm(state: MessagesState):\n",
    "    messages = state[\"messages\"]\n",
    "    response = model.invoke(messages)\n",
    "    return {\"messages\": [response]}\n",
    "\n",
    "# Add nodes and define edges in the graph\n",
    "workflow.add_node(\"call_llm\", call_llm)\n",
    "workflow.add_edge(START, \"call_llm\")\n",
    "workflow.add_edge(\"call_llm\", END)\n",
    "\n",
    "# Initialize the MemorySaver for short-term memory\n",
    "checkpointer = MemorySaver()\n",
    "app_with_memory = workflow.compile(checkpointer=checkpointer)\n",
    "\n",
    "# Simulate conversation with short-term memory\n",
    "def interact_with_agent():\n",
    "    thread_id = \"session_1\"\n",
    "    while True:\n",
    "        user_input = input(\"You: \")\n",
    "        if user_input.lower() in [\"exit\", \"quit\"]:\n",
    "            break\n",
    "        input_message = {\n",
    "            \"messages\": [(\"human\", user_input)]\n",
    "        }\n",
    "        config = {\"configurable\": {\"thread_id\": thread_id}}\n",
    "        for chunk in app_with_memory.stream(input_message, config=config, stream_mode=\"values\"):\n",
    "            chunk[\"messages\"][-1].pretty_print()\n",
    "\n",
    "interact_with_agent()"
   ]
  }
 ],
 "metadata": {
  "kernelspec": {
   "display_name": "Python 3",
   "language": "python",
   "name": "python3"
  },
  "language_info": {
   "codemirror_mode": {
    "name": "ipython",
    "version": 3
   },
   "file_extension": ".py",
   "mimetype": "text/x-python",
   "name": "python",
   "nbconvert_exporter": "python",
   "pygments_lexer": "ipython3",
   "version": "3.8.0"
  }
 },
 "nbformat": 4,
 "nbformat_minor": 2
}
