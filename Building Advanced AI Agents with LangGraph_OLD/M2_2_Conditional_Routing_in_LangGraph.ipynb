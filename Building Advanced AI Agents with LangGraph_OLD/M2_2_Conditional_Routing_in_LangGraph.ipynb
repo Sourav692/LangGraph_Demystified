{
 "cells": [
  {
   "cell_type": "markdown",
   "metadata": {
    "application/vnd.databricks.v1+cell": {
     "cellMetadata": {},
     "inputWidgets": {},
     "nuid": "93ce76bb-de15-4f1d-b482-c91880ce800e",
     "showTitle": false,
     "tableResultSettingsMap": {},
     "title": ""
    },
    "id": "50fa7f8a-8764-4bb9-9968-48b681a0e4f1"
   },
   "source": [
    "# Conditional Routing in LangGraph\n",
    "\n",
    "In LangGraph, conditional routing allows the dynamic determination of the next node(s) to execute based on the current state.\n",
    "\n",
    "This is achieved using conditional edges, which evaluate a function using certain defined logic, to decide the subsequent path in the graph.\n",
    "\n",
    "This mechanism enables the creation of adaptable workflows that respond to varying conditions during execution. Let's dive deep into conditional routing in this demo.\n",
    "\n",
    "![](https://i.imgur.com/uX12AyO.png)"
   ]
  },
  {
   "cell_type": "markdown",
   "metadata": {
    "application/vnd.databricks.v1+cell": {
     "cellMetadata": {},
     "inputWidgets": {},
     "nuid": "747b2bfc-94a6-4651-8759-4ae530bc608c",
     "showTitle": false,
     "tableResultSettingsMap": {},
     "title": ""
    },
    "id": "tIiCs9qKEddB"
   },
   "source": [
    "## Install Dependencies"
   ]
  },
  {
   "cell_type": "code",
   "execution_count": 0,
   "metadata": {
    "application/vnd.databricks.v1+cell": {
     "cellMetadata": {},
     "inputWidgets": {},
     "nuid": "80f71be3-c707-4844-a3b4-ec89214fc9cb",
     "showTitle": false,
     "tableResultSettingsMap": {},
     "title": ""
    },
    "colab": {
     "base_uri": "https://localhost:8080/"
    },
    "id": "ff151ef1-fa30-482a-94da-8f49964afbc3",
    "outputId": "814abe6b-383d-4c4a-a5ad-4d291196e58d"
   },
   "outputs": [],
   "source": [
    "!pip install -q langchain==0.3.14\n",
    "!pip install -q langgraph==0.2.66"
   ]
  },
  {
   "cell_type": "markdown",
   "metadata": {
    "application/vnd.databricks.v1+cell": {
     "cellMetadata": {},
     "inputWidgets": {},
     "nuid": "8291531d-7095-472b-8088-16c770de2482",
     "showTitle": false,
     "tableResultSettingsMap": {},
     "title": ""
    },
    "id": "ad056608-8c8f-4999-bb53-10583efa4ed8"
   },
   "source": [
    "## Creating the Graph with Conditional Edges\n",
    "\n",
    "[Edges](https://langchain-ai.github.io/langgraph/concepts/low_level/#edges) connect the nodes.\n",
    "\n",
    "Normal Edges are used if you want to *always* go from, for example, `node_1` to `node_2`.\n",
    "\n",
    "[Conditional Edges](https://langchain-ai.github.io/langgraph/reference/graphs/?h=conditional+edge#langgraph.graph.StateGraph.add_conditional_edges) are used want to *optionally* route between nodes.\n",
    "\n",
    "Conditional edges are implemented as functions that return the next node to visit based upon some logic.\n",
    "\n",
    "![](https://i.imgur.com/uX12AyO.png)"
   ]
  },
  {
   "cell_type": "code",
   "execution_count": 0,
   "metadata": {
    "application/vnd.databricks.v1+cell": {
     "cellMetadata": {},
     "inputWidgets": {},
     "nuid": "196c6b07-875e-421b-b7a4-529f18e44408",
     "showTitle": false,
     "tableResultSettingsMap": {},
     "title": ""
    },
    "colab": {
     "base_uri": "https://localhost:8080/",
     "height": 350
    },
    "id": "JMwFg6Euo9Aq",
    "outputId": "8f4cf026-ec28-4ca0-9f0e-c2866b1d58d5"
   },
   "outputs": [],
   "source": [
    "from typing import TypedDict\n",
    "from langgraph.graph import StateGraph, START, END\n",
    "from IPython.display import Image, display\n",
    "\n",
    "# Define the state structure\n",
    "class State(TypedDict):\n",
    "    weather: str\n",
    "\n",
    "# Initialize the StateGraph\n",
    "graph_builder = StateGraph(State)\n",
    "\n",
    "# Define node functions\n",
    "def weather_node(state: State) -> State:\n",
    "    print(\"Checking the weather...\")\n",
    "    return state  # Just pass the state along\n",
    "\n",
    "def rainy_node(state: State) -> State:\n",
    "    print(\"It's rainy. Take an umbrella!\")\n",
    "    return state\n",
    "\n",
    "def sunny_node(state: State) -> State:\n",
    "    print(\"It's sunny. Wear sunglasses!\")\n",
    "    return state\n",
    "\n",
    "# Define the routing function\n",
    "def weather_routing(state: State) -> str:\n",
    "    if state['weather'] == 'rainy':\n",
    "        return \"rainy\" # name of the rainy node\n",
    "    elif state['weather'] == 'sunny':\n",
    "        return \"sunny\" # name of the sunny node\n",
    "    else:\n",
    "        raise ValueError(\"Invalid weather condition!\")\n",
    "\n",
    "# Add nodes to the graph\n",
    "graph_builder.add_node(\"weather_node\", weather_node)\n",
    "graph_builder.add_node(\"rainy\", rainy_node)\n",
    "graph_builder.add_node(\"sunny\", sunny_node)\n",
    "\n",
    "# Define edges\n",
    "graph_builder.add_edge(START, \"weather_node\")\n",
    "graph_builder.add_conditional_edges(\"weather_node\",\n",
    "                                    # the routing function will route to the rainy node if weather state is 'rainy'\n",
    "                                    # the routing function will route to the sunny node if the weather state is 'sunny'\n",
    "                                    weather_routing, # routing function\n",
    "                                    [\"rainy\", \"sunny\"] # possible nodes where the routing function can end up going\n",
    "                                   )\n",
    "graph_builder.add_edge(\"rainy\", END)\n",
    "graph_builder.add_edge(\"sunny\", END)\n",
    "\n",
    "# Compile the graph\n",
    "graph = graph_builder.compile()\n",
    "\n",
    "display(Image(graph.get_graph().draw_mermaid_png()))"
   ]
  },
  {
   "cell_type": "code",
   "execution_count": 0,
   "metadata": {
    "application/vnd.databricks.v1+cell": {
     "cellMetadata": {},
     "inputWidgets": {},
     "nuid": "260c6820-c779-48f5-8c50-3a6c9c411eb8",
     "showTitle": false,
     "tableResultSettingsMap": {},
     "title": ""
    },
    "colab": {
     "base_uri": "https://localhost:8080/"
    },
    "id": "nb2baJ8_pTl4",
    "outputId": "938fe4c6-8e85-4f43-dedc-76a107ac687d"
   },
   "outputs": [],
   "source": [
    "# Execute the graph with an initial state for \"rainy\"\n",
    "print(\"\\n--- Rainy Condition ---\")\n",
    "initial_state_rainy = {\"weather\": \"rainy\"}\n",
    "result_rainy = graph.invoke(initial_state_rainy)"
   ]
  },
  {
   "cell_type": "code",
   "execution_count": 0,
   "metadata": {
    "application/vnd.databricks.v1+cell": {
     "cellMetadata": {},
     "inputWidgets": {},
     "nuid": "a5771685-5257-471e-b97d-53adcfc740cd",
     "showTitle": false,
     "tableResultSettingsMap": {},
     "title": ""
    },
    "colab": {
     "base_uri": "https://localhost:8080/"
    },
    "id": "kurtuIenS9WV",
    "outputId": "91d585cd-37f1-472c-f309-13380dea6326"
   },
   "outputs": [],
   "source": [
    "# Execute the graph with an initial state for \"sunny\"\n",
    "print(\"\\n--- Sunny Condition ---\")\n",
    "initial_state_sunny = {\"weather\": \"sunny\"}\n",
    "result_sunny = graph.invoke(initial_state_sunny)"
   ]
  },
  {
   "cell_type": "code",
   "execution_count": 0,
   "metadata": {
    "application/vnd.databricks.v1+cell": {
     "cellMetadata": {},
     "inputWidgets": {},
     "nuid": "8189efed-b8b7-4a06-bfbc-83d862a58175",
     "showTitle": false,
     "tableResultSettingsMap": {},
     "title": ""
    },
    "colab": {
     "base_uri": "https://localhost:8080/",
     "height": 373
    },
    "id": "OPTnEhJmC8um",
    "outputId": "9b333b48-4522-44ea-bfad-0bc7a64c6e46"
   },
   "outputs": [],
   "source": [
    "# Execute the graph with an initial state for \"sunny\"\n",
    "print(\"\\n--- Sunny Condition ---\")\n",
    "initial_state_sunny = {\"weather\": \"humid\"}\n",
    "result_sunny = graph.invoke(initial_state_sunny)"
   ]
  },
  {
   "cell_type": "markdown",
   "metadata": {
    "application/vnd.databricks.v1+cell": {
     "cellMetadata": {},
     "inputWidgets": {},
     "nuid": "be461398-3949-4fdf-a25b-e4fc3299c640",
     "showTitle": false,
     "tableResultSettingsMap": {},
     "title": ""
    },
    "id": "F-ETXqN2Te24"
   },
   "source": [
    "## Conditional Routing with More Nodes\n",
    "\n",
    "The more nodes you have for custom logic you just need to define the node functions and then put in relevant conditions for the function which would do the conditional routing as shown in the example below.\n",
    "\n",
    "![](https://i.imgur.com/uvZeLV3.png)"
   ]
  },
  {
   "cell_type": "code",
   "execution_count": 0,
   "metadata": {
    "application/vnd.databricks.v1+cell": {
     "cellMetadata": {},
     "inputWidgets": {},
     "nuid": "4b25656d-dffe-4f9a-a8dc-1586495db744",
     "showTitle": false,
     "tableResultSettingsMap": {},
     "title": ""
    },
    "colab": {
     "base_uri": "https://localhost:8080/",
     "height": 350
    },
    "id": "C7015vUIJT9o",
    "outputId": "d64e3ebe-c63c-4155-e77c-a55b4dd791d3"
   },
   "outputs": [],
   "source": [
    "from typing import Annotated\n",
    "from langgraph.graph.message import add_messages\n",
    "\n",
    "class State(TypedDict):\n",
    "    messages: Annotated[list, add_messages]\n",
    "    topic: str\n",
    "\n",
    "\n",
    "def get_topic(state: State) -> str:\n",
    "    topic = state['messages'][0].content\n",
    "    print(f\"---Getting topic: {topic}---\")\n",
    "    return {\"topic\": topic}\n",
    "\n",
    "def decide_route(state: State) -> State:\n",
    "    print(\"---Conditional Routing---\")\n",
    "    topic = state['topic']\n",
    "    print(topic)\n",
    "    if topic.lower() in ['batman', 'superman']:\n",
    "        return \"node_dc\"\n",
    "    if topic.lower() in ['spiderman', 'avengers']:\n",
    "        return \"node_marvel\"\n",
    "    return \"node_others\"\n",
    "\n",
    "def node_dc(state):\n",
    "    print(\"---Node DC Comics---\")\n",
    "    topic = state['topic']\n",
    "    return {\"messages\": \"Hello yes happy to show you comics of: \"+topic}\n",
    "\n",
    "def node_marvel(state):\n",
    "    print(\"---Node Marvel Comics---\")\n",
    "    topic = state['topic']\n",
    "    return {\"messages\": \"Hello yes happy to show you comics of: \"+topic}\n",
    "\n",
    "def node_others(state):\n",
    "    print(\"---Node Others---\")\n",
    "    topic = state['topic']\n",
    "    return {\"messages\": \"Sorry we do not have: \"+topic}\n",
    "\n",
    "\n",
    "# Build graph\n",
    "builder = StateGraph(State)\n",
    "builder.add_node(\"get_topic\", get_topic)\n",
    "builder.add_node(\"node_dc\", node_dc)\n",
    "builder.add_node(\"node_marvel\", node_marvel)\n",
    "builder.add_node(\"node_others\", node_others)\n",
    "\n",
    "# Logic\n",
    "builder.add_edge(START, \"get_topic\")\n",
    "builder.add_conditional_edges(\"get_topic\",\n",
    "                              decide_route,\n",
    "                              [\"node_dc\", \"node_marvel\", \"node_others\"]\n",
    "                              )\n",
    "builder.add_edge(\"node_dc\", END)\n",
    "builder.add_edge(\"node_marvel\", END)\n",
    "builder.add_edge(\"node_others\", END)\n",
    "\n",
    "\n",
    "# Add\n",
    "graph = builder.compile()\n",
    "\n",
    "# View\n",
    "display(Image(graph.get_graph().draw_mermaid_png()))"
   ]
  },
  {
   "cell_type": "code",
   "execution_count": 0,
   "metadata": {
    "application/vnd.databricks.v1+cell": {
     "cellMetadata": {},
     "inputWidgets": {},
     "nuid": "cace55ad-cb77-48c9-a53d-dbbf9419eae2",
     "showTitle": false,
     "tableResultSettingsMap": {},
     "title": ""
    },
    "id": "kCmKGpWNLw0P"
   },
   "outputs": [],
   "source": [
    "def call_agent(agent, topic):\n",
    "    msgs = agent.invoke({\"messages\": topic})\n",
    "    print(msgs['messages'][-1].content)\n"
   ]
  },
  {
   "cell_type": "code",
   "execution_count": 0,
   "metadata": {
    "application/vnd.databricks.v1+cell": {
     "cellMetadata": {},
     "inputWidgets": {},
     "nuid": "948e8c8d-04fb-4279-978d-1575eaeded2e",
     "showTitle": false,
     "tableResultSettingsMap": {},
     "title": ""
    },
    "colab": {
     "base_uri": "https://localhost:8080/"
    },
    "id": "tWWYVAknMH7x",
    "outputId": "68805b94-a602-4aab-e0b7-dfab3bcae9fc"
   },
   "outputs": [],
   "source": [
    "call_agent(graph, \"Batman\")"
   ]
  },
  {
   "cell_type": "code",
   "execution_count": 0,
   "metadata": {
    "application/vnd.databricks.v1+cell": {
     "cellMetadata": {},
     "inputWidgets": {},
     "nuid": "63b8330c-c3ed-4813-b7f9-61d021fc763f",
     "showTitle": false,
     "tableResultSettingsMap": {},
     "title": ""
    },
    "colab": {
     "base_uri": "https://localhost:8080/"
    },
    "id": "djiRBs_jNGHK",
    "outputId": "f37159b7-d6e8-4982-fee7-b966841b6bed"
   },
   "outputs": [],
   "source": [
    "call_agent(graph, \"avengers\")"
   ]
  },
  {
   "cell_type": "code",
   "execution_count": 0,
   "metadata": {
    "application/vnd.databricks.v1+cell": {
     "cellMetadata": {},
     "inputWidgets": {},
     "nuid": "a68db956-d77c-4fc9-9b5a-51d127971d93",
     "showTitle": false,
     "tableResultSettingsMap": {},
     "title": ""
    },
    "colab": {
     "base_uri": "https://localhost:8080/"
    },
    "id": "2mwy_UIWMuGD",
    "outputId": "0755d7a0-0aa6-496e-b70e-0177bbc5b02c"
   },
   "outputs": [],
   "source": [
    "call_agent(graph, \"Venom\")"
   ]
  },
  {
   "cell_type": "code",
   "execution_count": 0,
   "metadata": {
    "application/vnd.databricks.v1+cell": {
     "cellMetadata": {},
     "inputWidgets": {},
     "nuid": "a1080202-89b9-4813-97fe-248a6f2182da",
     "showTitle": false,
     "tableResultSettingsMap": {},
     "title": ""
    }
   },
   "outputs": [],
   "source": []
  }
 ],
 "metadata": {
  "application/vnd.databricks.v1+notebook": {
   "computePreferences": null,
   "dashboards": [],
   "environmentMetadata": null,
   "language": "python",
   "notebookMetadata": {
    "pythonIndentUnit": 4
   },
   "notebookName": "M2_2_Conditional_Routing_in_LangGraph",
   "widgets": {}
  },
  "colab": {
   "provenance": []
  },
  "kernelspec": {
   "display_name": ".venv",
   "language": "python",
   "name": "python3"
  },
  "language_info": {
   "name": "python"
  }
 },
 "nbformat": 4,
 "nbformat_minor": 0
}
