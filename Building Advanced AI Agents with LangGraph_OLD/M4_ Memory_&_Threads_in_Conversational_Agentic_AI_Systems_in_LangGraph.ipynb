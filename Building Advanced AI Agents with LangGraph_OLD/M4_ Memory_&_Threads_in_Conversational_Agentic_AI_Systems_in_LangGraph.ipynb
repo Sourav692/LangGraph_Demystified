{
 "cells": [
  {
   "cell_type": "markdown",
   "metadata": {
    "application/vnd.databricks.v1+cell": {
     "cellMetadata": {},
     "inputWidgets": {},
     "nuid": "9078efc1-b0cc-4fb1-aab6-8196f77f03b8",
     "showTitle": false,
     "tableResultSettingsMap": {},
     "title": ""
    },
    "id": "50fa7f8a-8764-4bb9-9968-48b681a0e4f1"
   },
   "source": [
    "# Memory & Threads in Conversational Agentic AI Systems in LangGraph\n",
    "\n",
    "Every interaction between the user and the agentic system is in isolation and a new request without keep track of past historical conversations (by default). By leveraging memory and threads we can make our agentic system conversational.\n",
    "\n",
    "![](https://i.imgur.com/nJn1o09.png)\n",
    "\n",
    "#### Memory in LangGraph:\n",
    "\n",
    "- Utilizes a built-in persistence layer to maintain graph state across executions.\n",
    "- Enables features like human-in-the-loop interactions, time travel, fault tolerance and conversational capabilities\n",
    "\n",
    "#### Threads:\n",
    "\n",
    "- Serve as unique identifiers for sequences of checkpoints (agent state snapshots).\n",
    "- Allow retrieval and management of graph states post-execution.\n",
    "- Specified during graph invocation via {\"configurable\": {\"thread_id\": \"user-session-id\"}}.\n",
    "- User session id can be generated and assigned per unique user or user session\n",
    "- This is used by the agent to refer to past conversation and agent state history for any user session at any time\n",
    "- Enables multi-user conversation for your agent\n"
   ]
  },
  {
   "cell_type": "code",
   "execution_count": 0,
   "metadata": {
    "application/vnd.databricks.v1+cell": {
     "cellMetadata": {},
     "inputWidgets": {},
     "nuid": "8c05f027-d4ec-4297-91e1-b2fb5c2042f0",
     "showTitle": false,
     "tableResultSettingsMap": {},
     "title": ""
    },
    "colab": {
     "base_uri": "https://localhost:8080/"
    },
    "id": "ff151ef1-fa30-482a-94da-8f49964afbc3",
    "outputId": "9a9782b6-15f3-49a0-92d7-7bd3c4d696b1"
   },
   "outputs": [],
   "source": [
    "!pip install -q langchain==0.3.14\n",
    "!pip install -q langchain-openai==0.3.0\n",
    "!pip install -q langchain-community==0.3.14\n",
    "!pip install -q langgraph==0.2.64\n",
    "!pip install -q langgraph-checkpoint-sqlite==2.0.3"
   ]
  },
  {
   "cell_type": "markdown",
   "metadata": {
    "application/vnd.databricks.v1+cell": {
     "cellMetadata": {},
     "inputWidgets": {},
     "nuid": "33c7218a-d276-4420-bb80-56b8aed50abf",
     "showTitle": false,
     "tableResultSettingsMap": {},
     "title": ""
    },
    "id": "H9c37cLnSrbg"
   },
   "source": [
    "## Enter Open AI API Key"
   ]
  },
  {
   "cell_type": "code",
   "execution_count": 0,
   "metadata": {
    "application/vnd.databricks.v1+cell": {
     "cellMetadata": {},
     "inputWidgets": {},
     "nuid": "be7017a9-b9cd-4c51-9e4b-e5af09020f23",
     "showTitle": false,
     "tableResultSettingsMap": {},
     "title": ""
    },
    "colab": {
     "base_uri": "https://localhost:8080/"
    },
    "id": "cv3JzCEx_PAd",
    "outputId": "4fb5bfa8-8585-4a59-d7a9-1840c6f95983"
   },
   "outputs": [
    {
     "output_type": "stream",
     "name": "stdout",
     "output_type": "stream",
     "text": [
      "Enter Open AI API Key: ··········\n"
     ]
    }
   ],
   "source": [
    "# from getpass import getpass\n",
    "\n",
    "# OPENAI_KEY = getpass('Enter Open AI API Key: ')"
   ]
  },
  {
   "cell_type": "markdown",
   "metadata": {
    "application/vnd.databricks.v1+cell": {
     "cellMetadata": {},
     "inputWidgets": {},
     "nuid": "cce487fb-3e7d-4a15-b0d8-e223021ccef8",
     "showTitle": false,
     "tableResultSettingsMap": {},
     "title": ""
    },
    "id": "ucWRRI3QztL2"
   },
   "source": [
    "## Enter Tavily Search API Key\n",
    "\n",
    "Get a free API key from [here](https://tavily.com/#api)"
   ]
  },
  {
   "cell_type": "code",
   "execution_count": 0,
   "metadata": {
    "application/vnd.databricks.v1+cell": {
     "cellMetadata": {},
     "inputWidgets": {},
     "nuid": "7f9d5d85-5c77-4583-9831-8b1a3f524b10",
     "showTitle": false,
     "tableResultSettingsMap": {},
     "title": ""
    },
    "colab": {
     "base_uri": "https://localhost:8080/"
    },
    "id": "mK-1WLzOrJdb",
    "outputId": "e4e2c581-b3c7-4051-fc71-1ec621fc6882"
   },
   "outputs": [
    {
     "output_type": "stream",
     "name": "stdout",
     "output_type": "stream",
     "text": [
      "Enter Tavily Search API Key: ··········\n"
     ]
    }
   ],
   "source": [
    "# TAVILY_API_KEY = getpass('Enter Tavily Search API Key: ')"
   ]
  },
  {
   "cell_type": "code",
   "execution_count": 0,
   "metadata": {
    "application/vnd.databricks.v1+cell": {
     "cellMetadata": {},
     "inputWidgets": {},
     "nuid": "aac2f6d5-be78-4b9e-9b3e-bde2d357ce8c",
     "showTitle": false,
     "tableResultSettingsMap": {},
     "title": ""
    }
   },
   "outputs": [],
   "source": [
    "import os\n",
    "# import openai\n",
    "\n",
    "from dotenv import load_dotenv, find_dotenv\n",
    "_ = load_dotenv(find_dotenv())\n",
    "OPENAI_KEY = os.environ['OPENAI_API_KEY']\n",
    "OPENBB_PAT = os.environ['OPENBB_PAT']\n",
    "TAVILY_API_KEY = os.environ['TAVILY_API_KEY']"
   ]
  },
  {
   "cell_type": "markdown",
   "metadata": {
    "application/vnd.databricks.v1+cell": {
     "cellMetadata": {},
     "inputWidgets": {},
     "nuid": "a48f4b61-c99d-4d72-8f46-1e498a565c53",
     "showTitle": false,
     "tableResultSettingsMap": {},
     "title": ""
    },
    "id": "1T0s0um5Svfa"
   },
   "source": [
    "## Setup Environment Variables"
   ]
  },
  {
   "cell_type": "code",
   "execution_count": 0,
   "metadata": {
    "application/vnd.databricks.v1+cell": {
     "cellMetadata": {},
     "inputWidgets": {},
     "nuid": "dcb30962-244e-4226-a7b0-14401858e77a",
     "showTitle": false,
     "tableResultSettingsMap": {},
     "title": ""
    },
    "id": "x1YSuHNF_lbh"
   },
   "outputs": [],
   "source": [
    "# import os\n",
    "\n",
    "# os.environ['OPENAI_API_KEY'] = OPENAI_KEY\n",
    "# os.environ['TAVILY_API_KEY'] = TAVILY_API_KEY"
   ]
  },
  {
   "cell_type": "markdown",
   "metadata": {
    "application/vnd.databricks.v1+cell": {
     "cellMetadata": {},
     "inputWidgets": {},
     "nuid": "b32dd058-c166-454b-ab1e-be9154e205ea",
     "showTitle": false,
     "tableResultSettingsMap": {},
     "title": ""
    },
    "id": "5999f8d0-989f-4638-8ade-5c257cbadfe8"
   },
   "source": [
    "## State\n",
    "\n",
    "First, define the [State](https://langchain-ai.github.io/langgraph/concepts/low_level/#state) of the graph.\n",
    "\n",
    "The State schema serves as the input schema for all Nodes and Edges in the graph.\n",
    "\n",
    "Let's use the `TypedDict` class from python's `typing` module as our schema, which provides type hints for the keys."
   ]
  },
  {
   "cell_type": "code",
   "execution_count": 0,
   "metadata": {
    "application/vnd.databricks.v1+cell": {
     "cellMetadata": {},
     "inputWidgets": {},
     "nuid": "0e56569d-9d74-4b7a-b45f-56464744c33b",
     "showTitle": false,
     "tableResultSettingsMap": {},
     "title": ""
    },
    "id": "6a90709b-ddfa-4671-8acc-c59969a29991"
   },
   "outputs": [],
   "source": [
    "from typing import Annotated\n",
    "from typing_extensions import TypedDict\n",
    "from langgraph.graph.message import add_messages\n",
    "\n",
    "class State(TypedDict):\n",
    "    messages: Annotated[list, add_messages]"
   ]
  },
  {
   "cell_type": "markdown",
   "metadata": {
    "application/vnd.databricks.v1+cell": {
     "cellMetadata": {},
     "inputWidgets": {},
     "nuid": "f60e1929-59e5-442f-b132-41878e3cb4a8",
     "showTitle": false,
     "tableResultSettingsMap": {},
     "title": ""
    },
    "id": "mMwPwbV-mNQm"
   },
   "source": [
    "## Augment the LLM with tools\n",
    "\n",
    "Here we define our custom search tool and then bind it to the LLM to augment the LLM"
   ]
  },
  {
   "cell_type": "code",
   "execution_count": 0,
   "metadata": {
    "application/vnd.databricks.v1+cell": {
     "cellMetadata": {},
     "inputWidgets": {},
     "nuid": "3b3c9cd9-33d8-48e1-aca0-bc936b58d953",
     "showTitle": false,
     "tableResultSettingsMap": {},
     "title": ""
    },
    "id": "2lYXBn1ImzlB"
   },
   "outputs": [],
   "source": [
    "from langchain_openai import ChatOpenAI\n",
    "from langchain_community.utilities.tavily_search import TavilySearchAPIWrapper\n",
    "from langchain_core.tools import tool\n",
    "\n",
    "llm = ChatOpenAI(model=\"gpt-4o\", temperature=0)\n",
    "\n",
    "tavily_search = TavilySearchAPIWrapper()\n",
    "@tool\n",
    "def search_web(query: str, num_results=5):\n",
    "    \"\"\"Search the web for a query. Userful for general information or general news\"\"\"\n",
    "    results = tavily_search.raw_results(query=query,\n",
    "                                        max_results=num_results,\n",
    "                                        search_depth='advanced',\n",
    "                                        include_raw_content=True)\n",
    "    return results\n",
    "\n",
    "tools = [search_web]\n",
    "llm_with_tools = llm.bind_tools(tools=tools)"
   ]
  },
  {
   "cell_type": "markdown",
   "metadata": {
    "application/vnd.databricks.v1+cell": {
     "cellMetadata": {},
     "inputWidgets": {},
     "nuid": "dc4f1996-2875-43a1-857d-901ffdf03140",
     "showTitle": false,
     "tableResultSettingsMap": {},
     "title": ""
    },
    "id": "rTw_Jl2Ay-Wv"
   },
   "source": [
    "## Build Agentic Graph with In-Memory Persistence"
   ]
  },
  {
   "cell_type": "code",
   "execution_count": 0,
   "metadata": {
    "application/vnd.databricks.v1+cell": {
     "cellMetadata": {},
     "inputWidgets": {},
     "nuid": "2babacca-5ba2-4700-9888-f9ee4efb5d15",
     "showTitle": false,
     "tableResultSettingsMap": {},
     "title": ""
    },
    "id": "IJvHs_Py3uCV"
   },
   "outputs": [],
   "source": [
    "from langgraph.graph import StateGraph, START, END\n",
    "from langgraph.prebuilt import ToolNode, tools_condition\n",
    "from langgraph.checkpoint.memory import MemorySaver\n",
    "\n",
    "\n",
    "# Augmented LLM with Tools Node function\n",
    "def tool_calling_llm(state: State) -> State:\n",
    "    current_state = state[\"messages\"]\n",
    "    return {\"messages\": [llm_with_tools.invoke(current_state)]}\n",
    "\n",
    "# Build the graph\n",
    "builder = StateGraph(State)\n",
    "builder.add_node(\"tool_calling_llm\", tool_calling_llm)\n",
    "builder.add_node(\"tools\", ToolNode(tools=tools))\n",
    "builder.add_edge(START, \"tool_calling_llm\")\n",
    "\n",
    "# Conditional Edge\n",
    "builder.add_conditional_edges(\n",
    "    \"tool_calling_llm\",\n",
    "    # If the latest message (result) from LLM is a tool call -> tools_condition routes to tools\n",
    "    # If the latest message (result) from LLM is a not a tool call -> tools_condition routes to END\n",
    "    tools_condition,\n",
    "    [\"tools\", END]\n",
    ")\n",
    "builder.add_edge(\"tools\", \"tool_calling_llm\") # this is the key feedback loop\n",
    "builder.add_edge(\"tools\", END)\n",
    "\n",
    "# add in-memory persistence (transient memory)\n",
    "memory = MemorySaver()\n",
    "agent_inmem = builder.compile(checkpointer=memory)"
   ]
  },
  {
   "cell_type": "code",
   "execution_count": 0,
   "metadata": {
    "application/vnd.databricks.v1+cell": {
     "cellMetadata": {},
     "inputWidgets": {},
     "nuid": "05a9511f-4c5d-47cb-af24-ae8e97c78ea0",
     "showTitle": false,
     "tableResultSettingsMap": {},
     "title": ""
    },
    "colab": {
     "base_uri": "https://localhost:8080/",
     "height": 350
    },
    "id": "JR2L3D5Y3uH9",
    "outputId": "23dc27c8-ff97-481a-f66d-9f7cc7e4b82b"
   },
   "outputs": [
    {
     "output_type": "execute_result",
     "data": {
      "image/png": "[encoded data removed]",
      "text/plain": [
       "<langgraph.graph.state.CompiledStateGraph object at 0x111f8c1a0>"
      ]
     },
     "execution_count": 7,
     "metadata": {},
     "output_type": "execute_result"
    }
   ],
   "source": [
    "agent_inmem"
   ]
  },
  {
   "cell_type": "markdown",
   "metadata": {
    "application/vnd.databricks.v1+cell": {
     "cellMetadata": {},
     "inputWidgets": {},
     "nuid": "253d51d0-74dc-4d66-b05a-cf9f8e9c9742",
     "showTitle": false,
     "tableResultSettingsMap": {},
     "title": ""
    },
    "id": "GAD8KmlMzIyf"
   },
   "source": [
    "## Test Agent with In-Memory Persistence"
   ]
  },
  {
   "cell_type": "code",
   "execution_count": 0,
   "metadata": {
    "application/vnd.databricks.v1+cell": {
     "cellMetadata": {},
     "inputWidgets": {},
     "nuid": "55a9a0a4-22f9-4314-a3a5-684a18171ea0",
     "showTitle": false,
     "tableResultSettingsMap": {},
     "title": ""
    },
    "id": "tK72RDhVioTg"
   },
   "outputs": [],
   "source": [
    "uid = 'user001'\n",
    "config = {\"configurable\": {\"thread_id\": uid}}"
   ]
  },
  {
   "cell_type": "code",
   "execution_count": 0,
   "metadata": {
    "application/vnd.databricks.v1+cell": {
     "cellMetadata": {},
     "inputWidgets": {},
     "nuid": "ff7ff9d3-7a93-4803-9839-d2ebcd2251b7",
     "showTitle": false,
     "tableResultSettingsMap": {},
     "title": ""
    },
    "colab": {
     "base_uri": "https://localhost:8080/"
    },
    "id": "db16ab8d-b817-4f3a-befc-a02b579c4fca",
    "outputId": "51294aa9-126f-4ea5-f954-93a713fae619"
   },
   "outputs": [
    {
     "output_type": "stream",
     "name": "stdout",
     "output_type": "stream",
     "text": [
      "================================\u001B[1m Human Message \u001B[0m=================================\n\nExplain AI in 1 line\n==================================\u001B[1m Ai Message \u001B[0m==================================\n\nAI, or Artificial Intelligence, is the simulation of human intelligence processes by machines, especially computer systems, to perform tasks that typically require human intelligence, such as visual perception, speech recognition, decision-making, and language translation.\n"
     ]
    }
   ],
   "source": [
    "user_input = \"Explain AI in 1 line\"\n",
    "for event in agent_inmem.stream(input={\"messages\": user_input},\n",
    "                          config=config,\n",
    "                          stream_mode='values'):\n",
    "    event['messages'][-1].pretty_print()"
   ]
  },
  {
   "cell_type": "code",
   "execution_count": 0,
   "metadata": {
    "application/vnd.databricks.v1+cell": {
     "cellMetadata": {},
     "inputWidgets": {},
     "nuid": "b73aabb7-c2e8-4175-8979-eea687655413",
     "showTitle": false,
     "tableResultSettingsMap": {},
     "title": ""
    },
    "colab": {
     "base_uri": "https://localhost:8080/"
    },
    "id": "jmYdoTzijjtI",
    "outputId": "a39533c4-0c0c-4aff-b994-c3c94cd8ad01"
   },
   "outputs": [
    {
     "output_type": "stream",
     "name": "stdout",
     "output_type": "stream",
     "text": [
      "================================\u001B[1m Human Message \u001B[0m=================================\n\nDo the same for ML\n==================================\u001B[1m Ai Message \u001B[0m==================================\n\nMachine Learning (ML) is a subset of AI that involves the use of algorithms and statistical models to enable computers to learn from and make predictions or decisions based on data without being explicitly programmed.\n"
     ]
    }
   ],
   "source": [
    "user_input = \"Do the same for ML\"\n",
    "for event in agent_inmem.stream(input={\"messages\": user_input},\n",
    "                          config=config,\n",
    "                          stream_mode='values'):\n",
    "    event['messages'][-1].pretty_print()"
   ]
  },
  {
   "cell_type": "code",
   "execution_count": 0,
   "metadata": {
    "application/vnd.databricks.v1+cell": {
     "cellMetadata": {},
     "inputWidgets": {},
     "nuid": "e1e69ca4-c03f-43d6-8305-0274b689abdd",
     "showTitle": false,
     "tableResultSettingsMap": {},
     "title": ""
    },
    "colab": {
     "base_uri": "https://localhost:8080/"
    },
    "id": "JyqTE_xEjQe2",
    "outputId": "bba9238c-113e-445b-d246-d4e1587703a4"
   },
   "outputs": [
    {
     "output_type": "execute_result",
     "data": {
      "text/plain": [
       "StateSnapshot(values={'messages': [HumanMessage(content='Explain AI in 1 line', additional_kwargs={}, response_metadata={}, id='e0dff5aa-c699-482e-b115-59ea1ee88315'), AIMessage(content='AI, or Artificial Intelligence, is the simulation of human intelligence processes by machines, especially computer systems, to perform tasks that typically require human intelligence, such as visual perception, speech recognition, decision-making, and language translation.', additional_kwargs={'refusal': None}, response_metadata={'token_usage': {'completion_tokens': 46, 'prompt_tokens': 71, 'total_tokens': 117, 'completion_tokens_details': {'accepted_prediction_tokens': 0, 'audio_tokens': 0, 'reasoning_tokens': 0, 'rejected_prediction_tokens': 0}, 'prompt_tokens_details': {'audio_tokens': 0, 'cached_tokens': 0}}, 'model_name': 'gpt-4o-2024-08-06', 'system_fingerprint': 'fp_eb9dce56a8', 'finish_reason': 'stop', 'logprobs': None}, id='run-90baaadb-213d-43a5-9d8e-66aa8dfd8cdb-0', usage_metadata={'input_tokens': 71, 'output_tokens': 46, 'total_tokens': 117, 'input_token_details': {'audio': 0, 'cache_read': 0}, 'output_token_details': {'audio': 0, 'reasoning': 0}}), HumanMessage(content='Do the same for ML', additional_kwargs={}, response_metadata={}, id='fa8043f0-75b3-4f93-a047-c176aa8dd024'), AIMessage(content='Machine Learning (ML) is a subset of AI that involves the use of algorithms and statistical models to enable computers to learn from and make predictions or decisions based on data without being explicitly programmed.', additional_kwargs={'refusal': None}, response_metadata={'token_usage': {'completion_tokens': 40, 'prompt_tokens': 128, 'total_tokens': 168, 'completion_tokens_details': {'accepted_prediction_tokens': 0, 'audio_tokens': 0, 'reasoning_tokens': 0, 'rejected_prediction_tokens': 0}, 'prompt_tokens_details': {'audio_tokens': 0, 'cached_tokens': 0}}, 'model_name': 'gpt-4o-2024-08-06', 'system_fingerprint': 'fp_eb9dce56a8', 'finish_reason': 'stop', 'logprobs': None}, id='run-c5e0e97c-949f-4b45-ba5f-f35fc38a6978-0', usage_metadata={'input_tokens': 128, 'output_tokens': 40, 'total_tokens': 168, 'input_token_details': {'audio': 0, 'cache_read': 0}, 'output_token_details': {'audio': 0, 'reasoning': 0}})]}, next=(), config={'configurable': {'thread_id': 'user001', 'checkpoint_ns': '', 'checkpoint_id': '1eff5dfd-471d-69c8-8004-ca86f22ba9e5'}}, metadata={'source': 'loop', 'writes': {'tool_calling_llm': {'messages': [AIMessage(content='Machine Learning (ML) is a subset of AI that involves the use of algorithms and statistical models to enable computers to learn from and make predictions or decisions based on data without being explicitly programmed.', additional_kwargs={'refusal': None}, response_metadata={'token_usage': {'completion_tokens': 40, 'prompt_tokens': 128, 'total_tokens': 168, 'completion_tokens_details': {'accepted_prediction_tokens': 0, 'audio_tokens': 0, 'reasoning_tokens': 0, 'rejected_prediction_tokens': 0}, 'prompt_tokens_details': {'audio_tokens': 0, 'cached_tokens': 0}}, 'model_name': 'gpt-4o-2024-08-06', 'system_fingerprint': 'fp_eb9dce56a8', 'finish_reason': 'stop', 'logprobs': None}, id='run-c5e0e97c-949f-4b45-ba5f-f35fc38a6978-0', usage_metadata={'input_tokens': 128, 'output_tokens': 40, 'total_tokens': 168, 'input_token_details': {'audio': 0, 'cache_read': 0}, 'output_token_details': {'audio': 0, 'reasoning': 0}})]}}, 'thread_id': 'user001', 'step': 4, 'parents': {}}, created_at='2025-02-28T14:25:16.251368+00:00', parent_config={'configurable': {'thread_id': 'user001', 'checkpoint_ns': '', 'checkpoint_id': '1eff5dfd-3857-6718-8003-f8cd442c799a'}}, tasks=())"
      ]
     },
     "execution_count": 11,
     "metadata": {},
     "output_type": "execute_result"
    }
   ],
   "source": [
    "agent_inmem.get_state(config)"
   ]
  },
  {
   "cell_type": "code",
   "execution_count": 0,
   "metadata": {
    "application/vnd.databricks.v1+cell": {
     "cellMetadata": {},
     "inputWidgets": {},
     "nuid": "b6ae9275-c77e-4b97-a3df-1275131f49a7",
     "showTitle": false,
     "tableResultSettingsMap": {},
     "title": ""
    },
    "colab": {
     "base_uri": "https://localhost:8080/"
    },
    "id": "2YpHddsTjpU4",
    "outputId": "4e5e83a4-ce10-4831-ac67-e114a449cc17"
   },
   "outputs": [
    {
     "output_type": "execute_result",
     "data": {
      "text/plain": [
       "[StateSnapshot(values={'messages': [HumanMessage(content='Explain AI in 1 line', additional_kwargs={}, response_metadata={}, id='e0dff5aa-c699-482e-b115-59ea1ee88315'), AIMessage(content='AI, or Artificial Intelligence, is the simulation of human intelligence processes by machines, especially computer systems, to perform tasks that typically require human intelligence, such as visual perception, speech recognition, decision-making, and language translation.', additional_kwargs={'refusal': None}, response_metadata={'token_usage': {'completion_tokens': 46, 'prompt_tokens': 71, 'total_tokens': 117, 'completion_tokens_details': {'accepted_prediction_tokens': 0, 'audio_tokens': 0, 'reasoning_tokens': 0, 'rejected_prediction_tokens': 0}, 'prompt_tokens_details': {'audio_tokens': 0, 'cached_tokens': 0}}, 'model_name': 'gpt-4o-2024-08-06', 'system_fingerprint': 'fp_eb9dce56a8', 'finish_reason': 'stop', 'logprobs': None}, id='run-90baaadb-213d-43a5-9d8e-66aa8dfd8cdb-0', usage_metadata={'input_tokens': 71, 'output_tokens': 46, 'total_tokens': 117, 'input_token_details': {'audio': 0, 'cache_read': 0}, 'output_token_details': {'audio': 0, 'reasoning': 0}}), HumanMessage(content='Do the same for ML', additional_kwargs={}, response_metadata={}, id='fa8043f0-75b3-4f93-a047-c176aa8dd024'), AIMessage(content='Machine Learning (ML) is a subset of AI that involves the use of algorithms and statistical models to enable computers to learn from and make predictions or decisions based on data without being explicitly programmed.', additional_kwargs={'refusal': None}, response_metadata={'token_usage': {'completion_tokens': 40, 'prompt_tokens': 128, 'total_tokens': 168, 'completion_tokens_details': {'accepted_prediction_tokens': 0, 'audio_tokens': 0, 'reasoning_tokens': 0, 'rejected_prediction_tokens': 0}, 'prompt_tokens_details': {'audio_tokens': 0, 'cached_tokens': 0}}, 'model_name': 'gpt-4o-2024-08-06', 'system_fingerprint': 'fp_eb9dce56a8', 'finish_reason': 'stop', 'logprobs': None}, id='run-c5e0e97c-949f-4b45-ba5f-f35fc38a6978-0', usage_metadata={'input_tokens': 128, 'output_tokens': 40, 'total_tokens': 168, 'input_token_details': {'audio': 0, 'cache_read': 0}, 'output_token_details': {'audio': 0, 'reasoning': 0}})]}, next=(), config={'configurable': {'thread_id': 'user001', 'checkpoint_ns': '', 'checkpoint_id': '1eff5dfd-471d-69c8-8004-ca86f22ba9e5'}}, metadata={'source': 'loop', 'writes': {'tool_calling_llm': {'messages': [AIMessage(content='Machine Learning (ML) is a subset of AI that involves the use of algorithms and statistical models to enable computers to learn from and make predictions or decisions based on data without being explicitly programmed.', additional_kwargs={'refusal': None}, response_metadata={'token_usage': {'completion_tokens': 40, 'prompt_tokens': 128, 'total_tokens': 168, 'completion_tokens_details': {'accepted_prediction_tokens': 0, 'audio_tokens': 0, 'reasoning_tokens': 0, 'rejected_prediction_tokens': 0}, 'prompt_tokens_details': {'audio_tokens': 0, 'cached_tokens': 0}}, 'model_name': 'gpt-4o-2024-08-06', 'system_fingerprint': 'fp_eb9dce56a8', 'finish_reason': 'stop', 'logprobs': None}, id='run-c5e0e97c-949f-4b45-ba5f-f35fc38a6978-0', usage_metadata={'input_tokens': 128, 'output_tokens': 40, 'total_tokens': 168, 'input_token_details': {'audio': 0, 'cache_read': 0}, 'output_token_details': {'audio': 0, 'reasoning': 0}})]}}, 'thread_id': 'user001', 'step': 4, 'parents': {}}, created_at='2025-02-28T14:25:16.251368+00:00', parent_config={'configurable': {'thread_id': 'user001', 'checkpoint_ns': '', 'checkpoint_id': '1eff5dfd-3857-6718-8003-f8cd442c799a'}}, tasks=()),\n",
       " StateSnapshot(values={'messages': [HumanMessage(content='Explain AI in 1 line', additional_kwargs={}, response_metadata={}, id='e0dff5aa-c699-482e-b115-59ea1ee88315'), AIMessage(content='AI, or Artificial Intelligence, is the simulation of human intelligence processes by machines, especially computer systems, to perform tasks that typically require human intelligence, such as visual perception, speech recognition, decision-making, and language translation.', additional_kwargs={'refusal': None}, response_metadata={'token_usage': {'completion_tokens': 46, 'prompt_tokens': 71, 'total_tokens': 117, 'completion_tokens_details': {'accepted_prediction_tokens': 0, 'audio_tokens': 0, 'reasoning_tokens': 0, 'rejected_prediction_tokens': 0}, 'prompt_tokens_details': {'audio_tokens': 0, 'cached_tokens': 0}}, 'model_name': 'gpt-4o-2024-08-06', 'system_fingerprint': 'fp_eb9dce56a8', 'finish_reason': 'stop', 'logprobs': None}, id='run-90baaadb-213d-43a5-9d8e-66aa8dfd8cdb-0', usage_metadata={'input_tokens': 71, 'output_tokens': 46, 'total_tokens': 117, 'input_token_details': {'audio': 0, 'cache_read': 0}, 'output_token_details': {'audio': 0, 'reasoning': 0}}), HumanMessage(content='Do the same for ML', additional_kwargs={}, response_metadata={}, id='fa8043f0-75b3-4f93-a047-c176aa8dd024')]}, next=('tool_calling_llm',), config={'configurable': {'thread_id': 'user001', 'checkpoint_ns': '', 'checkpoint_id': '1eff5dfd-3857-6718-8003-f8cd442c799a'}}, metadata={'source': 'loop', 'writes': None, 'thread_id': 'user001', 'step': 3, 'parents': {}}, created_at='2025-02-28T14:25:14.701306+00:00', parent_config={'configurable': {'thread_id': 'user001', 'checkpoint_ns': '', 'checkpoint_id': '1eff5dfd-380e-60cc-8002-bac8872b99a8'}}, tasks=(PregelTask(id='1efcf4a8-d98c-3ff9-f078-e6b84f6d68a8', name='tool_calling_llm', path=('__pregel_pull', 'tool_calling_llm'), error=None, interrupts=(), state=None, result={'messages': [AIMessage(content='Machine Learning (ML) is a subset of AI that involves the use of algorithms and statistical models to enable computers to learn from and make predictions or decisions based on data without being explicitly programmed.', additional_kwargs={'refusal': None}, response_metadata={'token_usage': {'completion_tokens': 40, 'prompt_tokens': 128, 'total_tokens': 168, 'completion_tokens_details': {'accepted_prediction_tokens': 0, 'audio_tokens': 0, 'reasoning_tokens': 0, 'rejected_prediction_tokens': 0}, 'prompt_tokens_details': {'audio_tokens': 0, 'cached_tokens': 0}}, 'model_name': 'gpt-4o-2024-08-06', 'system_fingerprint': 'fp_eb9dce56a8', 'finish_reason': 'stop', 'logprobs': None}, id='run-c5e0e97c-949f-4b45-ba5f-f35fc38a6978-0', usage_metadata={'input_tokens': 128, 'output_tokens': 40, 'total_tokens': 168, 'input_token_details': {'audio': 0, 'cache_read': 0}, 'output_token_details': {'audio': 0, 'reasoning': 0}})]}),)),\n",
       " StateSnapshot(values={'messages': [HumanMessage(content='Explain AI in 1 line', additional_kwargs={}, response_metadata={}, id='e0dff5aa-c699-482e-b115-59ea1ee88315'), AIMessage(content='AI, or Artificial Intelligence, is the simulation of human intelligence processes by machines, especially computer systems, to perform tasks that typically require human intelligence, such as visual perception, speech recognition, decision-making, and language translation.', additional_kwargs={'refusal': None}, response_metadata={'token_usage': {'completion_tokens': 46, 'prompt_tokens': 71, 'total_tokens': 117, 'completion_tokens_details': {'accepted_prediction_tokens': 0, 'audio_tokens': 0, 'reasoning_tokens': 0, 'rejected_prediction_tokens': 0}, 'prompt_tokens_details': {'audio_tokens': 0, 'cached_tokens': 0}}, 'model_name': 'gpt-4o-2024-08-06', 'system_fingerprint': 'fp_eb9dce56a8', 'finish_reason': 'stop', 'logprobs': None}, id='run-90baaadb-213d-43a5-9d8e-66aa8dfd8cdb-0', usage_metadata={'input_tokens': 71, 'output_tokens': 46, 'total_tokens': 117, 'input_token_details': {'audio': 0, 'cache_read': 0}, 'output_token_details': {'audio': 0, 'reasoning': 0}})]}, next=('__start__',), config={'configurable': {'thread_id': 'user001', 'checkpoint_ns': '', 'checkpoint_id': '1eff5dfd-380e-60cc-8002-bac8872b99a8'}}, metadata={'source': 'input', 'writes': {'__start__': {'messages': 'Do the same for ML'}}, 'thread_id': 'user001', 'step': 2, 'parents': {}}, created_at='2025-02-28T14:25:14.672540+00:00', parent_config={'configurable': {'thread_id': 'user001', 'checkpoint_ns': '', 'checkpoint_id': '1eff5dfd-1f02-609c-8001-084f219f733b'}}, tasks=(PregelTask(id='2a73f1a1-eba1-3917-4be1-f7474779c599', name='__start__', path=('__pregel_pull', '__start__'), error=None, interrupts=(), state=None, result={'messages': 'Do the same for ML'}),)),\n",
       " StateSnapshot(values={'messages': [HumanMessage(content='Explain AI in 1 line', additional_kwargs={}, response_metadata={}, id='e0dff5aa-c699-482e-b115-59ea1ee88315'), AIMessage(content='AI, or Artificial Intelligence, is the simulation of human intelligence processes by machines, especially computer systems, to perform tasks that typically require human intelligence, such as visual perception, speech recognition, decision-making, and language translation.', additional_kwargs={'refusal': None}, response_metadata={'token_usage': {'completion_tokens': 46, 'prompt_tokens': 71, 'total_tokens': 117, 'completion_tokens_details': {'accepted_prediction_tokens': 0, 'audio_tokens': 0, 'reasoning_tokens': 0, 'rejected_prediction_tokens': 0}, 'prompt_tokens_details': {'audio_tokens': 0, 'cached_tokens': 0}}, 'model_name': 'gpt-4o-2024-08-06', 'system_fingerprint': 'fp_eb9dce56a8', 'finish_reason': 'stop', 'logprobs': None}, id='run-90baaadb-213d-43a5-9d8e-66aa8dfd8cdb-0', usage_metadata={'input_tokens': 71, 'output_tokens': 46, 'total_tokens': 117, 'input_token_details': {'audio': 0, 'cache_read': 0}, 'output_token_details': {'audio': 0, 'reasoning': 0}})]}, next=(), config={'configurable': {'thread_id': 'user001', 'checkpoint_ns': '', 'checkpoint_id': '1eff5dfd-1f02-609c-8001-084f219f733b'}}, metadata={'source': 'loop', 'writes': {'tool_calling_llm': {'messages': [AIMessage(content='AI, or Artificial Intelligence, is the simulation of human intelligence processes by machines, especially computer systems, to perform tasks that typically require human intelligence, such as visual perception, speech recognition, decision-making, and language translation.', additional_kwargs={'refusal': None}, response_metadata={'token_usage': {'completion_tokens': 46, 'prompt_tokens': 71, 'total_tokens': 117, 'completion_tokens_details': {'accepted_prediction_tokens': 0, 'audio_tokens': 0, 'reasoning_tokens': 0, 'rejected_prediction_tokens': 0}, 'prompt_tokens_details': {'audio_tokens': 0, 'cached_tokens': 0}}, 'model_name': 'gpt-4o-2024-08-06', 'system_fingerprint': 'fp_eb9dce56a8', 'finish_reason': 'stop', 'logprobs': None}, id='run-90baaadb-213d-43a5-9d8e-66aa8dfd8cdb-0', usage_metadata={'input_tokens': 71, 'output_tokens': 46, 'total_tokens': 117, 'input_token_details': {'audio': 0, 'cache_read': 0}, 'output_token_details': {'audio': 0, 'reasoning': 0}})]}}, 'thread_id': 'user001', 'step': 1, 'parents': {}}, created_at='2025-02-28T14:25:12.046161+00:00', parent_config={'configurable': {'thread_id': 'user001', 'checkpoint_ns': '', 'checkpoint_id': '1eff5dfc-fa7e-68d8-8000-fa5997a4ac50'}}, tasks=()),\n",
       " StateSnapshot(values={'messages': [HumanMessage(content='Explain AI in 1 line', additional_kwargs={}, response_metadata={}, id='e0dff5aa-c699-482e-b115-59ea1ee88315')]}, next=('tool_calling_llm',), config={'configurable': {'thread_id': 'user001', 'checkpoint_ns': '', 'checkpoint_id': '1eff5dfc-fa7e-68d8-8000-fa5997a4ac50'}}, metadata={'source': 'loop', 'writes': None, 'thread_id': 'user001', 'step': 0, 'parents': {}}, created_at='2025-02-28T14:25:08.216369+00:00', parent_config={'configurable': {'thread_id': 'user001', 'checkpoint_ns': '', 'checkpoint_id': '1eff5dfc-f9ee-6d0a-bfff-6abc95451663'}}, tasks=(PregelTask(id='6035ddd2-4229-29c0-ab96-f25eec78e1a0', name='tool_calling_llm', path=('__pregel_pull', 'tool_calling_llm'), error=None, interrupts=(), state=None, result={'messages': [AIMessage(content='AI, or Artificial Intelligence, is the simulation of human intelligence processes by machines, especially computer systems, to perform tasks that typically require human intelligence, such as visual perception, speech recognition, decision-making, and language translation.', additional_kwargs={'refusal': None}, response_metadata={'token_usage': {'completion_tokens': 46, 'prompt_tokens': 71, 'total_tokens': 117, 'completion_tokens_details': {'accepted_prediction_tokens': 0, 'audio_tokens': 0, 'reasoning_tokens': 0, 'rejected_prediction_tokens': 0}, 'prompt_tokens_details': {'audio_tokens': 0, 'cached_tokens': 0}}, 'model_name': 'gpt-4o-2024-08-06', 'system_fingerprint': 'fp_eb9dce56a8', 'finish_reason': 'stop', 'logprobs': None}, id='run-90baaadb-213d-43a5-9d8e-66aa8dfd8cdb-0', usage_metadata={'input_tokens': 71, 'output_tokens': 46, 'total_tokens': 117, 'input_token_details': {'audio': 0, 'cache_read': 0}, 'output_token_details': {'audio': 0, 'reasoning': 0}})]}),)),\n",
       " StateSnapshot(values={'messages': []}, next=('__start__',), config={'configurable': {'thread_id': 'user001', 'checkpoint_ns': '', 'checkpoint_id': '1eff5dfc-f9ee-6d0a-bfff-6abc95451663'}}, metadata={'source': 'input', 'writes': {'__start__': {'messages': 'Explain AI in 1 line'}}, 'thread_id': 'user001', 'step': -1, 'parents': {}}, created_at='2025-02-28T14:25:08.158588+00:00', parent_config=None, tasks=(PregelTask(id='66760bf7-2c64-4450-a638-30c8bb949056', name='__start__', path=('__pregel_pull', '__start__'), error=None, interrupts=(), state=None, result={'messages': 'Explain AI in 1 line'}),))]"
      ]
     },
     "execution_count": 12,
     "metadata": {},
     "output_type": "execute_result"
    }
   ],
   "source": [
    "history = list(agent_inmem.get_state_history(config))\n",
    "history"
   ]
  },
  {
   "cell_type": "code",
   "execution_count": 0,
   "metadata": {
    "application/vnd.databricks.v1+cell": {
     "cellMetadata": {},
     "inputWidgets": {},
     "nuid": "969c12e8-6128-4573-8d53-5dfc6eca269d",
     "showTitle": false,
     "tableResultSettingsMap": {},
     "title": ""
    },
    "id": "CfCJixCRluQ_"
   },
   "outputs": [],
   "source": [
    "uid = 'user002'\n",
    "config = {\"configurable\": {\"thread_id\": uid}}"
   ]
  },
  {
   "cell_type": "code",
   "execution_count": 0,
   "metadata": {
    "application/vnd.databricks.v1+cell": {
     "cellMetadata": {},
     "inputWidgets": {},
     "nuid": "d263ec57-e643-4b00-b2f2-52f738022642",
     "showTitle": false,
     "tableResultSettingsMap": {},
     "title": ""
    },
    "colab": {
     "base_uri": "https://localhost:8080/"
    },
    "id": "h-zYQrB6383i",
    "outputId": "861c5789-7696-4922-ce1b-cfbea0ef7bc7"
   },
   "outputs": [
    {
     "output_type": "stream",
     "name": "stdout",
     "output_type": "stream",
     "text": [
      "================================\u001B[1m Human Message \u001B[0m=================================\n\nTell me 3 latest OpenAI product releases\n==================================\u001B[1m Ai Message \u001B[0m==================================\nTool Calls:\n  search_web (call_ZQCgzIMrDmgDqw2yO8vlVgut)\n Call ID: call_ZQCgzIMrDmgDqw2yO8vlVgut\n  Args:\n    query: latest OpenAI product releases\n    num_results: 3\n=================================\u001B[1m Tool Message \u001B[0m=================================\nName: search_web\n\n{\"query\": \"latest OpenAI product releases\", \"follow_up_questions\": null, \"answer\": null, \"images\": [], \"results\": [{\"url\": \"https://openai.com/news/product-releases/\", \"title\": \"OpenAI Newsroom | Product\", \"content\": \"Introducing canvas, a new way to write and code with ChatGPT. Product Oct 3, 2024 · Introducing the Realtime API > Card image.\", \"score\": 0.7099254, \"raw_content\": \"OpenAI Newsroom | Product | OpenAI\\nSkip to main content\\nLog in\\n\\nSwitch to\\n\\nChatGPT(opens in a new window)\\nSora(opens in a new window)\\n\\nAPI Platform(opens in a new window)\\n\\n\\nResearch\\n\\n\\nSafety\\n\\n\\nChatGPT\\n\\n\\nSora\\n\\n\\nAPI Platform\\n\\n\\nFor Business\\n\\n\\nStories\\n\\n\\nCompany\\n\\n\\nNews\\n\\n\\nResearch\\nBack to main menu\\n\\nResearch Index\\nResearch Overview\\nResearch Residency\\nLatest Advancements\\nOpenAI o3-mini\\nOpenAI o1\\nOpenAI o1-mini\\nGPT-4o\\nGPT-4o mini\\nSora\\n\\n\\n\\nSafety\\nBack to main menu\\n\\nSafety Approach\\nSecurity & Privacy\\n\\n\\n\\nChatGPT\\nBack to main menu\\n\\nExplore ChatGPT\\nTeam\\nEnterprise\\nEducation\\nPricing\\nDownload\\n\\n\\n\\nSora\\nBack to main menu\\n\\nSora Overview\\nFeatures\\nPricing\\nHelp center(opens in a new window)\\nSora log in(opens in a new window)\\n\\n\\n\\nAPI Platform\\nBack to main menu\\n\\nPlatform Overview\\nPricing\\nAPI Log in(opens in a new window)\\nDocumentation(opens in a new window)\\nDeveloper Forum(opens in a new window)\\n\\n\\n\\nFor Business\\n\\nStories\\n\\nCompany\\nBack to main menu\\n\\nAbout us\\nOur Charter\\nCareers\\nBrand\\nOverview\\nLogos\\nGallery\\nPartnerships\\nTypography\\nLanguage\\nContact\\n\\n\\n\\nNews\\n\\n\\nLog in\\nNews\\n\\nAll\\nCompany\\nResearch\\nProduct\\nSafety\\nSecurity\\nGlobal Affairs\\n\\nFilterSort\\nSwitch cards to show Media\\nSwitch cards to hide Media\\n Introducing data residency in Europe ProductFeb 5, 2025 Introducing Operator ProductJan 23, 2025 OpenAI o1 and new tools for developers ProductDec 17, 2024Your browser does not support the video tag. Sora is here ProductDec 9, 2024 Introducing ChatGPT Pro ProductDec 5, 2024 Introducing ChatGPT search ProductOct 31, 2024 Introducing canvas, a new way to write and code with ChatGPT. ProductOct 3, 2024 Introducing the Realtime API ProductOct 1, 2024 Introducing vision to the fine-tuning API ProductOct 1, 2024\\nLoad more\\nOur Research\\n\\nResearch Index\\nResearch Overview\\nResearch Residency\\n\\nLatest Advancements\\n\\nOpenAI o1\\nOpenAI o1-mini\\nGPT-4o\\nGPT-4o mini\\nSora\\n\\nSafety\\n\\nSafety Approach\\nSecurity & Privacy\\n\\nChatGPT\\n\\nExplore ChatGPT\\nTeam\\nEnterprise\\nEducation\\nPricing\\nDownload\\n\\nSora\\n\\nSora Overview\\nFeatures\\nPricing\\nSora log in(opens in a new window)\\n\\nAPI Platform\\n\\nPlatform Overview\\nPricing\\nAPI log in(opens in a new window)\\nDocumentation(opens in a new window)\\nDeveloper Forum(opens in a new window)\\n\\nFor Business\\n\\nOverview\\n\\nCompany\\n\\nAbout us\\nOur Charter\\nCareers\\nBrand\\n\\nMore\\n\\nNews\\nStories\\nHelp Center(opens in a new window)\\n\\nTerms & Policies\\n\\nTerms of Use\\nPrivacy Policy\\nSecurity\\nOther Policies\\n\\n(opens in a new window)(opens in a new window)(opens in a new window)(opens in a new window)(opens in a new window)(opens in a new window)(opens in a new window)\\nOpenAI © 2015–2025\"}, {\"url\": \"https://www.reuters.com/technology/artificial-intelligence/openai-plans-simplify-ai-products-new-road-map-latest-models-ceo-altman-says-2025-02-12/\", \"title\": \"OpenAI plans to simplify AI products in new road map for ... - Reuters\", \"content\": \"OpenAI will also release a GPT-4.5 model, internally referred to as \\\"Orion\\\", as its last \\\"non-chain-of-thought\\\" model — a reasoning process\", \"score\": 0.70214266, \"raw_content\": null}, {\"url\": \"https://community.openai.com/c/announcements/6\", \"title\": \"Announcements - OpenAI Developer Community\", \"content\": \"Latest Announcements topics - OpenAI Developer Community API Official updates related to OpenAI, the API, ChatGPT, and more! API api For updates on incidents, see the OpenAI API status page: https://status.openai.com/ |  | 0 | 25.9k | Mar 2021 | Official updates related to OpenAI, the API, ChatGPT, and more! api api | OpenAI o1 streaming now available + API access for tiers 1–5 | New Realtime API voices and cache pricing | Improved search in OpenAI documentation and API reference | New reasoning models: OpenAI o1-preview and o1-mini | Introducing GPT-4o mini in the API | Announcing GPT-4o in the API! |      | 5 | 2.7k | May 2024 | | New embedding models and API updates\", \"score\": 0.6557114, \"raw_content\": \"Latest Announcements topics - OpenAI Developer Community\\nSkip to main content\\n\\n\\nDocs\\nAPI\\nSupport\\n\\nSign Up Log In\\n\\n​\\n\\nAnnouncements\\nOfficial updates related to OpenAI, the API, ChatGPT, and more!\\n\\nTopics\\nMore\\n\\nResources\\n\\nDocumentation\\nAPI reference\\nHelp center\\n\\nCategories\\n\\nAnnouncements\\nAPI\\nPrompting\\nDocumentation\\nPlugins / Actions builders\\nAll categories\\n\\nTags\\n\\nchatgpt\\ngpt-4\\napi\\nlost-user\\nassistants-api\\nAll tags\\n\\nLight mode\\n​\\n​\\nWelcome to the OpenAI Developer Forum!\\nWhat to know before posting a new question:\\n\\nSearch the forum for similar topics - the question might have been discussed before.\\nIf the question relates account issues (e.g., billing and login issues), please contact us through our Help Center.\\n\\nPlease be kind and helpful in conversations!\\n\\n\\nAnnouncements\\n\\n\\ntags\\n\\n\\nLatest\\n\\nTop\\nHot\\n\\nTopic list, column headers with buttons are sortable.\\n| Topic | Posters | Replies | Views | Activity |\\n| --- | --- | --- | --- | --- |\\n| OpenAI API Status page: https://status.openai.com/\\nFor updates on incidents, see the OpenAI API status page: https://status.openai.com/ |  | 0 | 25.9k | Mar 2021 |\\n| About the Announcements category\\nOfficial updates related to OpenAI, the API, ChatGPT, and more! Posts are created by the OpenAI staff. |  | 0 | 5.3k | Sep 2023 |\\n| Welcome to community.openai.com!\\nWelcome to the OpenAI Developer community! Looking for ChatGPT support? Head to https://help.openai.com! This community resource is for all users of the various OpenAI developer platforms. We welcome discussion of the … read more |   | 1 | 26.4k | Aug 2023 |\\n| Launching o3-mini in the API\\n|      | 61 | 13.7k | 5d |\\n| Audio support in the Chat Completions API\\n|      | 13 | 3.6k | 20d |\\n| Introducing the Realtime API\\n|      | 28 | 7.0k | 27d |\\n| We’ve added support for vision fine-tuning\\nfine-tuning\\n|      | 50 | 1.4k | Jan 11 |\\n| Added a “Copy Page” Button for Docs\\n|     | 3 | 425 | Jan 2 |\\n| Realtime API updates — WebRTC, cheaper prices, 4o-mini, and more\\n|      | 26 | 5.7k | Dec 2024 |\\n| Introducing Structured Outputs\\napi\\n|      | 60 | 8.8k | Dec 2024 |\\n| New Playground features: Generate in the Playground\\nplayground\\n|      | 8 | 5.1k | Dec 2024 |\\n|   Introducing the Usage API—track API usage and costs programmatically\\napi-usage\\n|      | 6 | 1.1k | Dec 2024 |\\n| Model Distillation (including Evals and Stored Completions)\\napi\\n|      | 10 | 1.6k | Dec 2024 |\\n| OpenAI o1 streaming now available + API access for tiers 1–5\\n|      | 6 | 5.2k | Nov 2024 |\\n| New Realtime API voices and cache pricing\\nrealtimeprompt-caching\\n|      | 26 | 5.1k | Nov 2024 |\\n| Evals in the OpenAI dashboard\\n|   | 2 | 543 | Nov 2024 |\\n| Introducing Predicted Outputs\\n|      | 15 | 7.1k | Nov 2024 |\\n| Improved search in OpenAI documentation and API reference\\n|     | 3 | 211 | Nov 2024 |\\n| Prompt caching (automatic!)\\n|      | 19 | 2.6k | Oct 2024 |\\n| Latest `gpt-4o` snapshot is cheaper and supports Structured Outputs\\n|    | 2 | 478 | Oct 2024 |\\n| New reasoning models: OpenAI o1-preview and o1-mini\\n|      | 114 | 13.6k | Sep 2024 |\\n| Upgrading the Moderation API with a new multimodal moderation model\\n|    | 2 | 454 | Sep 2024 |\\n| Introducing GPT-4o mini in the API\\ngpt-4o-mini\\n|      | 63 | 29.7k | Jul 2024 |\\n| Announcing GPT-4o in the API!\\n|      | 130 | 107k | Jul 2024 |\\n| Engine Names & Documentation Update\\n|      | 5 | 2.7k | May 2024 |\\n| Introducing Sora, our text-to-video model\\nsora\\n|   | 2 | 66.2k | Feb 2024 |\\n| New embedding models and API updates\\n|    | 3 | 10.4k | Feb 2024 |\\n| New AI classifier for indicating AI-written text\\n|      | 10 | 5.6k | Jan 2024 |\\n| New models and developer products announced at DevDay\\nannouncement\\n|      | 70 | 17.3k | Jan 2024 |\\n| OpenAI X climate change hackathon\\n|      | 9 | 3.8k | Jan 2024 |\\nInvalid date Invalid date\"}], \"response_time\": 7.25}\n==================================\u001B[1m Ai Message \u001B[0m==================================\n\nHere are three of the latest product releases from OpenAI:\n\n1. **Canvas**: A new way to write and code with ChatGPT, introduced on October 3, 2024.\n\n2. **Realtime API**: Launched on October 1, 2024, this API provides real-time capabilities for developers.\n\n3. **Vision Fine-Tuning API**: Also introduced on October 1, 2024, this API allows for vision-based fine-tuning.\n\nThese releases highlight OpenAI's ongoing efforts to enhance their AI tools and platforms.\n"
     ]
    }
   ],
   "source": [
    "user_input = \"Tell me 3 latest OpenAI product releases\"\n",
    "for event in agent_inmem.stream(input={\"messages\": user_input},\n",
    "                          config=config,\n",
    "                          stream_mode='values'):\n",
    "    event['messages'][-1].pretty_print()"
   ]
  },
  {
   "cell_type": "code",
   "execution_count": 0,
   "metadata": {
    "application/vnd.databricks.v1+cell": {
     "cellMetadata": {},
     "inputWidgets": {},
     "nuid": "79448c3c-3b09-42a9-bd31-8bd82eef7b0e",
     "showTitle": false,
     "tableResultSettingsMap": {},
     "title": ""
    },
    "colab": {
     "base_uri": "https://localhost:8080/"
    },
    "id": "rMDzsaKDmInw",
    "outputId": "9a0b6df5-04ab-422f-eb37-47dde083451d"
   },
   "outputs": [
    {
     "output_type": "stream",
     "name": "stdout",
     "output_type": "stream",
     "text": [
      "================================\u001B[1m Human Message \u001B[0m=================================\n\ndo the same for Meta releases\n==================================\u001B[1m Ai Message \u001B[0m==================================\nTool Calls:\n  search_web (call_Uf1Yj51YDlDKLsMCgWhM0FUd)\n Call ID: call_Uf1Yj51YDlDKLsMCgWhM0FUd\n  Args:\n    query: latest Meta product releases\n    num_results: 3\n=================================\u001B[1m Tool Message \u001B[0m=================================\nName: search_web\n\n{\"query\": \"latest Meta product releases\", \"follow_up_questions\": null, \"answer\": null, \"images\": [], \"results\": [{\"url\": \"https://www.theverge.com/24254101/meta-connect-2024-announcements-products\", \"title\": \"Meta Connect 2024: the biggest announcements | The Verge\", \"content\": \"Meta announced a new Quest 3S VR headset, updates to its Ray-Ban smart glasses, the latest Llama AI model, and a look into the future with its Orion AR glasses. Meta announced a new Quest 3S VR headset, updates to its Ray-Ban smart glasses, the latest Llama AI model, and a look into the future with its Orion AR glasses. Meta has a bunch of new hardware and AI news coming out of its Meta Connect event today, including a new Quest 3S VR headset, an expansion of Meta AI features, a new Llama model, and a first look at the new Orion augmented reality glasses.\", \"score\": 0.7623715, \"raw_content\": \"Published Time: 2024-09-25T18:09:32+00:00\\nMeta Connect 2024: the biggest announcements | The Verge\\nSkip to main content\\nThe homepage\\n*   Tech\\n*   Reviews\\n*   Science\\n*   Entertainment\\n*   AI\\n*   More\\nThe homepage\\nMenu\\nNavigation Drawer\\n\\n\\nLogin\\n/\\nSign Up\\n\\n\\nclose\\nSearch\\n\\n\\nTech\\n\\nAll Tech\\nAmazon\\nApple\\nFacebook\\nGoogle\\nMicrosoft\\nSamsung\\nBusiness\\nCreators\\nMobile\\nPolicy\\nSecurity\\nTransportation\\n\\n\\n\\nReviews\\n\\nAll Reviews\\nBuying Guides\\nDeals\\nGift Guide\\nLaptops\\nPhones\\nHeadphones\\nTablets\\nSmart Home\\nSmartwatches\\nSpeakers\\nDrones\\n\\n\\n\\nScience\\n\\nAll Science\\nSpace\\nEnergy\\nEnvironment\\nHealth\\nCOVID-19\\n\\n\\n\\nEntertainment\\n\\nAll Entertainment\\nGames\\nTV Shows\\nMovies\\nAudio\\n\\n\\n\\nAI\\n\\n\\nCars\\n\\nAll Cars\\nElectric Cars\\nAutonomous Cars\\nRide-Sharing\\nScooters\\nOther Transportation\\n\\n\\n\\nFeatures\\n\\n\\nVideos\\n\\nAll Videos\\nYouTube\\nTikTok\\nInstagram\\n\\n\\n\\nPodcasts\\n\\nAll Podcasts\\nDecoder\\nThe Vergecast\\n\\n\\n\\nNewsletters\\n\\nAll Newsletters\\nCommand Line\\nInstaller\\nNotepad\\nVerge Deals\\n\\n\\n\\nStore\\n\\n\\nSubscribe\\n\\n\\n\\n\\n\\n\\n\\n\\nThe biggest news from Meta Connect 2024\\nComments Drawer\\n\\nNews\\n\\nThe biggest news from Meta Connect 2024\\nMeta announced a new Quest 3S VR headset, updates to its Ray-Ban smart glasses, the latest Llama AI model, and a look into the future with its Orion AR glasses.\\nMeta announced a new Quest 3S VR headset, updates to its Ray-Ban smart glasses, the latest Llama AI model, and a look into the future with its Orion AR glasses.\\nby Umar Shakir\\nSep 25, 2024, 6:09 PM UTC\\n\\n\\n\\n\\n\\n\\n\\n\\nPhoto by Vjeran Pavic / The Verge\\n\\nUmar Shakir is a news writer fond of the electric vehicle lifestyle and things that plug in via USB-C. He spent over 15 years in IT support before joining The Verge.\\nMeta has a bunch of new hardware and AI news coming out of its Meta Connect event today, including a new Quest 3S VR headset, an expansion of Meta AI features, a new Llama model, and a first look at the new Orion augmented reality glasses. CEO Mark Zuckerberg took the stage on Wednesday with a new style and demonstrated new features including live translation between English and Spanish.\\nHere’s everything announced at Meta Connect:\\nOrion AR glasses\\n\\nPhoto by Vjeran Pavic / The Verge\\nMeta has revealed its Orion augmented reality glasses, and they look almost like a trendy pair of frames you could pick up without all the tech inside. Orion uses Micro LED projectors inside the frame and beams images in front of your eyes via waveguides in the lenses. Orion has the same kinds of generative AI capabilities as the current Ray-Ban smart glasses — but adds a visual element to make it more helpful, like adding labels on top of ingredients you’re looking at on a table.\\nThe glasses pair with a wireless compute puck and a “neural wristband” you wear on your arm that responds to gestures like punches. Orion isn’t quite ready as a product, though, so it isn’t going on sale.\\nThe cheaper Quest 3S VR headset\\n\\nPhoto by Vjeran Pavic / The Verge\\nMeta’s latest VR headset is the Quest 3S, and it’s launching at the Quest 2’s original starting price of $299.99. The new headset has many of the same features as the more expensive Quest 3, including the same Snapdragon XR2 Gen 2 chip, and uses the same Touch Plus controllers. The lower price point is possible thanks to the Quest 3S’s lack of depth sensor, lower resolution screens, narrower field of view, and less compact package than the 3. With the 3S now in place, Meta is simplifying its VR lineup by discontinuing the Quest 2 and Quest Pro.\\nMeta’s Ray-Ban glasses add new features\\n\\nPhoto by Vjeran Pavic / The Verge\\nMeta’s very cool Ray-Ban smart glasses are getting new software updates that add a Reminders feature that can help you keep track of your day like remembering your grocery list. There are also improvements to Meta AI responsiveness, and the company is working on real-time speech translation. On the hardware front, Meta is launching new styles like a transparent frame and a new range of transition lenses.\\nAI images in your Facebook and Instagram feeds — featuring you\\n\\nImage: Meta\\nSoon, your Facebook and Instagram feeds will include Meta AI-generated content “based on your interests or current trends” in a section called “Imagined for you.” It can incorporate your face into made-up scenarios like “an enchanted realm,” and you can do things like imagine yourself as a video game character or astronaut. The feature is a test for now.\\nMeta AI in celebrity voices\\nMeta is continuing its venture to make celeb chatbots after shutting down its alternate persona feature on Instagram, which had weird options like Tom Brady playing as “Bru.” Now, Meta is connecting new celebrities with AI versions of themselves on Meta AI, including Awkwafina, John Cena, Keegan-Michael Key, Kristen Bell, and Dame Judi Dench. You can get access to these Meta AI voices on Instagram, WhatsApp, and Facebook in the US.\\nNew Llama model with image processing\\n\\nIllustration by Nick Barclay / The Verge\\nMeta has a new Llama model with one key update: the ability to process visuals. This is something competitors have had for the past year, so it’s an important step forward for Meta’s model. The new version also comes in smaller packages designed for mobile.\\n\\nSee More:\\n\\nAI\\nAR\\nMeta\\nNews\\nTech\\n\\nMore in this stream\\nSee all\\nThe kinds of devices Meta wants to make next\\nAlex HeathOct 11, 2024\\nWelcome to Meta’s future, where everyone wears cameras\\nJay PetersSep 28, 2024\\nMeta’s new smart glasses look like the future\\nDavid PierceSep 27, 2024\\nMost Popular\\nMost Popular\\n\\n\\nStarlink poised to take over $2.4 billion contract to overhaul air traffic control communication\\n\\n\\nMeta is firing about 20 employees for leaking\\n\\n\\nOpenAI announces GPT-4.5, warns it’s not a frontier AI model\\n\\n\\nPerplexity’s AI search engine can now buy products for you\\n\\n\\niPhone 16E review: Eh, it’s alright\\n\\n\\nInstaller\\nA weekly newsletter by David Pierce designed to tell you everything you need to download, watch, read, listen to, and explore that fits in The Verge’s universe.\\nEmail (required)\\nSign Up\\nBy submitting your email, you agree to our Terms and Privacy Notice. This site is protected by reCAPTCHA and the Google Privacy Policy and Terms of Service apply.\\nAdvertiser Content From  ### This is the title for the native ad \\nMore in News\\n\\nDJI’s drone-in-a-box can now launch from moving vehicles\\n\\nAirbnb co-founder Joe Gebbia now works for DOGE\\n\\nEA open-sources four more Command & Conquer games\\n\\nKia’s next EV is the affordable, long-range EV4 sedan\\n\\nMeta’s AI chatbot will soon have a standalone app\\n\\nAmazon CEO says ‘beautiful’ new Alexa hardware is coming this fall\\n\\nDJI’s drone-in-a-box can now launch from moving vehicles\\nAndrew Liszewski26 minutes ago\\n\\nAirbnb co-founder Joe Gebbia now works for DOGE\\nJess Weatherbed11:22 AM UTC\\n\\nEA open-sources four more Command & Conquer games\\nDominic Preston10:18 AM UTC\\n\\nKia’s next EV is the affordable, long-range EV4 sedan\\nUmar Shakir12:20 AM UTC\\n\\nMeta’s AI chatbot will soon have a standalone app\\nEmma RothFeb 27\\n\\nAmazon CEO says ‘beautiful’ new Alexa hardware is coming this fall\\nEmma RothFeb 27\\nAdvertiser Content From  ### This is the title for the native ad\\nTop Stories\\nAn hour ago\\nElon enters the circus\\n27 minutes ago\\nMicrosoft is shutting down Skype\\n9:59 AM UTC\\nAurzen Zip tri-fold projector review: mirror anything (without DRM)\\n27 minutes ago\\nNHL officials will start wearing Apple Watches on ice\\nFeb 27\\nMeta is firing about 20 employees for leaking information\\nFeb 27\\niPhone 16E review: Eh, it’s alright\\n\\n\\n\\n\\n\\n\\n\\n\\n\\n\\nContact\\n\\nTip Us\\nCommunity Guidelines\\nAbout\\nEthics Statement\\n\\nHow We Rate and Review Products\\n\\n\\nCookie Settings\\n\\nTerms of Use\\nPrivacy Notice\\nCookie Policy\\nLicensing FAQ\\nAccessibility\\nPlatform Status\\n\\n© 2025 Vox Media, LLC. All Rights Reserved\"}, {\"url\": \"https://about.fb.com/news/category/technologies/meta/\", \"title\": \"Latest Meta Company News\", \"content\": \"Meta Meta Quest overview Meta Quest 3 Meta Quest 2 Meta Portal overview Meta Portal Go Ray-Ban Meta AI glasses Ray-Ban | Meta overview Meta Quest overview Meta Quest 3 Meta Quest 2 Ray-Ban Meta AI glasses Ray-Ban | Meta overview Meta Quest Ray-Ban | Meta Meta Horizon Meta Quest Ray-Ban | Meta Meta Horizon Learn about Meta Meta Quest Meta Portal Meta Horizon Meta Quest Meta Portal Meta Horizon Meta Meta Meta Meta Meta Meta Meta Open source AI models like Llama are available for free for organizations to use, modify and build on, making this critical technology more accessible than commercial models. Meta Meta Meta Meta Shop Meta Quest Meta Quest safety center Shop Meta Portal About Meta Meta Quest Shop Meta Quest Meta Quest safety center Meta Quest About Meta\", \"score\": 0.5863576, \"raw_content\": \"Latest Meta Company News | Meta\\nSkip to content\\nViewing this site in\\nVocê está visualizando este site em\\nDiese Seite anzeigen auf\\nVous consultez ce site en\\nこのサイトを次の言語で表示\\n다음 언어로 표시 중\\nEste sitio se está viendo en\\nEste sitio se está viendo en\\nMeta\\n\\n\\nShop\\n\\n\\nMenu\\n\\nMenu\\n\\nBack\\n\\n\\n\\n\\nOur technologies\\n\\n\\nMenu\\n\\nMenu\\n\\nBack\\n\\n\\n\\n\\nAbout us\\n\\n\\nMenu\\n\\nMenu\\n\\nBack\\n\\n\\n\\n\\nBuild with us\\n\\n\\nMenu\\n\\nMenu\\n\\nBack\\n\\n\\n\\n\\nSupport\\n\\nHelp Center\\n\\n\\n\\nVirtual reality\\n\\nMeta Quest overview\\nMeta Quest 3\\nMeta Quest 2\\nMeta Quest Pro\\nCompare devices\\nAccessories\\nMeta Warranty Plus\\nGift cards\\n\\n\\n\\n\\nMeta Portal overview\\nMeta Portal TV\\nMeta Portal 10″\\nMeta Portal Go\\nMeta Portal Plus\\n\\n\\n\\nRay-Ban Meta AI glasses\\n\\nRay-Ban | Meta overview\\nShop all\\nWayfarer\\nHeadliner\\n\\n\\n\\n\\nVirtual reality\\n\\nMeta Quest overview\\nMeta Quest 3\\nMeta Quest 2\\nMeta Quest Pro\\nCompare devices\\nAccessories\\nMeta Warranty Plus\\nGift cards\\n\\n\\nRay-Ban Meta AI glasses\\n\\nRay-Ban | Meta overview\\nShop all\\nWayfarer\\n\\nHeadliner\\n\\n\\nShop devices\\n\\nMeta Quest\\nRay-Ban | Meta\\n\\n\\n\\nExplore apps\\n\\nFacebook\\nMessenger\\nInstagram\\nWhatsApp\\nMeta Horizon\\n\\n\\n\\nExplore work tools\\n\\nWork products overview\\nVirtual reality headsets\\nMeta Horizon Workrooms\\nWorkplace\\n\\n\\n\\nLearn about all technologies\\n\\n\\nShop devices\\n\\nMeta Quest\\nRay-Ban | Meta\\n\\nExplore apps\\n\\nFacebook\\nMessenger\\nInstagram\\nWhatsApp\\nMeta Horizon\\n\\nExplore work tools\\n\\nWork products overview\\nVirtual reality headsets\\nMeta Horizon Workrooms\\nWorkplace\\n\\nLearn about all technologies\\n\\nThe metaverse\\n\\nWho we are\\n\\n\\nOur actions\\n\\n\\nOur community\\n\\n\\nNews\\n\\n\\nLearn about Meta\\n\\nBusinesses\\nCreators\\n\\nDevelopers\\n\\n\\nCareers\\n\\nInvestors\\nMedia\\nResearchers\\n\\nEngineers\\n\\n\\nGovernment, Politics & Advocacy\\n\\nNonprofits\\n\\nEducators\\n\\n\\nShop Help Center\\n\\nProduct support home\\nMeta Quest\\nMeta Portal\\nRay-Ban Stories\\nFind order\\n\\n\\n\\nApp Help Center\\n\\nMeta Horizon\\nFacebook\\nMessenger\\nInstagram\\nWhatsApp\\nWorkplace\\n\\n\\n\\nShop Help Center\\n\\nProduct support home\\nMeta Quest\\nMeta Portal\\nRay-Ban Stories\\nFind order\\n\\nApp Help Center\\n\\nMeta Horizon\\nFacebook\\nMessenger\\nInstagram\\nWhatsApp\\nWorkplace\\n\\nSearch\\nWhen autocomplete results are available use up and down arrows to review and enter to select. Touch device users, explore by touch or with swipe gestures.\\nClear\\nsee all results for\\nClose tray\\nMeta\\nFilter News\\nRecent News\\nAll Stories\\nCategories\\nFacebookMessengerInstagramWhatsAppThreadsMeta QuestWorkplace\\nTopics\\nCompany NewsTechnology and InnovationData and PrivacySafety and ExpressionCombating MisinformationEconomic OpportunityElection IntegrityStrengthening CommunitiesDiversity and Inclusion\\nMeta\\nAnnouncing the Language Technology Partner Program\\nToday, we’re excited to share some of our most recent programs, research and models that support FAIR’s goal of advanced machine intelligence.\\nFebruary 7, 2025February 7, 2025\\n\\nMeta\\nOur Approach to Frontier AI\\nWe’re sharing our Frontier AI Framework, which guides our consideration of risk in our model-release decisions, in line with the commitment we made at last year’s global AI Seoul Summit.\\nFebruary 3, 2025February 3, 2025\\n\\nMeta\\nExpanding GenAI Transparency for Meta’s Ads Products\\nWe’re sharing more about our approach to labeling ads on our platforms that were created or significantly edited using our generative AI creative features.\\nFebruary 3, 2025February 2, 2025\\n\\nMeta\\nReflecting on Meta’s $8 Billion Investment in Privacy\\nThis Data Privacy Day, we’re looking back at the profound progress we’ve made since investing $8 Billion in our privacy program six years ago.\\nJanuary 28, 2025January 28, 2025\\n\\nMeta\\nHow Organizations Are Using Llama to Solve Industry Challenges\\nOrganizations are using Llama to build tools that provide value to individuals, society and the economy, and saving time and money in the process.\\nJanuary 13, 2025January 13, 2025\\n\\nMeta\\nHow Open Source AI is Evolving Healthcare\\nOpen source AI models like Llama are available for free for organizations to use, modify and build on, making this critical technology more accessible than commercial models. \\nJanuary 13, 2025January 13, 2025\\n\\nMeta\\nMore Speech and Fewer Mistakes\\nWe’re ending our third party fact checking program and moving to a Community Notes model.\\nJanuary 7, 2025January 7, 2025\\n\\nMeta\\nDana White, John Elkann and Charlie Songhurst to Join Meta Board of Directors\\nMeta today announced that Dana White, John Elkann and Charlie Songhurst have been elected to the company’s board of directors.\\nJanuary 6, 2025January 6, 2025\\n\\nMeta\\nOur Year in Review: Meta’s 2024 Highlights\\nAs 2024 concludes, we’re looking back at the products, updates and initiatives that marked a year of innovation at Meta.\\nDecember 27, 2024January 7, 2025\\n\\nMeta\\nAccelerating the Future: AI, Mixed Reality and the Metaverse\\nIn 2024, we launched some of our most innovative mixed reality, AI and Metaverse products yet. Now, our CTO Andrew Bosworth explains why we plan to accelerate in 2025.\\nDecember 16, 2024December 16, 2024\\n\\nSee More News\\nNext »\\nPress Links\\npress@meta.com\\nMedia Gallery\\n@MetaNewsroom\\nFacebook\\n\\n\\nVirtual reality\\n\\nShop Meta Quest\\nRefurbished Meta Quest 2\\nVR for Good\\nForums\\nReferrals\\nBlog\\nCreators\\nDownload SDKs\\nDevelopers\\nMade for Meta partner program\\nMeta Quest health & safety information\\nMeta Quest safety center\\nVR for work\\n\\n\\n\\nVideo calling\\n\\nShop Meta Portal\\nCompare\\nFeatures\\nPrivate by design\\nMeta Portal health & safety information\\n\\n\\n\\nSmart glasses\\n\\nShop Ray-Ban Stories\\nPrivacy information\\nTerms of service\\nData policy\\nSupported countries\\n\\n\\n\\nAbout us\\n\\nAbout Meta\\nMedia gallery\\nBrand resources\\nFor investors\\n\\n\\n\\nOur community\\n\\nSupport SMB\\nGiving together\\nSocial impact\\nBusiness and community growth\\nVR for Good\\n\\n\\n\\nOur actions\\n\\nData and privacy\\nSafety and expression\\nElections\\nCOVID-19 response\\nRegulations\\n\\n\\n\\nSupport\\n\\nShop Help Center\\nOrder status\\nReturns\\nFind a product demo\\nLegal\\nFacebook Help Center\\nMessenger Help Center\\nInstagram Help Center\\nWhatsApp Help Center\\nWorkplace Help Center\\nMeta Quest\\nMeta Verified\\n\\n\\n\\nFacebook\\nFollow Us\\n\\n\\n\\n\\n\\nSkip footer menu\\nSkip footer menu\\nVirtual reality\\n\\nShop Meta Quest\\nRefurbished Meta Quest 2\\nVR for Good\\nForums\\nReferrals\\nBlog\\nCreators\\nDownload SDKs\\nDevelopers\\nMade for Meta partner program\\nMeta Quest health & safety information\\nMeta Quest safety center\\nVR for work\\n\\nAI glasses\\n\\nShop Ray-Ban Stories\\nPrivacy information\\nTerms of service\\nData policy\\nSupported countries\\n\\nSupport\\n\\nShop Help Center\\nOrder status\\nReturns\\nFind a product demo\\nLegal\\nFacebook Help Center\\nMessenger Help Center\\nInstagram Help Center\\nWhatsApp Help Center\\nWorkplace Help Center\\nMeta Quest\\nMeta Verified\\n\\nAbout us\\n\\nAbout Meta\\nMedia gallery\\nBrand resources\\nFor investors\\n\\nOur community\\n\\nSupport SMB\\nGiving together\\nSocial impact\\nBusiness and community growth\\nVR for Good\\n\\nOur actions\\n\\nData and privacy\\nSafety and expression\\nElections\\nCOVID-19 response\\nRegulations\\n\\n\\n© 2025 Meta\\nCommunity Standards\\nData Policy\\nTerms\\nCookie policy\\nUnited States (English)\\nTo help personalize content, tailor and measure ads, and provide a safer experience, we use cookies. By clicking or navigating the site, you agree to allow our collection of information on and off Facebook through cookies. Learn more, including about available controls: Cookie Policy\\nI Agree\"}, {\"url\": \"https://www.socialmediatoday.com/news/meta-plans-new-smart-glasses-ar/738069/\", \"title\": \"Meta Plans to Launch New Smart Glasses Ahead of AR Expansion\", \"content\": \"Meta's planning to release a new version of its current smart glasses later this year, aimed specifically at athletes, with the device's data tracking elements.\", \"score\": 0.50315, \"raw_content\": \"Published Time: 2025-01-22T16:08:57\\nMeta Plans to Launch New Smart Glasses Ahead of AR Expansion | Social Media Today\\nSkip to main content\\n\\nCONTINUE TO SITE ➞\\nDon't miss tomorrow's social media industry news\\nLet Social Media Today's free newsletter keep you informed, straight from your inbox.\\nBy signing up to receive our newsletter, you agree to our Terms of Use and Privacy Policy. You can unsubscribe at anytime.\\n\\n\\nLibrary\\nEvents\\nPress Releases\\nTopics\\n\\nSubscribe \\n\\n\\n Subscribe\\n\\nSearch   \\n\\nFacebook\\nTikTok\\nInstagram\\nSnapchat\\nPinterest\\nX (Twitter)\\nLinkedIn\\n\\nInfographics\\n\\n\\nLive Twitter Chat\\n\\nSMT Experts\\nBecome a Contributor\\n\\nAn article from \\nMeta Plans to Launch New Smart Glasses Ahead of AR Expansion\\nPublished Jan. 22, 2025\\nBy\\nAndrew Hutchinson Content and Social Media Manager\\n\\n post\\n share\\n post\\n print\\n email\\n license\\n\\nMeta’s AR glasses are set to take another step forward this year, with the latest reports on the company’s moves providing some more insight into its planning around wearables.\\nAccording to a new report from Bloomberg, Meta’s planning to release a new version of its current smart glasses later this year, aimed specifically at athletes, with the device’s data tracking elements to help improve performance feedback.\\nMeta’s athletic sunglasses will reportedly be based on Oakley’s “Sphaera” style, and will come with a single camera, in the center of the frame, in order to reduce weight.\\n\\nOakley is owned by EssilorLuxottica, the same company that owns Ray Ban, which Meta has already partnered with on its first smart glasses. Meta also reportedly invested in the company last year, solidifying that partnership, which will give Meta direct access to the company’s most popular frames and styles when developing its glasses models.\\nThe models will also, eventually, expand into fully functional AR glasses, though that’s still a little way off yet.\\nAccording to Bloomberg’s report, Meta next stage on this front will be to release its first smart glasses with a heads-up display, which are scheduled to be made available later this year.\\nThe next iteration of its Ray Ban Stories glasses (now called “Ray Ban Meta” according to Meta’s product site) will be able to deliver notifications and display photos, via the small display, that will be visible to the wearer at the lower portion of their view. It’ll also be able to run “simple” apps, though they won’t be fully AR-enabled, providing digital overlays on real-world scenes.\\nThat’s the next stage, which Meta is still planning for 2027, in order to give it more time to establish more sustainable, lower-cost production processes, which will bring down the price of the AR device.\\nMeta CEO Mark Zuckerberg was highly critical of Apple’s approach with its AR-enabled VisionPro device, noting that its $3,499 price tag is simply too high to ensure widespread adoption. Meta, instead, has been committed to driving down the costs of its own wearables to expand market reach, and it’s committed to also launching an AR device that aligns with that same principle.\\nThough its newer smart glasses will be more expensive.\\nThe model coming later this year is expected to be around double the price of the current Ray Ban Metas, while the company has also predicted that its AR-enabled glasses will eventually cost the same amount as a \\\"high end laptop or smartphone.”\\nBut Zuckerberg also expects that smart glasses will surpass smartphones in popularity and practicality within the next decade, so that cost may be easier to swallow if you’re no longer reliant on a phone. Though that will also require a significant habitual and social shift to facilitate such growth.\\nMeta is now steadily working towards such a shift, while the push to keep the costs down could also be one of the key reasons why Zuckerberg is keen to work with the incoming Trump administration, in order to avoid increased costs for its projects.\\nMany of Meta’s glasses components are sourced from China, and with Trump pledging tariffs on non-American goods, especially Chinese imports, that could put a dent in Meta’s plans.\\nBased on these latest insights, Meta is planning to begin its AR push during Trump’s presidency, which means that it will be hugely dependent on the government to ease its path through regulatory processes, in order to maximize this opportunity.\\nThat alone may be enough to justify Zuckerberg’s kowtowing to Trump, altering the company’s existing content policies to appease the president, among other compromises.\\nAnd if Zuck’s right, that very well could pay off significantly in the longer term.\\nIt won’t be popular, and it's unclear whether the negatives of this approach will outweigh the broader benefits. But for Meta itself, the path forward is clear, and it’s going to need a lot of government cooperation to aid its AI, AR and VR expansion.\\n\\n\\n\\n\\n\\n\\n purchase licensing rights\\n\\nFiled Under: Social Media Updates\\nSocial Media Today news delivered to your inbox\\nGet the free daily newsletter read by industry experts\\nEmail:       \\n\\nSelect user consent: [ ]  By signing up to receive our newsletter, you agree to our Terms of Use and Privacy Policy. You can unsubscribe at anytime.\\n\\nSign up A valid email address is required. Please select at least one newsletter.\\n\\nEditors' picks\\n\\n\\n\\n\\nRetrieved from Daniel Oberhaus/Wikimedia Commons on April 18, 2022\\n\\nTracker\\nThe Complete Elon Musk–Twitter Saga\\nFor months, we’ve been tracking Elon Musk’s $44 billion deal with Twitter. Now that the deal is done, we watch as the Musk-Twitter era begins.\\nBy Andrew Hutchinson and Emma Wiltshire • Nov. 2, 2022\\n\\n\\n\\n\\nSARINYAPINNGAM via Getty Images\\n\\nDeep Dive\\n3 Steps for Establishing a Core Marketing Message\\nThe key to maximizing a social media marketing strategy is to ground the approach in purpose.\\nBy Andrew Hutchinson • Jan. 19, 2024\\n\\n\\nKeep up with the story. Subscribe to the Social Media Today free daily newsletter\\nEmail:       \\n\\nSelect user consent: [ ]  By signing up to receive our newsletter, you agree to our Terms of Use and Privacy Policy. You can unsubscribe at anytime.\\n\\nSign up A valid email address is required. Please select at least one newsletter.\\nGet the free newsletter\\nSubscribe to Social Media Today for top news, trends & analysis\\nEmail:       \\n\\nSelect user consent: [ ]  By signing up to receive our newsletter, you agree to our Terms of Use and Privacy Policy. You can unsubscribe at anytime.\\n\\nSign up A valid email address is required. Please select at least one newsletter.\\nMost Popular\\n\\n\\n\\nInstagram May Be Exploring a Separate Reels App\\n\\n\\n\\nInstagram Provides Tips on How To Maximize Content Recommendations\\n\\n\\n\\nInstagram Explains How Its Algorithm Weighs Time Spent Watching Longer Clips\\n\\n\\n\\nMeta Reportedly Considers Additional $200B in AI Investments\\n\\n\\nLibrary resources\\n\\n\\n\\nWebinar - on demand\\nWinning in the Attention Economy: Strategies to Break Through the Noise Custom content for Canva\\n\\n\\n\\nThe Social Media Today Outlook on 2025\\n\\n\\n\\nWebinar - on demand\\nMarketing Research 2025: 4 Emerging AI Trends to Watch Custom content for SurveyMonkey\\n\\n\\nView all\\nCompany Announcements\\n\\n\\nBest Vietnamese Coffee: Cafely Launches New Collection in 2025 From Mimi Nguyen\\n\\n\\n\\nConsumer Brands Boost Product Discovery with New YouTube Shorts Tool From Statusphere\\n\\n\\nConsumers seek uplifting content amid growing digital negativity, according to Upworthy and Al… From Upworthy\\n\\n\\nView all | Post a press release\\nSocial Media Today news delivered to your inbox\\nGet the free daily newsletter read by industry experts\\nEmail:       \\n\\nSelect user consent: [ ]  By signing up to receive our newsletter, you agree to our Terms of Use and Privacy Policy. You can unsubscribe at anytime.\\n\\nSign up A valid email address is required. Please select at least one newsletter.\\n\\nCompany Announcements\\nView all | Post a press release\\nBest Vietnamese Coffee: Cafely Launches New Collection in 2025 From Mimi Nguyen February 25, 2025Consumer Brands Boost Product Discovery with New YouTube Shorts Tool From Statusphere February 19, 2025 Consumers seek uplifting content amid growing digital negativity, according to Upworthy and Al… From Upworthy February 12, 2025\\nEditors' picks\\n\\n\\n\\n\\nRetrieved from Daniel Oberhaus/Wikimedia Commons on April 18, 2022\\n\\nTracker\\nThe Complete Elon Musk–Twitter Saga\\nFor months, we’ve been tracking Elon Musk’s $44 billion deal with Twitter. Now that the deal is done, we watch as the Musk-Twitter era begins.\\nBy Andrew Hutchinson and Emma Wiltshire • Nov. 2, 2022\\n\\n\\n\\n\\nSARINYAPINNGAM via Getty Images\\n\\nDeep Dive\\n3 Steps for Establishing a Core Marketing Message\\nThe key to maximizing a social media marketing strategy is to ground the approach in purpose.\\nBy Andrew Hutchinson • Jan. 19, 2024\\n\\n\\nLatest in Social Media Updates\\n\\n\\n\\nApple Implements New Age Rating Categories for Apps\\nBy Andrew Hutchinson\\n\\n\\n\\nTikTok Sets Deadline for the Switch to its ‘TikTok One’ Creative Suite\\nBy Andrew Hutchinson\\n\\n\\n\\nMeta Previews Next-Gen AR Glasses\\nBy Andrew Hutchinson\\n\\n\\n\\nTikTok Launches Refreshed Desktop App\\nBy Andrew Hutchinson\\n\\n\\n\\n\\n\\n\\n\\n\\n\\n\\n\\n\\nExplore\\n\\nAbout\\nEditorial Team\\nContact Us\\nNewsletter\\nPurchase Licensing Rights\\nPress Releases\\n\\nReach our audience\\n\\nAdvertising\\nPost a press release\\nPromote an event\\nLog in\\n\\nRelated Publications\\n\\nMarketing Dive\\nMobile Marketer\\n\\n\\nIndustry Dive is an Informa TechTarget business.\\n© 2025 TechTarget, Inc. or its subsidiaries. All rights reserved. | View our other publications | Privacy policy | Terms of use | Take down policy.\\nCookie Preferences / Do Not Sell\\nThis website is owned and operated by Informa TechTarget, part of a global network that informs, influences and connects the world's technology buyers and sellers. All copyright resides with them. Informa PLC's registered office is 5 Howick Place, London SW1P 1WG. Registered in England and Wales. TechTarget, Inc.'s registered office is 275 Grove St. Newton, MA 02466.\\n\\nSearch  \\n\\nHome\\nTopics  \\nFacebook\\nTikTok\\nInstagram\\nSnapchat\\nPinterest\\nX (Twitter)\\nLinkedIn\\nInfographics\\n\\n\\nLibrary\\nEvents\\nPress Releases\\n\\nGet Social Media Today in your inbox\\nThe free newsletter covering the top industry headlines\\nEmail:       \\n\\nSelect user consent: [ ]  By signing up to receive our newsletter, you agree to our Terms of Use and Privacy Policy. You can unsubscribe at anytime.\\n\\nSign up A valid email address is required. Please select at least one newsletter.\"}], \"response_time\": 8.78}\n==================================\u001B[1m Ai Message \u001B[0m==================================\n\nHere are three of the latest product releases from Meta:\n\n1. **Quest 3S VR Headset**: Meta announced the new Quest 3S VR headset, which is a more affordable version of the Quest 3, launched at the original starting price of $299.99. It was announced during the Meta Connect 2024 event.\n\n2. **Ray-Ban Smart Glasses Updates**: Meta has updated its Ray-Ban smart glasses with new software features, including a Reminders feature and improvements to Meta AI responsiveness. New styles like a transparent frame and transition lenses were also introduced.\n\n3. **Orion AR Glasses**: Meta provided a first look at its Orion augmented reality glasses, which use Micro LED projectors and waveguides in the lenses to display images. These glasses are still in development and not yet available for sale.\n\nThese releases reflect Meta's focus on expanding its hardware offerings in virtual and augmented reality.\n"
     ]
    }
   ],
   "source": [
    "user_input = \"do the same for Meta releases\"\n",
    "for event in agent_inmem.stream(input={\"messages\": user_input},\n",
    "                          config=config,\n",
    "                          stream_mode='values'):\n",
    "    event['messages'][-1].pretty_print()"
   ]
  },
  {
   "cell_type": "code",
   "execution_count": 0,
   "metadata": {
    "application/vnd.databricks.v1+cell": {
     "cellMetadata": {},
     "inputWidgets": {},
     "nuid": "e47b5319-3200-4b6d-b281-777b73dd0b55",
     "showTitle": false,
     "tableResultSettingsMap": {},
     "title": ""
    },
    "colab": {
     "base_uri": "https://localhost:8080/"
    },
    "id": "Fu64HhjUQEE9",
    "outputId": "fb5c7bf1-d37f-43ad-80c2-84ef2094a420"
   },
   "outputs": [
    {
     "output_type": "stream",
     "name": "stdout",
     "output_type": "stream",
     "text": [
      "================================\u001B[1m Human Message \u001B[0m=================================\n\nwhat did we discuss so far\n==================================\u001B[1m Ai Message \u001B[0m==================================\n\nWe discussed brief one-line explanations of Artificial Intelligence (AI) and Machine Learning (ML). AI was described as the simulation of human intelligence processes by machines, while ML was defined as a subset of AI that enables computers to learn from data and make predictions or decisions without explicit programming.\n"
     ]
    }
   ],
   "source": [
    "uid = 'user001'\n",
    "config = {\"configurable\": {\"thread_id\": uid}}\n",
    "user_input = \"what did we discuss so far\"\n",
    "for event in agent_inmem.stream(input={\"messages\": user_input},\n",
    "                          config=config,\n",
    "                          stream_mode='values'):\n",
    "    event['messages'][-1].pretty_print()"
   ]
  },
  {
   "cell_type": "markdown",
   "metadata": {
    "application/vnd.databricks.v1+cell": {
     "cellMetadata": {},
     "inputWidgets": {},
     "nuid": "8615003b-eddf-4636-93d9-064bdb8767cf",
     "showTitle": false,
     "tableResultSettingsMap": {},
     "title": ""
    },
    "id": "v76pq5jgzeD4"
   },
   "source": [
    "## Build & Test Agentic Graph with On-disk Persistence"
   ]
  },
  {
   "cell_type": "code",
   "execution_count": 0,
   "metadata": {
    "application/vnd.databricks.v1+cell": {
     "cellMetadata": {},
     "inputWidgets": {},
     "nuid": "27c6ce18-f6ea-4583-b8cd-fe41f5893179",
     "showTitle": false,
     "tableResultSettingsMap": {},
     "title": ""
    },
    "colab": {
     "base_uri": "https://localhost:8080/"
    },
    "id": "Aqb4M8-qzhGT",
    "outputId": "5ea34110-e8e7-4094-f1e9-d93645f94446"
   },
   "outputs": [
    {
     "output_type": "stream",
     "name": "stdout",
     "output_type": "stream",
     "text": [
      "rm: cannot remove 'memory.db*': No such file or directory\n"
     ]
    }
   ],
   "source": [
    "# clearing memory database (just for demo, in general should keep it)\n",
    "!rm memory.db*"
   ]
  },
  {
   "cell_type": "code",
   "execution_count": 0,
   "metadata": {
    "application/vnd.databricks.v1+cell": {
     "cellMetadata": {},
     "inputWidgets": {},
     "nuid": "e75995d8-a7c5-4cbd-a6cb-e785f6277870",
     "showTitle": false,
     "tableResultSettingsMap": {},
     "title": ""
    },
    "id": "tH4tF0obz9E4"
   },
   "outputs": [],
   "source": [
    "from langgraph.checkpoint.sqlite import SqliteSaver\n",
    "\n",
    "def call_conversational_agent(agent_graph, prompt, user_session_id):\n",
    "    with SqliteSaver.from_conn_string(\"memory.db\") as memory:\n",
    "        agent_extmem = agent_graph.compile(checkpointer=memory)\n",
    "        for event in agent_extmem.stream(input={\"messages\": prompt},\n",
    "                                         config={\"configurable\": {\"thread_id\": user_session_id}},\n",
    "                                         stream_mode='values'):\n",
    "            event['messages'][-1].pretty_print()"
   ]
  },
  {
   "cell_type": "code",
   "execution_count": 0,
   "metadata": {
    "application/vnd.databricks.v1+cell": {
     "cellMetadata": {},
     "inputWidgets": {},
     "nuid": "df4ad177-8a0f-467c-9bb9-8068468f5dd7",
     "showTitle": false,
     "tableResultSettingsMap": {},
     "title": ""
    },
    "colab": {
     "base_uri": "https://localhost:8080/"
    },
    "id": "mAJAO3ut0ujO",
    "outputId": "4131dbf4-12c1-48bb-bf5c-dceff5a2d1e8"
   },
   "outputs": [
    {
     "output_type": "execute_result",
     "data": {
      "text/plain": [
       "<langgraph.graph.state.StateGraph at 0x111f4bcb0>"
      ]
     },
     "execution_count": 18,
     "metadata": {},
     "output_type": "execute_result"
    }
   ],
   "source": [
    "builder"
   ]
  },
  {
   "cell_type": "code",
   "execution_count": 0,
   "metadata": {
    "application/vnd.databricks.v1+cell": {
     "cellMetadata": {},
     "inputWidgets": {},
     "nuid": "f6462778-5864-468c-9d08-1c13daebec49",
     "showTitle": false,
     "tableResultSettingsMap": {},
     "title": ""
    },
    "colab": {
     "base_uri": "https://localhost:8080/"
    },
    "id": "gf1NsjUa0ntz",
    "outputId": "68205299-2164-4b00-bafd-44ac0fcbfab6"
   },
   "outputs": [
    {
     "output_type": "stream",
     "name": "stdout",
     "output_type": "stream",
     "text": [
      "================================\u001B[1m Human Message \u001B[0m=================================\n\nWhat is the latest news on Apple? summarize in 3 bullets\n==================================\u001B[1m Ai Message \u001B[0m==================================\nTool Calls:\n  search_web (call_OioJ13Qf6V9jQyIXmn2VGIho)\n Call ID: call_OioJ13Qf6V9jQyIXmn2VGIho\n  Args:\n    query: latest news on Apple\n    num_results: 3\n=================================\u001B[1m Tool Message \u001B[0m=================================\nName: search_web\n\n{\"query\": \"latest news on Apple\", \"follow_up_questions\": null, \"answer\": null, \"images\": [], \"results\": [{\"url\": \"https://www.nbcnews.com/tech/apple\", \"title\": \"Latest on the iPhone, iPad, Macbook, Apple TV, Operating Systems ...\", \"content\": \"Apple News: Latest on the iPhone, iPad, Macbook, Apple TV, Operating Systems & More | NBC News NBC News Now Apple Apple Apple Apple and Huawei battle for sales as their new phones launch on the same day in China Apple announces iPhone event for Sept. NBC News Videos Apple shares close at record high after company unveils AI software Apple's new AI update aims to create an iPhone that truly gets you Apple Apple Apple Apple Apple releases new sports app for iPhone Apple Apple Some Apple Vision Pro users love the new device. Apple Apple Apple introduces new iPhone security mode to protect against stolen passcodes Apple Apple CEO Tim Cook makes surprise visit to China, where iPhone 15 sales are off to a slow start Apple\", \"score\": 0.7156829, \"raw_content\": \"Apple News: Latest on the iPhone, iPad, Macbook, Apple TV, Operating Systems & More | NBC News\\nIE 11 is not supported. For an optimal experience visit our site on another browser.\\nSkip to Content\\n\\n\\nTrump admin\\nPolitics\\n\\nLocal\\n\\nNew York\\nLos Angeles\\nChicago\\nDallas-Fort Worth\\nPhiladelphia\\nWashington, D.C.\\nBoston\\nBay Area\\nSouth Florida\\nSan Diego\\nConnecticut\\n\\n\\n\\nU.S. News\\n\\nWorld\\nBusiness\\nEditors' picks\\nShopping\\nTipline\\nSports\\nHealth\\nScience\\n\\nCulture & Trends\\n\\n\\nShare & Save —\\n\\n\\n\\n\\n\\n\\nMy NewsManage ProfileEmail PreferencesSign Out\\nSearch\\nProfile\\nMy NewsSign Out\\nSign InCreate your free profile\\nSections\\n\\nU.S. News\\nDecision 2024\\nPolitics\\nWorld\\nBusiness\\nSports\\nInvestigations\\nCulture & Trends\\nHealth\\nScience\\nTech & Media\\nWeather\\nVideo Features\\nPhotos\\nNBC Select\\nNBC Asian America\\nNBC BLK\\nNBC Latino\\nNBC OUT\\n\\nLocal\\n\\nNew York\\nLos Angeles\\nChicago\\nDallas-Fort Worth\\nPhiladelphia\\nWashington, D.C.\\nBoston\\nBay Area\\nSouth Florida\\nSan Diego\\nConnecticut\\n\\ntv\\n\\nToday\\nNightly News\\nMSNBC\\nMeet the Press\\nDateline\\n\\nFeatured\\n\\nNBC News Now\\nNightly Films\\nStay Tuned\\nSpecial Features\\nNewsletters\\nPodcasts\\nListen Now\\n\\nMore From NBC\\n\\nCNBC\\nNBC.COM\\nNBCU Academy\\nPeacock\\nNEXT STEPS FOR VETS\\nNBC News Site Map\\nHelp\\n\\nFollow NBC News\\n\\n\\n\\n\\n\\nnews Alerts\\nThere are no new alerts at this time\\nSearch\\n\\nFacebook\\nTwitter\\nEmail\\nSMS\\nPrint\\nWhatsapp\\nReddit\\nPocket\\nFlipboard\\nPinterest\\n\\nLinkedin\\n\\n\\nLatest Stories\\n\\nTrump admin\\nPolitics\\nU.S. News\\nWorld\\nBusiness\\nEditors' picks\\nShopping\\nTipline\\nSports\\nHealth\\nScience\\nCulture & Trends\\n\\nApple\\n Justin Sullivan / Getty Images file\\nApple\\nApple to pay $95 million to settle lawsuit accusing Siri of eavesdropping\\n Katharina Kausche / dpa/picture alliance via Getty Images file\\nArtificial intelligence\\nApple launches its ChatGPT integration with Siri\\n Apple\\nConsumer\\nApple releases Apple Intelligence. Here's how to get it on your iPhone.\\n Bloomberg / Bloomberg via Getty Images\\nWorld\\nApple and Huawei battle for sales as their new phones launch on the same day in China\\n CFOTO / Future Publishing via Getty Images\\nWorld\\nHuawei's tri-fold phone gets 2.7 million preorders ahead of Apple's iPhone 16 launch\\n Patrick T. Fallon / AFP via Getty Images file\\nConsumer\\nApple announces iPhone event for Sept. 9\\n Mario Tama / Getty Images file\\nU.S. news\\nApple has reached its first-ever union contract with store employees in Maryland\\nNBC News Videos\\n 02:37 -----\\nSupreme Court hears arguments on Purdue Pharma bankruptcy settlement\\n 02:28 -----\\nParis stabbing suspect was imprisoned for previous terrorist plot\\n 00:44 -----\\nCellphone video captures gunfire during Israeli 'counterterrorist' operation in the West Bank\\n 03:23 -----\\nSCOTUS to hear bankruptcy cases involving Purdue Pharma\\n 03:31 -----\\nCOP28: Oil companies agree to reduce methane emissions to zero by 2030\\n 00:58 -----\\nQueen Latifah, Billy Crystal and Dionne Warwick named among Kennedy Center honorees\\n 00:48 -----\\nTwo killed as house destroyed by blast in Khan Younis\\n 00:36 -----\\nKim Jong Un urges North Korea to produce more babies\\n 00:41 -----\\nDeadly eruption of Indonesia's Mount Marapi volcano traps climbers\\n 01:39 -----\\nUniversity of Minnesota Duluth athlete dies after going into cardiac arrest\\n 19:03 -----\\nNightly News Full Broadcast (December 3rd)\\n 02:00 -----\\nUSS Carney responded after attacks on civilian ships in Red Sea, Defense officials confirm\\n 02:09 -----\\nNew holiday tradition spreads joy throughout Maryland neighborhood\\n 02:30 -----\\nGrowing number of misleading ads using AI to create fake celebrity endorsements\\n 01:56 -----\\nControversial technology assisted in capture of suspected serial killer in Los Angeles\\n 01:30 -----\\nHouse Republicans gear up to launch formal impeachment inquiry into Biden\\n 01:14 -----\\nMan kills German tourist in knife attack near Eiffel Tower, police report\\n 02:06 -----\\nIsrael announces ground offensive into southern Gaza has begun\\n 01:54 -----\\nWatch: Police chase deer that broke into New Jersey classroom\\n 01:59 -----\\nCharity attempts to break record for most couples kissing under the mistletoe\\n Manaure Quintero / Bloomberg via Getty Images file\\nBusiness News\\nEuropean Union regulators accuse Apple of breaching the bloc's tech rules\\n David Paul Morris / Bloomberg via Getty Images\\nConsumer\\nApple stops offering buy now, pay later loans in U.S.\\n Jeff Chiu / AP\\nMarkets\\nApple shares close at record high after company unveils AI software\\n David Paul Morris / Bloomberg via Getty Images\\nTech News\\nApple's new AI update aims to create an iPhone that truly gets you\\n Jeff Chiu / AP\\nLive Updates\\nApple WWDC 2024: Apple Intelligence is here with ChatGPT integration\\n Apple via YouTube\\nTech News\\nApple faces backlash for 'destructive' iPad ad featuring machine crushing books and instruments\\n Apple\\nApple\\nApple announces new iPad Pro with M4 chip, new iPad Air tablets\\n Costfoto / NurPhoto via Getty Images\\nBusiness News\\nApple loses top phonemaker spot to Samsung as iPhone shipments drop, research company says\\n Matt Wilson / The Daily Show\\nBusiness News\\nJon Stewart claims Apple discouraged him from interviewing FTC Chair Lina Khan\\n Haiyun Jiang / Bloomberg via Getty Images\\nApple\\nApple faces years of distractions after DOJ antitrust suit\\n Christian Charisius / picture alliance via Getty Images\\nBusiness News\\nApple hit with major DOJ lawsuit alleging its iPhone ecosystem is an illegal monopoly\\nWorld\\nApple CEO Tim Cook visits Shanghai amid a slowdown in China iPhone sales\\nTech News\\nApple reverses course and clears way for Epic Games to set up rival iPhone app store in Europe\\n Gary Hershorn / Getty Images\\nBusiness News\\nApple hit with more than $1.95B E.U. antitrust fine over music streaming\\n Godofredo A. Vásquez / AP file\\nApple\\nApple releases new sports app for iPhone\\n David Paul Morris / Bloomberg via Getty Images file\\nApple\\nTwo years after Apple quit Russia over Ukraine, Vision Pros are for sale in Moscow\\n sandiegopd / Instagram\\nU.S. news\\nSafety warning issued after video of man crossing street wearing Apple Vision Pro goes viral\\n Noah Berger / AP\\nApple\\nNBA, MLB and PGA roll out apps for Apple Vision Pro\\n NDZ/STAR MAX/IPx / STRMX/AP Photo file\\nCulture & Trends\\nSome Apple Vision Pro users love the new device. Many online thinks it's dystopian.\\n Owen Berg / NBC News\\nSocial Media\\nWizz, a Tinder-like app for teens, pulled from Apple and Google stores over sextortion concerns\\n Jay Yarow / CNBC\\nApple\\nApple Vision Pro review: This is the future of computing and entertainment\\n Tayfun Coskun / Anadolu Agency via Getty Images file\\nApple\\nApple introduces new iPhone security mode to protect against stolen passcodes\\n Tayfun Coskun / Anadolu Agency via Getty Images file\\nApple\\nApple to make messaging between iPhones and Android devices easier\\n VCG / Getty Images\\nWorld\\nApple CEO Tim Cook makes surprise visit to China, where iPhone 15 sales are off to a slow start\\n Patrick T. Fallon / AFP - Getty Images file\\nApple\\nApple says it will fix software problems blamed for making iPhone 15 models too hot to handle\\n\\n\\nAbout\\nContact\\nHelp\\nCareers\\nAd Choices\\nPrivacy Policy\\nYour Privacy Choices\\nCA Notice\\nTerms of Service (Updated JULY 7, 2023)\\nNBC News Sitemap\\nClosed Captioning\\nAdvertise\\nSelect Shopping\\n\\n© 2025 NBCUniversal Media, LLC\\n\"}, {\"url\": \"https://appleinsider.com/\", \"title\": \"AppleInsider: Apple News, Rumors, Reviews, Prices & Deals\", \"content\": \"Apple News, Rumors, Reviews, Prices & Deals | AppleInsider Apple Deals Foldable iPhones, iPads, & Macs: Everything you need to know about Apple's future Given the market and a decade of patents, it's no surprise that Apple is experimenting with foldable displays that would be used in a future iPhone Fold, iPad, or Mac. Here's what the rumor mill says is coming. Watch the Big Game your way with our comprehensive list of ways to watch Super Bowl LIX from your iPhone, iPad, Apple TV, Mac, and even the Apple Vision Pro. If you're the type who prefers to take their repairs into their own hands, Apple now offers the parts and manuals required to repair the M4 MacBook Pro, iMac, and Mac mini. Foldable iPhones, iPads, & Macs: Everything you need to know about Apple's future\", \"score\": 0.5492786, \"raw_content\": \"Apple News, Rumors, Reviews, Prices & Deals | AppleInsider\\n\\n\\n\\n\\nNews\\nReviews\\nHow-Tos\\nVideos\\n\\nDeals\\n\\nApple Deals\\nMacBook Air Deals\\nMacBook Pro Deals\\nMac mini Deals\\nMac Studio Deals\\niPad Deals\\nAirPods Deals\\nApple Watch Deals\\niMac Deals\\niPhone Deals\\nApple Trade-In Deals\\nApple Authorized Resellers\\nApple Student Discount\\nVPN Deals\\n\\n\\n\\nPrice Guides\\n\\nApple Prices\\nMacBook, iMac & Mac mini Prices\\niPad Prices\\nApple Watch Prices\\niPhone Prices\\nApple Accessories Prices\\nAirPods & Beats Prices\\niPad & iPhone Trade-In Values\\n\\n\\n\\nApple A-Z\\n\\nAirPods\\nApple TV\\nApple Watch\\nHomePod\\niPad\\niPad mini\\niPad Pro\\n\\n\\niPhone\\niPhone 13\\niPhone 13 Pro\\niPhone 14\\niPhone 14 Pro\\niPhone 15\\niPhone 15 Pro\\niPhone 16\\n\\n\\nMac\\nMacBook Pro\\nMacBook Air\\nMac Studio\\niMac\\nMac mini\\n\\n\\nMore...\\n\\n\\n\\nMore\\n\\nForums\\nPodcasts\\nContact Us\\nAdvertise\\nMerch\\n\\n\\n\\nAAPL: 228.46 ( +0.83 )\\nCopyright © 2025 Quiller Media, Inc. All rights reserved.\\n\\n\\n\\n\\nAAPL: 228.46 ( +0.83 )\\n\\n\\nTop Story\\n 12 iPhone 17 - Eight upgrade-worthy features rumored for fall 2025 ---------------------------------------------------------------We're halfway to the launch of the iPhone 17 lineup. Here are the most compelling rumors so far that may push you to upgrade.\\nFeatured Stories\\n 19 iPhone SE 4 — All the rumors about Apple's next budget-friendly device ----------------------------------------------------------------------\\n\\n 6 Apple's original and delayed HomePod finally shipped seven years ago --------------------------------------------------------------------\\n\\n 2 Deals: MacBook Air falls to $799, AirPods Max USB-C $479, iPads from $279 -------------------------------------------------------------------------\\n\\n 19 Apple is working on a 'lifelike' robot lamp, and it's just as cute as you'd expect ----------------------------------------------------------------------------------\\n\\n\\n 16 How to use Starlink with iPhone & how to disable it if you don't want it ------------------------------------------------------------------------\\n\\n B&H is blowing out M3 MacBook Pros at up to $1,200 off ------------------------------------------------------\\n\\n\\niPhone 15\\niPhone 16\\niOS 18 Review\\nApple Vision Pro\\nMacBook Pro Deals\\nMacBook Pro\\nAirPods\\niPad\\nMac mini\\niPhone VPN\\nMacBook Air\\n\\nGet Apple News Directly in Your Inbox\\n\\nLatest News\\n\\nApple Sports app adds Nascar support just in time for Daytona 500\\nNascar fans can now track live race updates right from their iPhones — Apple's Sports app has just added full support for the series, starting with the highly anticipated Daytona 500.\\n Andrew Orr | 37 minutes ago\\n1\\n\\n\\nRumored Sonos streamer, Amazon event preview, & Matter's attempt to fix Wi-Fi\\nOn this episode of the HomeKit Insider Podcast, Jennifer Tuohy stops by to discuss the rumored Sonos streaming box, Amazon's big media event, and more.\\n Andrew O'Hara | 1 hour ago\\n1\\n\\n\\n\\nYou can wear an Apple Watch on your ankle, but it's not the best idea for everybody\\nSome Apple Watch users are wearing it on their ankle instead of their wrist to get better workout data, but we've done some testing, and it's not a great place to wear the device.\\n Malcolm Owen | 2 hours ago\\n8\\n\\n\\nSave $300 on these M4 Pro MacBook Pros with 48GB RAM\\nB&H's latest MacBook Pro deals drop upgraded models with 48GB of RAM and 1TB of storage by $300.\\n Christine McKee | 18 hours ago\\n1\\n\\n\\nApple accelerates hiring for its home robotics projects\\nApple is posting more job listings for robotics specialists to \\\"bring new experiences to Apple products,\\\" with teams working on smart home devices imbued with a basic level of personality.\\n Charles Martin | 1 day ago\\n7\\n\\n\\nCrime blotter: Car theft suspects caught thanks to AirPods\\nTwo Texas men arrested over Volkswagen Beetle thefts were tracked by AirPods, iPhone insurance fraud, and a MacBook Air in a pool make up this week's Apple Crime Blotter.\\n Stephen Silver | 1 day ago\\n3\\n\\n\\nApple execs spotted in New Orleans ahead of Super Bowl\\nApple CEO Tim Cook and several other senior Apple executives are hanging out in New Orleans probably to catch the Super Bowl in Caesars Superdome.\\n Charles Martin | 1 day ago\\n6\\n\\n\\niOS 18.4 Beta 1 is imminent, set to bring improvements to Siri\\nIt now seems likely that Apple is gearing up to roll out its next beta, this time designed to offer significant improvements for its voice assistant.\\n Amber Neely | 2 days ago\\n5\\n\\n\\nFoldable iPhones, iPads, & Macs: Everything you need to know about Apple's future\\nGiven the market and a decade of patents, it's no surprise that Apple is experimenting with foldable displays that would be used in a future iPhone Fold, iPad, or Mac. Here's what the rumor mill says is coming.\\n Wesley Hilliard | 2 days ago\\n6\\n\\nfeatured topics of the week\\n\\nAPPLE INTELLIGENCE\\niOS 18.3 arrives with Visual Intelligence update, notification summary changes\\n\\nMAC MINI\\nHow to upgrade the SSD in your M4 Mac mini\\n\\nDEALS\\nAmazon discounts TurboTax for Mac by up to 47%\\n\\nMACOS\\nBest VPN for Mac in 2025\\n\\n\\n\\nEx-Apple engineer admits 'expensive mistake' after leak lawsuit is dismissed\\nA former engineer who was sued by Apple for leaking details about Apple Vision Pro, the Journal app, and more may have been forced to issue a public apology after the case was dismissed.\\n Andrew Orr | 3 days ago\\n17\\n\\n\\nSave $100 on Apple's iPad Air 6 at Amazon this weekend\\nAmazon has shaved $100 off Apple's iPad Air 6 with the M2 chip thanks to an instant discount stacked with an on-page coupon.\\n Christine McKee | 3 days ago\\n0\\n\\n\\nGameSir Cyclone 2 controller review: My new go-to Mac and iPad gaming companion\\nIf you want to play games on your iPhone or iPad, you're going to need a game controller, and the same is obvious for the Mac. GameSir's Cyclone 2 might be my favorite, thanks to a familiar feel and some notable features.\\n Oliver Haslam | 3 days ago\\n4\\n\\n\\nSonos' scrapped MagSafe speaker would have had trouble finding a target market\\nSonos allegedly toyed around with making a speaker that would use MagSafe to attach to the back of an iPhone, but couldn't seem to nail down a target audience.\\n Amber Neely | 3 days ago\\n10\\n\\n\\nApple Invites, Doom on a cable, and M5 is coming, on the AppleInsider Podcast\\nApple Invites debuts and needs a lot more work, the M5 processor is in production, and you can now hack even a cable to run Doom, all on the AppleInsider Podcast.\\n Mike Wuerthele | 3 days ago\\n0\\n\\n\\nApple breaks the Mac App Store for macOS Sierra users\\nA back end change to the Mac App Store appears to have shut out users of macOS Sierra and older versions, blocking not just purchases, but also downloads of software already bought.\\n William Gallagher | 3 days ago\\n13\\n\\n\\nDeepSeek's iOS app sends unencrypted data to Chinese servers\\nChart-topping AI iPhone app DeepSeek has been found to be sending data to Chinese-owned services, as well as collecting extensive user data that is held and sent unencrypted.\\n William Gallagher | 3 days ago\\n13\\n\\n\\nUK secretly orders Apple to let it spy on iPhone users worldwide\\nThe UK government has issued an order to Apple telling it to allow officials full access to any iCloud content belonging to any user across the globe.\\n William Gallagher | 3 days ago\\n77\\n\\n\\nHow to create your own Memories movies in Photos on iOS or iPadOS 18\\nThere are now two ways to create Memories movies in Photos as of iOS 18.1 or later: one method is the same way you have done it in previous iOS versions, and the new one leverages Apple Intelligence if it's available on your device.\\n Charles Martin | 3 days ago\\n0\\n\\n\\nApple details App Store tax changes in multiple markets, including Japan\\nApple has announced updates to its App Store pricing and taxes for developers across different regions, with some changes being already in effect as of February 6.\\n Marko Zivkovic | 3 days ago\\n0\\n\\nfeatured topics of the week\\n\\nIMESSAGE\\nHow to enable and use RCS for secure cross-platform messaging\\n\\nCES\\nBest gear for Apple users that debuted during CES 2025\\n\\nCAMERA\\nHow to change what the iPhone 16 Camera Control button does\\n\\nMACBOOK AIR\\nBest MacBook Air deals for February 2025\\n\\n\\n\\niPhone SE 4 could be revealed by Valentine's Day\\nA report suggests Apple could reveal the iPhone SE 4 by February 14, which is in line with previous rumors around the budget phone.\\nRumor Score 🤯 Likely\\n Wesley Hilliard | 3 days ago\\n5\\n\\n\\nDubious leak details the exact specifications of Apple's foldable iPhone\\nRumors of an alleged iPhone Fold have been floating around for years, but now a suspicious report claims to have revealed the exact specifications of the device.\\nRumor Score 🙄 Unlikely\\n Marko Zivkovic | 3 days ago\\n23\\n\\n\\nB&H's fresh Mac Studio price drop discounts desktop to $1,749\\nB&H's February Mac Studio deal for $1,749 delivers the lowest price available across leading Apple resellers.\\n Christine McKee | 3 days ago\\n0\\n\\n\\nHow using a VPN can help you see location restricted content\\nOne of the best VPNs for Mac will not only protect your data, but it also helps you avoid location-based restrictions. Here's how you can watch more TV shows and sports events.\\n Malcolm Owen | 3 days ago\\n3\\n\\n\\nApple Vision Pro game controller doesn't look like it will break new ground\\nA new patent filing shows that Apple has been working on a fairly standard external game controller device for Apple Vision Pro, backing up recent rumors of it hoping to partner with Sony.\\n William Gallagher | 4 days ago\\n6\\n\\n\\nApple getting serious about MacBook Pro with integrated graphics tablet and iPhone charger\\nOne patent doesn't prove Apple is making a device, but a whole series of them repeatedly applied for does suggest that we really could see a MacBook Pro you can wirelessly charge your iPhone on, while you sketch with your finger.\\n William Gallagher | 4 days ago\\n7\\n\\n\\nLeica Lux Grip is a $330 MagSafe iPhone camera grip\\nLeica has just announced the Leica Lux Grip, a MagSafe-compatible phone grip designed to work with its app — and it has the pricing you'd expect from Leica.\\n Amber Neely | 4 days ago\\n3\\n\\n\\nApple Silicon & Intel Macs can play classic games with the help of Mac Source Ports\\nIf you're looking to play classic games on a modern Apple Silicon Mac, then Mac Source Ports can likely make it happen. Here's what the website offers and why it's worth checking out.\\n Marko Zivkovic | 4 days ago\\n2\\n\\n\\nHow to use or disable iOS Apple Mail's new categories feature\\nAs of iOS 18.2, Apple's Mail app features categories to help users sort through their mail. Here's what it does, how to fine-tune it, and how to turn it off if you prefer.\\n Charles Martin | 4 days ago\\n3\\n\\n\\n'Ted Lasso' season 4 to focus on the formation of AFC Richmond's women's team\\nThe popular Apple TV+ series Ted Lasso is expected to return for a fourth season that primarily revolves around the creation of AFC Richmond's women's team.\\n Marko Zivkovic | 4 days ago\\n8\\n\\n\\nHow to watch Super Bowl LIX from your iPhone, iPad, or Mac\\nWatch the Big Game your way with our comprehensive list of ways to watch Super Bowl LIX from your iPhone, iPad, Apple TV, Mac, and even the Apple Vision Pro.\\n Amber Neely | 4 days ago\\n5\\n\\n\\nApple's M4 Pro MacBook Pro falls to $1,749 in online price war\\nPick up an M4 Pro 14-inch MacBook Pro at a $250 discount and enjoy the comfort of it delivered to your doorstep.\\n Christine McKee | 4 days ago\\n0\\n\\n\\nApple now offers parts and self-repair manuals for M4 Mac lineup\\nIf you're the type who prefers to take their repairs into their own hands, Apple now offers the parts and manuals required to repair the M4 MacBook Pro, iMac, and Mac mini.\\n Amber Neely | 5 days ago\\n5\\n\\n\\nCrypto wallets at risk as malware sneaks into the App Store\\nA newly discovered malware campaign is stealing cryptocurrency from iOS by exploiting vulnerabilities in apps available on the App Store.\\n Andrew Orr | 5 days ago\\n3\\n\\n\\nSponsored Content\\nEverything you need to know about Surfshark One VPN bundle for Apple devices\\nIf you're looking for a private and fast VPN for Mac, along with an antivirus and leak notification tool, Surfshark One has it bundled together to help reduce your digital footprint online.\\n Sponsored Content | 5 days ago\\n\\n\\nApple Invites has Sherlocked party organizing app Partiful\\nAdd another one to Apple's list of third-party apps that it has endangered, as Apple Invites threatens the livelihood of event planning app Partiful.\\n William Gallagher | 5 days ago\\n14\\n\\n\\nApple Silicon M5 chips are probably in mass production now\\nSouth Korean media claims that Apple Silicon M5 chips are in mass production, which makes a lot of sense considering that the first devices that will use them are expected ship before the end of 2025.\\nRumor Score 🤯 Likely\\n Mike Wuerthele | 5 days ago\\n12\\n\\n\\nLufthansa now embraces AirTags, since it couldn't ban them\\nDespite the airline previously banning AirTags for reasons understood only by itself, Lufthansa has now support for them in its app and is celebrating the integration.\\n William Gallagher | 5 days ago\\n9\\n\\n\\nChina threatens App Store probe in retaliation for trade tensions\\nFollowing the introduction of trade tariffs by the US, China is said to be considering an antitrust investigation into Apple's App Store practices.\\n William Gallagher | 5 days ago\\n27\\n\\n\\nHow to install and use the beta VirtualBox for Apple Silicon Macs\\nVirtualBox is now available for Apple Silicon-based Macs, although with spotty x86 support. Here's how to use it.\\n Chip Loder | 5 days ago\\n4\\n\\n\\n'Doom' can even be played on Apple's Lightning to HDMI adapter\\nDevelopers and enthusiasts continue to find new ways of running Doom on increasingly unusual hardware, the latest of which is an Apple HDMI adapter cable.\\n Marko Zivkovic | 5 days ago\\n7\\n\\n\\n\\nFeatured Product Review Videos\\n\\nHow to make iOS 18 Photos work more like it used to\\nBased on what we've seen, odds are good that you're not in love with the redesigned Photos app in iOS 18. While the old version isn't returning, here's how to make it more like its beloved former self.\\nBased on what we've seen, odds are good that you're not in love with the redesigned Photos app in iOS 18. While the old version isn't returning, here's how to make it more like its beloved former self.\\nBy Andrew O'Hara | 1 month ago\\n\\nBest gear for Apple users that debuted during CES 2025\\nWe saw some great products for Apple users after a week of wearing our feet to the bone at CES! Here's what we like the most that we got the chance to check out in person at the show.\\nWe saw some great products for Apple users after a week of wearing our feet to the bone at CES! Here's what we like the most that we got the chance to check out in person at the show.\\nBy Andrew O'Hara | 4 weeks ago\\n\\n\\n\\nLatest Exclusives\\n\\nApple is already working on visionOS 3.0 and visionOS 2.4\\n\\n\\nApple testing M4 MacBook Air with ultra-wide camera & Center Stage support\\n\\n\\nApple Intelligence — The test applications that paved the way for Apple's generative AI\\n\\n\\n\\nLatest comparisons\\n\\niPhone 16 vs Samsung Galaxy S25 - Entry-level options compared\\n\\n\\nApple Watch Series 10 vs Apple Watch Ultra 2 — Which is best after three months?\\n\\n\\nM4 14-inch MacBook Pro vs M3 14-inch MacBook Pro compared: A portable speed boost\\n\\n\\nLatest Videos\\n\\niPhone 17 - Eight upgrade-worthy features rumored for fall 2025\\n\\n\\nHow to use Starlink with iPhone & how to disable it if you don't want it\\n\\n\\nHow Visual Intelligence gets more powerful on iPhone 16 in iOS 18.3\\n\\n\\nLatest Reviews\\n\\nGameSir Cyclone 2 controller review: My new go-to Mac and iPad gaming companion\\n\\n\\nNomad Universal Apple Watch cable review: This $100 cable simplifies your charging setup\\n\\n\\nApple Vision Pro review one year later: time to exit the preview\\n\\n\\nLatest tips\\n\\nHow to create your own Memories movies in Photos on iOS or iPadOS 18\\n\\n\\nHow to use or disable iOS Apple Mail's new categories feature\\n\\n\\nHow to install and use the beta VirtualBox for Apple Silicon Macs\\n\\nLoad More\\n\\niphone\\n\\nRumored Sonos streamer, Amazon event preview, & Matter's attempt to fix Wi-Fi\\nBy Andrew O'Hara | 1 hour ago\\n\\niPhone 17 - Eight upgrade-worthy features rumored for fall 2025\\nBy Andrew O'Hara | 22 hours ago\\n\\nCrime blotter: Car theft suspects caught thanks to AirPods\\nBy Stephen Silver | 1 day ago\\n\\nipad\\n\\nCrime blotter: Car theft suspects caught thanks to AirPods\\nBy Stephen Silver | 1 day ago\\n\\nFoldable iPhones, iPads, & Macs: Everything you need to know about Apple's future\\nBy Wesley Hilliard | 2 days ago\\n\\nGameSir Cyclone 2 controller review: My new go-to Mac and iPad gaming companion\\nBy Oliver Haslam | 3 days ago\\n\\nmacbook\\n\\nCrime blotter: Apple Store thefts in Southern California continue\\nBy Stephen Silver | 1 month ago\\n\\nApple's ongoing modem push rumored to result in cellular MacBooks\\nBy Malcolm Owen | 2 months ago\\n\\nApple has officially ended its butterfly keyboard repair program for MacBooks\\nBy Marko Zivkovic | 2 months ago\\n\\napple watch\\n\\nYou can wear an Apple Watch on your ankle, but it's not the best idea for everybody\\nBy Malcolm Owen | 2 hours ago\\n\\nAppleCare+ moves to subscription-only model\\nBy Amber Neely | 5 days ago\\n\\nNomad Universal Apple Watch cable review: This $100 cable simplifies your charging setup\\nBy Andrew O'Hara | 5 days ago\\n\\n\\nFollow us on Social Media:\\n\\nGet our Mobile App\\nMore AppleInsider\\n\\nProduct Comparisons\\nAdvertise on AppleInsider\\nContact Us\\nPrivacy Policy\\nEthics Policy\\nTerms of Use\\nPush Notifications\\n\\nSupport Our Work\\nCopyright © 2025, Quiller Media, Inc.\\nDesigned by Crafted\\n\\n{{ title }}\\n{{ summary }}\\n{{{ rumorScoreMarkup }}}\\n {{ author }} | {{ dateFormatted }}\\n{{{ reviewStars.html }}}\\n{{ commentCount }}\\n\"}, {\"url\": \"https://www.apple.com/newsroom/\", \"title\": \"Newsroom - Apple\", \"content\": \"Newsroom - Apple Apple Apple Watch Apple Vision Pro Apps by Apple Apps by Apple Apps by Apple Explore All Apple Watch Why Apple Watch Shop Apple Watch Apple Watch Accessories Apple Watch Support Apps by Apple Explore Apple Vision Pro Shop Apple Vision Pro Apple Vision Pro Accessories Apple Vision Pro Support Apple Music Shop Apple TV 4K Apple TV Support Apple TV+ Apple Music Apple One Apple TV+ Apple Music Apple Books Apple TV+ Support Apple Music Support Apple Watch Apple Vision Pro Made by Apple Apple Vision Pro Apple Vision Pro Apple Card Apple One Apple TV+ Apple Music Apple Books Apple and Business Apple and Education Apple in Healthcare Health on Apple Watch Or call 1-800-MY-APPLE.\", \"score\": 0.35193497, \"raw_content\": \"Newsroom - Apple\\n\\nApple\\n\\n\\nStore\\n\\nShop\\n\\nShop the Latest\\nMac\\niPad\\niPhone\\nApple Watch\\nApple Vision Pro\\nAccessories\\n\\nQuick Links\\n\\nFind a Store\\nOrder Status\\nApple Trade In\\nFinancing\\nPersonal Setup\\n\\nShop Special Stores\\n\\nCertified Refurbished\\nEducation\\nBusiness\\nVeterans and Military\\n\\nGovernment\\n\\n\\nMac\\n\\n\\nExplore Mac\\n\\nExplore All Mac\\nMacBook Air\\nMacBook Pro\\niMac\\nMac mini\\nMac Studio\\nMac Pro\\nDisplays\\nCompare Mac\\nSwitch from PC to Mac\\n\\nShop Mac\\n\\nShop Mac\\nHelp Me Choose\\nMac Accessories\\nApple Trade In\\nFinancing\\n\\nMore from Mac\\n\\nMac Support\\nAppleCare+ for Mac\\nmacOS Sequoia\\nApple Intelligence\\nApps by Apple\\nContinuity\\niCloud+\\nMac for Business\\n\\nEducation\\n\\n\\niPad\\n\\n\\nExplore iPad\\n\\nExplore All iPad\\niPad Pro\\niPad Air\\niPad\\niPad mini\\nApple Pencil\\nKeyboards\\nCompare iPad\\nWhy iPad\\n\\nShop iPad\\n\\nShop iPad\\niPad Accessories\\nApple Trade In\\nFinancing\\n\\nMore from iPad\\n\\niPad Support\\nAppleCare+ for iPad\\niPadOS 18\\nApple Intelligence\\nApps by Apple\\niCloud+\\n\\nEducation\\n\\n\\niPhone\\n\\n\\nExplore iPhone\\n\\nExplore All iPhone\\niPhone 16 Pro\\niPhone 16\\niPhone 16e\\niPhone 15\\nCompare iPhone\\nSwitch from Android\\n\\nShop iPhone\\n\\nShop iPhone\\niPhone Accessories\\nApple Trade In\\nCarrier Deals at Apple\\nFinancing\\n\\nMore from iPhone\\n\\niPhone Support\\nAppleCare+ for iPhone\\niOS 18\\nApple Intelligence\\nApps by Apple\\niPhone Privacy\\niCloud+\\nWallet, Pay, Card\\n\\nSiri\\n\\n\\nWatch\\n\\n\\nExplore Watch\\n\\nExplore All Apple Watch\\nApple Watch Series 10\\nApple Watch Ultra 2\\nApple Watch SE\\nApple Watch Nike\\nApple Watch Hermès\\nCompare Watch\\nWhy Apple Watch\\n\\nShop Watch\\n\\nShop Apple Watch\\nApple Watch Studio\\nApple Watch Bands\\nApple Watch Accessories\\nApple Trade In\\nFinancing\\n\\nMore from Watch\\n\\nApple Watch Support\\nAppleCare+\\nwatchOS 11\\nApple Watch For Your Kids\\nApps by Apple\\n\\nApple Fitness+\\n\\n\\nVision\\n\\n\\nExplore Vision\\n\\nExplore Apple Vision Pro\\nGuided Tour\\nTech Specs\\n\\nShop Vision\\n\\nShop Apple Vision Pro\\nApple Vision Pro Accessories\\nBook a Demo\\nFinancing\\n\\nMore from Vision\\n\\nApple Vision Pro Support\\nAppleCare+\\n\\nvisionOS 2\\n\\n\\nAirPods\\n\\n\\nExplore AirPods\\n\\nExplore All AirPods\\nAirPods 4\\nAirPods Pro 2\\nAirPods Max\\nCompare AirPods\\n\\nShop AirPods\\n\\nShop AirPods\\nAirPods Accessories\\n\\nMore from AirPods\\n\\nAirPods Support\\nAppleCare+ for Headphones\\nHearing Health\\n\\nApple Music\\n\\n\\nTV & Home\\n\\n\\nExplore TV & Home\\n\\nExplore TV & Home\\nApple TV 4K\\nHomePod\\nHomePod mini\\n\\nShop TV & Home\\n\\nShop Apple TV 4K\\nShop HomePod\\nShop HomePod mini\\nShop Siri Remote\\nTV & Home Accessories\\n\\nMore from TV & Home\\n\\nApple TV Support\\nHomePod Support\\nAppleCare+\\nApple TV app\\nApple TV+\\nHome app\\nApple Music\\nSiri\\n\\nAirPlay\\n\\n\\nEntertainment\\n\\n\\nExplore Entertainment\\n\\nExplore Entertainment\\nApple One\\nApple TV+\\nApple Music\\nApple Arcade\\nApple Fitness+\\nApple News+\\nApple Podcasts\\nApple Books\\nApp Store\\n\\nSupport\\n\\nApple TV+ Support\\n\\nApple Music Support\\n\\n\\nAccessories\\n\\n\\nShop Accessories\\n\\nShop All Accessories\\nMac\\niPad\\niPhone\\nApple Watch\\nApple Vision Pro\\nAirPods\\nTV & Home\\n\\nExplore Accessories\\n\\nMade by Apple\\nBeats by Dr. Dre\\n\\nAirTag\\n\\n\\nSupport\\n\\n\\nExplore Support\\n\\niPhone\\nMac\\niPad\\nWatch\\nApple Vision Pro\\nAirPods\\nMusic\\nTV\\nExplore Support\\n\\nGet Help\\n\\nCommunity\\nCheck Coverage\\nRepair\\n\\nHelpful Topics\\n\\nGet AppleCare+\\nApple Account and Password\\nBilling & Subscriptions\\nAccessibility\\n\\n\\n\\n\\nQuick Links\\n\\nFind a Store\\nApple Vision Pro\\nAirPods\\nApple Intelligence\\nApple Trade In\\n\\n\\n\\n0+\\n\\n\\nNewsroom\\n\\nApple Services\\nApple Stories\\n\\nOpen Newsroom navigation Close Newsroom navigation\\nSearch Newsroom Close\\nopens in new window\\nNewsroom\\nLatest News\\n\\nPRESS RELEASE Apple will spend more than $500 billion in the U.S. over the next four years February 24, 2025\\nUPDATE Apple introduces News+ Food February 21, 2025\\nUPDATE Apple Intelligence comes to Apple Vision Pro in April February 21, 2025\\n\\n\\nQUICK READ\\nApple Intelligence expands to more languages and regions in April\\nFebruary 21, 2025\\n\\n\\n APPLE STORIES Capturing paradise: Karston Tannis re‑creates island vibes with iPhone 16 Pro Max February 21, 2025\\n\\nPRESS RELEASE Apple debuts iPhone 16e: A powerful new member of the iPhone 16 family February 19, 2025\\nUPDATE Major League Soccer kicks off 30th season this weekend on MLS Season Pass February 18, 2025\\nUPDATE The Apple TV app is now available on Android February 12, 2025\\nUPDATE New holistic Apple Health Study launches today in the Research app February 12, 2025\\nPRESS RELEASE Introducing Apple Invites, a new app that brings people together February 4, 2025\\nPRESS RELEASE Apple Music kicks off Kendrick Lamar’s Road to Halftime ahead of Super Bowl LIX February 3, 2025\\n\\nApple Stories\\nThe creators, developers, and innovators leaving the world better than they found it.\\n\\ncommunities New Orleans students showcase their creativity with iPad and Mac February 3, 2025\\n Sports Driving the game forward: iPad teams up with college football November 1, 2024\\n health How Apple developed the world’s first end-to-end hearing health experience October 28, 2024\\n\\n education Apple and 4-H are bringing technology to a new generation of learners August 21, 2024\\n\\n\\nApple community partners EMCM and Arts New Orleans showcase aspiring artists.\\n\\niPad’s integration on the sidelines brings major advancements to the game.\\nHere’s a look inside the Audio Lab, the hub for Apple’s hearing health features.\\n\\n4-H includes greater access to technology with support from Apple.\\n\\n\\ncommunities New Orleans students showcase their creativity with iPad and Mac February 3, 2025\\n\\nSports Driving the game forward: iPad teams up with college football November 1, 2024\\nhealth How Apple developed the world’s first end-to-end hearing health experience October 28, 2024\\neducation Apple and 4-H are bringing technology to a new generation of learners August 21, 2024\\n\\nView All\\nMore from Newsroom\\n\\nPRESS RELEASE Apple reports first quarter results January 30, 2025\\nUPDATE Major League Soccer returns to MLS Season Pass on Apple TV January 29, 2025\\nUPDATE Apple introduces the 2025 Black Unity Collection January 27, 2025\\nPHOTOS Apple Miami Worldcenter opens to excited customers in downtown Miami January 24, 2025\\nPRESS RELEASE Apple Miami Worldcenter opens Friday, January 24, in downtown Miami January 22, 2025\\nPRESS RELEASE Apple MixC Hefei opens for customers this Saturday in Anhui, China January 15, 2025\\nUPDATE Apple Arcade launches into 2025 with 10 new games, including PGA TOUR Pro Golf January 10, 2025\\nAPPLE STATEMENT Our longstanding privacy commitment with Siri January 8, 2025\\n\\nView Archive\\nApple Footer\\n Apple\\n\\nNewsroom\\n\\nShop and Learn Shop and Learn\\n\\nStore\\nMac\\niPad\\niPhone\\nWatch\\nVision\\nAirPods\\nTV & Home\\nAirTag\\nAccessories\\nGift Cards\\n\\nApple Wallet Apple Wallet\\n\\nWallet\\nApple Card\\nApple Pay\\nApple Cash\\n\\nAccount Account\\n\\nManage Your Apple ID\\nApple Store Account\\niCloud.com\\n\\nEntertainment Entertainment\\n\\nApple One\\nApple TV+\\nApple Music\\nApple Arcade\\nApple Fitness+\\nApple News+\\nApple Podcasts\\nApple Books\\nApp Store\\n\\nApple Store Apple Store\\n\\nFind a Store\\nGenius Bar\\nToday at Apple\\nGroup Reservations\\nApple Camp\\nApple Store App\\nCertified Refurbished\\nApple Trade In\\nFinancing\\nCarrier Deals at Apple\\nOrder Status\\nShopping Help\\n\\nFor Business For Business\\n\\nApple and Business\\nShop for Business\\n\\nFor Education For Education\\n\\nApple and Education\\nShop for K-12\\nShop for College\\n\\nFor Healthcare For Healthcare\\n\\nApple in Healthcare\\nMac in Healthcare\\nHealth on Apple Watch\\nHealth Records on iPhone and iPad\\n\\nFor Government For Government\\n\\nShop for Government\\nShop for Veterans and Military\\n\\nApple Values Apple Values\\n\\nAccessibility\\nEducation\\nEnvironment\\nInclusion and Diversity\\nPrivacy\\nRacial Equity and Justice\\nSupply Chain\\n\\nAbout Apple About Apple\\n\\nNewsroom\\nApple Leadership\\nCareer Opportunities\\nInvestors\\nEthics & Compliance\\nEvents\\nContact Apple\\n\\nMore ways to shop: Find an Apple Store or other retailer near you. Or call 1-800-MY-APPLE.\\nUnited States (English) Español\\nCopyright © 2025 Apple Inc. All rights reserved.\\n\\nPrivacy Policy\\nTerms of Use\\nSales and Refunds\\nLegal\\nSite Map\\n\"}], \"response_time\": 1.29}\n==================================\u001B[1m Ai Message \u001B[0m==================================\n\nHere are the latest news highlights on Apple:\n\n1. **AI and Software Updates**: Apple has unveiled new AI software aimed at enhancing user experience by making iPhones more intuitive. This update is part of Apple's broader strategy to integrate AI across its product line.\n\n2. **Market and Legal Challenges**: Apple is facing a significant antitrust lawsuit from the U.S. Department of Justice, alleging that its iPhone ecosystem constitutes an illegal monopoly. Additionally, Apple is dealing with a slowdown in iPhone 15 sales in China, prompting a visit from CEO Tim Cook.\n\n3. **Product Innovations and Releases**: Apple is reportedly working on foldable iPhones, iPads, and Macs, with rumors suggesting these could be part of future product lines. The company has also introduced a new iPhone security mode to protect against stolen passcodes and released a new sports app for iPhone users.\n"
     ]
    }
   ],
   "source": [
    "uid = 'bond007'\n",
    "prompt = \"What is the latest news on Apple? summarize in 3 bullets\"\n",
    "call_conversational_agent(agent_graph=builder,\n",
    "                          prompt=prompt,\n",
    "                          user_session_id=uid)"
   ]
  },
  {
   "cell_type": "code",
   "execution_count": 0,
   "metadata": {
    "application/vnd.databricks.v1+cell": {
     "cellMetadata": {},
     "inputWidgets": {},
     "nuid": "e0ef46a0-eced-452f-aa8f-ccb96d593b90",
     "showTitle": false,
     "tableResultSettingsMap": {},
     "title": ""
    },
    "colab": {
     "base_uri": "https://localhost:8080/"
    },
    "id": "xaLLJWQv1D5V",
    "outputId": "7b8a5d06-3c9e-460f-e5ea-f21588279b51"
   },
   "outputs": [
    {
     "output_type": "stream",
     "name": "stdout",
     "output_type": "stream",
     "text": [
      "================================\u001B[1m Human Message \u001B[0m=================================\n\nWhat about microsoft?\n==================================\u001B[1m Ai Message \u001B[0m==================================\nTool Calls:\n  search_web (call_yuRvDF3jIsoatQGVHdLhohSx)\n Call ID: call_yuRvDF3jIsoatQGVHdLhohSx\n  Args:\n    query: latest news on Microsoft\n    num_results: 3\n=================================\u001B[1m Tool Message \u001B[0m=================================\nName: search_web\n\n{\"query\": \"latest news on Microsoft\", \"follow_up_questions\": null, \"answer\": null, \"images\": [], \"results\": [{\"title\": \"The Official Microsoft Blog\", \"url\": \"https://blogs.microsoft.com/\", \"content\": \"AI transformation and the technology driving change\\nNov 7, 2023\\n|\\nCharlotte Yarkoni - President, Commerce + Ecosystems, Cloud & AI\\nStartups to access high-performance Azure infrastructure, accelerating AI breakthroughs\\nNov 6, 2023\\n|\\nDouglas Phillips - CVP, Azure Edge + Platform\\nHonoring veterans and recognizing their value and contributions at Microsoft and beyond\\nNov 2, 2023\\n|\\nAlysa Taylor - Corporate Vice President, Azure & Industry, Microsoft\\nNew study validates the business value and opportunity of AI\\nNov 1, 2023\\n|\\nLindsay-Rae McIntyre - Chief Diversity Officer and Corporate Vice President of Talent Development\\nMicrosoft’s 2023 Diversity and Inclusion Report: A decade of transparency, commitment and progress\\nOct 26, 2023\\n|\\nMicrosoft Corporate Blogs\\nA change to Microsoft marketing leadership\\nOct 23, 2023\\n|\\nJudson Althoff - Executive Vice President and Chief Commercial Officer\\nInnovating with responsibility: How customers and partners are bridging data, AI and trust with the Microsoft Cloud\\nPress Tools\\nFollow us: Dec 14, 2023\\n|\\nCorey Sanders - Corporate Vice President, Microsoft Cloud for Industry\\nMicrosoft Cloud for Sovereignty now generally available, opening new pathways for government innovation\\nDec 5, 2023\\n|\\nYusuf Mehdi - Executive Vice President, Consumer Chief Marketing Officer\\nCelebrating the first year of Copilot with significant new innovations\\nDec 4, 2023\\n|\\nFrank X. Shaw - Chief Communications Officer, Microsoft\\nTransforming communications with Copilot for Microsoft 365\\nMore News\\nNov 21, 2023\\n|\\nMicrosoft Corporate Blogs\\nA statement from Microsoft Chairman and CEO Satya Nadella\\nNov 15, 2023\\n|\\nFrank X. Shaw - Chief Communications Officer, Microsoft\\nMicrosoft Ignite 2023: Global\\nFeatured\\nJan 29, 2024\\n|\\nJudson Althoff - Executive Vice President and Chief Commercial Officer\\nEmbracing AI Transformation: How customers and partners are driving pragmatic innovation to achieve business outcomes with the Microsoft Cloud\\nJan 15, 2024\\n|\\nYusuf Mehdi - Executive Vice President, Consumer Chief Marketing Officer\\nBringing the full power of Copilot to more people and businesses\\nJan 9, 2024\\n|\\nShelley Bransten - Corporate Vice President, Global Retail, Consumer Goods & Gaming industries\\nWalmart unveils new generative AI-powered capabilities for shoppers and associates\\n\", \"score\": 0.7890553, \"raw_content\": \"Global\\nFeatured\\nJan 29, 2024\\n|\\nJudson Althoff - Executive Vice President and Chief Commercial Officer\\nEmbracing AI Transformation: How customers and partners are driving pragmatic innovation to achieve business outcomes with the Microsoft Cloud\\nJan 15, 2024\\n|\\nYusuf Mehdi - Executive Vice President, Consumer Chief Marketing Officer\\nBringing the full power of Copilot to more people and businesses\\nJan 9, 2024\\n|\\nShelley Bransten - Corporate Vice President, Global Retail, Consumer Goods & Gaming industries\\nWalmart unveils new generative AI-powered capabilities for shoppers and associates\\nDec 14, 2023\\n|\\nCorey Sanders - Corporate Vice President, Microsoft Cloud for Industry\\nMicrosoft Cloud for Sovereignty now generally available, opening new pathways for government innovation\\nDec 5, 2023\\n|\\nYusuf Mehdi - Executive Vice President, Consumer Chief Marketing Officer\\nCelebrating the first year of Copilot with significant new innovations\\nDec 4, 2023\\n|\\nFrank X. Shaw - Chief Communications Officer, Microsoft\\nTransforming communications with Copilot for Microsoft 365\\nMore News\\nNov 21, 2023\\n|\\nMicrosoft Corporate Blogs\\nA statement from Microsoft Chairman and CEO Satya Nadella\\nNov 15, 2023\\n|\\nFrank X. Shaw - Chief Communications Officer, Microsoft\\nMicrosoft Ignite 2023: AI transformation and the technology driving change\\nNov 7, 2023\\n|\\nCharlotte Yarkoni - President, Commerce + Ecosystems, Cloud & AI\\nStartups to access high-performance Azure infrastructure, accelerating AI breakthroughs\\nNov 6, 2023\\n|\\nDouglas Phillips - CVP, Azure Edge + Platform\\nHonoring veterans and recognizing their value and contributions at Microsoft and beyond\\nNov 2, 2023\\n|\\nAlysa Taylor - Corporate Vice President, Azure & Industry, Microsoft\\nNew study validates the business value and opportunity of AI\\nNov 1, 2023\\n|\\nLindsay-Rae McIntyre - Chief Diversity Officer and Corporate Vice President of Talent Development\\nMicrosoft’s 2023 Diversity and Inclusion Report: A decade of transparency, commitment and progress\\nOct 26, 2023\\n|\\nMicrosoft Corporate Blogs\\nA change to Microsoft marketing leadership\\nOct 23, 2023\\n|\\nJudson Althoff - Executive Vice President and Chief Commercial Officer\\nInnovating with responsibility: How customers and partners are bridging data, AI and trust with the Microsoft Cloud\\nPress Tools\\nFollow us:\"}, {\"title\": \"Microsoft news - Today's latest updates - CBS News\", \"url\": \"https://www.cbsnews.com/tag/microsoft/\", \"content\": \"Microsoft news - Today’s latest updates - CBS News CBS News 24/7 CBS News Mornings CBS News Investigates CBS News Team Elizabeth Kelly, the director of the U.S. Artificial Intelligence Safety Institute, joins CBS News with more on the safety atmosphere already in place to study the technology. Makena Kelly, senior politics reporter for Wired, joins CBS News to dig into Sacks' background. CBS News environmental correspondent David Schechter reports. Latest CBS News Videos More Latest CBS News Videos #### Latest CBS News Videos #### Study finds young people most at risk of heat A new Columbia University Climate School study discovered that young people may be most at risk of heat-related deaths. CBS News environmental correspondent David Schechter reports.\", \"score\": 0.7128128, \"raw_content\": \"Microsoft news - Today’s latest updates - CBS News\\n\\n\\nLatest\\nU.S.\\nWorld\\nCEO Killing Updates\\nAmerica Decides\\nPolitics\\nEntertainment\\nHealthWatch\\nMoneyWatch\\nCrime\\nSpace\\nSports\\nBrand Studio\\n\\n\\nLocal News\\nBaltimore\\nBay Area\\nBoston\\nChicago\\nColorado\\nDetroit\\nLos Angeles\\nMiami\\nMinnesota\\nNew York\\nPhiladelphia\\nPittsburgh\\nSacramento\\nTexas\\n\\n\\nLive\\nCBS News 24/7\\nBaltimore\\nBay Area\\nBoston\\nChicago\\nColorado\\nDetroit\\nLos Angeles\\nMiami\\nMinnesota\\nNew York\\nPhiladelphia\\nPittsburgh\\nSacramento\\nTexas\\n48 Hours\\n60 Minutes\\n\\n\\nShows\\n48 Hours\\n60 Minutes\\nAmerica Decides\\nCBS Evening News\\nCBS Mornings\\nCBS News Mornings\\nCBS Reports\\nCBS Saturday Morning\\nThe Daily Report\\nThe Dish\\nEye on America\\nFace the Nation\\nHere Comes the Sun\\nPerson to Person\\nSunday Morning\\nThe Takeout\\nThe Uplift\\nWeekender\\n\\n\\n\\n\\nCBS News Investigates\\nCBS Village\\nPodcasts\\nIn Depth\\nNewsletters\\nDownload Our App\\nCBS News Team\\nExecutive Team\\nBrand Studio\\nParamount Shop\\nParamount+\\nJoin Our Talent Community\\nRSS Feeds\\nA Moment With...\\nInnovators & Disruptors\\nEconomy 4.0\\n\\n\\n\\n\\n\\n\\n\\nU.S.\\nCEO Killing Updates\\nAmerica Decides\\nWorld\\nPolitics\\nHealthWatch\\nMoneyWatch\\nEntertainment\\nCrime\\nSports\\n\\n\\nWatch CBS News\\nMicrosoft\\n #### Microsoft 365 is experiencing an outage. Here's what to know. Microsoft said it's investigating an issue impacting access to Microsoft 365 and its Teams app. * Nov 26\\n #### Microsoft warns of election interference Microsoft issued a seven-page report on how Russia, Iran and China are trying to interfere with the 2024 U.S. elections. The company's threat analysis center is warning deepfake videos and other tactics are being used to target political candidates. CBS News' Nicole Sganga has more. * Oct 23 * 03:57\\n #### Steve Ballmer on becoming one of the world's richest billionaires LA Clippers owner and former Microsoft CEO Steve Ballmer, has seen his net worth soar north of $120 billion. * Oct 13\\n #### LA Clippers owner Steve Ballmer's $2-billion-plus bet on Intuit Dome LA Clippers owner Steve Ballmer has spent more than $2 billion on the Intuit Dome, the Clippers' new home in Inglewood. He's hoping it will help propel the team to a championship. * Oct 13\\n #### How Steve Ballmer went from selling brownie mix to owning the LA Clippers Billionaire Steve Ballmer bought the LA Clippers in 2014 after a run as Microsoft's CEO. These days, he's focusing his energy on the Intuit Dome — the Clippers' new home — and on getting an NBA title. * Oct 13\\n #### Steve Ballmer: The 60 Minutes Interview Billionaire Steve Ballmer bought the LA Clippers in 2014 after a run as Microsoft's CEO. These days, he’s focusing his energy on the Intuit Dome — the Clippers’ new home — and on getting an NBA title. * Oct 13 * 13:35\\n #### Ballmer's Ballgame | Sunday on 60 Minutes Jon Wertheim profiles Steve Ballmer, the former CEO of Microsoft who is now the basketball baron of the LA Clippers. Wertheim goes inside the gleaming Intuit Dome and delves into Ballmer's love of basketball and drive to win a championship. 60 Minutes, Sunday. * Oct 11 * 00:23\\n #### CrowdStrike executive to apologize for global technology crash In an appearance on Capitol Hill, senior executive is set to deliver an apology for IT meltdown behind mid-July havoc. * Sep 24\\n #### Plan would reopen Three Mile Island nuclear plant The owner of Pennsylvania's Three Mile Island nuclear plant, the site of the worst commercial nuclear disaster in U.S. history, announced this week that it plans to spend $1.6 billion to restart its remaining functional reactor as part of a 20-year deal to provide power to Microsoft data centers. Michael George has more. * Sep 21 * 01:49\\n Shopping #### AI-powered Windows laptops: Our hands-on review Just what is AI doing in these new Windows machines? We found out exactly what Microsoft Copilot+ PCs actually do. * Sep 18\\n Shopping #### The 9 best laptops for fall 2024 are whip-smart thanks to AI Here are our top picks for the best Windows and MacBook laptop computers that offer the latest AI tools * Sep 16\\n #### Microsoft holding cybersecurity summit Microsoft is holding a cybersecurity summit Tuesday in the wake of the CrowdStrike software update that caused a global outage in July. Microsoft reportedly plans to address ways the tech industry can improve its security. CBS News cybersecurity contributor Andrew Boyd has more. * Sep 10 * 02:49\\n Shopping #### Pre-order the new Xbox Series X and S consoles Enhance your gaming gear by preordering one of the just-announced new Microsoft Xbox game consoles. * Aug 22\\n #### The rising energy demands of data centers There are hundreds of data centers across the U.S., most of which are run by big tech firms, and their seemingly endless rows of servers are consuming huge amounts of electricity. Ben Tracy takes a look at how one of those companies, Google, is turning to renewable energy sources to power them. * Aug 15 * 03:31\\n #### 2024 campaigns, election hacks concerns Google is the latest entity to allege Iran tried to hack accounts connected to 2024 presidential campaigns for Vice President Kamala Harris and former President Donald Trump. CBS News homeland security reporter Nicole Sganga breaks down what's known about the hacking efforts. * Aug 15 * 03:13\\n #### Election interference attempts in 2024 The U.S. remains on alert about potential foreign attempts to interfere with the 2024 elections as former President Donald Trump's campaign grapples with the possibility of a hack apparently carried out by Iran. CBS News contributor Andrew Boyd, the former chief of operations in the CIA's Counterterrorism Mission Center, has more. * Aug 12 * 04:18\\n #### Officials outline security threats to DNC A new federal threat assessment from the FBI and Department of Homeland Security is warning about potential attacks at the Democratic National Convention later in August. The memo cites the recent assassination attempt on former President Donald Trump as the reason for the heightened concern. CBS News homeland security and justice reporter Nicole Sganga has more. * Aug 9 * 04:48\\n #### Microsoft experiencing outages for some 365 Office and cloud programs Microsoft said some of its 365 apps are experiencing problems, with the problems coming less than two weeks after the CrowdStrike outage. * Jul 30\\n #### CrowdStrike says 97% of Windows sensors are online One week after the global computer outage, Windows systems are nearly fully operational, according to CrowdStrike. * Jul 26\\n #### 3 reasons tech stocks, once hot, are suddenly not A tech selloff caused the Nasdaq and S&P 500 to have their worst days since 2022. Here's why tech stocks are fading. * Jul 25\\n #### Delta's CEO predicts \\\"minimal\\\" flight cancellations on Wednesday Chaos is easing for Delta Air Lines passengers after the global CrowdStrike outage forced the carrier to scratch thousands of flights. * Jul 24\\n #### CrowdStrike blames bad data upload for global tech outage CrowdStrike released details about the cause of an outage that took down computers across the globe, blaming \\\"problematic content data.\\\" * Jul 24\\n #### Delta sees 5th straight day of disruptions Delta Air Lines is seeing a fifth straight day of flight disruptions after a global software outage last Friday forced cancelations and delays. The problems have led the Transportation Department to launch an investigation into the airline. CBS News senior transportation correspondent Kris Van Cleave has the latest. * Jul 23 * 02:06\\n #### Delta struggles with global tech outage Delta is still navigating delays and flight cancellations after the global technology outage that struck Microsoft products linked to CrowdStrike systems. CBS News senior transportation correspondent Kris Van Cleave has the latest. * Jul 23 * 03:27\\n #### More flights canceled in wake of cyber outage Hundreds of flights were canceled Monday in continued fallout from last week's global cyber outage. Delta Air Lines is the hardest hit, with roughly 23% of all its flights for the day canceled. Sam Sabin, cybersecurity reporter for Axios, joins CBS News to unpack the chaos. * Jul 22 * 04:12\\nShow More\\n #### UnitedHealthcare CEO shooting suspect has outburst on way to court Luigi Mangione, the suspect in United Healthcare CEO Brian Thompson's killing, is now awaiting extradition to New York City. * updated 19M ago\\n\\nWhat to know about ghost guns\\nWhat we know about man charged in UnitedHealthcare CEO shooting\\n\\n #### Franklin Fire in Malibu erupts near Pepperdine University, prompting evacuations The Franklin Fire has burned 2,713 acres in Malibu, prompting evacuations and a shelter-in-place order at the Pepperdine University campus, which has since been lifted. * updated 1M ago\\n #### Kroger's $24.6 billion purchase of Albertsons halted by federal judge Merger would curtail competition for grocery shoppers, Oregon court finds in a decision that likely derails the deal. * 2H ago\\n #### Trump to nominate Kimberly Guilfoyle for ambassador to Greece President-elect Donald Trump announced Tuesday he is nominating Kimberly Guilfoyle to be ambassador to Greece. * 2H ago\\n #### Feds collected records of congressional staff, reporters in Trump-era leak probes The Justice Department failed to follow internal policy and ignored protections when seeking records from members of Congress, dozens of congressional staffers and members of the media, a watchdog found. * 8H ago\\n #### Prosecutors say Trump's conviction in \\\"hush money\\\" case should stand Manhattan prosecutors say Donald Trump's election in November shouldn't mean his conviction in May needs to be vacated. * 6H ago\\n #### What we know about man charged in UnitedHeathcare CEO shooting Luigi Mangione is charged in the deadly shooting​ of UnitedHealthcare CEO Brian Thompson​. * updated 27M ago\\n #### Officer in fatal crash responding to Marjorie Taylor Greene bomb threat A woman died in a car crash with an officer who at the time was responding to a bomb threat against Rep. Marjorie Taylor Greene, the congresswoman said. * 10H ago\\n #### Jamie Foxx reveals he had brain bleed and stroke last year Jamie Foxx opened up about why he was hospitalized for several weeks in April 2023. * 9H ago\\nU.S.\\nMore U.S.\\n #### E-commerce sites hawk merchandise about UnitedHealthcare CEO shooting Online platforms including Etsy and eBay are peddling mugs, candles and other products linked to the shooting death of Brian Thompson. * 2H ago\\n #### GM to stop funding troubled Cruise autonomous vehicle unit General Motors says it will move away from the robotaxi business and cease funding its money-losing Cruise autonomous vehicle division that originated as a San Francisco start-up. * 3H ago\\n #### Kroger $24.6 billion purchase of Albertsons halted by federal judge Merger would curtail competition for grocery shoppers, Oregon court finds in a decision that could derail the deal. * 2H ago\\n #### House task force releases final report on Trump assassination attempts \\\"The Task Force found that the tragic and shocking events in Butler, Pennsylvania were preventable and should not have happened,\\\" a House task force found. * 5H ago\\n #### McConnell suffers fall on Capitol Hill, prompting medical treatment Sen. Mitch McConnell, the outgoing Republican leader in the Senate, suffered a fall on Capitol Hill on Tuesday and received medical treatment. * 4H ago\\nMore in U.S.\\nMoneyWatch\\nMore MoneyWatch\\n #### E-commerce sites hawk merchandise about UnitedHealthcare CEO shooting Online platforms including Etsy and eBay are peddling mugs, candles and other products linked to the shooting death of Brian Thompson. * 2H ago\\n #### Kroger $24.6 billion purchase of Albertsons halted by federal judge Merger would curtail competition for grocery shoppers, Oregon court finds in a decision that could derail the deal. * 2H ago\\n #### Another infant dies in outbreak tied to ready-to-eat meat products Cases now reported in eight states related to Yu Shang Food products sold online and at stores nationwide, officials say. * 8H ago\\n #### Altoona McDonald's visited by Luigi Mangione is flooded with negative reviews Google said it has removed the disparaging comments because they violate its content policies. * 6H ago\\n #### Murdoch blocked from altering family trust to put son in charge of Fox News empire The 93-year-old media mogul has argued family trust must be changed to allow Lachlan Murdoch to maintain Fox News' conservative bent. * 10H ago\\nMore from MoneyWatch\\nPolitics\\nMore Politics\\n #### Trump to nominate Kimberly Guilfoyle for ambassador to Greece President-elect Donald Trump announced Tuesday he is nominating Kimberly Guilfoyle to be ambassador to Greece. * 2H ago\\n #### House task force releases final report on Trump assassination attempts \\\"The Task Force found that the tragic and shocking events in Butler, Pennsylvania were preventable and should not have happened,\\\" a House task force found. * 5H ago\\n #### McConnell suffers fall on Capitol Hill, prompting medical treatment Sen. Mitch McConnell, the outgoing Republican leader in the Senate, suffered a fall on Capitol Hill on Tuesday and received medical treatment. * 4H ago\\n #### New York prosecutors say Trump's conviction in \\\"hush money\\\" case should stand Manhattan prosecutors say Donald Trump's election in November shouldn't mean his conviction in May needs to be vacated. * 6H ago\\n #### Feds collected records of congressional staff, reporters in Trump-era leak probes The Justice Department failed to follow internal policy and ignored protections when seeking records from members of Congress, dozens of congressional staffers and members of the media, a watchdog found. * 8H ago\\nMore in Politics\\nHealthWatch\\nMore HealthWatch\\n #### Another infant dies in outbreak tied to ready-to-eat meat products Cases now reported in eight states related to Yu Shang Food products sold online and at stores nationwide, officials say. * 8H ago\\n #### Jamie Foxx reveals he had brain bleed and stroke last year Jamie Foxx opened up about why he was hospitalized for several weeks in April 2023. * 9H ago\\n #### Americans are paying more than ever for health insurance Consumers are venting frustrations about health insurance in wake of UnitedHealthcare CEO murder. Costs have outpaced inflation for years. * 10H ago\\n #### EPA bans two cleaner solvents linked to cancer The Environmental Protection Agency banned two solvents known to cause a range of cancers: trichloroethylene (TCE) and perchloroethylene (PCE). * Dec 9\\n #### Mysterious illness, dubbed \\\"disease X,\\\" has killed dozens in Congo, WHO says The WHO says 406 cases of the disease have been recorded and that more than half of those who died were children younger than 5. * Dec 9\\nMore in HealthWatch\\nWorld\\nMore World\\n #### Arctic tundra becoming a source of carbon dioxide emissions, NOAA warns The Arctic tundra has historically helped reduce global emissions. But rising temperatures and wildfires in the region are changing that, scientists say. * 3H ago\\n #### Trump to nominate Kimberly Guilfoyle for ambassador to Greece President-elect Donald Trump announced Tuesday he is nominating Kimberly Guilfoyle to be ambassador to Greece. * 2H ago\\n #### Syrians elated but anxious as they pore over ousted Assad's palace Crowds came to sightsee around what was once the palace of longtime dictator Bashar al-Assad and to get to know the Islamist fighters who swept into Damascus. * 9H ago\\n #### Australian warship test-fires Tomahawk missile off U.S. coast Australia's naval expansion plan comes as China and other powers in the Asia-Pacific and beyond build up their firepower. * 10H ago\\n #### Champion cyclist admits to lesser charge after death of Olympian wife Rohan Dennis admitted to a charge of creating a risk of harm in relation to the December 2023 road death of his Olympian wife Melissa Hoskins. * 10H ago\\nMore in World\\nEntertainment\\nMore Entertainment\\n #### Christian Slater, Patrick Gibson on \\\"Dexter\\\" prequel series Actors Christian Slater and Patrick Gibson join \\\"CBS Mornings\\\" to discuss what to expect in \\\"Dexter: Original Sin,\\\" which takes place 15 years before audiences first met Dexter in the original award-winning series. * 9H ago\\n #### Jamie Foxx reveals he had brain bleed and stroke last year Jamie Foxx opened up about why he was hospitalized for several weeks in April 2023. * 9H ago\\n #### Christian Slater, Patrick Gibson on \\\"Dexter\\\" Actors Christian Slater and Patrick Gibson join \\\"CBS Mornings\\\" to talk about starring in the highly-anticipated prequel \\\"Dexter: Original Sin.\\\" The series takes place 15 years before audiences first met Dexter from the original award-winning series starring Michael C. Hall. It follows young Dexter, played by Gibson, as he evolves from college student to serial killing vigilante. Slater stars as Dexter's father, a homicide detective who teaches his son an ethical code for killing. * 12H ago * 05:30\\n #### Billie Eilish on her doubts and new music Billie Eilish is already a nine-time Grammy winner, but the 22-year-old says she still has doubts about her ability to create new music. She spoke to CBS News' Anthony Mason about her fears and her success. * 12H ago * 07:55\\n #### Extended interview: Billie Eilish In this web exclusive, \\\"Sunday Morning\\\" correspondent Anthony Mason sits down with music superstar Billie Eilish to talk about performing on her \\\"Hit Me Hard and Soft\\\" tour (her first without brother Finneas). She also discusses welcoming the label of \\\"songwriter\\\"; what she learned from writing the \\\"Barbie\\\" song \\\"What Was I Made For?\\\"; the perceived criticisms of her singing voice and the liberation she discovered after starting vocal lessons; and the power that she says comes from expressing vulnerability in her art. * 12H ago * 46:08\\nMore in Entertainment\\nTechnology\\nMore Technology\\n #### GM to stop funding troubled Cruise autonomous vehicle unit General Motors says it will move away from the robotaxi business and cease funding its money-losing Cruise autonomous vehicle division that originated as a San Francisco start-up. * 3H ago\\n #### How will Trump term change AI safety? President-elect Donald Trump has promised changes to policies regarding artificial intelligence. Elizabeth Kelly, the director of the U.S. Artificial Intelligence Safety Institute, joins CBS News with more on the safety atmosphere already in place to study the technology. * 5H ago * 03:38\\n #### How AI powered robots are helping small farms From labor shortages to environmental impacts, farmers are looking to AI to help revolutionize the agriculture industry. One California startup, Farm-ng, is tapping into the power of AI and robotics to perform a wide range of tasks, including seeding, weeding and harvesting. * Mar 28 * 03:27\\n #### Microsoft 365 suffers outage Tuesday morning Microsoft 365 users reported being unable to access essential apps Tuesday morning. * 6H ago\\n #### Who is David Sacks, Trump's crypto, AI czar? The second Trump administration is poised to be a powerful ally for the crypto industry. President-elect Donald Trump spoke highly of cryptocurrencies on the campaign trail, and his cabinet picks reflect that, with former PayPal executive David Sacks set to serve as Trump's crypto and artificial intelligence czar. Makena Kelly, senior politics reporter for Wired, joins CBS News to dig into Sacks' background. * Dec 9 * 03:35\\nMore in Technology\\nScience\\nMore Science\\n #### Science #### Study finds young people most at risk of heat A new Columbia University Climate School study discovered that young people may be most at risk of heat-related deaths. CBS News environmental correspondent David Schechter reports. * 1H ago * 03:00\\n #### Climate change could bring more snow in some areas Experts predict climate change could actually make snow worse in some areas of the U.S. Meanwhile, nearly two-thirds of the U.S. is seeing less snowfall than in the 1970s. CBS News national climate correspondent Dave Malkoff explains how. * Dec 6 * 02:57\\n #### Wisdom, the world's oldest-known wild bird, lays an egg at 74 Wisdom the Laysan albatross was first tagged by researchers in 1956. Since then, she's believed to have raised as many as 30 chicks. * Dec 6\\n #### When should consumers buy electric cars? President-elect Donald Trump indicated that once in office, he plans on ending the consumer tax credit for electric vehicle purchases. Business Insider autos senior reporter Nora Naughton joins \\\"The Daily Report\\\" to discuss the potential impact and when consumers should buy. * Dec 5 * 04:55\\n #### Starbucks plastic cup investigation CBS News tracked plastic cups meant to be recycled by Starbucks and found that most of those did not end up at recycling facilities. CBS News' David Schechter breaks down the investigation's findings. * Dec 2 * 04:57\\nMore in Science\\nCrime\\nMore Crime\\n #### Crime #### Luigi Mangione's behavior before court hearing UnitedHealthcare CEO shooting suspect Luigi Mangione fought extradition to New York in a Pennsylvania court on Tuesday. Before entering the courthouse, he pulled away from authorities and yelled towards reporters. CBS News' Lilia Luciano and Anna Schecter have more on the suspect and the case. * 2H ago * 06:54\\n #### How to protect your packages from porch pirates Front door surveillance cameras can help catch people stealing packages, but they don't necessarily help stop the thefts. Ash-har Quraishi takes a look at several ways people are trying to protect themselves from porch pirates this holiday season. * 2H ago * 02:05\\n #### Accused CEO killer fights extradition The 26-year-old accused of killing UnitedHealthcare CEO Brian Thompson is being held without bail in Pennsylvania as he fights extradition to New York, where the murder took place. Lilia Luciano has the latest. * 2H ago * 03:54\\n #### CEO murder suspect has outburst outside court The suspect charged in the murder of UnitedHealthcare CEO Brian Thompson was denied bail at a hearing Tuesday in Hollidaysburg, Pennsylvania. During his appearance, a shackled Luigi Mangione shouted as he entered the courthouse. CBS News coordinating producer for crime and public safety Anna Schecter has the latest details. * 3H ago * 05:39\\n #### Former Abercrombie & Fitch CEO Mike Jeffries in court Former Abercrombie & Fitch CEO Mike Jeffries appeared in court on Long Island for a hearing in his federal sex trafficking case. CBS News' Tom Hanson reports on what occurred in the proceeding. * 5H ago * 02:55\\nMore in Crime\\nSpace\\nMore Space\\n #### Space #### Emily Calandrelli talks Blue Origin mission Emily Calandrelli joins \\\"CBS Mornings Plus\\\" after recently becoming the 100th woman ever in space. She and her Blue Origin crewmates traveled over 62 miles above sea level during their mission last month. * 11H ago * 07:05\\n #### Why you shouldn't wait for the Geminid meteor shower peak this year The Geminid meteor shower this year is set to peak at almost the same time as December's full moon, which could make for challenging viewing conditions. * Dec 7\\n #### NASA's Artemis moon mission delayed yet again NASA's next two Artemis moon missions have been pushed back once again, with the first lunar landing in more than a half-century not scheduled to take place until at least mid-2027. NASA said the delay is partly so that it can address issues with the Orion spacecraft's heat shield. * Dec 5 * 00:24\\n #### NASA delays next 2 Artemis moon missions to address heat shield, other issues Heat shield damage seen during the first Artemis test flight is now understood, NASA says, but more time is needed to implement fixes. * Dec 5\\n #### More on small asteroid near Earth A small asteroid neared the Earth's atmosphere before exploding. Derrick Pitts, the Franklin Institute's chief astronomer and planetarium director, joins CBS News with more on the phenomenon. * Dec 4 * 03:56\\nMore in Space\\nLatest Galleries\\nMore Latest Galleries\\n #### Notable Deaths in 2024 A look back at the esteemed personalities who've left us this year, who'd touched us with their innovation, creativity and humanity. * Nov 29 * 74 photos\\n #### The troubled marriage of Ashley and Doug Benefield The seesaw marriage between the former ballerina and her much older husband only lasted four years, until she shot him on Sept. 27, 2020. * Dec 3 * 20 photos\\n #### Texas couple investigates teen daughter's unusual death Cayley Mandadi's mother and stepfather go to extreme lengths to prove her death was no accident. * Dec 1 * 19 photos\\n #### Serial killer Rodney Alcala's secret photos See some of convicted serial killer Rodney Alcala's photographs that were discovered by detectives in a Seattle storage locker. * Nov 7 * 67 photos\\n #### Summer music heats up 2024 Live performances are in full swing this summer. Scroll through our concert gallery, featuring pictures by CBS News photojournalist Jake Barlow and photographers Ed Spinelli and Kirstine Walton. * Sep 29 * 150 photos\\nMore in Latest Galleries\\nLatest CBS News Videos\\nMore Latest CBS News Videos\\n #### Latest CBS News Videos #### Study finds young people most at risk of heat A new Columbia University Climate School study discovered that young people may be most at risk of heat-related deaths. CBS News environmental correspondent David Schechter reports. * 1H ago * 03:00\\n #### Raw milk must be tested for bird flu, USDA says The U.S. Department of Agriculture has issued a national mandate requiring raw and unpasteurized milk be tested for bird flu. Dr. William Schaffner, professor of preventive medicine at Vanderbilt University School of Medicine, joins \\\"The Daily Report\\\" to discuss. * 1H ago * 03:39\\n #### Inside the Idaho abortion ban case A federal appeals court heard arguments on Tuesday over Idaho's strict abortion laws, which ban the procedure unless it's necessary to save the pregnant woman's life. CBS News correspondent Elise Preston has details. * 1H ago * 02:42\\n #### Trump calls for ceasefire in Ukraine President-elect Donald Trump is signaling a departure from the Biden administration's approach to military aid for Ukraine. David Kramer, executive director of the George W. Bush Institute, joins \\\"The Daily Report\\\" to discuss how this could impact the war. * 1H ago * 04:47\\n #### Netanyahu testifies in corruption case Israeli Prime Minister Benjamin Netanyahu testified in court Tuesday as a criminal defendant in his long-running corruption trial. CBS News foreign correspondent Debora Patta has the details. * 1H ago * 01:36\\nMore in Latest Videos\\nCopyright ©2024 CBS Interactive Inc. All rights reserved.\\n\\nPrivacy Policy\\nCalifornia Notice\\nDo Not Sell My Personal Information\\nTerms of Use\\nAbout\\nAdvertise\\nClosed Captioning\\nCBS News Store\\nSite Map\\nContact Us\\n\\nHelp\\n\\n\\nfacebook\\n\\ntwitter\\ninstagram\\nyoutube\\n\\nView CBS News In\\nCBS News App Open\\nChrome Safari Continue\\nBe the first to know\\nGet browser notifications for breaking news, live events, and exclusive reporting.\\nNot Now Turn On\"}, {\"title\": \"Latest news - Source\", \"url\": \"https://news.microsoft.com/source/view-all/\", \"content\": \"Microsoft Microsoft On The Issues All Microsoft Microsoft 365 Microsoft Teams Microsoft Edge Microsoft Cloud Microsoft Security Microsoft 365 for business Microsoft Industry Microsoft Learn Microsoft Rewards NASA’s new Earth Copilot brings Microsoft AI capabilities to democratize access to complex data Accenture, Microsoft and Avanade help enterprises reinvent business functions and industries with generative AI and Copilot 5 ways Microsoft Copilot can help you finish your school term strong Microsoft introduces new adapted AI models for industry Microsoft Copilot AI in Windows Microsoft Store Microsoft Store support Microsoft in education Microsoft Teams for Education Microsoft 365 Education Microsoft Cloud Microsoft Security Microsoft 365 Microsoft Teams Microsoft 365 Copilot Microsoft Learn About Microsoft Privacy at Microsoft Contact Microsoft © Microsoft 2024\", \"score\": 0.6388584, \"raw_content\": \"Latest news - Source\\nSkip to main content\\n Microsoft\\nSource\\nSource\\nSource\\n\\nHome\\n\\nOur Company\\n\\nCompany News\\nOfficial Microsoft Blog\\nMicrosoft On The Issues\\nEurope\\nAsia\\nLatin America\\nIndia\\nUK\\nInclusion is Innovation\\nConexiones\\n\\n\\n\\nAI\\n\\nInnovation\\nDigital Transformation\\nDiversity & Inclusion\\nSustainability\\nWork & Life\\nUnlocked\\n\\nMore\\n\\n\\nAll Microsoft\\n\\n\\nGlobal\\n    ------\\n\\nMicrosoft 365\\nTeams\\nCopilot\\nWindows\\nSurface\\nXbox\\nDeals\\nSmall Business\\nSupport\\nSoftware Software\\n\\n\\nWindows Apps\\nAI\\nOutlook\\nOneDrive\\nMicrosoft Teams\\nOneNote\\nMicrosoft Edge\\nSkype\\nPCs & Devices PCs & Devices\\n\\n\\nComputers\\nShop Xbox\\nAccessories\\nVR & mixed reality\\nCertified Refurbished\\nTrade-in for cash\\nEntertainment Entertainment\\n\\n\\nXbox Game Pass Ultimate\\nPC Game Pass\\nXbox games\\nPC and Windows games\\nMovies & TV\\nBusiness Business\\n\\n\\nMicrosoft Cloud\\nMicrosoft Security\\nDynamics 365\\nMicrosoft 365 for business\\nMicrosoft Power Platform\\nWindows 365\\nMicrosoft Industry\\nSmall Business\\nDeveloper & IT Developer & IT\\n\\n\\nAzure\\nDeveloper Center\\nDocumentation\\nMicrosoft Learn\\nMicrosoft Tech Community\\nAzure Marketplace\\nAppSource\\nVisual Studio\\nOther Other\\n\\n\\nMicrosoft Rewards\\nFree downloads & security\\nEducation\\nGift cards\\nLicensing\\nUnlocked stories\\nView Sitemap\\n\\n\\n\\n\\n\\n\\n\\nSearch Search news.microsoft.com/source\\n\\nNo results\\n\\nCancel 0 Cart 0 items in shopping cart\\nSource\\n\\n\\n\\n\\n\\n\\n\\nLatest news\\n=============\\nShow Filters\\nHide Filters\\nCategories\\nTags\\n\\nNovember 19, 2024\\nToyota is deploying AI agents to harness the collective wisdom of engineers and innovate faster\\nAI\\n\\nNovember 19, 2024\\nAI agents — what they are, and how they'll change the way we work\\nAI, Work & Life\\n\\nNovember 18, 2024\\nMeet the Imagine Cup 2025 Idea round winners\\nCompany News\\n\\nNovember 18, 2024\\n8080 Books, an imprint of Microsoft, launches, offering titles spanning technology, business and society\\nCompany News\\n\\nNovember 15, 2024\\nGet the top news, videos and images from Microsoft Ignite 2024\\nCompany News\\n\\nNovember 15, 2024\\nLive out life as a virtual aviator from the comfort of home\\nCompany News\\n\\nNovember 14, 2024\\nXbox introduces new AI solutions to protect gamers\\nCompany News\\n\\nNovember 14, 2024\\nAt work: 'Can AI help with this?'\\nCompany News\\n\\nNovember 14, 2024\\nNASA’s new Earth Copilot brings Microsoft AI capabilities to democratize access to complex data\\nCompany News\\n\\nNovember 14, 2024\\nAccenture, Microsoft and Avanade help enterprises reinvent business functions and industries with generative AI and Copilot\\nCompany News\\n\\nNovember 13, 2024\\n5 ways Microsoft Copilot can help you finish your school term strong\\nCompany News\\n\\nNovember 13, 2024\\nMicrosoft introduces new adapted AI models for industry\\nCompany News\\nWhat's new\\n\\nSurface Pro\\nSurface Laptop\\nSurface Laptop Studio 2\\nSurface Laptop Go 3\\nMicrosoft Copilot\\nAI in Windows\\nExplore Microsoft products\\nWindows 11 apps\\n\\nMicrosoft Store\\n\\nAccount profile\\nDownload Center\\nMicrosoft Store support\\nReturns\\nOrder tracking\\nCertified Refurbished\\nMicrosoft Store Promise\\nFlexible Payments\\n\\nEducation\\n\\nMicrosoft in education\\nDevices for education\\nMicrosoft Teams for Education\\nMicrosoft 365 Education\\nHow to buy for your school\\nEducator training and development\\nDeals for students and parents\\nAzure for students\\n\\nBusiness\\n\\nMicrosoft Cloud\\nMicrosoft Security\\nDynamics 365\\nMicrosoft 365\\nMicrosoft Power Platform\\nMicrosoft Teams\\nMicrosoft 365 Copilot\\nSmall Business\\n\\nDeveloper & IT\\n\\nAzure\\nDeveloper Center\\nDocumentation\\nMicrosoft Learn\\nMicrosoft Tech Community\\nAzure Marketplace\\nAppSource\\nVisual Studio\\n\\nCompany\\n\\nCareers\\nAbout Microsoft\\nCompany news\\nPrivacy at Microsoft\\nInvestors\\nDiversity and inclusion\\nAccessibility\\nSustainability\\n\\nEnglish (United States) Your Privacy ChoicesConsumer Health Privacy\\n\\nSitemap\\nContact Microsoft\\nPrivacy\\nManage cookies\\nTerms of use\\nTrademarks\\nSafety & eco\\nRecycling\\nAbout our ads\\n© Microsoft 2024\\n\"}], \"response_time\": 2.4}\n==================================\u001B[1m Ai Message \u001B[0m==================================\n\nHere are the latest news highlights on Microsoft:\n\n1. **Microsoft Cloud for Sovereignty**: Microsoft has announced the general availability of its Cloud for Sovereignty, which aims to open new pathways for government innovation. This initiative is part of Microsoft's broader strategy to enhance cloud services tailored for government needs.\n\n2. **AI and Copilot Innovations**: Microsoft is celebrating the first year of its Copilot feature with significant new innovations. The company is focusing on expanding the capabilities of AI-powered tools across its platforms, including Microsoft 365, to enhance productivity and user experience.\n\n3. **Microsoft 365 Outage**: Recently, Microsoft 365 experienced an outage affecting access to its services, including the Teams app. The company is investigating the issue to restore full functionality and ensure service reliability.\n"
     ]
    }
   ],
   "source": [
    "prompt = \"What about microsoft?\"\n",
    "call_conversational_agent(agent_graph=builder,\n",
    "                          prompt=prompt,\n",
    "                          user_session_id=uid)"
   ]
  },
  {
   "cell_type": "code",
   "execution_count": 0,
   "metadata": {
    "application/vnd.databricks.v1+cell": {
     "cellMetadata": {},
     "inputWidgets": {},
     "nuid": "5d84a724-5f2c-4145-9f2b-49c91280a6df",
     "showTitle": false,
     "tableResultSettingsMap": {},
     "title": ""
    },
    "id": "oLuJa5II1GaR"
   },
   "outputs": [],
   "source": []
  }
 ],
 "metadata": {
  "application/vnd.databricks.v1+notebook": {
   "computePreferences": null,
   "dashboards": [],
   "environmentMetadata": null,
   "language": "python",
   "notebookMetadata": {},
   "notebookName": "M4_ Memory_&_Threads_in_Conversational_Agentic_AI_Systems_in_LangGraph",
   "widgets": {}
  },
  "colab": {
   "provenance": []
  },
  "kernelspec": {
   "display_name": ".venv",
   "language": "python",
   "name": "python3"
  },
  "language_info": {
   "name": "python"
  }
 },
 "nbformat": 4,
 "nbformat_minor": 0
}
