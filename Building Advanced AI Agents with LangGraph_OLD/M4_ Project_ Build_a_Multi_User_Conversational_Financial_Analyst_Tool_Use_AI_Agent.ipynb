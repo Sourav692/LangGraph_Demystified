{
 "cells": [
  {
   "cell_type": "markdown",
   "metadata": {
    "application/vnd.databricks.v1+cell": {
     "cellMetadata": {},
     "inputWidgets": {},
     "nuid": "15a627aa-5348-4f6e-ac89-6c22a0703f47",
     "showTitle": false,
     "tableResultSettingsMap": {},
     "title": ""
    }
   },
   "source": []
  },
  {
   "cell_type": "markdown",
   "metadata": {
    "application/vnd.databricks.v1+cell": {
     "cellMetadata": {},
     "inputWidgets": {},
     "nuid": "d490f881-648b-4428-9d10-3076b85d1f70",
     "showTitle": false,
     "tableResultSettingsMap": {},
     "title": ""
    },
    "id": "8pdRDlVs1MJs"
   },
   "source": [
    "# Build a Multi-User Conversational Financial Analyst Tool-Use AI Agent with In-Memory Persistence with LangGraph"
   ]
  },
  {
   "cell_type": "markdown",
   "metadata": {
    "application/vnd.databricks.v1+cell": {
     "cellMetadata": {},
     "inputWidgets": {},
     "nuid": "34205dd6-e300-44e5-a6ac-1253980c1107",
     "showTitle": false,
     "tableResultSettingsMap": {},
     "title": ""
    },
    "id": "NYBpZTjLnEXb"
   },
   "source": [
    "This project will focus on building a Tool-Use Agentic AI System which acts as a Financial Analyst & Advisor. This agent will be conversational and can handle multiple user-sessions with their own separate conversational history.\n",
    "\n",
    "The first project here will build a conversational tool-use agentic system with in-memory persistence.\n",
    "\n",
    "![](https://i.imgur.com/dKD7L6Q.png)\n",
    "\n",
    "### Financial Analyst Tool-Use Agentic AI System with In-Memory Persistence\n",
    "\n",
    "This project focuses on building a **Tool-Use Agentic AI System** that acts as a Financial Analyst & Advisor. The agent will be conversational and can handle multiple user sessions with their own separate conversational history. By leveraging the `create_react_agent` function from **LangGraph**, this project adds in-memory persistence for enhanced user interaction continuity. The workflow comprises the following components:\n",
    "\n",
    "1. **Agent System Prompt**:\n",
    "   - The agent validates input queries for relevance and specificity.\n",
    "   - It provides detailed market analysis or stock-specific insights depending on the user's query.\n",
    "   - For invalid queries, the agent responds professionally and guides the user appropriately.\n",
    "   - The system delivers concise, professional responses emphasizing data clarity and accuracy.\n",
    "\n",
    "   **Flows**:\n",
    "   - **Flow 1**: For general market trends, the agent analyzes data and suggests stock opportunities using tools like `SEARCH_WEB` and `GET_GENERAL_MARKET_DATA`.\n",
    "   - **Flow 2**: For stock-specific queries, the agent validates the stock ticker, retrieves relevant data, and provides insights using tools such as `GET_STOCK_FUNDAMENTAL_INDICATOR_METRICS` and `GET_STOCK_PRICE_METRICS`.\n",
    "\n",
    "2. **Financial Analysis Tools**:\n",
    "   The system integrates multiple tools to ensure comprehensive and precise insights:\n",
    "   - **SEARCH_WEB**: Fetches general stock market information from the web.\n",
    "   - **GET_STOCK_FUNDAMENTAL_INDICATOR_METRICS**: Provides insights into key financial metrics such as P/E ratio, ROE, etc.\n",
    "   - **GET_STOCK_NEWS**: Extracts the latest news and updates related to stocks or markets.\n",
    "   - **GET_GENERAL_MARKET_DATA**: Fetches data on overall market trends and performance.\n",
    "   - **GET_STOCK_TICKER**: Validates and fetches stock ticker symbols based on user queries.\n",
    "   - **GET_STOCK_PRICE_METRICS**: Retrieves price trends, performance, and metrics for specific stocks.\n",
    "\n",
    "3. **Stock Market Data Providers**:\n",
    "   The system ensures real-time, reliable data by integrating with top providers like Yahoo Finance, Finviz, TMX, Cboe, and more, through platforms such as **OpenBB**.\n",
    "\n",
    "4. **Memory Module**:\n",
    "   - A memory module is introduced to store and manage user-specific conversational histories.\n",
    "   - This enables the agent to maintain session continuity and provide context-aware responses for recurring users or prolonged interactions. __Here we store this in-memory.__\n",
    "\n",
    "5. **Message Trimmer**:\n",
    "   - Trims responses to ensure they are concise, professional, and reader-friendly, improving user experience and response quality.\n",
    "\n",
    "6. **ReAct Reasoning Framework**:\n",
    "   - The system employs **ReAct reasoning**, combining logical deduction with dynamic tool usage. This framework ensures precise and actionable results by dynamically selecting the right tools based on the query.\n",
    "\n",
    "7. **Final Response**:\n",
    "   - After processing the data from tool calls, the agentic system generates the final response.\n",
    "\n",
    "\n",
    "\n",
    "\n"
   ]
  },
  {
   "cell_type": "markdown",
   "metadata": {
    "application/vnd.databricks.v1+cell": {
     "cellMetadata": {},
     "inputWidgets": {},
     "nuid": "789d8498-cb23-4d78-b04c-6844f2ed3354",
     "showTitle": false,
     "tableResultSettingsMap": {},
     "title": ""
    },
    "id": "9hEI3WL328vZ"
   },
   "source": [
    "## Install OpenAI, LangGraph and LangChain dependencies"
   ]
  },
  {
   "cell_type": "code",
   "execution_count": 0,
   "metadata": {
    "application/vnd.databricks.v1+cell": {
     "cellMetadata": {},
     "inputWidgets": {},
     "nuid": "d88e79b1-0fab-4933-b0ad-b4b90b0a4d54",
     "showTitle": false,
     "tableResultSettingsMap": {},
     "title": ""
    },
    "colab": {
     "base_uri": "https://localhost:8080/"
    },
    "id": "2evPp14fy258",
    "outputId": "16772b3a-881d-405d-e69e-42b9c45d570e"
   },
   "outputs": [],
   "source": [
    "!pip install -q langchain==0.3.14\n",
    "!pip install -q langchain-openai==0.3.0\n",
    "!pip install -q langchain-community==0.3.14\n",
    "!pip install -q langgraph==0.2.64\n",
    "!pip install -q langgraph-checkpoint-sqlite==2.0.5\n",
    "# fix yfinance to stable version\n",
    "!pip install -q yfinance==0.2.51"
   ]
  },
  {
   "cell_type": "markdown",
   "metadata": {
    "application/vnd.databricks.v1+cell": {
     "cellMetadata": {},
     "inputWidgets": {},
     "nuid": "140ac697-29ea-4fa9-bed4-d6b126d582e5",
     "showTitle": false,
     "tableResultSettingsMap": {},
     "title": ""
    },
    "id": "pSE8EoRXyuxx"
   },
   "source": [
    "## Install OpenBB"
   ]
  },
  {
   "cell_type": "code",
   "execution_count": 0,
   "metadata": {
    "application/vnd.databricks.v1+cell": {
     "cellMetadata": {},
     "inputWidgets": {},
     "nuid": "afdff90e-45aa-470e-8176-0ed4c82ea649",
     "showTitle": false,
     "tableResultSettingsMap": {},
     "title": ""
    },
    "colab": {
     "base_uri": "https://localhost:8080/",
     "height": 1000
    },
    "id": "fO4gOIVIjGH7",
    "outputId": "4beccfe3-df5b-485a-fff2-ee7115f3e7ea"
   },
   "outputs": [],
   "source": [
    "!pip install -q openbb[all]==4.3.5"
   ]
  },
  {
   "cell_type": "markdown",
   "metadata": {
    "application/vnd.databricks.v1+cell": {
     "cellMetadata": {},
     "inputWidgets": {},
     "nuid": "11dbacb5-f423-4536-a7d5-c242092d7998",
     "showTitle": false,
     "tableResultSettingsMap": {},
     "title": ""
    },
    "id": "H9c37cLnSrbg"
   },
   "source": [
    "## Enter Open AI API Key"
   ]
  },
  {
   "cell_type": "code",
   "execution_count": 0,
   "metadata": {
    "application/vnd.databricks.v1+cell": {
     "cellMetadata": {},
     "inputWidgets": {},
     "nuid": "3f5d406c-de14-4b4a-a987-a8db3890dde6",
     "showTitle": false,
     "tableResultSettingsMap": {},
     "title": ""
    },
    "colab": {
     "base_uri": "https://localhost:8080/"
    },
    "id": "cv3JzCEx_PAd",
    "outputId": "d71dc3b3-9537-49fc-e91c-3878d83cca1d"
   },
   "outputs": [
    {
     "output_type": "stream",
     "name": "stdout",
     "output_type": "stream",
     "text": [
      "Enter Open AI API Key: ··········\n"
     ]
    }
   ],
   "source": [
    "# from getpass import getpass\n",
    "\n",
    "# OPENAI_KEY = getpass('Enter Open AI API Key: ')"
   ]
  },
  {
   "cell_type": "markdown",
   "metadata": {
    "application/vnd.databricks.v1+cell": {
     "cellMetadata": {},
     "inputWidgets": {},
     "nuid": "b08b0826-a856-45e8-94ce-7ff1c0fdf8a9",
     "showTitle": false,
     "tableResultSettingsMap": {},
     "title": ""
    },
    "id": "-tsLsa9b3Dxg"
   },
   "source": [
    "## Enter OpenBB Key\n",
    "\n",
    "Get a free API key from [here](https://my.openbb.co/app/platform/pat)"
   ]
  },
  {
   "cell_type": "code",
   "execution_count": 0,
   "metadata": {
    "application/vnd.databricks.v1+cell": {
     "cellMetadata": {},
     "inputWidgets": {},
     "nuid": "3422eaef-d10e-4bba-ac7b-e055a9e9630f",
     "showTitle": false,
     "tableResultSettingsMap": {},
     "title": ""
    },
    "colab": {
     "base_uri": "https://localhost:8080/"
    },
    "id": "q2sKDYgEqOaP",
    "outputId": "43620fa0-43cd-4a07-c822-1d5f6893b6a3"
   },
   "outputs": [
    {
     "output_type": "stream",
     "name": "stdout",
     "output_type": "stream",
     "text": [
      "Enter OpenBB Personal Access Token (PAT): ··········\n"
     ]
    }
   ],
   "source": [
    "# from getpass import getpass\n",
    "\n",
    "# OPENBB_PAT = getpass('Enter OpenBB Personal Access Token (PAT): ')"
   ]
  },
  {
   "cell_type": "markdown",
   "metadata": {
    "application/vnd.databricks.v1+cell": {
     "cellMetadata": {},
     "inputWidgets": {},
     "nuid": "fb06ab37-3450-477d-9d17-98cdc2c3a6a5",
     "showTitle": false,
     "tableResultSettingsMap": {},
     "title": ""
    },
    "id": "ucWRRI3QztL2"
   },
   "source": [
    "## Enter Tavily Search API Key\n",
    "\n",
    "Get a free API key from [here](https://tavily.com/#api)"
   ]
  },
  {
   "cell_type": "code",
   "execution_count": 0,
   "metadata": {
    "application/vnd.databricks.v1+cell": {
     "cellMetadata": {},
     "inputWidgets": {},
     "nuid": "b7eb79cd-db86-4500-9ef8-c1a5098c86ac",
     "showTitle": false,
     "tableResultSettingsMap": {},
     "title": ""
    },
    "colab": {
     "base_uri": "https://localhost:8080/"
    },
    "id": "mK-1WLzOrJdb",
    "outputId": "4b3067eb-6944-480c-a25a-4b32625b3d18"
   },
   "outputs": [
    {
     "output_type": "stream",
     "name": "stdout",
     "output_type": "stream",
     "text": [
      "Enter Tavily Search API Key: ··········\n"
     ]
    }
   ],
   "source": [
    "# TAVILY_API_KEY = getpass('Enter Tavily Search API Key: ')"
   ]
  },
  {
   "cell_type": "code",
   "execution_count": 0,
   "metadata": {
    "application/vnd.databricks.v1+cell": {
     "cellMetadata": {},
     "inputWidgets": {},
     "nuid": "ca81fee5-4d28-4e89-a892-fe67a17c104a",
     "showTitle": false,
     "tableResultSettingsMap": {},
     "title": ""
    }
   },
   "outputs": [],
   "source": [
    "import os\n",
    "# import openai\n",
    "\n",
    "from dotenv import load_dotenv, find_dotenv\n",
    "_ = load_dotenv(find_dotenv())\n",
    "OPENAI_KEY = os.environ['OPENAI_API_KEY']\n",
    "OPENBB_PAT = os.environ['OPENBB_PAT']\n",
    "TAVILY_API_KEY = os.environ['TAVILY_API_KEY']"
   ]
  },
  {
   "cell_type": "markdown",
   "metadata": {
    "application/vnd.databricks.v1+cell": {
     "cellMetadata": {},
     "inputWidgets": {},
     "nuid": "fde42d68-8de2-49ef-a257-0eaa3bb0c30d",
     "showTitle": false,
     "tableResultSettingsMap": {},
     "title": ""
    },
    "id": "1T0s0um5Svfa"
   },
   "source": [
    "## Setup Environment Variables"
   ]
  },
  {
   "cell_type": "code",
   "execution_count": 0,
   "metadata": {
    "application/vnd.databricks.v1+cell": {
     "cellMetadata": {},
     "inputWidgets": {},
     "nuid": "a020daa9-3593-4198-98a0-6e8f07297cc3",
     "showTitle": false,
     "tableResultSettingsMap": {},
     "title": ""
    },
    "id": "x1YSuHNF_lbh"
   },
   "outputs": [],
   "source": [
    "import os\n",
    "\n",
    "os.environ['OPENAI_API_KEY'] = OPENAI_KEY\n",
    "os.environ['TAVILY_API_KEY'] = TAVILY_API_KEY"
   ]
  },
  {
   "cell_type": "code",
   "execution_count": 0,
   "metadata": {
    "application/vnd.databricks.v1+cell": {
     "cellMetadata": {},
     "inputWidgets": {},
     "nuid": "6ddbcf52-593a-4a49-ad4d-5a72256a8d47",
     "showTitle": false,
     "tableResultSettingsMap": {},
     "title": ""
    },
    "colab": {
     "base_uri": "https://localhost:8080/"
    },
    "id": "V4a3LQeClFoi",
    "outputId": "9666b943-e150-49b3-b25b-497de51829ac"
   },
   "outputs": [
    {
     "output_type": "stream",
     "name": "stdout",
     "output_type": "stream",
     "text": [
      "Extensions to add: alpha_vantage@1.3.5, biztoc@1.3.5, cboe@1.3.5, ecb@1.3.5, econometrics@1.4.5, finra@1.3.5, finviz@1.2.5, government_us@1.3.5, multpl@1.0.5, nasdaq@1.3.5, openbb_charting@2.2.5, quantitative@1.3.5, seeking_alpha@1.3.5, stockgrid@1.3.5, technical@1.3.5, tmx@1.2.5, tradier@1.2.5, wsj@1.3.5\n\nBuilding...\n"
     ]
    }
   ],
   "source": [
    "from openbb import obb\n",
    "# takes 1 min to setup\n",
    "obb.account.login(pat=OPENBB_PAT)"
   ]
  },
  {
   "cell_type": "markdown",
   "metadata": {
    "application/vnd.databricks.v1+cell": {
     "cellMetadata": {},
     "inputWidgets": {},
     "nuid": "fa9ef6a7-46c3-4afd-8563-f43e0d760ce0",
     "showTitle": false,
     "tableResultSettingsMap": {},
     "title": ""
    },
    "id": "TW0QaP_RzG2h"
   },
   "source": [
    "## Create Financial Tools\n",
    "\n",
    "**Financial Analysis Tools**:\n",
    "   The system integrates multiple tools to get useful financial data and metrics:\n",
    "   - **SEARCH_WEB**: Fetches general stock market information from the web.\n",
    "   - **GET_STOCK_FUNDAMENTAL_INDICATOR_METRICS**: Provides insights into key financial metrics such as P/E ratio, ROE, etc.\n",
    "   - **GET_STOCK_NEWS**: Extracts the latest news and updates related to stocks or markets.\n",
    "   - **GET_GENERAL_MARKET_DATA**: Fetches data on overall market trends and performance.\n",
    "   - **GET_STOCK_TICKER**: Validates and fetches stock ticker symbols based on user queries.\n",
    "   - **GET_STOCK_PRICE_METRICS**: Retrieves price trends, performance, and metrics for specific stocks."
   ]
  },
  {
   "cell_type": "code",
   "execution_count": 0,
   "metadata": {
    "application/vnd.databricks.v1+cell": {
     "cellMetadata": {},
     "inputWidgets": {},
     "nuid": "af27bc7c-6745-47f2-9cc4-fb7b128f8a87",
     "showTitle": false,
     "tableResultSettingsMap": {},
     "title": ""
    },
    "id": "Ue8xgu9WpuPi"
   },
   "outputs": [],
   "source": [
    "from langchain_community.utilities.tavily_search import TavilySearchAPIWrapper\n",
    "from langchain_core.tools import tool\n",
    "import json\n",
    "import requests\n",
    "from tqdm import tqdm\n",
    "from bs4 import BeautifulSoup\n",
    "from datetime import datetime, timedelta\n",
    "\n",
    "tavily_search = TavilySearchAPIWrapper()\n",
    "\n",
    "@tool\n",
    "def search_web(query: str, num_results=8) -> list:\n",
    "    \"\"\"Search the web for a query. Userful for general information or general news\"\"\"\n",
    "    results = tavily_search.raw_results(query=query,\n",
    "                                        max_results=num_results,\n",
    "                                        search_depth='advanced',\n",
    "                                        include_answer=False,\n",
    "                                        include_raw_content=True)\n",
    "    return results\n",
    "\n",
    "@tool\n",
    "def get_stock_ticker_symbol(stock_name: str) -> str:\n",
    "    \"\"\"Get the symbol, name and CIK for any publicly traded company\"\"\"\n",
    "    # Use OpenBB to search for stock ticker symbol and company details by name.\n",
    "    # The provider \"sec\" fetches data from the U.S. Securities and Exchange Commission (SEC).\n",
    "    res = obb.equity.search(stock_name, provider=\"sec\")\n",
    "\n",
    "    # Convert the result to a DataFrame and format it as markdown for readability.\n",
    "    stock_ticker_details = res.to_df().to_markdown()\n",
    "\n",
    "    # Prepare the output with the stock details.\n",
    "    output = \"\"\"Here are the details of the company and its stock ticker symbol:\\n\\n\"\"\" + stock_ticker_details\n",
    "    return output\n",
    "\n",
    "@tool\n",
    "def get_stock_price_metrics(stock_ticker: str) -> str:\n",
    "    \"\"\"Get historical stock price data, stock price quote and price performance data\n",
    "       like price changes for a specific stock ticker\"\"\"\n",
    "\n",
    "    # Fetch the latest stock price quote using \"cboe\" provider.\n",
    "    res = obb.equity.price.quote(stock_ticker, provider='cboe')\n",
    "    price_quote = res.to_df().to_markdown()\n",
    "\n",
    "    # Retrieve stock price performance metrics (e.g., percentage change) using \"finviz\" provider.\n",
    "    res = obb.equity.price.performance(symbol=stock_ticker, provider='finviz')\n",
    "    price_performance = res.to_df().to_markdown()\n",
    "\n",
    "    # Fetch historical price data for the past year using \"yfinance\" provider.\n",
    "    end_date = datetime.now()\n",
    "    start_date = (end_date - timedelta(days=365)).strftime(\"%Y-%m-%d\")\n",
    "    res = obb.equity.price.historical(symbol=stock_ticker, start_date=start_date,\n",
    "                                      interval='1d', provider='yfinance')\n",
    "    price_historical = res.to_df().to_markdown()\n",
    "\n",
    "    # Combine the results into a formatted output.\n",
    "    output = (\"\"\"Here are the stock price metrics and data for the stock ticker symbol \"\"\" + stock_ticker + \"\"\": \\n\\n\"\"\" +\n",
    "              \"Price Quote Metrics:\\n\\n\" + price_quote +\n",
    "              \"\\n\\nPrice Performance Metrics:\\n\\n\" + price_performance +\n",
    "              \"\\n\\nPrice Historical Data:\\n\\n\" + price_historical)\n",
    "    return output\n",
    "\n",
    "@tool\n",
    "def get_stock_fundamental_indicator_metrics(stock_ticker: str) -> str:\n",
    "    \"\"\"Get fundamental indicator metrics for a specific stock ticker\"\"\"\n",
    "\n",
    "    # Retrieve fundamental financial ratios (e.g., P/E ratio, ROE) using \"fmp\" provider.\n",
    "    res = obb.equity.fundamental.ratios(symbol=stock_ticker, period='annual',\n",
    "                                        limit=10, provider='fmp')\n",
    "    fundamental_ratios = res.to_df().to_markdown()\n",
    "\n",
    "    # Fetch additional fundamental metrics (e.g., EBITDA, revenue growth) using \"yfinance\" provider.\n",
    "    res = obb.equity.fundamental.metrics(symbol=stock_ticker, period='annual',\n",
    "                                        limit=10, provider='yfinance')\n",
    "    fundamental_metrics = res.to_df().to_markdown()\n",
    "\n",
    "    # Combine fundamental ratios and metrics into a single output.\n",
    "    output = (\"\"\"Here are the fundamental indicator metrics and data for the stock ticker symbol \"\"\" + stock_ticker + \"\"\": \\n\\n\"\"\" +\n",
    "              \"Fundamental Ratios:\\n\\n\" + fundamental_ratios +\n",
    "              \"\\n\\nFundamental Metrics:\\n\\n\" + fundamental_metrics)\n",
    "    return output\n",
    "\n",
    "@tool\n",
    "def get_stock_news(stock_ticker: str) -> str:\n",
    "    \"\"\"Get news article headlines for a specific stock ticker\"\"\"\n",
    "\n",
    "    # Define the date range to fetch news (last 45 days).\n",
    "    end_date = datetime.now()\n",
    "    start_date = (end_date - timedelta(days=45)).strftime(\"%Y-%m-%d\")\n",
    "\n",
    "    # Retrieve news headlines for the stock using \"tmx\" provider.\n",
    "    res = obb.news.company(symbol=stock_ticker, start_date=start_date, provider='tmx', limit=50)\n",
    "    news = res.to_df()\n",
    "\n",
    "    # Extract relevant columns (symbols and titles) and format as markdown.\n",
    "    news = news[['symbols', 'title']].to_markdown()\n",
    "\n",
    "    # Prepare the output with the news headlines.\n",
    "    output = (\"\"\"Here are the recent news headlines for the stock ticker symbol \"\"\" + stock_ticker + \"\"\": \\n\\n\"\"\" + news)\n",
    "    return output\n",
    "\n",
    "@tool\n",
    "def get_general_market_data() -> str:\n",
    "    \"\"\"Get general data and indicators for the whole stock market including,\n",
    "       most actively traded stocks based on volume, top price gainers and top price losers.\n",
    "       Useful when you want an overview of the market and what stocks to look at.\"\"\"\n",
    "\n",
    "    # Retrieve the most actively traded stocks using \"yfinance\" provider.\n",
    "    res = obb.equity.discovery.active(sort='desc', provider='yfinance', limit=15)\n",
    "    most_active_stocks = res.to_df().to_markdown()\n",
    "\n",
    "    # Fetch the top price gainers using \"yfinance\" provider.\n",
    "    res = obb.equity.discovery.gainers(sort='desc', provider='yfinance', limit=15)\n",
    "    price_gainers = res.to_df().to_markdown()\n",
    "\n",
    "    # Retrieve the top price losers using \"yfinance\" provider.\n",
    "    res = obb.equity.discovery.losers(sort='desc', provider='yfinance', limit=15)\n",
    "    price_losers = res.to_df().to_markdown()\n",
    "\n",
    "    # Combine the market data into a single formatted output.\n",
    "    output = (\"\"\"Here's some detailed information of the stock market which includes most actively traded stocks, gainers and losers:\\n\\n\"\"\" +\n",
    "              \"Most actively traded stocks:\\n\\n\" + most_active_stocks +\n",
    "              \"\\n\\nTop price gainers:\\n\\n\" + price_gainers +\n",
    "              \"\\n\\nTop price losers:\\n\\n\" + price_losers)\n",
    "    return output\n"
   ]
  },
  {
   "cell_type": "markdown",
   "metadata": {
    "application/vnd.databricks.v1+cell": {
     "cellMetadata": {},
     "inputWidgets": {},
     "nuid": "8ccf62d6-265b-47d6-8c55-8cc0a15af720",
     "showTitle": false,
     "tableResultSettingsMap": {},
     "title": ""
    },
    "id": "JPcJl2m-vYMZ"
   },
   "source": [
    "## Build the Conversational Tool-use Agentic AI System with Transient In-Memory Store\n",
    "\n",
    "Here we use an in-memory store for persisting conversational messages between the user and the agent temporarily (transient). This is in-memory so it would be deleted once you shut down the agent or your system."
   ]
  },
  {
   "cell_type": "code",
   "execution_count": 0,
   "metadata": {
    "application/vnd.databricks.v1+cell": {
     "cellMetadata": {},
     "inputWidgets": {},
     "nuid": "32998457-0148-4b46-9b5f-962e98f8af28",
     "showTitle": false,
     "tableResultSettingsMap": {},
     "title": ""
    },
    "id": "RaZ88m_mnZ87"
   },
   "outputs": [],
   "source": [
    "AGENT_SYS_PROMPT = \"\"\"Role: You are an AI stock market assistant tasked with providing investors\n",
    "with up-to-date, detailed information on individual stocks or advice based on general market data.\n",
    "\n",
    "Objective: Assist data-driven stock market investors by giving accurate,\n",
    "complete, but concise information relevant to their questions about individual\n",
    "stocks or general advice on useful stocks based on general market data and trends.\n",
    "\n",
    "Capabilities: You are given a number of tools as functions. Use as many tools\n",
    "as needed to ensure all information provided is timely, accurate, concise,\n",
    "relevant, and responsive to the user's query.\n",
    "\n",
    "Starting Flow:\n",
    "Input validation: Determine if the input is asking about a specific company\n",
    "or stock ticker (Flow 2). If not, check if they are asking for general advice on potentially useful stocks\n",
    "based on current market data (Flow 1). Otherwise, respond in a friendly, positive, professional tone\n",
    "that you don't have information to answer as you can only provide financial advice based on market data.\n",
    "For each of the flows related to valid questions use the following instructions:\n",
    "\n",
    "Flow 1:\n",
    "A. Market Analysis: If the query is valid and the user wants to get general advice on the market\n",
    "or stocks worth looking into for investing, leverage the general market data tool to get relevant data.\n",
    "In case you need more information then you can also use web search.\n",
    "\n",
    "Flow 2:\n",
    "A. Symbol extraction: If the query is valid and is related to a specific company or companies,\n",
    "extract the company name or ticker symbol from the question.\n",
    "If a company name is given, look up the ticker symbol using a tool.\n",
    "If the ticker symbol is not found based on the company, try to\n",
    "correct the spelling and try again, like changing \"microsfot\" to \"microsoft\",\n",
    "or broadening the search, like changng \"southwest airlines\" to a shorter variation\n",
    "like \"southwest\" and increasing \"limit\" to 10 or more. If the company or ticker is\n",
    "still unclear based on the question or conversation so far, and the results of the\n",
    "symbol lookup, then ask the user to clarify which company or ticker.\n",
    "\n",
    "B. Information retrieval: Determine what data the user is seeking on the symbol\n",
    "identified. Use the appropriate tools to fetch the requested information. Only use\n",
    "data obtained from the tools. You may use multiple tools in a sequence. For instance,\n",
    "first determine the company's symbol, then retrieve price data using the symbol\n",
    "and fundamental indicator data etc. For specific queries only retrieve data using the most relevant tool.\n",
    "If detailed analysis is needed, you can call multiple tools to retrieve data first.\n",
    "In case you still need more information then you can also use web search.\n",
    "\n",
    "Response Generation Flow:\n",
    "Compose Response: Analyze the retrieved data carefully and provide a comprehensive answer to the user in a clear and concise format,\n",
    "in a friendly professional tone, emphasizing the data retrieved.\n",
    "If the user asks for recommendations you can give some recommendations\n",
    "but emphasize the user to do their own research before investing.\n",
    "When generating the final response in markdown,\n",
    "if there are special characters in the text, such as the dollar symbol,\n",
    "ensure they are escaped properly for correct rendering e.g $25.5 should become \\$25.5\n",
    "\n",
    "Example Interaction:\n",
    "User asks: \"What is the PE ratio for Eli Lilly?\"\n",
    "Chatbot recognizes 'Eli Lilly' as a company name.\n",
    "Chatbot uses symbol lookup to find the ticker for Eli Lilly, returning LLY.\n",
    "Chatbot retrieves the PE ratio using the proper function with symbol LLY.\n",
    "Chatbot responds: \"The PE ratio for Eli Lilly (symbol: LLY) as of May 12, 2024 is 30.\"\n",
    "\n",
    "Check carefully and only call the tools which are specifically named below.\n",
    "Only use data obtained from these tools.\n",
    "\"\"\""
   ]
  },
  {
   "cell_type": "code",
   "execution_count": 0,
   "metadata": {
    "application/vnd.databricks.v1+cell": {
     "cellMetadata": {},
     "inputWidgets": {},
     "nuid": "e9cb7d32-405c-46b7-aa72-9fbb556563b5",
     "showTitle": false,
     "tableResultSettingsMap": {},
     "title": ""
    },
    "colab": {
     "base_uri": "https://localhost:8080/"
    },
    "id": "1q8nEDoHnv6E",
    "outputId": "41f9c899-61a3-42d3-e6ce-fccaa00a2b09"
   },
   "outputs": [
    {
     "output_type": "stream",
     "name": "stdout",
     "output_type": "stream",
     "text": [
      "Number of tokens: 755\n"
     ]
    }
   ],
   "source": [
    "import tiktoken\n",
    "\n",
    "enc = tiktoken.encoding_for_model(\"gpt-4o\")\n",
    "tokens = enc.encode(AGENT_SYS_PROMPT)\n",
    "print(f\"Number of tokens: {len(tokens)}\")"
   ]
  },
  {
   "cell_type": "code",
   "execution_count": 0,
   "metadata": {
    "application/vnd.databricks.v1+cell": {
     "cellMetadata": {},
     "inputWidgets": {},
     "nuid": "d2cd283d-7f9e-44b5-be49-8014cc5762ef",
     "showTitle": false,
     "tableResultSettingsMap": {},
     "title": ""
    },
    "id": "rdBRSLehwMm_"
   },
   "outputs": [],
   "source": [
    "from typing import Annotated\n",
    "\n",
    "from langchain_openai import ChatOpenAI\n",
    "from langchain_core.messages import BaseMessage\n",
    "from typing_extensions import TypedDict\n",
    "\n",
    "from langgraph.graph import StateGraph, START, END\n",
    "from langgraph.graph.message import add_messages\n",
    "from langgraph.prebuilt import ToolNode, tools_condition\n",
    "from langchain_core.messages import HumanMessage, SystemMessage, RemoveMessage\n",
    "from langchain_core.messages import trim_messages\n",
    "from langgraph.checkpoint.memory import MemorySaver\n",
    "\n",
    "\n",
    "class State(TypedDict):\n",
    "    messages: Annotated[list, add_messages]\n",
    "\n",
    "\n",
    "graph_builder = StateGraph(State)\n",
    "\n",
    "tools = [get_stock_ticker_symbol,\n",
    "         get_stock_price_metrics,\n",
    "         get_stock_fundamental_indicator_metrics,\n",
    "         get_stock_news,\n",
    "         search_web,\n",
    "         get_general_market_data]\n",
    "\n",
    "llm = ChatOpenAI(model=\"gpt-4o\", temperature=0)\n",
    "llm_with_tools = llm.bind_tools(tools)\n",
    "\n",
    "\n",
    "\n",
    "SYS_MSG = SystemMessage(content=AGENT_SYS_PROMPT)\n",
    "def chatbot(state: State):\n",
    "    messages = trim_messages(\n",
    "            state[\"messages\"],\n",
    "            max_tokens=127000,\n",
    "            strategy=\"last\",\n",
    "            token_counter=ChatOpenAI(model=\"gpt-4o\"),\n",
    "            include_system=True, # not necessary here as we send the sys prompt separately\n",
    "            allow_partial=True,\n",
    "    )\n",
    "    return {\"messages\": [llm_with_tools.invoke([SYS_MSG] + messages)]}\n",
    "\n",
    "graph_builder.add_node(\"chatbot\", chatbot)\n",
    "\n",
    "tool_node = ToolNode(tools=tools)\n",
    "graph_builder.add_node(\"tools\", tool_node)\n",
    "\n",
    "graph_builder.add_conditional_edges(\n",
    "    \"chatbot\",\n",
    "    tools_condition,\n",
    "    ['tools', END]\n",
    ")\n",
    "# Any time a tool is called, we return to the chatbot to decide the next step\n",
    "graph_builder.add_edge(\"tools\", \"chatbot\")\n",
    "graph_builder.set_entry_point(\"chatbot\")\n",
    "\n",
    "memory = MemorySaver()\n",
    "financial_analyst_agent = graph_builder.compile(checkpointer=memory)"
   ]
  },
  {
   "cell_type": "code",
   "execution_count": 0,
   "metadata": {
    "application/vnd.databricks.v1+cell": {
     "cellMetadata": {},
     "inputWidgets": {},
     "nuid": "e71e5de7-8f88-42a5-96ed-d848847a8212",
     "showTitle": false,
     "tableResultSettingsMap": {},
     "title": ""
    },
    "colab": {
     "base_uri": "https://localhost:8080/",
     "height": 266
    },
    "id": "LWi44TWcoHpD",
    "outputId": "1aa860c2-cda4-465c-99ef-40e8e925cfc5"
   },
   "outputs": [
    {
     "output_type": "execute_result",
     "data": {
      "image/png": "[encoded data removed]",
      "text/plain": [
       "<IPython.core.display.Image object>"
      ]
     },
     "execution_count": 12,
     "metadata": {},
     "output_type": "execute_result"
    }
   ],
   "source": [
    "from IPython.display import display, Image, Markdown\n",
    "\n",
    "Image(financial_analyst_agent.get_graph().draw_mermaid_png())"
   ]
  },
  {
   "cell_type": "code",
   "execution_count": 0,
   "metadata": {
    "application/vnd.databricks.v1+cell": {
     "cellMetadata": {},
     "inputWidgets": {},
     "nuid": "db36cc72-aefa-4da0-b872-f7136c03efa5",
     "showTitle": false,
     "tableResultSettingsMap": {},
     "title": ""
    },
    "id": "dabt40FjQXyK"
   },
   "outputs": [],
   "source": [
    "def call_conversational_agent(agent, prompt, user_session_id, verbose=False):\n",
    "    events = agent.stream(\n",
    "        {\"messages\": [{\"role\": \"user\", \"content\": prompt}]},\n",
    "        {\"configurable\": {\"thread_id\": user_session_id}},\n",
    "        stream_mode=\"values\",\n",
    "    )\n",
    "\n",
    "    print('Running Agent. Please wait...')\n",
    "    for event in events:\n",
    "        if verbose:\n",
    "            event[\"messages\"][-1].pretty_print()\n",
    "\n",
    "    display(Markdown(event[\"messages\"][-1].content))"
   ]
  },
  {
   "cell_type": "markdown",
   "metadata": {
    "application/vnd.databricks.v1+cell": {
     "cellMetadata": {},
     "inputWidgets": {},
     "nuid": "dab6ee0e-080a-45ff-b8a6-d5192ea92f59",
     "showTitle": false,
     "tableResultSettingsMap": {},
     "title": ""
    },
    "id": "GxwUg1sA3oPy"
   },
   "source": [
    "## Test the Agentic System with In-Memory Persistence"
   ]
  },
  {
   "cell_type": "markdown",
   "metadata": {
    "application/vnd.databricks.v1+cell": {
     "cellMetadata": {},
     "inputWidgets": {},
     "nuid": "e8aee7d9-600f-405a-8d05-86f94d56b3e7",
     "showTitle": false,
     "tableResultSettingsMap": {},
     "title": ""
    },
    "id": "knvZnBOv4CPF"
   },
   "source": [
    "### Simulating User 1"
   ]
  },
  {
   "cell_type": "code",
   "execution_count": 0,
   "metadata": {
    "application/vnd.databricks.v1+cell": {
     "cellMetadata": {},
     "inputWidgets": {},
     "nuid": "eb213833-e39c-4655-b560-618f980c405b",
     "showTitle": false,
     "tableResultSettingsMap": {},
     "title": ""
    },
    "colab": {
     "base_uri": "https://localhost:8080/",
     "height": 465
    },
    "id": "_IpCPBMIog7K",
    "outputId": "1d019910-3bcd-43b5-b76c-6d660ba15a79"
   },
   "outputs": [
    {
     "output_type": "stream",
     "name": "stdout",
     "output_type": "stream",
     "text": [
      "Running Agent. Please wait...\n================================\u001B[1m Human Message \u001B[0m=================================\n\nwhat are 2 most important metrics for fundamental analysis to pick stocks?\n==================================\u001B[1m Ai Message \u001B[0m==================================\n\nTwo of the most important metrics for fundamental analysis when picking stocks are:\n\n1. **Price-to-Earnings (P/E) Ratio**: This metric measures a company's current share price relative to its per-share earnings. It is used to determine whether a stock is overvalued or undervalued compared to its earnings. A lower P/E ratio might indicate that the stock is undervalued, while a higher P/E ratio could suggest overvaluation.\n\n2. **Return on Equity (ROE)**: This metric measures a company's profitability by revealing how much profit a company generates with the money shareholders have invested. It is calculated by dividing net income by shareholder's equity. A higher ROE indicates a more efficient company in terms of generating profit from equity.\n\nThese metrics provide insights into a company's valuation and profitability, helping investors make informed decisions. However, it's important to consider them in conjunction with other financial indicators and qualitative factors.\n"
     ]
    },
    {
     "output_type": "display_data",
     "data": {
      "text/markdown": [
       "Two of the most important metrics for fundamental analysis when picking stocks are:\n",
       "\n",
       "1. **Price-to-Earnings (P/E) Ratio**: This metric measures a company's current share price relative to its per-share earnings. It is used to determine whether a stock is overvalued or undervalued compared to its earnings. A lower P/E ratio might indicate that the stock is undervalued, while a higher P/E ratio could suggest overvaluation.\n",
       "\n",
       "2. **Return on Equity (ROE)**: This metric measures a company's profitability by revealing how much profit a company generates with the money shareholders have invested. It is calculated by dividing net income by shareholder's equity. A higher ROE indicates a more efficient company in terms of generating profit from equity.\n",
       "\n",
       "These metrics provide insights into a company's valuation and profitability, helping investors make informed decisions. However, it's important to consider them in conjunction with other financial indicators and qualitative factors."
      ],
      "text/plain": [
       "<IPython.core.display.Markdown object>"
      ]
     },
     "metadata": {},
     "output_type": "display_data"
    }
   ],
   "source": [
    "uid = 'john001'\n",
    "query = 'what are 2 most important metrics for fundamental analysis to pick stocks?'\n",
    "call_conversational_agent(agent=financial_analyst_agent,\n",
    "                          prompt=query,\n",
    "                          user_session_id=uid,\n",
    "                          verbose=True)"
   ]
  },
  {
   "cell_type": "code",
   "execution_count": 0,
   "metadata": {
    "application/vnd.databricks.v1+cell": {
     "cellMetadata": {},
     "inputWidgets": {},
     "nuid": "a51309cc-a6cb-4f04-b364-d4580dba975a",
     "showTitle": false,
     "tableResultSettingsMap": {},
     "title": ""
    },
    "colab": {
     "base_uri": "https://localhost:8080/",
     "height": 1000
    },
    "id": "oEdjrx5NQhi7",
    "outputId": "f9857ad4-af82-474e-826a-733ca377d9dc"
   },
   "outputs": [
    {
     "output_type": "stream",
     "name": "stdout",
     "output_type": "stream",
     "text": [
      "Running Agent. Please wait...\n================================\u001B[1m Human Message \u001B[0m=================================\n\nget these two for Amazon?\n==================================\u001B[1m Ai Message \u001B[0m==================================\nTool Calls:\n  get_stock_ticker_symbol (call_SZuAt65V0uNgbMbV7zkwK7I3)\n Call ID: call_SZuAt65V0uNgbMbV7zkwK7I3\n  Args:\n    stock_name: Amazon\n=================================\u001B[1m Tool Message \u001B[0m=================================\nName: get_stock_ticker_symbol\n\nHere are the details of the company and its stock ticker symbol:\n\n|    | symbol   | name           |     cik |\n|---:|:---------|:---------------|--------:|\n|  0 | AMZN     | AMAZON COM INC | 1018724 |\n==================================\u001B[1m Ai Message \u001B[0m==================================\nTool Calls:\n  get_stock_fundamental_indicator_metrics (call_0Cv2hi0addshDgzSZqnxCYf2)\n Call ID: call_0Cv2hi0addshDgzSZqnxCYf2\n  Args:\n    stock_ticker: AMZN\n=================================\u001B[1m Tool Message \u001B[0m=================================\nName: get_stock_fundamental_indicator_metrics\n\nHere are the fundamental indicator metrics and data for the stock ticker symbol AMZN: \n\nFundamental Ratios:\n\n|    | period_ending   | fiscal_period   |   fiscal_year |   current_ratio |   quick_ratio |   cash_ratio |   days_of_sales_outstanding |   days_of_inventory_outstanding |   operating_cycle |   days_of_payables_outstanding |   cash_conversion_cycle |   gross_profit_margin |   operating_profit_margin |   pretax_profit_margin |   net_profit_margin |   effective_tax_rate |   return_on_assets |   return_on_equity |   return_on_capital_employed |   net_income_per_ebt |   ebt_per_ebit |   ebit_per_revenue |   debt_ratio |   debt_equity_ratio |   long_term_debt_to_capitalization |   total_debt_to_capitalization |   interest_coverage |   cash_flow_to_debt_ratio |   company_equity_multiplier |   receivables_turnover |   payables_turnover |   inventory_turnover |   fixed_asset_turnover |   asset_turnover |   operating_cash_flow_per_share |   free_cash_flow_per_share |   cash_per_share |   operating_cash_flow_sales_ratio |   free_cash_flow_operating_cash_flow_ratio |   cash_flow_coverage_ratios |   capital_expenditure_coverage_ratio |   dividend_paid_and_capex_coverage_ratio |   price_book_value_ratio |   price_to_book_ratio |   price_to_sales_ratio |   price_earnings_ratio |   price_to_free_cash_flows_ratio |   price_to_operating_cash_flows_ratio |   price_cash_flow_ratio |   price_earnings_to_growth_ratio |   price_sales_ratio |   enterprise_value_multiple |   price_fair_value |\n|---:|:----------------|:----------------|--------------:|----------------:|--------------:|-------------:|----------------------------:|--------------------------------:|------------------:|-------------------------------:|------------------------:|----------------------:|--------------------------:|-----------------------:|--------------------:|---------------------:|-------------------:|-------------------:|-----------------------------:|---------------------:|---------------:|-------------------:|-------------:|--------------------:|-----------------------------------:|-------------------------------:|--------------------:|--------------------------:|----------------------------:|-----------------------:|--------------------:|---------------------:|-----------------------:|-----------------:|--------------------------------:|---------------------------:|-----------------:|----------------------------------:|-------------------------------------------:|----------------------------:|-------------------------------------:|-----------------------------------------:|-------------------------:|----------------------:|-----------------------:|-----------------------:|---------------------------------:|--------------------------------------:|------------------------:|---------------------------------:|--------------------:|----------------------------:|-------------------:|\n|  0 | 2023-12-31      | FY              |          2023 |        1.04508  |      0.843048 |     0.444994 |                     33.1817 |                         39.9065 |           73.0882 |                        101.786 |                -28.6975 |              0.469821 |                 0.0641144 |              0.065341  |           0.0529328 |             0.189579 |         0.057639   |          0.150712  |                    0.101538  |             0.810102 |       1.01913  |          0.0641144 |     0.25691  |            0.671757 |                           0.224122 |                       0.401827 |            11.5814  |                  0.626395 |                     2.61476 |                11      |             3.58597 |              9.14638 |                2.07736 |          1.08891 |                         8.24398 |                    3.12665 |          8.42197 |                         0.147787  |                                   0.379264 |                    0.626395 |                             1.61099  |                                 1.61099  |                  7.75524 |               7.75524 |                2.72378 |                51.4573 |                          48.5951 |                               18.4304 |                 18.4304 |                       -0.0431475 |             2.72378 |                     18.2078 |            7.75524 |\n|  1 | 2022-12-31      | FY              |          2022 |        0.944644 |      0.723237 |     0.346785 |                     30.0815 |                         43.4781 |           73.5596 |                        100.592 |                -27.032  |              0.438053 |                 0.0238296 |             -0.011549  |          -0.0052959 |             0.541947 |        -0.00588318 |         -0.0186383 |                    0.0398592 |             0.458558 |      -0.484651 |          0.0238296 |     0.302843 |            0.95943  |                           0.314973 |                       0.489647 |             5.17448 |                  0.333662 |                     3.16807 |                12.1337 |             3.62853 |              8.39503 |                2.03286 |          1.11089 |                         4.58848 |                   -1.65796 |          6.87271 |                         0.0909602 |                                  -0.361332 |                    0.333662 |                             0.734575 |                                 0.734575 |                  5.86044 |               5.86044 |                1.66518 |              -314.429  |                         -50.6645 |                               18.3067 |                 18.3067 |                        2.90649   |             1.66518 |                     24.5647 |            5.86044 |\n|  2 | 2021-12-31      | FY              |          2021 |        1.13576  |      0.90633  |     0.254594 |                     25.5527 |                         43.7447 |           69.2974 |                        105.427 |                -36.1294 |              0.420325 |                 0.0529541 |              0.0812031 |           0.0710141 |             0.12558  |         0.0793344  |          0.24134   |                    0.0894018 |             0.874525 |       1.53346  |          0.0529541 |     0.276769 |            0.841947 |                           0.260678 |                       0.457096 |            13.7529  |                  0.398015 |                     3.04206 |                14.2842 |             3.46212 |              8.34387 |                2.17145 |          1.11716 |                         4.57777 |                   -1.45514 |          9.49101 |                         0.0986054 |                                  -0.317871 |                    0.398015 |                             0.7588   |                                 0.7588   |                 12.2045  |              12.2045  |                3.59116 |                50.5697 |                        -114.573  |                               36.4195 |                 36.4195 |                        0.920627  |             3.59116 |                     23.7574 |           12.2045  |\n|  3 | 2020-12-31      | FY              |          2020 |        1.05023  |      0.861954 |     0.333283 |                     23.203  |                         37.2264 |           60.4293 |                        113.485 |                -53.0552 |              0.395678 |                 0.059314  |              0.0626269 |           0.0552525 |             0.118413 |         0.0664114  |          0.228374  |                    0.117545  |             0.882248 |       1.05585  |          0.059314  |     0.262734 |            0.903484 |                           0.254081 |                       0.474647 |            13.9035  |                  0.782851 |                     3.43877 |                15.7307 |             3.2163  |              9.80487 |                2.56237 |          1.20196 |                         6.6064  |                    2.5924  |          8.4396  |                         0.171122  |                                   0.392407 |                    0.782851 |                             1.64584  |                                 1.64584  |                 17.435   |              17.435   |                4.21821 |                76.3443 |                          62.8182 |                               24.6503 |                 24.6503 |                        0.930446  |             4.21821 |                     32.7569 |           17.435   |\n|  4 | 2019-12-31      | FY              |          2019 |        1.09705  |      0.863629 |     0.411014 |                     27.0846 |                         45.195  |           72.2797 |                        104.037 |                -31.7569 |              0.4099   |                 0.0518355 |              0.0498214 |           0.0413087 |             0.169863 |         0.0514455  |          0.186723  |                    0.105802  |             0.829136 |       0.961144 |          0.0518355 |     0.280602 |            1.01845  |                           0.273931 |                       0.50457  |             9.08812 |                  0.609351 |                     3.62952 |                13.4763 |             3.50838 |              8.07611 |                2.86697 |          1.24539 |                         3.89818 |                    2.1916  |          5.56893 |                         0.137294  |                                   0.562211 |                    0.609351 |                             2.28421  |                                 2.28421  |                 14.7086  |              14.7086  |                3.25398 |                78.7723 |                          42.1564 |                               23.7008 |                 23.7008 |                        5.79539   |             3.25398 |                     25.1553 |           14.7086  |\n\nFundamental Metrics:\n\n|    | symbol   |   market_cap |   pe_ratio |   forward_pe |   peg_ratio_ttm |   enterprise_to_ebitda |   earnings_growth |   earnings_growth_quarterly |   revenue_per_share |   revenue_growth |   enterprise_to_revenue |   quick_ratio |   current_ratio |   debt_to_equity |   gross_margin |   operating_margin |   ebitda_margin |   profit_margin |   return_on_assets |   return_on_equity |   book_value |   price_to_book |   enterprise_value |   overall_risk |   audit_risk |   board_risk |   compensation_risk |   shareholder_rights_risk |   beta |   price_return_1y | currency   |\n|---:|:---------|-------------:|-----------:|-------------:|----------------:|-----------------------:|------------------:|----------------------------:|--------------------:|-----------------:|------------------------:|--------------:|----------------:|-----------------:|---------------:|-------------------:|----------------:|----------------:|-------------------:|-------------------:|-------------:|----------------:|-------------------:|---------------:|-------------:|-------------:|--------------------:|--------------------------:|-------:|------------------:|:-----------|\n|  0 | AMZN     |  2.47544e+12 |    50.4111 |       37.948 |          1.9301 |                 22.763 |             0.521 |                       0.552 |              59.486 |             0.11 |                   4.096 |         0.827 |           1.089 |           61.175 |        0.48406 |            0.10959 |         0.17994 |         0.08042 |            0.07069 |            0.22558 |       24.655 |         9.54857 |      2539934449664 |              9 |            2 |           10 |                  10 |                         3 |  1.146 |          0.477044 | USD        |\n==================================\u001B[1m Ai Message \u001B[0m==================================\n\nFor Amazon (symbol: AMZN), here are the two important metrics for fundamental analysis:\n\n1. **Price-to-Earnings (P/E) Ratio**: The P/E ratio for Amazon is 50.41. This indicates how much investors are willing to pay per dollar of earnings, and a higher P/E ratio might suggest that the stock is overvalued compared to its earnings.\n\n2. **Return on Equity (ROE)**: The ROE for Amazon is 22.56%. This measures the company's profitability by showing how much profit it generates with the money shareholders have invested. A higher ROE indicates more efficient use of equity.\n\nThese metrics provide insights into Amazon's valuation and profitability. However, it's always advisable to consider these in conjunction with other financial indicators and qualitative factors before making investment decisions.\n"
     ]
    },
    {
     "output_type": "display_data",
     "data": {
      "text/markdown": [
       "For Amazon (symbol: AMZN), here are the two important metrics for fundamental analysis:\n",
       "\n",
       "1. **Price-to-Earnings (P/E) Ratio**: The P/E ratio for Amazon is 50.41. This indicates how much investors are willing to pay per dollar of earnings, and a higher P/E ratio might suggest that the stock is overvalued compared to its earnings.\n",
       "\n",
       "2. **Return on Equity (ROE)**: The ROE for Amazon is 22.56%. This measures the company's profitability by showing how much profit it generates with the money shareholders have invested. A higher ROE indicates more efficient use of equity.\n",
       "\n",
       "These metrics provide insights into Amazon's valuation and profitability. However, it's always advisable to consider these in conjunction with other financial indicators and qualitative factors before making investment decisions."
      ],
      "text/plain": [
       "<IPython.core.display.Markdown object>"
      ]
     },
     "metadata": {},
     "output_type": "display_data"
    }
   ],
   "source": [
    "query = 'get these two for Amazon?'\n",
    "call_conversational_agent(agent=financial_analyst_agent,\n",
    "                          prompt=query,\n",
    "                          user_session_id=uid,\n",
    "                          verbose=True)"
   ]
  },
  {
   "cell_type": "code",
   "execution_count": 0,
   "metadata": {
    "application/vnd.databricks.v1+cell": {
     "cellMetadata": {},
     "inputWidgets": {},
     "nuid": "6a1fb6ef-603a-43d5-865a-c00076f4d49d",
     "showTitle": false,
     "tableResultSettingsMap": {},
     "title": ""
    },
    "colab": {
     "base_uri": "https://localhost:8080/",
     "height": 202
    },
    "id": "d31YzMp0QePA",
    "outputId": "1b2835e6-becb-4f6f-ce1c-3721b20df735"
   },
   "outputs": [
    {
     "output_type": "stream",
     "name": "stdout",
     "output_type": "stream",
     "text": [
      "Running Agent. Please wait...\n"
     ]
    },
    {
     "output_type": "display_data",
     "data": {
      "text/markdown": [
       "For Alphabet Inc. (Google) with the stock ticker GOOGL, here are the two important metrics for fundamental analysis:\n",
       "\n",
       "1. **Price-to-Earnings (P/E) Ratio**: The P/E ratio for Alphabet Inc. is 25.41. This indicates how much investors are willing to pay per dollar of earnings, and a lower P/E ratio might suggest that the stock is undervalued compared to its earnings.\n",
       "\n",
       "2. **Return on Equity (ROE)**: The ROE for Alphabet Inc. is 32.10%. This measures the company's profitability by showing how much profit it generates with the money shareholders have invested. A higher ROE indicates more efficient use of equity.\n",
       "\n",
       "These metrics provide insights into Alphabet Inc.'s valuation and profitability. As always, it's advisable to consider these in conjunction with other financial indicators and qualitative factors before making investment decisions."
      ],
      "text/plain": [
       "<IPython.core.display.Markdown object>"
      ]
     },
     "metadata": {},
     "output_type": "display_data"
    }
   ],
   "source": [
    "query = 'do the same for google'\n",
    "call_conversational_agent(agent=financial_analyst_agent,\n",
    "                          prompt=query,\n",
    "                          user_session_id=uid,\n",
    "                          verbose=False)"
   ]
  },
  {
   "cell_type": "code",
   "execution_count": 0,
   "metadata": {
    "application/vnd.databricks.v1+cell": {
     "cellMetadata": {},
     "inputWidgets": {},
     "nuid": "f905c0c2-09a5-4fc3-a110-303abc8a764a",
     "showTitle": false,
     "tableResultSettingsMap": {},
     "title": ""
    },
    "colab": {
     "base_uri": "https://localhost:8080/",
     "height": 947
    },
    "id": "5RrG_amC6GdX",
    "outputId": "f2ccb17d-c5bc-46f9-d019-967e56bcc600"
   },
   "outputs": [
    {
     "output_type": "stream",
     "name": "stdout",
     "output_type": "stream",
     "text": [
      "Running Agent. Please wait...\n================================\u001B[1m Human Message \u001B[0m=================================\n\nwhich stock might be the better pick?\n==================================\u001B[1m Ai Message \u001B[0m==================================\n\nWhen comparing Amazon (AMZN) and Alphabet Inc. (GOOGL), here are some key considerations based on the fundamental metrics:\n\n1. **Price-to-Earnings (P/E) Ratio**:\n   - **Amazon (AMZN)**: 50.41\n   - **Alphabet Inc. (GOOGL)**: 25.41\n   - A lower P/E ratio might suggest that Alphabet is more reasonably valued compared to Amazon.\n\n2. **Return on Equity (ROE)**:\n   - **Amazon (AMZN)**: 22.56%\n   - **Alphabet Inc. (GOOGL)**: 32.10%\n   - Alphabet has a higher ROE, indicating it is more efficient in generating profit from shareholders' equity.\n\n3. **Growth Prospects**:\n   - Consider the growth prospects and market position of each company. Alphabet has shown strong earnings growth, which might be appealing to growth-oriented investors.\n\n4. **Industry and Market Trends**:\n   - Both companies are leaders in their respective industries, but they operate in different sectors. Consider the industry trends and how each company is positioned to capitalize on them.\n\n5. **Risk Factors**:\n   - Evaluate the risk factors associated with each company, including market volatility, regulatory challenges, and competitive pressures.\n\nUltimately, the decision on which stock might be the better pick depends on your investment goals, risk tolerance, and market outlook. It's important to conduct thorough research and consider both quantitative and qualitative factors before making an investment decision.\n"
     ]
    },
    {
     "output_type": "display_data",
     "data": {
      "text/markdown": [
       "When comparing Amazon (AMZN) and Alphabet Inc. (GOOGL), here are some key considerations based on the fundamental metrics:\n",
       "\n",
       "1. **Price-to-Earnings (P/E) Ratio**:\n",
       "   - **Amazon (AMZN)**: 50.41\n",
       "   - **Alphabet Inc. (GOOGL)**: 25.41\n",
       "   - A lower P/E ratio might suggest that Alphabet is more reasonably valued compared to Amazon.\n",
       "\n",
       "2. **Return on Equity (ROE)**:\n",
       "   - **Amazon (AMZN)**: 22.56%\n",
       "   - **Alphabet Inc. (GOOGL)**: 32.10%\n",
       "   - Alphabet has a higher ROE, indicating it is more efficient in generating profit from shareholders' equity.\n",
       "\n",
       "3. **Growth Prospects**:\n",
       "   - Consider the growth prospects and market position of each company. Alphabet has shown strong earnings growth, which might be appealing to growth-oriented investors.\n",
       "\n",
       "4. **Industry and Market Trends**:\n",
       "   - Both companies are leaders in their respective industries, but they operate in different sectors. Consider the industry trends and how each company is positioned to capitalize on them.\n",
       "\n",
       "5. **Risk Factors**:\n",
       "   - Evaluate the risk factors associated with each company, including market volatility, regulatory challenges, and competitive pressures.\n",
       "\n",
       "Ultimately, the decision on which stock might be the better pick depends on your investment goals, risk tolerance, and market outlook. It's important to conduct thorough research and consider both quantitative and qualitative factors before making an investment decision."
      ],
      "text/plain": [
       "<IPython.core.display.Markdown object>"
      ]
     },
     "metadata": {},
     "output_type": "display_data"
    }
   ],
   "source": [
    "query = 'which stock might be the better pick?'\n",
    "call_conversational_agent(agent=financial_analyst_agent,\n",
    "                          prompt=query,\n",
    "                          user_session_id=uid,\n",
    "                          verbose=True)"
   ]
  },
  {
   "cell_type": "code",
   "execution_count": 0,
   "metadata": {
    "application/vnd.databricks.v1+cell": {
     "cellMetadata": {},
     "inputWidgets": {},
     "nuid": "3494e030-86d7-4981-aa36-5d96b5d77ace",
     "showTitle": false,
     "tableResultSettingsMap": {},
     "title": ""
    },
    "colab": {
     "base_uri": "https://localhost:8080/",
     "height": 1000
    },
    "id": "1aOil0mA6X5b",
    "outputId": "99d1f702-cecb-4cac-871a-71463b168341"
   },
   "outputs": [
    {
     "output_type": "stream",
     "name": "stdout",
     "output_type": "stream",
     "text": [
      "Running Agent. Please wait...\n================================\u001B[1m Human Message \u001B[0m=================================\n\nhow is nvidia doing currently?\n==================================\u001B[1m Ai Message \u001B[0m==================================\nTool Calls:\n  get_stock_ticker_symbol (call_GpPId6CDs5skGaPgXZE3MRrT)\n Call ID: call_GpPId6CDs5skGaPgXZE3MRrT\n  Args:\n    stock_name: Nvidia\n=================================\u001B[1m Tool Message \u001B[0m=================================\nName: get_stock_ticker_symbol\n\nHere are the details of the company and its stock ticker symbol:\n\n|    | symbol   | name        |     cik |\n|---:|:---------|:------------|--------:|\n|  0 | NVDA     | NVIDIA CORP | 1045810 |\n==================================\u001B[1m Ai Message \u001B[0m==================================\nTool Calls:\n  get_stock_price_metrics (call_lJJ2aBKhmbm1rgskOpdg3AvB)\n Call ID: call_lJJ2aBKhmbm1rgskOpdg3AvB\n  Args:\n    stock_ticker: NVDA\n  get_stock_fundamental_indicator_metrics (call_hCKl05qxndx9GtXGyCta0g59)\n Call ID: call_hCKl05qxndx9GtXGyCta0g59\n  Args:\n    stock_ticker: NVDA\n  get_stock_news (call_LESN86ty37xtnVPg6uAq9DcE)\n Call ID: call_LESN86ty37xtnVPg6uAq9DcE\n  Args:\n    stock_ticker: NVDA\n=================================\u001B[1m Tool Message \u001B[0m=================================\nName: get_stock_news\n\nHere are the recent news headlines for the stock ticker symbol NVDA: \n\n| date                      | symbols   | title                                                                                                                                                                                        |\n|:--------------------------|:----------|:---------------------------------------------------------------------------------------------------------------------------------------------------------------------------------------------|\n| 2024-08-16 11:00:00-04:00 | NVDA      | NVIDIA Corporation Shareholders Invited To Join Fraud Investigation With The Schall Law Firm                                                                                                 |\n| 2024-08-16 16:00:00-04:00 | NVDA      | NVIDIA Corporation (NVDA) Investigation: Bronstein, Gewirtz & Grossman, LLC Encourages Investors to Seek Compensation for Alleged Wrongdoings                                                |\n| 2024-08-17 11:00:00-04:00 | NVDA      | NVIDIA Corporation Investors Encouraged To Join Fraud Investigation With The Schall Law Firm                                                                                                 |\n| 2024-08-18 11:00:00-04:00 | NVDA      | NVIDIA Corporation Shareholders Invited To Join Fraud Investigation With The Schall Law Firm                                                                                                 |\n| 2024-08-19 07:25:00-04:00 | NVDA      | Investors who lost money on NVIDIA Corporation should contact Levi & Korsinsky about an ongoing investigation - NVDA                                                                         |\n| 2024-08-19 11:00:00-04:00 | NVDA      | Investors With Losses In NVIDIA Corporation Urged To Participate In Fraud Investigation With The Schall Law Firm                                                                             |\n| 2024-08-19 16:00:00-04:00 | NVDA      | NVIDIA Corporation (NVDA) Investigation: Bronstein, Gewirtz & Grossman, LLC Encourages Investors to Seek Compensation for Alleged Wrongdoings                                                |\n| 2024-08-20 07:20:00-04:00 | NVDA      | NVDA ALERT- Levi & Korsinsky Has Commenced an Investigation on Behalf of NVIDIA Corporation Shareholders Who Lost Money                                                                      |\n| 2024-08-20 08:50:00-04:00 | NVDA      | Electric Aviation Market Estimated to Reach $37 Billion By 2030 as Demand for Environment-Friendly Aircraft Rises                                                                            |\n| 2024-08-22 08:45:00-04:00 | NVDA      | Artificial Intelligence Influence on Global E-Commerce Market Expected to Skyrocket to&#xA0;$25 Billion By 2032&#xA0;                                                                        |\n| 2024-08-27 09:00:00-04:00 | NVDA      | NVIDIA and Global Partners Launch NIM Agent Blueprints for Enterprises to Make Their Own AI                                                                                                  |\n| 2024-08-28 16:20:03-04:00 | NVDA      | NVIDIA Announces Financial Results for Second Quarter Fiscal 2025                                                                                                                            |\n| 2024-08-29 17:00:00-04:00 | NVDA      | NVIDIA Announces Upcoming Event for Financial Community                                                                                                                                      |\n| 2024-09-09 09:00:00-04:00 | NVDA      | Remark Holdings to present at Oracle Cloud World 2024 as part of the Data and AI Pavilion accelerated by NVIDIA                                                                              |\n| 2024-09-10 08:30:00-04:00 | NVDA      | Significant Growth Expected for Global Food Packaging Solutions as Market&#xA0;Size Expected to Reach $592 Billion By 2033                                                                   |\n| 2024-10-08 11:21:21-04:00 | NVDA      | US Technology Leaders Tap NVIDIA AI Software to Transform World's Industries                                                                                                                 |\n| 2024-10-15 12:30:00-04:00 | NVDA      | NVIDIA Contributes Blackwell Platform Design to Open Hardware Ecosystem, Accelerating AI Infrastructure Innovation                                                                           |\n| 2024-10-22 17:30:00-04:00 | NVDA      | Purpose Investments Inc. Announces Risk Rating Change for NVIDIA (NVDA) Yield Shares Purpose ETF                                                                                             |\n| 2024-10-23 08:45:00-04:00 | NVDA      | Global Cloud Storage Market Expected to Reach $234 Billion By 2028 as Tech Stocks Chase Big Opportunities in Big Data                                                                        |\n| 2024-10-24 08:00:00-04:00 | NVDA      | Nasdaq Giants and Rising Innovators Face Critical Earnings Reports This Quarter                                                                                                              |\n| 2024-10-24 08:45:00-04:00 | NVDA      | Billion Dollar Commercial Drone Market Poised for Continued Growth, Driven by A.I. Technological Advances                                                                                    |\n| 2024-10-28 11:00:00-04:00 | NVDA      | NVIDIA Ethernet Networking Accelerates World's Largest AI Supercomputer, Built by xAI                                                                                                        |\n| 2024-10-30 17:00:00-04:00 | NVDA      | NVIDIA Sets Conference Call for Third-Quarter Financial Results                                                                                                                              |\n| 2024-11-01 19:01:00-04:00 | NVDA      | NVIDIA and Sherwin-Williams Set to Join Dow Jones Industrial Average; Vistra to Join Dow Jones Utility Average                                                                               |\n| 2024-11-07 16:30:00-05:00 | NVDA      | NVIDIA Names Ellen Ochoa to Board of Directors                                                                                                                                               |\n| 2024-11-12 08:55:00-05:00 | NVDA      | Global Artificial Intelligence (AI) Influence on Healthcare Market Expected to Reach $148 Billion By 2029                                                                                    |\n| 2024-11-12 20:59:50-05:00 | NVDA      | NVIDIA and SoftBank Corp. Accelerate Japan's Journey to Global AI Powerhouse                                                                                                                 |\n| 2024-11-12 21:07:26-05:00 | NVDA      | Japan Cloud Leaders Build NVIDIA AI Infrastructure to Transform Industries for the Age of AI                                                                                                 |\n| 2024-11-14 02:30:00-05:00 | NVDA      | Artmarket.com: Q3 2024 revenue +13%. Study on AI search engines shows Artprice has the world's biggest, best and most useful art market database, thanks to its Intuitive Artmarket&#xAE; AI |\n| 2024-11-14 02:30:00-05:00 | NVDA      | Artmarket.com: Q3 2024 revenue +13%. Study on AI search engines shows Artprice has the world's biggest, best and most useful art market database, thanks to its Intuitive Artmarket&#xAE; AI |\n| 2024-11-18 13:30:00-05:00 | NVDA      | NVIDIA Accelerates Google Quantum AI Processor Design With Simulation of Quantum Device Physics                                                                                              |\n| 2024-11-18 13:30:00-05:00 | NVDA      | NVIDIA Opens BioNeMo to Scale Digital Biology for Global Biopharma and Scientific Industry                                                                                                   |\n| 2024-11-18 13:33:10-05:00 | NVDA      | NVIDIA Announces Omniverse Real-Time Physics Digital Twins&#xA0;With Industry Software Leaders                                                                                               |\n| 2024-11-20 09:00:00-05:00 | NVDA      | Why the Next Big Artificial Intelligence (AI) Play Could be in the Nuclear Power Industry                                                                                                    |\n| 2024-11-20 16:20:14-05:00 | NVDA      | NVIDIA Announces Financial Results for Third Quarter Fiscal 2025                                                                                                                             |\n| 2024-11-21 17:00:00-05:00 | NVDA      | NVIDIA Announces Upcoming Events for Financial Community                                                                                                                                     |\n| 2024-12-05 12:35:58-05:00 | NVDA      | NVIDIA to Open Vietnam R&D Center to Bolster AI Development                                                                                                                                  |\n| 2024-12-10 09:15:00-05:00 | NVDA      | Artificial Intelligence Substantial Influence on Data Center Industry Redefining Operations                                                                                                  |\n| 2024-12-18 09:15:00-05:00 | NVDA      | Quantum Computing Market Infused with Artificial Intelligence Poised for Significant Usage & Growth                                                                                          |\n| 2024-12-18 16:00:00-05:00 | NVDA      | EQTY Lab, Intel, and NVIDIA Unveil 'Verifiable Compute,' A Solution to Secure Trusted AI                                                                                                     |\n| 2025-01-06 22:06:15-05:00 | NVDA      | NVIDIA Blackwell GeForce RTX 50 Series Opens New World of AI Computer Graphics                                                                                                               |\n| 2025-01-06 22:25:27-05:00 | NVDA      | NVIDIA Launches AI Foundation Models for RTX AI PCs                                                                                                                                          |\n| 2025-01-06 22:41:57-05:00 | NVDA      | NVIDIA Launches Cosmos World Foundation Model Platform to Accelerate Physical AI Development                                                                                                 |\n| 2025-01-06 22:51:02-05:00 | NVDA      | NVIDIA Expands Omniverse With Generative Physical AI                                                                                                                                         |\n| 2025-01-06 22:53:03-05:00 | NVDA      | Toyota, Aurora and Continental Join Growing List of NVIDIA Partners Rolling Out Next-Generation Highly Automated and Autonomous Vehicle Fleets                                               |\n| 2025-01-06 22:56:41-05:00 | NVDA      | NVIDIA DRIVE Hyperion Platform Achieves Critical Automotive Safety and Cybersecurity Milestones for AV Development                                                                           |\n| 2025-01-06 23:10:17-05:00 | NVDA      | NVIDIA Puts Grace Blackwell on Every Desk and at Every AI Developer's Fingertips                                                                                                             |\n| 2025-01-10 09:00:00-05:00 | NVDA      | NVIDIA Announces Blueprint for AI Retail Shopping Assistants                                                                                                                                 |\n| 2025-01-13 09:00:00-05:00 | NVDA      | NVIDIA Partners With Industry Leaders to Advance Genomics, Drug Discovery and Healthcare                                                                                                     |\n| 2025-01-14 09:00:00-05:00 | NVDA      | Carbon Fiber Market Projected to Grow Significantly as Increasing Demand for Growing Number of Industries Rises                                                                              |\n==================================\u001B[1m Ai Message \u001B[0m==================================\n\nHere's a comprehensive overview of NVIDIA Corporation (symbol: NVDA) as of the latest data:\n\n### Stock Price Metrics\n- **Current Price**: \\$120.18\n- **Price Change**: -\\$24.20 (-20.44%)\n- **52-Week High**: \\$153.13\n- **52-Week Low**: \\$60.70\n- **Volume**: 818,830,895 shares\n\n### Fundamental Indicators\n- **Market Cap**: \\$2.9 trillion\n- **PE Ratio**: 46.62\n- **Forward PE**: 26.63\n- **PEG Ratio (TTM)**: 1.022\n- **Gross Margin**: 75.98%\n- **Operating Margin**: 62.06%\n- **Profit Margin**: 55.04%\n- **Return on Equity**: 123.77%\n\n### Recent News\n- **NVIDIA Launches AI Foundation Models for RTX AI PCs** (Jan 6, 2025)\n- **NVIDIA Expands Omniverse With Generative Physical AI** (Jan 6, 2025)\n- **NVIDIA Announces Blueprint for AI Retail Shopping Assistants** (Jan 10, 2025)\n- **NVIDIA Partners With Industry Leaders to Advance Genomics, Drug Discovery, and Healthcare** (Jan 13, 2025)\n\n### Analysis\nNVIDIA is currently experiencing a significant price drop, with a notable decrease in its stock price. Despite this, the company maintains strong fundamental metrics, including a high market cap and robust profit margins. Recent news highlights NVIDIA's continued innovation in AI and partnerships in various industries, which may influence future performance.\n\nPlease let me know if you need more specific details or further analysis!\n"
     ]
    },
    {
     "output_type": "display_data",
     "data": {
      "text/markdown": [
       "Here's a comprehensive overview of NVIDIA Corporation (symbol: NVDA) as of the latest data:\n",
       "\n",
       "### Stock Price Metrics\n",
       "- **Current Price**: \\$120.18\n",
       "- **Price Change**: -\\$24.20 (-20.44%)\n",
       "- **52-Week High**: \\$153.13\n",
       "- **52-Week Low**: \\$60.70\n",
       "- **Volume**: 818,830,895 shares\n",
       "\n",
       "### Fundamental Indicators\n",
       "- **Market Cap**: \\$2.9 trillion\n",
       "- **PE Ratio**: 46.62\n",
       "- **Forward PE**: 26.63\n",
       "- **PEG Ratio (TTM)**: 1.022\n",
       "- **Gross Margin**: 75.98%\n",
       "- **Operating Margin**: 62.06%\n",
       "- **Profit Margin**: 55.04%\n",
       "- **Return on Equity**: 123.77%\n",
       "\n",
       "### Recent News\n",
       "- **NVIDIA Launches AI Foundation Models for RTX AI PCs** (Jan 6, 2025)\n",
       "- **NVIDIA Expands Omniverse With Generative Physical AI** (Jan 6, 2025)\n",
       "- **NVIDIA Announces Blueprint for AI Retail Shopping Assistants** (Jan 10, 2025)\n",
       "- **NVIDIA Partners With Industry Leaders to Advance Genomics, Drug Discovery, and Healthcare** (Jan 13, 2025)\n",
       "\n",
       "### Analysis\n",
       "NVIDIA is currently experiencing a significant price drop, with a notable decrease in its stock price. Despite this, the company maintains strong fundamental metrics, including a high market cap and robust profit margins. Recent news highlights NVIDIA's continued innovation in AI and partnerships in various industries, which may influence future performance.\n",
       "\n",
       "Please let me know if you need more specific details or further analysis!"
      ],
      "text/plain": [
       "<IPython.core.display.Markdown object>"
      ]
     },
     "metadata": {},
     "output_type": "display_data"
    }
   ],
   "source": [
    "uid = 'bond007'\n",
    "query = 'how is nvidia doing currently?'\n",
    "call_conversational_agent(agent=financial_analyst_agent,\n",
    "                          prompt=query,\n",
    "                          user_session_id=uid,\n",
    "                          verbose=True)"
   ]
  },
  {
   "cell_type": "code",
   "execution_count": 0,
   "metadata": {
    "application/vnd.databricks.v1+cell": {
     "cellMetadata": {},
     "inputWidgets": {},
     "nuid": "14e35169-3f14-474f-a1a4-1c24f99b5a04",
     "showTitle": false,
     "tableResultSettingsMap": {},
     "title": ""
    },
    "colab": {
     "base_uri": "https://localhost:8080/",
     "height": 570
    },
    "id": "J5lhZPpe6iMK",
    "outputId": "8cee022e-4864-4d09-ce92-3678c9c0dcbd"
   },
   "outputs": [
    {
     "output_type": "stream",
     "name": "stdout",
     "output_type": "stream",
     "text": [
      "Running Agent. Please wait...\n"
     ]
    },
    {
     "output_type": "display_data",
     "data": {
      "text/markdown": [
       "Here's a detailed overview of Intel Corporation (symbol: INTC) as of the latest data:\n",
       "\n",
       "### Stock Price Metrics\n",
       "- **Current Price**: \\$20.42\n",
       "- **Price Change**: -\\$0.54 (-2.66%)\n",
       "- **52-Week High**: \\$46.63\n",
       "- **52-Week Low**: \\$18.51\n",
       "- **Volume**: 83,582,097 shares\n",
       "\n",
       "### Fundamental Indicators\n",
       "- **Market Cap**: \\$87.51 billion\n",
       "- **Forward PE Ratio**: 21.51\n",
       "- **PEG Ratio (TTM)**: 0.618\n",
       "- **Gross Margin**: 40.07%\n",
       "- **Operating Margin**: -1.05%\n",
       "- **Profit Margin**: -29.42%\n",
       "- **Return on Equity**: -15.60%\n",
       "\n",
       "### Recent News\n",
       "- **Intel Extends Leadership in AI PCs and Edge Computing at CES 2025** (Jan 6, 2025)\n",
       "- **Intel to Report Fourth-Quarter and Full-Year 2024 Financial Results** (Jan 8, 2025)\n",
       "- **Intel Capital to Become Standalone Investment Fund** (Jan 14, 2025)\n",
       "- **Intel and Biden-Harris Administration Finalize $7.86 Billion Funding Award Under US CHIPS Act** (Nov 26, 2024)\n",
       "\n",
       "### Analysis\n",
       "Intel is currently facing challenges with a significant drop in stock price and negative profit margins. However, the company is actively involved in strategic initiatives, including AI and edge computing, and has received substantial funding under the US CHIPS Act. These efforts may help improve its market position in the future.\n",
       "\n",
       "If you need more specific details or further analysis, feel free to ask!"
      ],
      "text/plain": [
       "<IPython.core.display.Markdown object>"
      ]
     },
     "metadata": {},
     "output_type": "display_data"
    }
   ],
   "source": [
    "query = 'what about intel?'\n",
    "call_conversational_agent(agent=financial_analyst_agent,\n",
    "                          prompt=query,\n",
    "                          user_session_id=uid,\n",
    "                          verbose=False)"
   ]
  },
  {
   "cell_type": "code",
   "execution_count": 0,
   "metadata": {
    "application/vnd.databricks.v1+cell": {
     "cellMetadata": {},
     "inputWidgets": {},
     "nuid": "52dff05b-0b78-4de3-8434-0b2e8029d68d",
     "showTitle": false,
     "tableResultSettingsMap": {},
     "title": ""
    },
    "colab": {
     "base_uri": "https://localhost:8080/",
     "height": 553
    },
    "id": "vIVsr-Bn6oXl",
    "outputId": "143db8bb-ab59-4388-af8f-3f9f04a55bd3"
   },
   "outputs": [
    {
     "output_type": "stream",
     "name": "stdout",
     "output_type": "stream",
     "text": [
      "Running Agent. Please wait...\n"
     ]
    },
    {
     "output_type": "display_data",
     "data": {
      "text/markdown": [
       "When considering which stock to pick between NVIDIA (NVDA) and Intel (INTC), it's important to evaluate several factors, including financial performance, market position, growth potential, and risk. Here's a brief comparison based on the latest data:\n",
       "\n",
       "### NVIDIA (NVDA)\n",
       "- **Market Cap**: \\$2.9 trillion\n",
       "- **PE Ratio**: 46.62\n",
       "- **Profit Margin**: 55.04%\n",
       "- **Recent Performance**: Significant price drop, but strong fundamentals and continued innovation in AI.\n",
       "- **Growth Potential**: High, with strong involvement in AI and technology sectors.\n",
       "\n",
       "### Intel (INTC)\n",
       "- **Market Cap**: \\$87.51 billion\n",
       "- **Forward PE Ratio**: 21.51\n",
       "- **Profit Margin**: -29.42%\n",
       "- **Recent Performance**: Price decline and negative profit margins, but strategic initiatives in AI and government support.\n",
       "- **Growth Potential**: Moderate, with challenges in profitability but potential upside from strategic initiatives.\n",
       "\n",
       "### Considerations\n",
       "- **NVIDIA** is currently more profitable and has a strong market position, especially in AI and technology. However, its stock is more expensive in terms of PE ratio.\n",
       "- **Intel** is facing profitability challenges but is involved in strategic initiatives that could lead to future growth. Its stock is cheaper in terms of valuation.\n",
       "\n",
       "### Recommendation\n",
       "- **NVIDIA** may be a better pick for those looking for a company with strong growth potential and profitability in the tech sector.\n",
       "- **Intel** might appeal to investors looking for a turnaround story with potential upside from strategic initiatives.\n",
       "\n",
       "Ultimately, the decision should align with your investment goals, risk tolerance, and market outlook. It's advisable to conduct further research and consider consulting with a financial advisor before making any investment decisions."
      ],
      "text/plain": [
       "<IPython.core.display.Markdown object>"
      ]
     },
     "metadata": {},
     "output_type": "display_data"
    }
   ],
   "source": [
    "query = 'which is a better stock to pick?'\n",
    "call_conversational_agent(agent=financial_analyst_agent,\n",
    "                          prompt=query,\n",
    "                          user_session_id=uid,\n",
    "                          verbose=False)"
   ]
  },
  {
   "cell_type": "markdown",
   "metadata": {
    "application/vnd.databricks.v1+cell": {
     "cellMetadata": {},
     "inputWidgets": {},
     "nuid": "c70f630d-738d-4c4f-b00f-6d88aaa17d40",
     "showTitle": false,
     "tableResultSettingsMap": {},
     "title": ""
    },
    "id": "dtXAlOdBxt-j"
   },
   "source": [
    "We have successfully built an AI Agent which can do detailed financial analysis for us and is completely conversational. Next up we will see how to use persistent memory on the disk"
   ]
  },
  {
   "cell_type": "markdown",
   "metadata": {
    "application/vnd.databricks.v1+cell": {
     "cellMetadata": {},
     "inputWidgets": {},
     "nuid": "c7dae322-9bf5-48f4-a3f5-581333c2b723",
     "showTitle": false,
     "tableResultSettingsMap": {},
     "title": ""
    },
    "id": "7-W4DpF43-1C"
   },
   "source": [
    "# Build a Multi-User Conversational Financial Analyst Tool-Use AI Agent with On-Disk Persistence with LangGraph"
   ]
  },
  {
   "cell_type": "markdown",
   "metadata": {
    "application/vnd.databricks.v1+cell": {
     "cellMetadata": {},
     "inputWidgets": {},
     "nuid": "0a1fdbbe-1616-48fb-b09b-a46648f0a9b3",
     "showTitle": false,
     "tableResultSettingsMap": {},
     "title": ""
    },
    "id": "v8GYJC8w3-1D"
   },
   "source": [
    "This project will focus on building a Tool-Use Agentic AI System which acts as a Financial Analyst & Advisor. This agent will be conversational and can handle multiple user-sessions with their own separate conversational history.\n",
    "\n",
    "The first project here will build a conversational tool-use agentic system with on-disk persistence.\n",
    "\n",
    "![](https://i.imgur.com/dKD7L6Q.png)\n",
    "\n",
    "### Financial Analyst Tool-Use Agentic AI System with In-Memory Persistence\n",
    "\n",
    "This project focuses on building a **Tool-Use Agentic AI System** that acts as a Financial Analyst & Advisor. The agent will be conversational and can handle multiple user sessions with their own separate conversational history. By leveraging the `create_react_agent` function from **LangGraph**, this project adds in-memory persistence for enhanced user interaction continuity. The workflow comprises the following components:\n",
    "\n",
    "1. **Agent System Prompt**:\n",
    "   - The agent validates input queries for relevance and specificity.\n",
    "   - It provides detailed market analysis or stock-specific insights depending on the user's query.\n",
    "   - For invalid queries, the agent responds professionally and guides the user appropriately.\n",
    "   - The system delivers concise, professional responses emphasizing data clarity and accuracy.\n",
    "\n",
    "   **Flows**:\n",
    "   - **Flow 1**: For general market trends, the agent analyzes data and suggests stock opportunities using tools like `SEARCH_WEB` and `GET_GENERAL_MARKET_DATA`.\n",
    "   - **Flow 2**: For stock-specific queries, the agent validates the stock ticker, retrieves relevant data, and provides insights using tools such as `GET_STOCK_FUNDAMENTAL_INDICATOR_METRICS` and `GET_STOCK_PRICE_METRICS`.\n",
    "\n",
    "2. **Financial Analysis Tools**:\n",
    "   The system integrates multiple tools to ensure comprehensive and precise insights:\n",
    "   - **SEARCH_WEB**: Fetches general stock market information from the web.\n",
    "   - **GET_STOCK_FUNDAMENTAL_INDICATOR_METRICS**: Provides insights into key financial metrics such as P/E ratio, ROE, etc.\n",
    "   - **GET_STOCK_NEWS**: Extracts the latest news and updates related to stocks or markets.\n",
    "   - **GET_GENERAL_MARKET_DATA**: Fetches data on overall market trends and performance.\n",
    "   - **GET_STOCK_TICKER**: Validates and fetches stock ticker symbols based on user queries.\n",
    "   - **GET_STOCK_PRICE_METRICS**: Retrieves price trends, performance, and metrics for specific stocks.\n",
    "\n",
    "3. **Stock Market Data Providers**:\n",
    "   The system ensures real-time, reliable data by integrating with top providers like Yahoo Finance, Finviz, TMX, Cboe, and more, through platforms such as **OpenBB**.\n",
    "\n",
    "4. **Memory Module**:\n",
    "   - A memory module is introduced to store and manage user-specific conversational histories.\n",
    "   - This enables the agent to maintain session continuity and provide context-aware responses for recurring users or prolonged interactions. __Here we store this on-disk in a database.__\n",
    "\n",
    "5. **Message Trimmer**:\n",
    "   - Trims responses to ensure they are concise, professional, and reader-friendly, improving user experience and response quality.\n",
    "\n",
    "6. **ReAct Reasoning Framework**:\n",
    "   - The system employs **ReAct reasoning**, combining logical deduction with dynamic tool usage. This framework ensures precise and actionable results by dynamically selecting the right tools based on the query.\n",
    "\n",
    "7. **Final Response**:\n",
    "   - After processing the data from tool calls, the agentic system generates the final response.\n",
    "\n",
    "\n"
   ]
  },
  {
   "cell_type": "markdown",
   "metadata": {
    "application/vnd.databricks.v1+cell": {
     "cellMetadata": {},
     "inputWidgets": {},
     "nuid": "23b6ddfc-3990-45ab-abab-ff143ae377e2",
     "showTitle": false,
     "tableResultSettingsMap": {},
     "title": ""
    },
    "id": "rcfps7EJy570"
   },
   "source": [
    "### Build the Conversational Tool-use Agentic AI System with Persistent On-disk External Memory Store\n",
    "\n",
    "Here we use a persistent SQLite database to permanently store our conversations between the agent and the user.\n",
    "\n",
    "We will use `SqliteSaver` which helps to store separate conversation histories per user or session.\n",
    "\n",
    "This will help us build a conversational Agentic Chatbot which will be accessed by many users at the same time. The memory is persisted on-disk so can be accessed anytime.\n",
    "\n"
   ]
  },
  {
   "cell_type": "code",
   "execution_count": 0,
   "metadata": {
    "application/vnd.databricks.v1+cell": {
     "cellMetadata": {},
     "inputWidgets": {},
     "nuid": "345a71ff-ee5a-45e3-a7c8-cf6865f2b85b",
     "showTitle": false,
     "tableResultSettingsMap": {},
     "title": ""
    },
    "id": "Cph9LvyvIRrA"
   },
   "outputs": [],
   "source": [
    "# removes the memory database file - usually not needed\n",
    "# you can run this only when you want to remove ALL conversation histories\n",
    "# ok if you get rm: cannot remove 'memory.db': No such file or directory  because initially no memory exists\n",
    "!rm memory.db*"
   ]
  },
  {
   "cell_type": "code",
   "execution_count": 0,
   "metadata": {
    "application/vnd.databricks.v1+cell": {
     "cellMetadata": {},
     "inputWidgets": {},
     "nuid": "4028e994-bd67-471a-bc2e-dc0923b4d290",
     "showTitle": false,
     "tableResultSettingsMap": {},
     "title": ""
    },
    "id": "qzwnf7vfzTiI"
   },
   "outputs": [],
   "source": [
    "from typing import Annotated\n",
    "\n",
    "from langchain_openai import ChatOpenAI\n",
    "from langchain_core.messages import BaseMessage\n",
    "from typing_extensions import TypedDict\n",
    "\n",
    "from langgraph.graph import StateGraph, START, END\n",
    "from langgraph.graph.message import add_messages\n",
    "from langgraph.prebuilt import ToolNode, tools_condition\n",
    "from langchain_core.messages import HumanMessage, SystemMessage, RemoveMessage\n",
    "from langchain_core.messages import trim_messages\n",
    "\n",
    "\n",
    "class State(TypedDict):\n",
    "    messages: Annotated[list, add_messages]\n",
    "\n",
    "\n",
    "graph_builder = StateGraph(State)\n",
    "\n",
    "tools = [get_stock_ticker_symbol,\n",
    "         get_stock_price_metrics,\n",
    "         get_stock_fundamental_indicator_metrics,\n",
    "         get_stock_news,\n",
    "         search_web,\n",
    "         get_general_market_data]\n",
    "\n",
    "llm = ChatOpenAI(model=\"gpt-4o\", temperature=0)\n",
    "llm_with_tools = llm.bind_tools(tools)\n",
    "\n",
    "\n",
    "\n",
    "SYS_MSG = SystemMessage(content=AGENT_SYS_PROMPT)\n",
    "def chatbot(state: State):\n",
    "    messages = trim_messages(\n",
    "            state[\"messages\"],\n",
    "            max_tokens=127000,\n",
    "            strategy=\"last\",\n",
    "            token_counter=ChatOpenAI(model=\"gpt-4o\"),\n",
    "            allow_partial=True,\n",
    "    )\n",
    "    return {\"messages\": [llm_with_tools.invoke([SYS_MSG] + messages)]}\n",
    "\n",
    "graph_builder.add_node(\"chatbot\", chatbot)\n",
    "\n",
    "tool_node = ToolNode(tools=tools)\n",
    "graph_builder.add_node(\"tools\", tool_node)\n",
    "\n",
    "graph_builder.add_conditional_edges(\n",
    "    \"chatbot\",\n",
    "    tools_condition,\n",
    ")\n",
    "# Any time a tool is called, we return to the chatbot to decide the next step\n",
    "graph_builder.add_edge(\"tools\", \"chatbot\")\n",
    "graph_builder.set_entry_point(\"chatbot\")\n",
    "\n",
    "memory = MemorySaver()\n",
    "financial_analyst_agent = graph_builder.compile()"
   ]
  },
  {
   "cell_type": "code",
   "execution_count": 0,
   "metadata": {
    "application/vnd.databricks.v1+cell": {
     "cellMetadata": {},
     "inputWidgets": {},
     "nuid": "b636909d-ee6d-4df9-9eb7-d2801277800a",
     "showTitle": false,
     "tableResultSettingsMap": {},
     "title": ""
    },
    "id": "d8jgYAwTIptc"
   },
   "outputs": [],
   "source": [
    "from IPython.display import Image, display, Markdown\n",
    "\n",
    "display(Image(financial_analyst_agent.get_graph().draw_mermaid_png()))"
   ]
  },
  {
   "cell_type": "code",
   "execution_count": 0,
   "metadata": {
    "application/vnd.databricks.v1+cell": {
     "cellMetadata": {},
     "inputWidgets": {},
     "nuid": "83c3c7b4-e6dc-42a2-ae6e-e398405248dc",
     "showTitle": false,
     "tableResultSettingsMap": {},
     "title": ""
    },
    "id": "byfUQ9vZ-Yjk"
   },
   "outputs": [],
   "source": [
    "from langgraph.checkpoint.sqlite import SqliteSaver\n",
    "\n",
    "def call_conversational_agent(agent_graph, prompt, user_session_id, verbose=False):\n",
    "    with SqliteSaver.from_conn_string(\"memory.db\") as memory:\n",
    "        agent = agent_graph.compile(checkpointer=memory)\n",
    "        events = agent.stream(\n",
    "            {\"messages\": [{\"role\": \"user\", \"content\": prompt}]},\n",
    "            {\"configurable\": {\"thread_id\": user_session_id}},\n",
    "            stream_mode=\"values\",\n",
    "        )\n",
    "\n",
    "        print('Running Agent, please wait...')\n",
    "        for event in events:\n",
    "            if verbose:\n",
    "                event[\"messages\"][-1].pretty_print()\n",
    "\n",
    "    display(Markdown(event[\"messages\"][-1].content))"
   ]
  },
  {
   "cell_type": "markdown",
   "metadata": {
    "application/vnd.databricks.v1+cell": {
     "cellMetadata": {},
     "inputWidgets": {},
     "nuid": "dc026bc2-ed98-49bf-a3d9-4803a7603d1b",
     "showTitle": false,
     "tableResultSettingsMap": {},
     "title": ""
    },
    "id": "NIzN83ZV4imG"
   },
   "source": [
    "## Test the Agentic System with On-Disk Persistence"
   ]
  },
  {
   "cell_type": "markdown",
   "metadata": {
    "application/vnd.databricks.v1+cell": {
     "cellMetadata": {},
     "inputWidgets": {},
     "nuid": "c0bda2f1-6ff8-4a57-b345-5e2be77ce7a7",
     "showTitle": false,
     "tableResultSettingsMap": {},
     "title": ""
    },
    "id": "vYTNL_iJ6ibC"
   },
   "source": [
    "Let's now simulate User 1 using the agent"
   ]
  },
  {
   "cell_type": "code",
   "execution_count": 0,
   "metadata": {
    "application/vnd.databricks.v1+cell": {
     "cellMetadata": {},
     "inputWidgets": {},
     "nuid": "51416461-af51-4b1a-a5ae-635eb0ef9ffd",
     "showTitle": false,
     "tableResultSettingsMap": {},
     "title": ""
    },
    "id": "irMU68Ds0NTm"
   },
   "outputs": [],
   "source": [
    "uid = 'john001'\n",
    "query = 'analyze overall stock price trends for NVIDIA'\n",
    "call_conversational_agent(agent_graph=graph_builder,\n",
    "                          prompt=query,\n",
    "                          user_session_id=uid,\n",
    "                          verbose=True)"
   ]
  },
  {
   "cell_type": "code",
   "execution_count": 0,
   "metadata": {
    "application/vnd.databricks.v1+cell": {
     "cellMetadata": {},
     "inputWidgets": {},
     "nuid": "412dd082-5147-4714-8f85-6d81f62d41c4",
     "showTitle": false,
     "tableResultSettingsMap": {},
     "title": ""
    },
    "id": "XT4vtvku0TBW"
   },
   "outputs": [],
   "source": [
    "query = 'do the same for Intel please'\n",
    "call_conversational_agent(agent_graph=graph_builder,\n",
    "                          prompt=query,\n",
    "                          user_session_id=uid,\n",
    "                          verbose=False)"
   ]
  },
  {
   "cell_type": "code",
   "execution_count": 0,
   "metadata": {
    "application/vnd.databricks.v1+cell": {
     "cellMetadata": {},
     "inputWidgets": {},
     "nuid": "1e6f028e-fc38-42f0-b79d-3938a87cca41",
     "showTitle": false,
     "tableResultSettingsMap": {},
     "title": ""
    },
    "id": "c2WYu2_AUJ9F"
   },
   "outputs": [],
   "source": [
    "query = 'which is the better pick?'\n",
    "call_conversational_agent(agent_graph=graph_builder,\n",
    "                          prompt=query,\n",
    "                          user_session_id=uid,\n",
    "                          verbose=False)"
   ]
  },
  {
   "cell_type": "markdown",
   "metadata": {
    "application/vnd.databricks.v1+cell": {
     "cellMetadata": {},
     "inputWidgets": {},
     "nuid": "77f03760-723f-4440-8fb8-bb0e562bf25b",
     "showTitle": false,
     "tableResultSettingsMap": {},
     "title": ""
    },
    "id": "B4zIlISy6m-x"
   },
   "source": [
    "Let's now simulate User 2 using the agent"
   ]
  },
  {
   "cell_type": "code",
   "execution_count": 0,
   "metadata": {
    "application/vnd.databricks.v1+cell": {
     "cellMetadata": {},
     "inputWidgets": {},
     "nuid": "f3d87760-4423-4d43-ad72-93734677119c",
     "showTitle": false,
     "tableResultSettingsMap": {},
     "title": ""
    },
    "id": "ta1RUF_81RxX"
   },
   "outputs": [],
   "source": [
    "uid = 'bond007'\n",
    "query = 'summarize key points from NVIDIA earnings call Q4 2024'\n",
    "call_conversational_agent(agent_graph=graph_builder,\n",
    "                          prompt=query,\n",
    "                          user_session_id=uid,\n",
    "                          verbose=True)"
   ]
  },
  {
   "cell_type": "code",
   "execution_count": 0,
   "metadata": {
    "application/vnd.databricks.v1+cell": {
     "cellMetadata": {},
     "inputWidgets": {},
     "nuid": "a364f392-1250-49bc-b211-d390f3d852a2",
     "showTitle": false,
     "tableResultSettingsMap": {},
     "title": ""
    },
    "id": "vfn_Wxxg42rZ"
   },
   "outputs": [],
   "source": [
    "query = 'do the same for intel'\n",
    "call_conversational_agent(agent_graph=graph_builder,\n",
    "                          prompt=query,\n",
    "                          user_session_id=uid,\n",
    "                          verbose=False)"
   ]
  },
  {
   "cell_type": "code",
   "execution_count": 0,
   "metadata": {
    "application/vnd.databricks.v1+cell": {
     "cellMetadata": {},
     "inputWidgets": {},
     "nuid": "6595dfc6-9556-4b9d-931e-c68c34d43002",
     "showTitle": false,
     "tableResultSettingsMap": {},
     "title": ""
    },
    "id": "I7jjxtmz6Qzi"
   },
   "outputs": [],
   "source": [
    "query = 'which has a better outlook?'\n",
    "call_conversational_agent(agent_graph=graph_builder,\n",
    "                          prompt=query,\n",
    "                          user_session_id=uid,\n",
    "                          verbose=False)"
   ]
  }
 ],
 "metadata": {
  "application/vnd.databricks.v1+notebook": {
   "computePreferences": null,
   "dashboards": [],
   "environmentMetadata": null,
   "language": "python",
   "notebookMetadata": {},
   "notebookName": "M4_ Project_ Build_a_Multi_User_Conversational_Financial_Analyst_Tool_Use_AI_Agent",
   "widgets": {}
  },
  "colab": {
   "provenance": []
  },
  "kernelspec": {
   "display_name": ".venv",
   "language": "python",
   "name": "python3"
  },
  "language_info": {
   "name": "python"
  }
 },
 "nbformat": 4,
 "nbformat_minor": 0
}
